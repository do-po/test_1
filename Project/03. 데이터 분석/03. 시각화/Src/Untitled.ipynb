{
 "cells": [
  {
   "cell_type": "code",
   "execution_count": 1,
   "id": "c6dce2da-632b-4bfa-904c-6d6138eb48af",
   "metadata": {},
   "outputs": [
    {
     "name": "stdout",
     "output_type": "stream",
     "text": [
      "안녕\n"
     ]
    }
   ],
   "source": [
    "print('안녕')"
   ]
  },
  {
   "cell_type": "markdown",
   "id": "70a758a1-215f-4035-b843-9d8e3b372ab5",
   "metadata": {},
   "source": [
    "마크마크다운다운"
   ]
  }
 ],
 "metadata": {
  "kernelspec": {
   "display_name": "Python 3 (ipykernel)",
   "language": "python",
   "name": "python3"
  },
  "language_info": {
   "codemirror_mode": {
    "name": "ipython",
    "version": 3
   },
   "file_extension": ".py",
   "mimetype": "text/x-python",
   "name": "python",
   "nbconvert_exporter": "python",
   "pygments_lexer": "ipython3",
   "version": "3.11.7"
  }
 },
 "nbformat": 4,
 "nbformat_minor": 5
}
