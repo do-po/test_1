{
 "cells": [
  {
   "cell_type": "markdown",
   "metadata": {},
   "source": [
    "#### 복습\n",
    "\n",
    "1. csv 폴더 안에 있는 drinks.csv 파일 로드\n",
    "2. 데이터 프레임의 정보, 결측치가 존재하는가 ?\n",
    "3. column의 이름을 변경 -> ['국가', '맥주소비량', '증류주소비량', '와인소비량', '소비알콜량', '대륙']\n",
    "4. 대륙 column에 결측치가 존재 -> 결측치를 'OT'로 대체\n",
    "5. 새로운 파생변수 '총 술소비량' 생성 -> 맥주소비량 + 증류주소비량 + 와인소비량\n",
    "6. 새로운 파생변수 '도수' 생성 -> 소비알콜량 / 총 술소비량 * 100\n",
    "7. 도수 column의 전체 평균보다 대륙별 도수 평균이 높은 대륙을 출력\n"
   ]
  },
  {
   "cell_type": "code",
   "execution_count": 2,
   "metadata": {},
   "outputs": [],
   "source": [
    "import pandas as pd\n",
    "import numpy as np\n",
    "import matplotlib.pyplot as plt"
   ]
  },
  {
   "cell_type": "code",
   "execution_count": 3,
   "metadata": {},
   "outputs": [],
   "source": [
    "# 1. csv 폴더 안에 있는 drinks.csv 파일 로드\n",
    "\n",
    "drinks = pd.read_csv('../../csv/drinks.csv')"
   ]
  },
  {
   "cell_type": "code",
   "execution_count": 4,
   "metadata": {},
   "outputs": [
    {
     "name": "stdout",
     "output_type": "stream",
     "text": [
      "<class 'pandas.core.frame.DataFrame'>\n",
      "RangeIndex: 193 entries, 0 to 192\n",
      "Data columns (total 6 columns):\n",
      " #   Column                        Non-Null Count  Dtype  \n",
      "---  ------                        --------------  -----  \n",
      " 0   country                       193 non-null    object \n",
      " 1   beer_servings                 193 non-null    int64  \n",
      " 2   spirit_servings               193 non-null    int64  \n",
      " 3   wine_servings                 193 non-null    int64  \n",
      " 4   total_litres_of_pure_alcohol  193 non-null    float64\n",
      " 5   continent                     170 non-null    object \n",
      "dtypes: float64(1), int64(3), object(2)\n",
      "memory usage: 9.2+ KB\n"
     ]
    }
   ],
   "source": [
    "# 2. 데이터 프레임의 정보, 결측치가 존재하는가?\n",
    "\n",
    "\n",
    "drinks.info()\n"
   ]
  },
  {
   "cell_type": "code",
   "execution_count": 12,
   "metadata": {},
   "outputs": [
    {
     "data": {
      "text/plain": [
       "국가         False\n",
       "맥주소비량      False\n",
       "증류주소비량     False\n",
       "와인소비량      False\n",
       "소비알콜량      False\n",
       "대륙         False\n",
       "총 술 소비량    False\n",
       "도수         False\n",
       "dtype: bool"
      ]
     },
     "execution_count": 12,
     "metadata": {},
     "output_type": "execute_result"
    }
   ],
   "source": [
    "\n",
    "drinks.isna().sum()\n",
    "\n",
    "# drinks.isna().any(axis = 0) # 결측치가 존재하는 column 확인"
   ]
  },
  {
   "cell_type": "code",
   "execution_count": 6,
   "metadata": {},
   "outputs": [],
   "source": [
    "# 3. column의 이름을 변경 -> ['국가', '맥주소비량', '증류주소비량', '와인소비량', '소비알콜량', '대륙']\n",
    "\n",
    "drinks.columns = ['국가', '맥주소비량', '증류주소비량', '와인소비량', '소비알콜량', '대륙']"
   ]
  },
  {
   "cell_type": "code",
   "execution_count": 7,
   "metadata": {},
   "outputs": [
    {
     "name": "stderr",
     "output_type": "stream",
     "text": [
      "C:\\Users\\USER\\AppData\\Local\\Temp\\ipykernel_32912\\2861792078.py:3: FutureWarning: A value is trying to be set on a copy of a DataFrame or Series through chained assignment using an inplace method.\n",
      "The behavior will change in pandas 3.0. This inplace method will never work because the intermediate object on which we are setting values always behaves as a copy.\n",
      "\n",
      "For example, when doing 'df[col].method(value, inplace=True)', try using 'df.method({col: value}, inplace=True)' or df[col] = df[col].method(value) instead, to perform the operation inplace on the original object.\n",
      "\n",
      "\n",
      "  drinks['대륙'].fillna('OT', inplace= True)\n"
     ]
    }
   ],
   "source": [
    "# 4. 대륙 column에 결측치가 존재 -> 결측치를 'OT'로 대체\n",
    "\n",
    "drinks['대륙'].fillna('OT', inplace= True)"
   ]
  },
  {
   "cell_type": "code",
   "execution_count": 8,
   "metadata": {},
   "outputs": [],
   "source": [
    "# 5. 새로운 파생변수 '총 술소비량' 생성 -> 맥주소비량 + 증류주소비량 + 와인소비량\n",
    "\n",
    "drinks['총 술 소비량'] = drinks['맥주소비량'] + drinks['증류주소비량'] + drinks['와인소비량']"
   ]
  },
  {
   "cell_type": "code",
   "execution_count": 9,
   "metadata": {},
   "outputs": [],
   "source": [
    "# 6. 새로운 파생변수 '도수' 생성 -> 소비알콜량 / 총 술소비량 * 100\n",
    "\n",
    "drinks['도수'] = (drinks['소비알콜량'] / drinks['총 술 소비량']) * 100\n",
    "\n"
   ]
  },
  {
   "cell_type": "code",
   "execution_count": 10,
   "metadata": {},
   "outputs": [],
   "source": [
    "# 6_1. 도수에 생긴 결측치 확인\n",
    "    \n",
    "    # 6_1_1. 도수의 결측치가 발생한 원인 탐색\n",
    "flag = drinks['도수'].isna()\n",
    "\n",
    "drinks[flag] # 도수 계산식에서 '총 술소비량'으로 나누는 과정에서 분모가 0인 계산과정 발생으로 결측치가 발생하였다고 추정\n",
    "\n",
    "# 6_2 결측치를 0으로 치환\n",
    "\n",
    "drinks[flag] = drinks[flag].fillna(0)"
   ]
  },
  {
   "cell_type": "code",
   "execution_count": 11,
   "metadata": {},
   "outputs": [
    {
     "data": {
      "text/html": [
       "<div>\n",
       "<style scoped>\n",
       "    .dataframe tbody tr th:only-of-type {\n",
       "        vertical-align: middle;\n",
       "    }\n",
       "\n",
       "    .dataframe tbody tr th {\n",
       "        vertical-align: top;\n",
       "    }\n",
       "\n",
       "    .dataframe thead th {\n",
       "        text-align: right;\n",
       "    }\n",
       "</style>\n",
       "<table border=\"1\" class=\"dataframe\">\n",
       "  <thead>\n",
       "    <tr style=\"text-align: right;\">\n",
       "      <th></th>\n",
       "      <th>도수</th>\n",
       "    </tr>\n",
       "    <tr>\n",
       "      <th>대륙</th>\n",
       "      <th></th>\n",
       "    </tr>\n",
       "  </thead>\n",
       "  <tbody>\n",
       "    <tr>\n",
       "      <th>AF</th>\n",
       "      <td>4.974072</td>\n",
       "    </tr>\n",
       "  </tbody>\n",
       "</table>\n",
       "</div>"
      ],
      "text/plain": [
       "          도수\n",
       "대륙          \n",
       "AF  4.974072"
      ]
     },
     "execution_count": 11,
     "metadata": {},
     "output_type": "execute_result"
    }
   ],
   "source": [
    "# 7. 도수 column의 전체 평균보다 대륙별 도수 평균이 높은 대륙을 출력\n",
    "\n",
    "    # 7_1. 도수 column의 전체 평균 계산\n",
    "\n",
    "mean_proof = drinks['도수'].mean()\n",
    "\n",
    "    # 7_2. 대륙별 도수 평균 계산\n",
    "\n",
    "mean_contient = drinks[['대륙', '도수']].groupby(['대륙']).mean()\n",
    "\n",
    "    # 7_3. 조건에 맞는 결과 출력 #### 이 부분 항상 생각 못 하더라 !!!!!\n",
    "\n",
    "mean_contient[mean_contient['도수'] > mean_proof]"
   ]
  },
  {
   "cell_type": "markdown",
   "metadata": {},
   "source": [
    "##### 오늘의 복습점\n",
    "    - 조건에 맞는 결과를 df에서 찾아 출력하는 방법\n",
    "    - pd.loc[], pd.iloc[]의 사용 방법\n",
    "    "
   ]
  },
  {
   "cell_type": "markdown",
   "metadata": {},
   "source": []
  }
 ],
 "metadata": {
  "kernelspec": {
   "display_name": "Python 3",
   "language": "python",
   "name": "python3"
  },
  "language_info": {
   "codemirror_mode": {
    "name": "ipython",
    "version": 3
   },
   "file_extension": ".py",
   "mimetype": "text/x-python",
   "name": "python",
   "nbconvert_exporter": "python",
   "pygments_lexer": "ipython3",
   "version": "3.12.2"
  }
 },
 "nbformat": 4,
 "nbformat_minor": 2
}
