{
 "cells": [
  {
   "cell_type": "code",
   "execution_count": 64,
   "metadata": {},
   "outputs": [],
   "source": [
    "# 경고메시지(warning) 미표시\n",
    "import warnings\n",
    "\n",
    "warnings.filterwarnings('ignore')"
   ]
  },
  {
   "cell_type": "markdown",
   "metadata": {},
   "source": [
    "# 웹에서 주문수를 분석"
   ]
  },
  {
   "cell_type": "code",
   "execution_count": 65,
   "metadata": {},
   "outputs": [],
   "source": [
    "import pandas as pd"
   ]
  },
  {
   "cell_type": "markdown",
   "metadata": {},
   "source": [
    "### 1. 데이터를 읽기\n"
   ]
  },
  {
   "cell_type": "code",
   "execution_count": 66,
   "metadata": {},
   "outputs": [],
   "source": [
    "# customer_master.csv : 쇼핑몰 사이트의 고객 정보\n",
    "# item_master.csv : 상품데이터\n",
    "\n",
    "path_data_in = './Data_in/'\n",
    "\n",
    "cs_m = pd.read_csv(f'{path_data_in}customer_master.csv')\n",
    "\n",
    "item_m = pd.read_csv(f'{path_data_in}item_master.csv')\n",
    "\n",
    "trans_1 = pd.read_csv(f'{path_data_in}transaction_1.csv')\n",
    "\n",
    "trans_2 = pd.read_csv(f'{path_data_in}transaction_2.csv')\n",
    "\n",
    "trans_d_1 = pd.read_csv(f'{path_data_in}transaction_detail_1.csv')\n",
    "\n",
    "trans_d_2 = pd.read_csv(f'{path_data_in}transaction_detail_2.csv')"
   ]
  },
  {
   "cell_type": "code",
   "execution_count": 67,
   "metadata": {},
   "outputs": [
    {
     "name": "stdout",
     "output_type": "stream",
     "text": [
      "<class 'pandas.core.frame.DataFrame'>\n",
      "RangeIndex: 5000 entries, 0 to 4999\n",
      "Data columns (total 8 columns):\n",
      " #   Column             Non-Null Count  Dtype \n",
      "---  ------             --------------  ----- \n",
      " 0   customer_id        5000 non-null   object\n",
      " 1   customer_name      5000 non-null   object\n",
      " 2   registration_date  5000 non-null   object\n",
      " 3   email              5000 non-null   object\n",
      " 4   gender             5000 non-null   object\n",
      " 5   age                5000 non-null   int64 \n",
      " 6   birth              5000 non-null   object\n",
      " 7   pref               5000 non-null   object\n",
      "dtypes: int64(1), object(7)\n",
      "memory usage: 312.6+ KB\n"
     ]
    }
   ],
   "source": [
    "# 데이터들의 구조 파악\n",
    "\n",
    "cs_m.info()\n",
    "\n",
    "# trans_1.head()\n",
    "\n",
    "# trans_d_1.head()\n",
    "\n",
    "# trans_2.head()\n",
    "\n",
    "# trans_d_2.head()\n",
    "\n",
    "# item_m.head()\n",
    "\n"
   ]
  },
  {
   "cell_type": "markdown",
   "metadata": {},
   "source": [
    "### 2. 데이터를 결합(유니언) 하기\n"
   ]
  },
  {
   "cell_type": "code",
   "execution_count": 68,
   "metadata": {},
   "outputs": [],
   "source": [
    "trans_total = pd.concat([trans_1, trans_2], ignore_index= True)\n",
    "\n"
   ]
  },
  {
   "cell_type": "code",
   "execution_count": 69,
   "metadata": {},
   "outputs": [
    {
     "data": {
      "text/html": [
       "<div>\n",
       "<style scoped>\n",
       "    .dataframe tbody tr th:only-of-type {\n",
       "        vertical-align: middle;\n",
       "    }\n",
       "\n",
       "    .dataframe tbody tr th {\n",
       "        vertical-align: top;\n",
       "    }\n",
       "\n",
       "    .dataframe thead th {\n",
       "        text-align: right;\n",
       "    }\n",
       "</style>\n",
       "<table border=\"1\" class=\"dataframe\">\n",
       "  <thead>\n",
       "    <tr style=\"text-align: right;\">\n",
       "      <th></th>\n",
       "      <th>transaction_id</th>\n",
       "      <th>price</th>\n",
       "      <th>payment_date</th>\n",
       "      <th>customer_id</th>\n",
       "    </tr>\n",
       "  </thead>\n",
       "  <tbody>\n",
       "    <tr>\n",
       "      <th>0</th>\n",
       "      <td>T0000000113</td>\n",
       "      <td>210000</td>\n",
       "      <td>2019-02-01 01:36:57</td>\n",
       "      <td>PL563502</td>\n",
       "    </tr>\n",
       "    <tr>\n",
       "      <th>1</th>\n",
       "      <td>T0000000114</td>\n",
       "      <td>50000</td>\n",
       "      <td>2019-02-01 01:37:23</td>\n",
       "      <td>HD678019</td>\n",
       "    </tr>\n",
       "    <tr>\n",
       "      <th>2</th>\n",
       "      <td>T0000000115</td>\n",
       "      <td>120000</td>\n",
       "      <td>2019-02-01 02:34:19</td>\n",
       "      <td>HD298120</td>\n",
       "    </tr>\n",
       "    <tr>\n",
       "      <th>3</th>\n",
       "      <td>T0000000116</td>\n",
       "      <td>210000</td>\n",
       "      <td>2019-02-01 02:47:23</td>\n",
       "      <td>IK452215</td>\n",
       "    </tr>\n",
       "    <tr>\n",
       "      <th>4</th>\n",
       "      <td>T0000000117</td>\n",
       "      <td>170000</td>\n",
       "      <td>2019-02-01 04:33:46</td>\n",
       "      <td>PL542865</td>\n",
       "    </tr>\n",
       "    <tr>\n",
       "      <th>...</th>\n",
       "      <td>...</td>\n",
       "      <td>...</td>\n",
       "      <td>...</td>\n",
       "      <td>...</td>\n",
       "    </tr>\n",
       "    <tr>\n",
       "      <th>6781</th>\n",
       "      <td>T0000006894</td>\n",
       "      <td>180000</td>\n",
       "      <td>2019-07-31 21:20:44</td>\n",
       "      <td>HI400734</td>\n",
       "    </tr>\n",
       "    <tr>\n",
       "      <th>6782</th>\n",
       "      <td>T0000006895</td>\n",
       "      <td>85000</td>\n",
       "      <td>2019-07-31 21:52:48</td>\n",
       "      <td>AS339451</td>\n",
       "    </tr>\n",
       "    <tr>\n",
       "      <th>6783</th>\n",
       "      <td>T0000006896</td>\n",
       "      <td>100000</td>\n",
       "      <td>2019-07-31 23:35:25</td>\n",
       "      <td>OA027325</td>\n",
       "    </tr>\n",
       "    <tr>\n",
       "      <th>6784</th>\n",
       "      <td>T0000006897</td>\n",
       "      <td>85000</td>\n",
       "      <td>2019-07-31 23:39:35</td>\n",
       "      <td>TS624738</td>\n",
       "    </tr>\n",
       "    <tr>\n",
       "      <th>6785</th>\n",
       "      <td>T0000006898</td>\n",
       "      <td>85000</td>\n",
       "      <td>2019-07-31 23:41:38</td>\n",
       "      <td>AS834214</td>\n",
       "    </tr>\n",
       "  </tbody>\n",
       "</table>\n",
       "<p>6786 rows × 4 columns</p>\n",
       "</div>"
      ],
      "text/plain": [
       "     transaction_id   price         payment_date customer_id\n",
       "0       T0000000113  210000  2019-02-01 01:36:57    PL563502\n",
       "1       T0000000114   50000  2019-02-01 01:37:23    HD678019\n",
       "2       T0000000115  120000  2019-02-01 02:34:19    HD298120\n",
       "3       T0000000116  210000  2019-02-01 02:47:23    IK452215\n",
       "4       T0000000117  170000  2019-02-01 04:33:46    PL542865\n",
       "...             ...     ...                  ...         ...\n",
       "6781    T0000006894  180000  2019-07-31 21:20:44    HI400734\n",
       "6782    T0000006895   85000  2019-07-31 21:52:48    AS339451\n",
       "6783    T0000006896  100000  2019-07-31 23:35:25    OA027325\n",
       "6784    T0000006897   85000  2019-07-31 23:39:35    TS624738\n",
       "6785    T0000006898   85000  2019-07-31 23:41:38    AS834214\n",
       "\n",
       "[6786 rows x 4 columns]"
      ]
     },
     "execution_count": 69,
     "metadata": {},
     "output_type": "execute_result"
    }
   ],
   "source": [
    "# 확인용 코드\n",
    "\n",
    "trans_total"
   ]
  },
  {
   "cell_type": "code",
   "execution_count": 70,
   "metadata": {},
   "outputs": [
    {
     "name": "stdout",
     "output_type": "stream",
     "text": [
      "True 6786\n"
     ]
    }
   ],
   "source": [
    "# 결합 확인을 위한 코드\n",
    "    # len() == 길이 확인 ### 근데 이걸 왜 하지\n",
    "\n",
    "print(bool(\n",
    "    len(trans_1) + len(trans_2) == len(trans_total) # trans 데이터들을 합친 column의 길이가 맞는 지 확인\n",
    "    ),\n",
    "    len(trans_total), # total의 column 수를 확인하기 위해 사용\n",
    ")"
   ]
  },
  {
   "cell_type": "markdown",
   "metadata": {},
   "source": [
    "### 3. 매출 데이터끼리 결합(조인)하기\n"
   ]
  },
  {
   "cell_type": "code",
   "execution_count": 71,
   "metadata": {},
   "outputs": [
    {
     "name": "stdout",
     "output_type": "stream",
     "text": [
      "True 7144\n"
     ]
    }
   ],
   "source": [
    "# detail 데이터끼리 union 결합\n",
    "\n",
    "trans_d_total = pd.concat([trans_d_1, trans_d_2], ignore_index= True)\n",
    "\n",
    "print(bool(\n",
    "    len(trans_d_1) + len(trans_d_2) == len(trans_d_total) # trans_d 데이터들을 합친 column의 길이가 맞는 지 확인\n",
    "    ),\n",
    "    len(trans_d_total) # total_d의 column 수를 확인하기 위해 사용\n",
    "    )"
   ]
  },
  {
   "cell_type": "code",
   "execution_count": 72,
   "metadata": {},
   "outputs": [
    {
     "data": {
      "text/html": [
       "<div>\n",
       "<style scoped>\n",
       "    .dataframe tbody tr th:only-of-type {\n",
       "        vertical-align: middle;\n",
       "    }\n",
       "\n",
       "    .dataframe tbody tr th {\n",
       "        vertical-align: top;\n",
       "    }\n",
       "\n",
       "    .dataframe thead th {\n",
       "        text-align: right;\n",
       "    }\n",
       "</style>\n",
       "<table border=\"1\" class=\"dataframe\">\n",
       "  <thead>\n",
       "    <tr style=\"text-align: right;\">\n",
       "      <th></th>\n",
       "      <th>transaction_id</th>\n",
       "      <th>price</th>\n",
       "      <th>payment_date</th>\n",
       "      <th>customer_id</th>\n",
       "      <th>detail_id</th>\n",
       "      <th>item_id</th>\n",
       "      <th>quantity</th>\n",
       "    </tr>\n",
       "  </thead>\n",
       "  <tbody>\n",
       "    <tr>\n",
       "      <th>0</th>\n",
       "      <td>T0000000113</td>\n",
       "      <td>210000</td>\n",
       "      <td>2019-02-01 01:36:57</td>\n",
       "      <td>PL563502</td>\n",
       "      <td>0</td>\n",
       "      <td>S005</td>\n",
       "      <td>1</td>\n",
       "    </tr>\n",
       "    <tr>\n",
       "      <th>1</th>\n",
       "      <td>T0000000114</td>\n",
       "      <td>50000</td>\n",
       "      <td>2019-02-01 01:37:23</td>\n",
       "      <td>HD678019</td>\n",
       "      <td>1</td>\n",
       "      <td>S001</td>\n",
       "      <td>1</td>\n",
       "    </tr>\n",
       "    <tr>\n",
       "      <th>2</th>\n",
       "      <td>T0000000115</td>\n",
       "      <td>120000</td>\n",
       "      <td>2019-02-01 02:34:19</td>\n",
       "      <td>HD298120</td>\n",
       "      <td>2</td>\n",
       "      <td>S003</td>\n",
       "      <td>1</td>\n",
       "    </tr>\n",
       "    <tr>\n",
       "      <th>3</th>\n",
       "      <td>T0000000116</td>\n",
       "      <td>210000</td>\n",
       "      <td>2019-02-01 02:47:23</td>\n",
       "      <td>IK452215</td>\n",
       "      <td>3</td>\n",
       "      <td>S005</td>\n",
       "      <td>1</td>\n",
       "    </tr>\n",
       "    <tr>\n",
       "      <th>4</th>\n",
       "      <td>T0000000117</td>\n",
       "      <td>170000</td>\n",
       "      <td>2019-02-01 04:33:46</td>\n",
       "      <td>PL542865</td>\n",
       "      <td>4</td>\n",
       "      <td>S002</td>\n",
       "      <td>2</td>\n",
       "    </tr>\n",
       "    <tr>\n",
       "      <th>...</th>\n",
       "      <td>...</td>\n",
       "      <td>...</td>\n",
       "      <td>...</td>\n",
       "      <td>...</td>\n",
       "      <td>...</td>\n",
       "      <td>...</td>\n",
       "      <td>...</td>\n",
       "    </tr>\n",
       "    <tr>\n",
       "      <th>7139</th>\n",
       "      <td>T0000006894</td>\n",
       "      <td>180000</td>\n",
       "      <td>2019-07-31 21:20:44</td>\n",
       "      <td>HI400734</td>\n",
       "      <td>7139</td>\n",
       "      <td>S004</td>\n",
       "      <td>1</td>\n",
       "    </tr>\n",
       "    <tr>\n",
       "      <th>7140</th>\n",
       "      <td>T0000006895</td>\n",
       "      <td>85000</td>\n",
       "      <td>2019-07-31 21:52:48</td>\n",
       "      <td>AS339451</td>\n",
       "      <td>7140</td>\n",
       "      <td>S002</td>\n",
       "      <td>1</td>\n",
       "    </tr>\n",
       "    <tr>\n",
       "      <th>7141</th>\n",
       "      <td>T0000006896</td>\n",
       "      <td>100000</td>\n",
       "      <td>2019-07-31 23:35:25</td>\n",
       "      <td>OA027325</td>\n",
       "      <td>7141</td>\n",
       "      <td>S001</td>\n",
       "      <td>2</td>\n",
       "    </tr>\n",
       "    <tr>\n",
       "      <th>7142</th>\n",
       "      <td>T0000006897</td>\n",
       "      <td>85000</td>\n",
       "      <td>2019-07-31 23:39:35</td>\n",
       "      <td>TS624738</td>\n",
       "      <td>7142</td>\n",
       "      <td>S002</td>\n",
       "      <td>1</td>\n",
       "    </tr>\n",
       "    <tr>\n",
       "      <th>7143</th>\n",
       "      <td>T0000006898</td>\n",
       "      <td>85000</td>\n",
       "      <td>2019-07-31 23:41:38</td>\n",
       "      <td>AS834214</td>\n",
       "      <td>7143</td>\n",
       "      <td>S002</td>\n",
       "      <td>1</td>\n",
       "    </tr>\n",
       "  </tbody>\n",
       "</table>\n",
       "<p>7144 rows × 7 columns</p>\n",
       "</div>"
      ],
      "text/plain": [
       "     transaction_id   price         payment_date customer_id  detail_id  \\\n",
       "0       T0000000113  210000  2019-02-01 01:36:57    PL563502          0   \n",
       "1       T0000000114   50000  2019-02-01 01:37:23    HD678019          1   \n",
       "2       T0000000115  120000  2019-02-01 02:34:19    HD298120          2   \n",
       "3       T0000000116  210000  2019-02-01 02:47:23    IK452215          3   \n",
       "4       T0000000117  170000  2019-02-01 04:33:46    PL542865          4   \n",
       "...             ...     ...                  ...         ...        ...   \n",
       "7139    T0000006894  180000  2019-07-31 21:20:44    HI400734       7139   \n",
       "7140    T0000006895   85000  2019-07-31 21:52:48    AS339451       7140   \n",
       "7141    T0000006896  100000  2019-07-31 23:35:25    OA027325       7141   \n",
       "7142    T0000006897   85000  2019-07-31 23:39:35    TS624738       7142   \n",
       "7143    T0000006898   85000  2019-07-31 23:41:38    AS834214       7143   \n",
       "\n",
       "     item_id  quantity  \n",
       "0       S005         1  \n",
       "1       S001         1  \n",
       "2       S003         1  \n",
       "3       S005         1  \n",
       "4       S002         2  \n",
       "...      ...       ...  \n",
       "7139    S004         1  \n",
       "7140    S002         1  \n",
       "7141    S001         2  \n",
       "7142    S002         1  \n",
       "7143    S002         1  \n",
       "\n",
       "[7144 rows x 7 columns]"
      ]
     },
     "execution_count": 72,
     "metadata": {},
     "output_type": "execute_result"
    }
   ],
   "source": [
    "# trans 데이터와 trans_d 데이터를 transaction_id, payment_date, customer_id를 기준으로 join 결합\n",
    "\n",
    "trans = pd.merge(trans_total, trans_d_total, how= 'right', on= 'transaction_id')\n",
    "# [['transaction_id', 'payment_date', 'customer_id']]\n",
    "trans"
   ]
  },
  {
   "cell_type": "markdown",
   "metadata": {},
   "source": [
    "### 4. 마스터데이터를 결합(조인)하기\n"
   ]
  },
  {
   "cell_type": "code",
   "execution_count": 73,
   "metadata": {},
   "outputs": [
    {
     "name": "stdout",
     "output_type": "stream",
     "text": [
      "<class 'pandas.core.frame.DataFrame'>\n",
      "RangeIndex: 7144 entries, 0 to 7143\n",
      "Data columns (total 16 columns):\n",
      " #   Column             Non-Null Count  Dtype \n",
      "---  ------             --------------  ----- \n",
      " 0   customer_id        7144 non-null   object\n",
      " 1   customer_name      7144 non-null   object\n",
      " 2   registration_date  7144 non-null   object\n",
      " 3   email              7144 non-null   object\n",
      " 4   gender             7144 non-null   object\n",
      " 5   age                7144 non-null   int64 \n",
      " 6   birth              7144 non-null   object\n",
      " 7   pref               7144 non-null   object\n",
      " 8   transaction_id     7144 non-null   object\n",
      " 9   price              7144 non-null   int64 \n",
      " 10  payment_date       7144 non-null   object\n",
      " 11  detail_id          7144 non-null   int64 \n",
      " 12  item_id            7144 non-null   object\n",
      " 13  quantity           7144 non-null   int64 \n",
      " 14  item_name          7144 non-null   object\n",
      " 15  item_price         7144 non-null   int64 \n",
      "dtypes: int64(5), object(11)\n",
      "memory usage: 893.1+ KB\n"
     ]
    }
   ],
   "source": [
    "# cs_m 데이터와 trans 데이터를 customer_id를 기준으로 join\n",
    "\n",
    "df = pd.merge(cs_m, trans, how= 'right', on= 'customer_id')\n",
    "\n",
    "# df 데이터와 item_m 데이터를 item_id를 기준으로 join\n",
    "\n",
    "df = pd.merge(df, item_m, how= 'left', on= 'item_id')\n",
    "\n",
    "df.info()"
   ]
  },
  {
   "cell_type": "markdown",
   "metadata": {},
   "source": [
    "### 5. 필요한 데이터 칼럼을 만들기\n"
   ]
  },
  {
   "cell_type": "code",
   "execution_count": 74,
   "metadata": {},
   "outputs": [
    {
     "data": {
      "text/plain": [
       "0       True\n",
       "1       True\n",
       "2       True\n",
       "3       True\n",
       "4       True\n",
       "        ... \n",
       "7139    True\n",
       "7140    True\n",
       "7141    True\n",
       "7142    True\n",
       "7143    True\n",
       "Length: 7144, dtype: bool"
      ]
     },
     "execution_count": 74,
     "metadata": {},
     "output_type": "execute_result"
    }
   ],
   "source": [
    "# price 필드 추가\n",
    "    # ? 있는데 ???\n",
    "df['price'] == df['quantity'] * df['item_price'] # 확인용 코드\n"
   ]
  },
  {
   "cell_type": "markdown",
   "metadata": {},
   "source": [
    "### 6. 데이터를 검산하기\n"
   ]
  },
  {
   "cell_type": "code",
   "execution_count": 75,
   "metadata": {},
   "outputs": [
    {
     "data": {
      "text/plain": [
       "0       True\n",
       "1       True\n",
       "2       True\n",
       "3       True\n",
       "4       True\n",
       "        ... \n",
       "7139    True\n",
       "7140    True\n",
       "7141    True\n",
       "7142    True\n",
       "7143    True\n",
       "Name: price, Length: 7144, dtype: bool"
      ]
     },
     "execution_count": 75,
     "metadata": {},
     "output_type": "execute_result"
    }
   ],
   "source": [
    "df['price'] == trans['price']"
   ]
  },
  {
   "cell_type": "markdown",
   "metadata": {},
   "source": [
    "### 7. 각종 통계량을 파악하기\n"
   ]
  },
  {
   "cell_type": "code",
   "execution_count": 76,
   "metadata": {},
   "outputs": [
    {
     "name": "stdout",
     "output_type": "stream",
     "text": [
      "customer_id          0\n",
      "customer_name        0\n",
      "registration_date    0\n",
      "email                0\n",
      "gender               0\n",
      "age                  0\n",
      "birth                0\n",
      "pref                 0\n",
      "transaction_id       0\n",
      "price                0\n",
      "payment_date         0\n",
      "detail_id            0\n",
      "item_id              0\n",
      "quantity             0\n",
      "item_name            0\n",
      "item_price           0\n",
      "dtype: int64\n",
      "2019-02-01 01:36:57 2019-07-31 23:41:38\n"
     ]
    },
    {
     "data": {
      "text/html": [
       "<div>\n",
       "<style scoped>\n",
       "    .dataframe tbody tr th:only-of-type {\n",
       "        vertical-align: middle;\n",
       "    }\n",
       "\n",
       "    .dataframe tbody tr th {\n",
       "        vertical-align: top;\n",
       "    }\n",
       "\n",
       "    .dataframe thead th {\n",
       "        text-align: right;\n",
       "    }\n",
       "</style>\n",
       "<table border=\"1\" class=\"dataframe\">\n",
       "  <thead>\n",
       "    <tr style=\"text-align: right;\">\n",
       "      <th></th>\n",
       "      <th>age</th>\n",
       "      <th>price</th>\n",
       "      <th>detail_id</th>\n",
       "      <th>quantity</th>\n",
       "      <th>item_price</th>\n",
       "    </tr>\n",
       "  </thead>\n",
       "  <tbody>\n",
       "    <tr>\n",
       "      <th>count</th>\n",
       "      <td>7144.000000</td>\n",
       "      <td>7144.000000</td>\n",
       "      <td>7144.000000</td>\n",
       "      <td>7144.000000</td>\n",
       "      <td>7144.000000</td>\n",
       "    </tr>\n",
       "    <tr>\n",
       "      <th>mean</th>\n",
       "      <td>50.265677</td>\n",
       "      <td>150440.929451</td>\n",
       "      <td>3571.500000</td>\n",
       "      <td>1.199888</td>\n",
       "      <td>121698.628219</td>\n",
       "    </tr>\n",
       "    <tr>\n",
       "      <th>std</th>\n",
       "      <td>17.190314</td>\n",
       "      <td>85991.561558</td>\n",
       "      <td>2062.439494</td>\n",
       "      <td>0.513647</td>\n",
       "      <td>64571.311830</td>\n",
       "    </tr>\n",
       "    <tr>\n",
       "      <th>min</th>\n",
       "      <td>20.000000</td>\n",
       "      <td>50000.000000</td>\n",
       "      <td>0.000000</td>\n",
       "      <td>1.000000</td>\n",
       "      <td>50000.000000</td>\n",
       "    </tr>\n",
       "    <tr>\n",
       "      <th>25%</th>\n",
       "      <td>36.000000</td>\n",
       "      <td>85000.000000</td>\n",
       "      <td>1785.750000</td>\n",
       "      <td>1.000000</td>\n",
       "      <td>50000.000000</td>\n",
       "    </tr>\n",
       "    <tr>\n",
       "      <th>50%</th>\n",
       "      <td>50.000000</td>\n",
       "      <td>135000.000000</td>\n",
       "      <td>3571.500000</td>\n",
       "      <td>1.000000</td>\n",
       "      <td>102500.000000</td>\n",
       "    </tr>\n",
       "    <tr>\n",
       "      <th>75%</th>\n",
       "      <td>65.000000</td>\n",
       "      <td>210000.000000</td>\n",
       "      <td>5357.250000</td>\n",
       "      <td>1.000000</td>\n",
       "      <td>187500.000000</td>\n",
       "    </tr>\n",
       "    <tr>\n",
       "      <th>max</th>\n",
       "      <td>80.000000</td>\n",
       "      <td>750000.000000</td>\n",
       "      <td>7143.000000</td>\n",
       "      <td>4.000000</td>\n",
       "      <td>210000.000000</td>\n",
       "    </tr>\n",
       "  </tbody>\n",
       "</table>\n",
       "</div>"
      ],
      "text/plain": [
       "               age          price    detail_id     quantity     item_price\n",
       "count  7144.000000    7144.000000  7144.000000  7144.000000    7144.000000\n",
       "mean     50.265677  150440.929451  3571.500000     1.199888  121698.628219\n",
       "std      17.190314   85991.561558  2062.439494     0.513647   64571.311830\n",
       "min      20.000000   50000.000000     0.000000     1.000000   50000.000000\n",
       "25%      36.000000   85000.000000  1785.750000     1.000000   50000.000000\n",
       "50%      50.000000  135000.000000  3571.500000     1.000000  102500.000000\n",
       "75%      65.000000  210000.000000  5357.250000     1.000000  187500.000000\n",
       "max      80.000000  750000.000000  7143.000000     4.000000  210000.000000"
      ]
     },
     "execution_count": 76,
     "metadata": {},
     "output_type": "execute_result"
    }
   ],
   "source": [
    "# 결손치의 개수 파악\n",
    "\n",
    "print(df.isnull().sum())\n",
    "\n",
    "# 전체 파악이 되는 숫자감\n",
    "\n",
    "print(df['payment_date'].min(),\n",
    "      df['payment_date'].max())\n",
    "\n",
    "df.describe()"
   ]
  },
  {
   "cell_type": "markdown",
   "metadata": {},
   "source": [
    "### 8. 월별로 데이터를 집계해보기\n"
   ]
  },
  {
   "cell_type": "code",
   "execution_count": 77,
   "metadata": {},
   "outputs": [],
   "source": [
    "# df의 payment_date를 시계열로 변환\n",
    "\n",
    "df['payment_date'] = pd.to_datetime(df['payment_date'], format='%Y-%m-%d %H:%M:%S')\n"
   ]
  },
  {
   "cell_type": "code",
   "execution_count": 78,
   "metadata": {},
   "outputs": [
    {
     "data": {
      "text/html": [
       "<div>\n",
       "<style scoped>\n",
       "    .dataframe tbody tr th:only-of-type {\n",
       "        vertical-align: middle;\n",
       "    }\n",
       "\n",
       "    .dataframe tbody tr th {\n",
       "        vertical-align: top;\n",
       "    }\n",
       "\n",
       "    .dataframe thead th {\n",
       "        text-align: right;\n",
       "    }\n",
       "</style>\n",
       "<table border=\"1\" class=\"dataframe\">\n",
       "  <thead>\n",
       "    <tr style=\"text-align: right;\">\n",
       "      <th></th>\n",
       "      <th>price</th>\n",
       "    </tr>\n",
       "    <tr>\n",
       "      <th>Ym_date</th>\n",
       "      <th></th>\n",
       "    </tr>\n",
       "  </thead>\n",
       "  <tbody>\n",
       "    <tr>\n",
       "      <th>2019-02</th>\n",
       "      <td>179190000</td>\n",
       "    </tr>\n",
       "    <tr>\n",
       "      <th>2019-03</th>\n",
       "      <td>175375000</td>\n",
       "    </tr>\n",
       "    <tr>\n",
       "      <th>2019-04</th>\n",
       "      <td>176720000</td>\n",
       "    </tr>\n",
       "    <tr>\n",
       "      <th>2019-05</th>\n",
       "      <td>171385000</td>\n",
       "    </tr>\n",
       "    <tr>\n",
       "      <th>2019-06</th>\n",
       "      <td>183395000</td>\n",
       "    </tr>\n",
       "    <tr>\n",
       "      <th>2019-07</th>\n",
       "      <td>188685000</td>\n",
       "    </tr>\n",
       "  </tbody>\n",
       "</table>\n",
       "</div>"
      ],
      "text/plain": [
       "             price\n",
       "Ym_date           \n",
       "2019-02  179190000\n",
       "2019-03  175375000\n",
       "2019-04  176720000\n",
       "2019-05  171385000\n",
       "2019-06  183395000\n",
       "2019-07  188685000"
      ]
     },
     "execution_count": 78,
     "metadata": {},
     "output_type": "execute_result"
    }
   ],
   "source": [
    "# df의 payment_date에서 연월을 추출 후 새로운 column 추가\n",
    "\n",
    "df['Ym_date'] = df['payment_date'].dt.strftime('%Y-%m')\n",
    "\n",
    "df['Ym_date'] # 확인용 코드\n",
    "\n",
    "# 연월 단위로 price를 집계\n",
    "\n",
    "df_ym = df[['Ym_date', 'price']].groupby(['Ym_date']).sum()\n",
    "\n",
    "\n",
    "# 결과\n",
    "    # 5월의 매출이 조금 내려갔고, 6~7월은 회복, 반년동안 가장 매출이 높은 달은 7월\n",
    "\n",
    "df_ym"
   ]
  },
  {
   "cell_type": "markdown",
   "metadata": {},
   "source": [
    "### 9. 월별, 상품별로 데이터를 집계해보기\n"
   ]
  },
  {
   "cell_type": "code",
   "execution_count": 107,
   "metadata": {},
   "outputs": [
    {
     "data": {
      "text/html": [
       "<div>\n",
       "<style scoped>\n",
       "    .dataframe tbody tr th:only-of-type {\n",
       "        vertical-align: middle;\n",
       "    }\n",
       "\n",
       "    .dataframe tbody tr th {\n",
       "        vertical-align: top;\n",
       "    }\n",
       "\n",
       "    .dataframe thead tr th {\n",
       "        text-align: left;\n",
       "    }\n",
       "\n",
       "    .dataframe thead tr:last-of-type th {\n",
       "        text-align: right;\n",
       "    }\n",
       "</style>\n",
       "<table border=\"1\" class=\"dataframe\">\n",
       "  <thead>\n",
       "    <tr>\n",
       "      <th></th>\n",
       "      <th colspan=\"5\" halign=\"left\">price</th>\n",
       "      <th colspan=\"5\" halign=\"left\">quantity</th>\n",
       "    </tr>\n",
       "    <tr>\n",
       "      <th>item_name</th>\n",
       "      <th>PC-A</th>\n",
       "      <th>PC-B</th>\n",
       "      <th>PC-C</th>\n",
       "      <th>PC-D</th>\n",
       "      <th>PC-E</th>\n",
       "      <th>PC-A</th>\n",
       "      <th>PC-B</th>\n",
       "      <th>PC-C</th>\n",
       "      <th>PC-D</th>\n",
       "      <th>PC-E</th>\n",
       "    </tr>\n",
       "    <tr>\n",
       "      <th>Ym_date</th>\n",
       "      <th></th>\n",
       "      <th></th>\n",
       "      <th></th>\n",
       "      <th></th>\n",
       "      <th></th>\n",
       "      <th></th>\n",
       "      <th></th>\n",
       "      <th></th>\n",
       "      <th></th>\n",
       "      <th></th>\n",
       "    </tr>\n",
       "  </thead>\n",
       "  <tbody>\n",
       "    <tr>\n",
       "      <th>2019-02</th>\n",
       "      <td>29270000</td>\n",
       "      <td>27785000</td>\n",
       "      <td>22905000</td>\n",
       "      <td>35010000</td>\n",
       "      <td>64220000</td>\n",
       "      <td>483</td>\n",
       "      <td>297</td>\n",
       "      <td>165</td>\n",
       "      <td>173</td>\n",
       "      <td>285</td>\n",
       "    </tr>\n",
       "    <tr>\n",
       "      <th>2019-03</th>\n",
       "      <td>30440000</td>\n",
       "      <td>28540000</td>\n",
       "      <td>20275000</td>\n",
       "      <td>27205000</td>\n",
       "      <td>68915000</td>\n",
       "      <td>520</td>\n",
       "      <td>300</td>\n",
       "      <td>159</td>\n",
       "      <td>143</td>\n",
       "      <td>305</td>\n",
       "    </tr>\n",
       "    <tr>\n",
       "      <th>2019-04</th>\n",
       "      <td>31600000</td>\n",
       "      <td>26850000</td>\n",
       "      <td>23665000</td>\n",
       "      <td>26045000</td>\n",
       "      <td>68560000</td>\n",
       "      <td>518</td>\n",
       "      <td>276</td>\n",
       "      <td>183</td>\n",
       "      <td>135</td>\n",
       "      <td>309</td>\n",
       "    </tr>\n",
       "    <tr>\n",
       "      <th>2019-05</th>\n",
       "      <td>29575000</td>\n",
       "      <td>28660000</td>\n",
       "      <td>21885000</td>\n",
       "      <td>27485000</td>\n",
       "      <td>63780000</td>\n",
       "      <td>497</td>\n",
       "      <td>298</td>\n",
       "      <td>171</td>\n",
       "      <td>144</td>\n",
       "      <td>280</td>\n",
       "    </tr>\n",
       "    <tr>\n",
       "      <th>2019-06</th>\n",
       "      <td>30650000</td>\n",
       "      <td>28020000</td>\n",
       "      <td>24865000</td>\n",
       "      <td>32550000</td>\n",
       "      <td>67310000</td>\n",
       "      <td>520</td>\n",
       "      <td>282</td>\n",
       "      <td>182</td>\n",
       "      <td>160</td>\n",
       "      <td>302</td>\n",
       "    </tr>\n",
       "    <tr>\n",
       "      <th>2019-07</th>\n",
       "      <td>30225000</td>\n",
       "      <td>31350000</td>\n",
       "      <td>21715000</td>\n",
       "      <td>28170000</td>\n",
       "      <td>77225000</td>\n",
       "      <td>505</td>\n",
       "      <td>332</td>\n",
       "      <td>162</td>\n",
       "      <td>145</td>\n",
       "      <td>341</td>\n",
       "    </tr>\n",
       "  </tbody>\n",
       "</table>\n",
       "</div>"
      ],
      "text/plain": [
       "              price                                         quantity       \\\n",
       "item_name      PC-A      PC-B      PC-C      PC-D      PC-E     PC-A PC-B   \n",
       "Ym_date                                                                     \n",
       "2019-02    29270000  27785000  22905000  35010000  64220000      483  297   \n",
       "2019-03    30440000  28540000  20275000  27205000  68915000      520  300   \n",
       "2019-04    31600000  26850000  23665000  26045000  68560000      518  276   \n",
       "2019-05    29575000  28660000  21885000  27485000  63780000      497  298   \n",
       "2019-06    30650000  28020000  24865000  32550000  67310000      520  282   \n",
       "2019-07    30225000  31350000  21715000  28170000  77225000      505  332   \n",
       "\n",
       "                          \n",
       "item_name PC-C PC-D PC-E  \n",
       "Ym_date                   \n",
       "2019-02    165  173  285  \n",
       "2019-03    159  143  305  \n",
       "2019-04    183  135  309  \n",
       "2019-05    171  144  280  \n",
       "2019-06    182  160  302  \n",
       "2019-07    162  145  341  "
      ]
     },
     "execution_count": 107,
     "metadata": {},
     "output_type": "execute_result"
    }
   ],
   "source": [
    "# 월별, 상품별로 매출의 합계, 상품의 수량을 표시\n",
    "\n",
    "    # groupby()로 하는 방법\n",
    "\n",
    "df_ym_item = df[['Ym_date', 'item_name','price', 'quantity']].groupby(['Ym_date', 'item_name']).sum()\n",
    "\n",
    "test = df_ym_item.unstack()\n",
    "\n",
    "    # 불편해서 pivot table로 변경\n",
    "\n",
    "test_p = df.pivot_table(\n",
    "    index = 'Ym_date',\n",
    "    columns = 'item_name',\n",
    "    values = ['price','quantity'],\n",
    "    aggfunc = 'sum'\n",
    ")\n",
    "\n",
    "# 결과\n",
    "    # 매출의 합계 == PC-E가 가장 높음, 수량은 값이 싼 PC-A가 높음\n",
    "    # 각 상품별로 5월은 PC-B, PC-D가 증가, 큰 매출을 차지하는 PC-E의 매출이 감소\n",
    "    # 6,7월은 PC-E의 매출이 크게 상승\n",
    "\n",
    "test_p\n",
    "\n",
    "\n"
   ]
  },
  {
   "cell_type": "markdown",
   "metadata": {},
   "source": [
    "### 10. 상품별 매출추이를 가시화해 보기"
   ]
  },
  {
   "cell_type": "code",
   "execution_count": 108,
   "metadata": {},
   "outputs": [
    {
     "data": {
      "text/plain": [
       "<Axes: xlabel='Ym_date'>"
      ]
     },
     "execution_count": 108,
     "metadata": {},
     "output_type": "execute_result"
    },
    {
     "data": {
      "image/png": "[encoded data removed]",
      "text/plain": [
       "<Figure size 640x480 with 1 Axes>"
      ]
     },
     "metadata": {},
     "output_type": "display_data"
    }
   ],
   "source": [
    "# plot()으로 가시화\n",
    "\n",
    "test_p['price'].plot(kind = 'line')"
   ]
  },
  {
   "cell_type": "code",
   "execution_count": 109,
   "metadata": {},
   "outputs": [
    {
     "data": {
      "text/plain": [
       "<Axes: xlabel='Ym_date'>"
      ]
     },
     "execution_count": 109,
     "metadata": {},
     "output_type": "execute_result"
    },
    {
     "data": {
      "image/png": "[encoded data removed]",
      "text/plain": [
       "<Figure size 640x480 with 1 Axes>"
      ]
     },
     "metadata": {},
     "output_type": "display_data"
    }
   ],
   "source": [
    "test_p['quantity'].plot(kind= 'line')"
   ]
  },
  {
   "cell_type": "code",
   "execution_count": 111,
   "metadata": {},
   "outputs": [
    {
     "data": {
      "image/png": "[encoded data removed]",
      "text/plain": [
       "<Figure size 640x480 with 1 Axes>"
      ]
     },
     "metadata": {},
     "output_type": "display_data"
    }
   ],
   "source": [
    "# matplotlib.pyplot 사용해서 시각화 하는 방법\n",
    "\n",
    "import matplotlib.pyplot as plt\n",
    "\n",
    "graph_data = df.pivot_table(\n",
    "    index = 'Ym_date',\n",
    "    columns = 'item_name',\n",
    "    values = 'price',\n",
    "    aggfunc = 'sum'\n",
    ")\n",
    "\n",
    "plt.plot(list(graph_data.index), graph_data['PC-A'], label = 'PC-A')\n",
    "plt.plot(list(graph_data.index), graph_data['PC-B'], label = 'PC-B')\n",
    "plt.plot(list(graph_data.index), graph_data['PC-C'], label = 'PC-C')\n",
    "plt.plot(list(graph_data.index), graph_data['PC-D'], label = 'PC-D')\n",
    "plt.plot(list(graph_data.index), graph_data['PC-E'], label = 'PC-E')\n",
    "\n",
    "plt.show()"
   ]
  },
  {
   "cell_type": "code",
   "execution_count": null,
   "metadata": {},
   "outputs": [],
   "source": []
  }
 ],
 "metadata": {
  "kernelspec": {
   "display_name": "Python 3",
   "language": "python",
   "name": "python3"
  },
  "language_info": {
   "codemirror_mode": {
    "name": "ipython",
    "version": 3
   },
   "file_extension": ".py",
   "mimetype": "text/x-python",
   "name": "python",
   "nbconvert_exporter": "python",
   "pygments_lexer": "ipython3",
   "version": "3.12.2"
  }
 },
 "nbformat": 4,
 "nbformat_minor": 2
}
