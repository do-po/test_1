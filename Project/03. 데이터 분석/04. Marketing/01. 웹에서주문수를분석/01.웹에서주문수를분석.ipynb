{
 "cells": [
  {
   "cell_type": "code",
   "execution_count": 1,
   "metadata": {},
   "outputs": [],
   "source": [
    "# 경고메시지(warning) 미표시\n",
    "import warnings\n",
    "\n",
    "warnings.filterwarnings('ignore')"
   ]
  },
  {
   "cell_type": "markdown",
   "metadata": {},
   "source": [
    "# 웹에서 주문수를 분석"
   ]
  },
  {
   "cell_type": "code",
   "execution_count": 2,
   "metadata": {},
   "outputs": [],
   "source": [
    "import pandas as pd"
   ]
  },
  {
   "cell_type": "markdown",
   "metadata": {},
   "source": [
    "### 1. 데이터를 읽기\n"
   ]
  },
  {
   "cell_type": "code",
   "execution_count": 14,
   "metadata": {},
   "outputs": [],
   "source": [
    "# customer_master.csv : 쇼핑몰 사이트의 고객 정보\n",
    "# item_master.csv : 상품데이터\n",
    "\n",
    "path_data_in = './Data_in/'\n",
    "\n",
    "cs_m = pd.read_csv(f'{path_data_in}customer_master.csv')\n",
    "\n",
    "item_m = pd.read_csv(f'{path_data_in}item_master.csv')\n",
    "\n",
    "trans_1 = pd.read_csv(f'{path_data_in}transaction_1.csv')\n",
    "\n",
    "trans_2 = pd.read_csv(f'{path_data_in}transaction_2.csv')\n",
    "\n",
    "trans_d_1 = pd.read_csv(f'{path_data_in}transaction_detail_1.csv')\n",
    "\n",
    "trans_d_2 = pd.read_csv(f'{path_data_in}transaction_detail_2.csv')"
   ]
  },
  {
   "cell_type": "code",
   "execution_count": 81,
   "metadata": {},
   "outputs": [
    {
     "name": "stdout",
     "output_type": "stream",
     "text": [
      "<class 'pandas.core.frame.DataFrame'>\n",
      "RangeIndex: 5000 entries, 0 to 4999\n",
      "Data columns (total 8 columns):\n",
      " #   Column             Non-Null Count  Dtype \n",
      "---  ------             --------------  ----- \n",
      " 0   customer_id        5000 non-null   object\n",
      " 1   customer_name      5000 non-null   object\n",
      " 2   registration_date  5000 non-null   object\n",
      " 3   email              5000 non-null   object\n",
      " 4   gender             5000 non-null   object\n",
      " 5   age                5000 non-null   int64 \n",
      " 6   birth              5000 non-null   object\n",
      " 7   pref               5000 non-null   object\n",
      "dtypes: int64(1), object(7)\n",
      "memory usage: 312.6+ KB\n"
     ]
    }
   ],
   "source": [
    "# 데이터들의 구조 파악\n",
    "\n",
    "cs_m.info()\n",
    "\n",
    "# trans_1.head()\n",
    "\n",
    "# trans_d_1.head()\n",
    "\n",
    "# trans_2.head()\n",
    "\n",
    "# trans_d_2.head()\n",
    "\n",
    "# item_m.head()\n",
    "\n"
   ]
  },
  {
   "cell_type": "markdown",
   "metadata": {},
   "source": [
    "### 2. 데이터를 결합(유니언) 하기\n"
   ]
  },
  {
   "cell_type": "code",
   "execution_count": 49,
   "metadata": {},
   "outputs": [],
   "source": [
    "trans_total = pd.concat([trans_1, trans_2], ignore_index= True)\n",
    "\n"
   ]
  },
  {
   "cell_type": "code",
   "execution_count": 50,
   "metadata": {},
   "outputs": [
    {
     "data": {
      "text/html": [
       "<div>\n",
       "<style scoped>\n",
       "    .dataframe tbody tr th:only-of-type {\n",
       "        vertical-align: middle;\n",
       "    }\n",
       "\n",
       "    .dataframe tbody tr th {\n",
       "        vertical-align: top;\n",
       "    }\n",
       "\n",
       "    .dataframe thead th {\n",
       "        text-align: right;\n",
       "    }\n",
       "</style>\n",
       "<table border=\"1\" class=\"dataframe\">\n",
       "  <thead>\n",
       "    <tr style=\"text-align: right;\">\n",
       "      <th></th>\n",
       "      <th>detail_id</th>\n",
       "      <th>transaction_id</th>\n",
       "      <th>item_id</th>\n",
       "      <th>quantity</th>\n",
       "    </tr>\n",
       "  </thead>\n",
       "  <tbody>\n",
       "    <tr>\n",
       "      <th>0</th>\n",
       "      <td>0</td>\n",
       "      <td>T0000000113</td>\n",
       "      <td>S005</td>\n",
       "      <td>1</td>\n",
       "    </tr>\n",
       "    <tr>\n",
       "      <th>1</th>\n",
       "      <td>1</td>\n",
       "      <td>T0000000114</td>\n",
       "      <td>S001</td>\n",
       "      <td>1</td>\n",
       "    </tr>\n",
       "    <tr>\n",
       "      <th>2</th>\n",
       "      <td>2</td>\n",
       "      <td>T0000000115</td>\n",
       "      <td>S003</td>\n",
       "      <td>1</td>\n",
       "    </tr>\n",
       "    <tr>\n",
       "      <th>3</th>\n",
       "      <td>3</td>\n",
       "      <td>T0000000116</td>\n",
       "      <td>S005</td>\n",
       "      <td>1</td>\n",
       "    </tr>\n",
       "    <tr>\n",
       "      <th>4</th>\n",
       "      <td>4</td>\n",
       "      <td>T0000000117</td>\n",
       "      <td>S002</td>\n",
       "      <td>2</td>\n",
       "    </tr>\n",
       "    <tr>\n",
       "      <th>...</th>\n",
       "      <td>...</td>\n",
       "      <td>...</td>\n",
       "      <td>...</td>\n",
       "      <td>...</td>\n",
       "    </tr>\n",
       "    <tr>\n",
       "      <th>7139</th>\n",
       "      <td>7139</td>\n",
       "      <td>T0000006894</td>\n",
       "      <td>S004</td>\n",
       "      <td>1</td>\n",
       "    </tr>\n",
       "    <tr>\n",
       "      <th>7140</th>\n",
       "      <td>7140</td>\n",
       "      <td>T0000006895</td>\n",
       "      <td>S002</td>\n",
       "      <td>1</td>\n",
       "    </tr>\n",
       "    <tr>\n",
       "      <th>7141</th>\n",
       "      <td>7141</td>\n",
       "      <td>T0000006896</td>\n",
       "      <td>S001</td>\n",
       "      <td>2</td>\n",
       "    </tr>\n",
       "    <tr>\n",
       "      <th>7142</th>\n",
       "      <td>7142</td>\n",
       "      <td>T0000006897</td>\n",
       "      <td>S002</td>\n",
       "      <td>1</td>\n",
       "    </tr>\n",
       "    <tr>\n",
       "      <th>7143</th>\n",
       "      <td>7143</td>\n",
       "      <td>T0000006898</td>\n",
       "      <td>S002</td>\n",
       "      <td>1</td>\n",
       "    </tr>\n",
       "  </tbody>\n",
       "</table>\n",
       "<p>7144 rows × 4 columns</p>\n",
       "</div>"
      ],
      "text/plain": [
       "      detail_id transaction_id item_id  quantity\n",
       "0             0    T0000000113    S005         1\n",
       "1             1    T0000000114    S001         1\n",
       "2             2    T0000000115    S003         1\n",
       "3             3    T0000000116    S005         1\n",
       "4             4    T0000000117    S002         2\n",
       "...         ...            ...     ...       ...\n",
       "7139       7139    T0000006894    S004         1\n",
       "7140       7140    T0000006895    S002         1\n",
       "7141       7141    T0000006896    S001         2\n",
       "7142       7142    T0000006897    S002         1\n",
       "7143       7143    T0000006898    S002         1\n",
       "\n",
       "[7144 rows x 4 columns]"
      ]
     },
     "execution_count": 50,
     "metadata": {},
     "output_type": "execute_result"
    }
   ],
   "source": [
    "# 확인용 코드\n",
    "\n",
    "trans_total"
   ]
  },
  {
   "cell_type": "code",
   "execution_count": 74,
   "metadata": {},
   "outputs": [
    {
     "name": "stdout",
     "output_type": "stream",
     "text": [
      "True 6786\n"
     ]
    }
   ],
   "source": [
    "# 결합 확인을 위한 코드\n",
    "    # len() == 길이 확인 ### 근데 이걸 왜 하지\n",
    "\n",
    "print(bool(\n",
    "    len(trans_1) + len(trans_2) == len(trans_total) # trans 데이터들을 합친 column의 길이가 맞는 지 확인\n",
    "    ),\n",
    "    len(trans_total), # total의 column 수를 확인하기 위해 사용\n",
    ")"
   ]
  },
  {
   "cell_type": "markdown",
   "metadata": {},
   "source": [
    "### 3. 매출 데이터끼리 결합(조인)하기\n"
   ]
  },
  {
   "cell_type": "code",
   "execution_count": 79,
   "metadata": {},
   "outputs": [
    {
     "name": "stdout",
     "output_type": "stream",
     "text": [
      "True 7144\n"
     ]
    }
   ],
   "source": [
    "# detail 데이터끼리 union 결합\n",
    "\n",
    "trans_d_total = pd.concat([trans_d_1, trans_d_2], ignore_index= True)\n",
    "\n",
    "print(bool(\n",
    "    len(trans_d_1) + len(trans_d_2) == len(trans_d_total) # trans_d 데이터들을 합친 column의 길이가 맞는 지 확인\n",
    "    ),\n",
    "    len(trans_d_total) # total_d의 column 수를 확인하기 위해 사용\n",
    "    )"
   ]
  },
  {
   "cell_type": "code",
   "execution_count": 69,
   "metadata": {},
   "outputs": [
    {
     "data": {
      "text/html": [
       "<div>\n",
       "<style scoped>\n",
       "    .dataframe tbody tr th:only-of-type {\n",
       "        vertical-align: middle;\n",
       "    }\n",
       "\n",
       "    .dataframe tbody tr th {\n",
       "        vertical-align: top;\n",
       "    }\n",
       "\n",
       "    .dataframe thead th {\n",
       "        text-align: right;\n",
       "    }\n",
       "</style>\n",
       "<table border=\"1\" class=\"dataframe\">\n",
       "  <thead>\n",
       "    <tr style=\"text-align: right;\">\n",
       "      <th></th>\n",
       "      <th>transaction_id</th>\n",
       "      <th>price</th>\n",
       "      <th>payment_date</th>\n",
       "      <th>customer_id</th>\n",
       "      <th>detail_id</th>\n",
       "      <th>item_id</th>\n",
       "      <th>quantity</th>\n",
       "    </tr>\n",
       "  </thead>\n",
       "  <tbody>\n",
       "    <tr>\n",
       "      <th>0</th>\n",
       "      <td>T0000000113</td>\n",
       "      <td>210000</td>\n",
       "      <td>2019-02-01 01:36:57</td>\n",
       "      <td>PL563502</td>\n",
       "      <td>0</td>\n",
       "      <td>S005</td>\n",
       "      <td>1</td>\n",
       "    </tr>\n",
       "    <tr>\n",
       "      <th>1</th>\n",
       "      <td>T0000000114</td>\n",
       "      <td>50000</td>\n",
       "      <td>2019-02-01 01:37:23</td>\n",
       "      <td>HD678019</td>\n",
       "      <td>1</td>\n",
       "      <td>S001</td>\n",
       "      <td>1</td>\n",
       "    </tr>\n",
       "    <tr>\n",
       "      <th>2</th>\n",
       "      <td>T0000000115</td>\n",
       "      <td>120000</td>\n",
       "      <td>2019-02-01 02:34:19</td>\n",
       "      <td>HD298120</td>\n",
       "      <td>2</td>\n",
       "      <td>S003</td>\n",
       "      <td>1</td>\n",
       "    </tr>\n",
       "    <tr>\n",
       "      <th>3</th>\n",
       "      <td>T0000000116</td>\n",
       "      <td>210000</td>\n",
       "      <td>2019-02-01 02:47:23</td>\n",
       "      <td>IK452215</td>\n",
       "      <td>3</td>\n",
       "      <td>S005</td>\n",
       "      <td>1</td>\n",
       "    </tr>\n",
       "    <tr>\n",
       "      <th>4</th>\n",
       "      <td>T0000000117</td>\n",
       "      <td>170000</td>\n",
       "      <td>2019-02-01 04:33:46</td>\n",
       "      <td>PL542865</td>\n",
       "      <td>4</td>\n",
       "      <td>S002</td>\n",
       "      <td>2</td>\n",
       "    </tr>\n",
       "  </tbody>\n",
       "</table>\n",
       "</div>"
      ],
      "text/plain": [
       "  transaction_id   price         payment_date customer_id  detail_id item_id  \\\n",
       "0    T0000000113  210000  2019-02-01 01:36:57    PL563502          0    S005   \n",
       "1    T0000000114   50000  2019-02-01 01:37:23    HD678019          1    S001   \n",
       "2    T0000000115  120000  2019-02-01 02:34:19    HD298120          2    S003   \n",
       "3    T0000000116  210000  2019-02-01 02:47:23    IK452215          3    S005   \n",
       "4    T0000000117  170000  2019-02-01 04:33:46    PL542865          4    S002   \n",
       "\n",
       "   quantity  \n",
       "0         1  \n",
       "1         1  \n",
       "2         1  \n",
       "3         1  \n",
       "4         2  "
      ]
     },
     "execution_count": 69,
     "metadata": {},
     "output_type": "execute_result"
    }
   ],
   "source": [
    "# trans 데이터와 trans_d 데이터를 transaction_id를 기준으로 join 결합\n",
    "\n",
    "trans = pd.merge(trans_total, trans_d_total, how= 'left', on= 'transaction_id')\n",
    "trans.head()"
   ]
  },
  {
   "cell_type": "markdown",
   "metadata": {},
   "source": [
    "### 4. 마스터데이터를 결합(조인)하기\n"
   ]
  },
  {
   "cell_type": "code",
   "execution_count": 87,
   "metadata": {},
   "outputs": [
    {
     "name": "stdout",
     "output_type": "stream",
     "text": [
      "<class 'pandas.core.frame.DataFrame'>\n",
      "RangeIndex: 7144 entries, 0 to 7143\n",
      "Data columns (total 16 columns):\n",
      " #   Column             Non-Null Count  Dtype \n",
      "---  ------             --------------  ----- \n",
      " 0   customer_id        7144 non-null   object\n",
      " 1   customer_name      7144 non-null   object\n",
      " 2   registration_date  7144 non-null   object\n",
      " 3   email              7144 non-null   object\n",
      " 4   gender             7144 non-null   object\n",
      " 5   age                7144 non-null   int64 \n",
      " 6   birth              7144 non-null   object\n",
      " 7   pref               7144 non-null   object\n",
      " 8   transaction_id     7144 non-null   object\n",
      " 9   price              7144 non-null   int64 \n",
      " 10  payment_date       7144 non-null   object\n",
      " 11  detail_id          7144 non-null   int64 \n",
      " 12  item_id            7144 non-null   object\n",
      " 13  quantity           7144 non-null   int64 \n",
      " 14  item_name          7144 non-null   object\n",
      " 15  item_price         7144 non-null   int64 \n",
      "dtypes: int64(5), object(11)\n",
      "memory usage: 893.1+ KB\n"
     ]
    }
   ],
   "source": [
    "# cs_m 데이터와 trans 데이터를 customer_id를 기준으로 join\n",
    "\n",
    "df = pd.merge(cs_m, trans, how= 'right', on= 'customer_id')\n",
    "\n",
    "# df 데이터와 item_m 데이터를 item_id를 기준으로 join\n",
    "\n",
    "df = pd.merge(df, item_m, how= 'left', on= 'item_id')\n",
    "\n",
    "df.info()"
   ]
  },
  {
   "cell_type": "code",
   "execution_count": null,
   "metadata": {},
   "outputs": [],
   "source": []
  },
  {
   "cell_type": "markdown",
   "metadata": {},
   "source": [
    "### 5. 필요한 데이터 칼럼을 만들기\n"
   ]
  },
  {
   "cell_type": "code",
   "execution_count": null,
   "metadata": {},
   "outputs": [],
   "source": []
  },
  {
   "cell_type": "markdown",
   "metadata": {},
   "source": [
    "### 6. 데이터를 검산하기\n"
   ]
  },
  {
   "cell_type": "code",
   "execution_count": null,
   "metadata": {},
   "outputs": [],
   "source": []
  },
  {
   "cell_type": "markdown",
   "metadata": {},
   "source": [
    "### 7. 각종 통계량을 파악하기\n"
   ]
  },
  {
   "cell_type": "code",
   "execution_count": null,
   "metadata": {},
   "outputs": [],
   "source": []
  },
  {
   "cell_type": "markdown",
   "metadata": {},
   "source": [
    "### 8. 월별로 데이터를 집계해보기\n"
   ]
  },
  {
   "cell_type": "code",
   "execution_count": null,
   "metadata": {},
   "outputs": [],
   "source": []
  },
  {
   "cell_type": "markdown",
   "metadata": {},
   "source": [
    "### 9. 월별, 상품별로 데이터를 집계해보기\n"
   ]
  },
  {
   "cell_type": "code",
   "execution_count": null,
   "metadata": {},
   "outputs": [],
   "source": []
  },
  {
   "cell_type": "markdown",
   "metadata": {},
   "source": [
    "### 10. 상품별 매출추이를 가시화해 보기"
   ]
  },
  {
   "cell_type": "code",
   "execution_count": null,
   "metadata": {},
   "outputs": [],
   "source": []
  }
 ],
 "metadata": {
  "kernelspec": {
   "display_name": "Python 3",
   "language": "python",
   "name": "python3"
  },
  "language_info": {
   "codemirror_mode": {
    "name": "ipython",
    "version": 3
   },
   "file_extension": ".py",
   "mimetype": "text/x-python",
   "name": "python",
   "nbconvert_exporter": "python",
   "pygments_lexer": "ipython3",
   "version": "3.12.2"
  }
 },
 "nbformat": 4,
 "nbformat_minor": 2
}
