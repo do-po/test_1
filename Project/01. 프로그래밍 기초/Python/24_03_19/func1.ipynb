{
 "cells": [
  {
   "cell_type": "code",
   "execution_count": 11,
   "metadata": {},
   "outputs": [],
   "source": [
    "## 함수 생성\n",
    "    ## 매개변수가 존재하지 않는 함수\n",
    "\n",
    "def func_1():\n",
    "    return 'Hello'\n",
    "\n",
    "\n",
    "def func_2():\n",
    "    print('Hello')\n",
    "\n",
    "     # return을 사용하지 않으면 함수의 결과값, return이 없다는 의미가 되기에 결과값을 변수에 담거나 다른 함수에 이용할 수 없다.\n",
    "\n"
   ]
  },
  {
   "cell_type": "code",
   "execution_count": 12,
   "metadata": {},
   "outputs": [
    {
     "name": "stdout",
     "output_type": "stream",
     "text": [
      "Hello\n"
     ]
    }
   ],
   "source": [
    "func_1()\n",
    "a = func_1()\n",
    "print(a)"
   ]
  },
  {
   "cell_type": "code",
   "execution_count": 13,
   "metadata": {},
   "outputs": [
    {
     "name": "stdout",
     "output_type": "stream",
     "text": [
      "Hello\n",
      "Hello\n",
      "None\n"
     ]
    }
   ],
   "source": [
    "func_2()\n",
    "b = func_2() # 여기서도 변수에 들어갈 수 없으니 Hello가 출력이 되는 모습을 볼 수 있다\n",
    "print(b) # func_2()의 결과물이 없으니 b에 대입될 데이터가 없음을 알 수 있다"
   ]
  },
  {
   "cell_type": "code",
   "execution_count": 14,
   "metadata": {},
   "outputs": [
    {
     "name": "stdout",
     "output_type": "stream",
     "text": [
      "Hello World\n",
      "Hello World\n"
     ]
    }
   ],
   "source": [
    "# 변수 생성\n",
    "    # 변수명1, 변수명2 = data1, data2\n",
    "        # 변수명1 = data1\n",
    "        # 변수명2 = data2\n",
    "\n",
    "def func_3():\n",
    "    a = 'Hello'\n",
    "    b = 'World'\n",
    "\n",
    "    return a, b\n",
    "\n",
    "res1 = func_3()\n",
    "\n",
    "print(res1[0], res1[1])\n",
    "\n",
    "'''res_a = res[0]\n",
    "res_b = res[1]''' # 이러면 변수를 너무 많이 만들어야 하기도 하고 귀찮아\n",
    "\n",
    "res_a, res_b = func_3() # 이런식으로 변수에 데이터를 넣어주기\n",
    "\n",
    "print(res_a, res_b)"
   ]
  },
  {
   "cell_type": "code",
   "execution_count": 15,
   "metadata": {},
   "outputs": [
    {
     "name": "stdout",
     "output_type": "stream",
     "text": [
      "8\n"
     ]
    }
   ],
   "source": [
    "## 매개변수가 존재하는 함수를 생성\n",
    "\n",
    "def func_4(x, y):\n",
    "    result = x + y\n",
    "    return result\n",
    "\n",
    "print(func_4(5, 3))"
   ]
  },
  {
   "cell_type": "code",
   "execution_count": 16,
   "metadata": {},
   "outputs": [
    {
     "ename": "SyntaxError",
     "evalue": "positional argument follows keyword argument (62346372.py, line 9)",
     "output_type": "error",
     "traceback": [
      "\u001b[1;36m  Cell \u001b[1;32mIn[16], line 9\u001b[1;36m\u001b[0m\n\u001b[1;33m    func_4(x = 1, 3, y = 3)\u001b[0m\n\u001b[1;37m                          ^\u001b[0m\n\u001b[1;31mSyntaxError\u001b[0m\u001b[1;31m:\u001b[0m positional argument follows keyword argument\n"
     ]
    }
   ],
   "source": [
    "# 함수 호출 시 매개변수의 개수와 인자의 개수가 다르다면?\n",
    "    ## 에러 발생\n",
    "        # 에러에 positional argument라고 나오는데 이건 내가 (x, y) 값에 차례로 인자를 넣었고, 이를 순서, 혹은 위치 대로 넣으려다가 오류가 났다는 의미\n",
    "        # 위치에 따라 인자를 넣는 방식이라 positional argument라고 나옴\n",
    "        # x에 2개를 넣어버리면 key argument라고 나오려나 (keyword argument라고 나오네)\n",
    "\n",
    "func_4(1, 2, 3)\n",
    "\n",
    "func_4(x = 1, 3, y = 3)"
   ]
  },
  {
   "cell_type": "code",
   "execution_count": null,
   "metadata": {},
   "outputs": [
    {
     "name": "stdout",
     "output_type": "stream",
     "text": [
      "1\t2\n"
     ]
    }
   ],
   "source": [
    "print(1, end = '\\t') # 이걸 보면 매개변수 'end'의 default 값은 \\n 이었던 것을 알 수 있음\n",
    "print(2)"
   ]
  },
  {
   "cell_type": "code",
   "execution_count": null,
   "metadata": {},
   "outputs": [
    {
     "name": "stdout",
     "output_type": "stream",
     "text": [
      "9\n",
      "7\n",
      "12\n"
     ]
    }
   ],
   "source": [
    "# 기본값이 존재하는 함수를 생성\n",
    "\n",
    "def func_5(x, y = 5):\n",
    "    result = x + y\n",
    "    return result\n",
    "\n",
    "print(func_5(4))\n",
    "\n",
    "print(func_5(4, 3))\n",
    "\n",
    "print(func_5(x = 4, y = 8))"
   ]
  },
  {
   "cell_type": "code",
   "execution_count": null,
   "metadata": {},
   "outputs": [
    {
     "name": "stdout",
     "output_type": "stream",
     "text": [
      "(1, 2, 3, 4, 5, 6)\n",
      "<class 'tuple'>\n"
     ]
    },
    {
     "data": {
      "text/plain": [
       "21"
      ]
     },
     "execution_count": 59,
     "metadata": {},
     "output_type": "execute_result"
    }
   ],
   "source": [
    "## 인자의 개수가 가변인 함수를 생성\n",
    "    # 인자에 *를 붙이자 ! MySQL이랑 비슷하네 :>\n",
    "\n",
    "def func_6(*args):\n",
    "    print(args)\n",
    "    print(type(args)) # 아항 인자들이 tuple로 들어오는고나\n",
    "    \n",
    "    '''\n",
    "    res = 0\n",
    "    for i in range(len(args)): or for i in args:\n",
    "        res += args[i]              res += i\n",
    "    return res\n",
    "    '''\n",
    "    \n",
    "    result = sum(args)\n",
    "    return result\n",
    "\n",
    "func_6(1, 2, 3, 4, 5, 6)"
   ]
  },
  {
   "cell_type": "code",
   "execution_count": null,
   "metadata": {},
   "outputs": [
    {
     "name": "stdout",
     "output_type": "stream",
     "text": [
      "t\n",
      "(1, 3, 5)\n"
     ]
    }
   ],
   "source": [
    "def func_7(data, *values):\n",
    "    print(data)\n",
    "    print(values)\n",
    "\n",
    "func_7('t', 1, 3, 5)"
   ]
  },
  {
   "cell_type": "code",
   "execution_count": 22,
   "metadata": {},
   "outputs": [
    {
     "data": {
      "text/plain": [
       "3.0"
      ]
     },
     "execution_count": 22,
     "metadata": {},
     "output_type": "execute_result"
    }
   ],
   "source": [
    "## 데이터들의 평균을 구하는 함수 생성\n",
    "## 함수에 매개변수는 인자의 개수가 가변인 상태로 생성\n",
    "## 평균 : 인자들의 총합 / 인자들의 개수\n",
    "def mean(*_values):\n",
    "    sum_value = 0\n",
    "    cnt = 0\n",
    "    for val in _values:\n",
    "        # val에 대입이 되는 데이터 : 인자\n",
    "        sum_value += val\n",
    "        cnt += 1\n",
    "    result = sum_value / cnt\n",
    "    return result\n",
    "mean(1, 2, 3, 4, 5)\n",
    "\n",
    "# _values -> (1,2,3,4,5)\n",
    "# sum_value -> 0\n",
    "# cnt -> 0\n",
    "# for val in (1,2,3,4,5):\n",
    "    ## val 변수에 (1,2,3,4,5)를 한번씩 대입하여 반복 실행\n",
    "    ## 첫번째 반복 : val -> 1, sum_value -> 0, cnt -> 0\n",
    "    ## sum_value = sum_value(0) + val(1) --> sum_value = 1\n",
    "    ## cnt = cnt(0) + 1 --> cnt = 1\n",
    "    ## 두번째 반복 : val -> 2, sum_value -> 1, cnt -> 1\n",
    "    ## sum_value = sum_value(1) + val(2) --> sum_value = 3\n",
    "    ## cnt = cnt(1) + 1 --> cnt = 2"
   ]
  },
  {
   "cell_type": "code",
   "execution_count": 1,
   "metadata": {},
   "outputs": [],
   "source": [
    "## 외부의 함수를 호출\n",
    "import mod\n"
   ]
  },
  {
   "cell_type": "code",
   "execution_count": 2,
   "metadata": {},
   "outputs": [
    {
     "data": {
      "text/plain": [
       "6.333333333333333"
      ]
     },
     "execution_count": 2,
     "metadata": {},
     "output_type": "execute_result"
    }
   ],
   "source": [
    "# 모듈을 리로드 하는 방법\n",
    "\n",
    "import importlib\n",
    "importlib.reload(mod)\n",
    "\n",
    "mod.mean_a(7, 3, 9)"
   ]
  },
  {
   "cell_type": "code",
   "execution_count": 40,
   "metadata": {},
   "outputs": [],
   "source": [
    "## 인자들 중에 가장 작은 값을 출력하는 함수\n",
    "## 함수의 인자의 개수는 가변의 형태로 생성\n",
    "\n",
    "def c_min(*args):\n",
    "    # args의 첫 번째 데이터와 두 번째 데이터를 비교하여 작은 값을 저장\n",
    "    result = args[0]\n",
    "\n",
    "    '''\n",
    "    if result < args[1]:\n",
    "        result = args[0]\n",
    "    else:\n",
    "        result = args[1]\n",
    "    \n",
    "    if result < args[2]:\n",
    "        result = args[1]\n",
    "    else:\n",
    "        result = args[2]\n",
    "    '''\n",
    "    #  이런 식으로 흘러갈텐데\n",
    "    # 어차피 result가 args[0]인 첫 경우와 첫 if 문의 경우\n",
    "    # result 값이 변경될 필요가 없고, 중요한 경우는 else의 경우이므로\n",
    "    # result > args[] 의 형태로 가는게 맞다\n",
    "    '''\n",
    "    if result > args[1]:\n",
    "        result = args[1]\n",
    "    if result > args[2]:\n",
    "        result = args[2]\n",
    "    '''\n",
    "        # 이런 식으로 흘러갈거야\n",
    "        # 이걸 이제 반복문으로 만들어주면\n",
    "\n",
    "    for i in range(1, len(args)):\n",
    "        if result > args[i]:\n",
    "            result = args[i]\n",
    "\n",
    "    return result\n",
    "\n",
    "\n"
   ]
  },
  {
   "cell_type": "code",
   "execution_count": 36,
   "metadata": {},
   "outputs": [
    {
     "data": {
      "text/plain": [
       "10"
      ]
     },
     "execution_count": 36,
     "metadata": {},
     "output_type": "execute_result"
    }
   ],
   "source": [
    "c_min(10, 30, 20, 40)"
   ]
  },
  {
   "cell_type": "code",
   "execution_count": 44,
   "metadata": {},
   "outputs": [
    {
     "data": {
      "text/plain": [
       "[1, 3, 5, 7, 8, 9]"
      ]
     },
     "execution_count": 44,
     "metadata": {},
     "output_type": "execute_result"
    }
   ],
   "source": [
    "## list 데이터에서 정렬을 변경해주는 함수\n",
    "## sort()\n",
    "\n",
    "def c_sort(*args, reverse = False):\n",
    "    result = []\n",
    "    ## args를 list로 변경\n",
    "    args = list(args)    \n",
    "    while args:\n",
    "        '''if len(args) == 0:\n",
    "            break''' # 이건 while True로 할 때\n",
    "\n",
    "        ## args에서 가장 작은 값을 출력\n",
    "        \n",
    "        # sort(*args, reverse = True)\n",
    "\n",
    "        if reverse:\n",
    "            value = max(args) # 원래 있는 max 함수는 tuple로 들어가도 잘 되네 ??\n",
    "        \n",
    "        else:\n",
    "            value = c_min(*args) # c_min(args)로 들어가면 tuple로 묶인 tuple 값으로 나와서 오류가 나온다.\n",
    "                                # 이게 받은 인자값이 *args인데 이걸 args로 보내려다보니 tuple로 묶어서 나오게 된 것\n",
    "                                # 그래서 받은 인자값 그대로 *args로 넣으면 tuple로 다시 묶어야 하는 과정이 없으니 잘 해결 !\n",
    "       \n",
    "        ## 새로운 리스트에 최솟값을 추가\n",
    "        result.append(value)\n",
    "        \n",
    "        ## args에서 최솟값을 제거 (tuple은 불가능)\n",
    "        args.remove(value)\n",
    "       \n",
    "        ## 이제 이 과정을 args에 원소가 없을 때 까지 반복\n",
    "    return result\n",
    "\n",
    "c_sort(1,3,7,5,8,9)"
   ]
  },
  {
   "cell_type": "code",
   "execution_count": null,
   "metadata": {},
   "outputs": [],
   "source": [
    "\n",
    "\n"
   ]
  }
 ],
 "metadata": {
  "kernelspec": {
   "display_name": "Python 3",
   "language": "python",
   "name": "python3"
  },
  "language_info": {
   "codemirror_mode": {
    "name": "ipython",
    "version": 3
   },
   "file_extension": ".py",
   "mimetype": "text/x-python",
   "name": "python",
   "nbconvert_exporter": "python",
   "pygments_lexer": "ipython3",
   "version": "3.12.2"
  }
 },
 "nbformat": 4,
 "nbformat_minor": 2
}
