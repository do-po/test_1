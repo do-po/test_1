{
 "cells": [
  {
   "cell_type": "markdown",
   "id": "cdb6b321",
   "metadata": {},
   "source": [
    "# 데이터 분석 프로젝트"
   ]
  },
  {
   "cell_type": "markdown",
   "id": "299a6fd0",
   "metadata": {},
   "source": [
    "## 매출"
   ]
  },
  {
   "cell_type": "code",
   "execution_count": 2,
   "id": "64a1c383",
   "metadata": {},
   "outputs": [],
   "source": [
    "# 필요한 라이브러리를 불러옵니다.\n",
    "import pandas as pd\n",
    "import numpy as np\n",
    "from sklearn.model_selection import train_test_split\n",
    "from sklearn.linear_model import LinearRegression\n",
    "from sklearn.metrics import mean_squared_error, r2_score\n",
    "import random"
   ]
  },
  {
   "cell_type": "markdown",
   "id": "65f13e00",
   "metadata": {},
   "source": [
    "## 데이터 로드 및 전처리"
   ]
  },
  {
   "cell_type": "code",
   "execution_count": 4,
   "id": "322a7d8a",
   "metadata": {},
   "outputs": [
    {
     "name": "stderr",
     "output_type": "stream",
     "text": [
      "C:\\Users\\USER\\AppData\\Local\\Temp\\ipykernel_1264\\2974882245.py:3: DtypeWarning: Columns (16,17,18,19) have mixed types. Specify dtype option on import or set low_memory=False.\n",
      "  data = pd.read_csv(data_path)\n"
     ]
    }
   ],
   "source": [
    "# 데이터를 로드합니다.\n",
    "data_path = './data_in/total_df.csv'\n",
    "data = pd.read_csv(data_path)\n",
    "\n",
    "# 결측치를 제거합니다.\n",
    "data = data.dropna()\n",
    "\n",
    "# 날짜 관련 컬럼을 datetime 형식으로 변환합니다.\n",
    "date_columns = ['Order_purchase_timestamp', 'Order_delivered_carrier_date', 'Order_delivered_customer_date', 'Order_estimated_delivery_date', 'Review_creation_date', 'Review_answer_timestamp']\n",
    "for col in date_columns:\n",
    "    data[col] = pd.to_datetime(data[col])"
   ]
  },
  {
   "cell_type": "markdown",
   "id": "c50f83c3",
   "metadata": {},
   "source": [
    "## 파생 변수 생성"
   ]
  },
  {
   "cell_type": "code",
   "execution_count": 5,
   "id": "6da11348",
   "metadata": {},
   "outputs": [],
   "source": [
    "# 파생 변수를 생성합니다.\n",
    "data['Delivery_speed'] = (data['Order_delivered_customer_date'] - data['Order_purchase_timestamp']).dt.days\n",
    "data['Review_response_time'] = (data['Review_answer_timestamp'] - data['Review_creation_date']).dt.days\n",
    "customer_order_count = data['Customer_unique_id'].value_counts().to_dict()\n",
    "data['Customer_order_count'] = data['Customer_unique_id'].apply(lambda x: customer_order_count.get(x, 0))"
   ]
  },
  {
   "cell_type": "markdown",
   "id": "8e74188e",
   "metadata": {},
   "source": [
    "## 회귀 모델 구축 및 평가"
   ]
  },
  {
   "cell_type": "code",
   "execution_count": 6,
   "id": "a49e3499",
   "metadata": {},
   "outputs": [
    {
     "data": {
      "text/plain": [
       "array([ 1.05732816e+00,  1.44479208e+00, -1.68870670e+01, -7.29594800e-01,\n",
       "        9.23124910e-03,  9.64743428e+00])"
      ]
     },
     "execution_count": 6,
     "metadata": {},
     "output_type": "execute_result"
    }
   ],
   "source": [
    "# 특성과 타겟 변수를 선택합니다.\n",
    "X = data[['Price', 'Freight_value', 'Review_score', 'Delivery_speed', 'Review_response_time', 'Customer_order_count']]\n",
    "y = data['Payment_value']\n",
    "\n",
    "# 데이터를 훈련 세트와 테스트 세트로 분할합니다.\n",
    "X_train, X_test, y_train, y_test = train_test_split(X, y, test_size=0.2, random_state=random.randint(1, 100))\n",
    "\n",
    "# 선형 회귀 모델을 생성하고 훈련합니다.\n",
    "model = LinearRegression()\n",
    "model.fit(X_train, y_train)\n",
    "\n",
    "# 예측을 수행하고 모델을 평가합니다.\n",
    "y_pred = model.predict(X_test)\n",
    "mse = mean_squared_error(y_test, y_pred)\n",
    "r2 = r2_score(y_test, y_pred)\n",
    "\n",
    "# 회귀 계수를 출력합니다.\n",
    "model.coef_"
   ]
  },
  {
   "cell_type": "code",
   "execution_count": 7,
   "id": "85d0708e",
   "metadata": {},
   "outputs": [
    {
     "name": "stdout",
     "output_type": "stream",
     "text": [
      "Normalized MSE: 20747.148867545522\n",
      "Normalized R^2 Score: 0.6348421660866903\n",
      "Normalized Coefficients: [ 1.90708273e+02  2.21485784e+01 -2.29274435e+01 -6.98588688e+00\n",
      "  9.24587588e-02  2.86088765e+01]\n"
     ]
    }
   ],
   "source": [
    "\n",
    "# 데이터 정규화\n",
    "from sklearn.preprocessing import StandardScaler\n",
    "\n",
    "# 정규화를 위한 스케일러 초기화\n",
    "scaler = StandardScaler()\n",
    "\n",
    "# 훈련 데이터를 정규화\n",
    "X_train_scaled = scaler.fit_transform(X_train)\n",
    "\n",
    "# 테스트 데이터를 정규화 (훈련 데이터로 학습된 스케일러 사용)\n",
    "X_test_scaled = scaler.transform(X_test)\n",
    "\n",
    "# 정규화된 데이터로 모델 재훈련\n",
    "model_scaled = LinearRegression()\n",
    "model_scaled.fit(X_train_scaled, y_train)\n",
    "\n",
    "# 정규화된 데이터로 예측 및 성능 평가\n",
    "y_pred_scaled = model_scaled.predict(X_test_scaled)\n",
    "mse_scaled = mean_squared_error(y_test, y_pred_scaled)\n",
    "r2_scaled = r2_score(y_test, y_pred_scaled)\n",
    "\n",
    "# 결과 출력\n",
    "print('Normalized MSE:', mse_scaled)\n",
    "print('Normalized R^2 Score:', r2_scaled)\n",
    "print('Normalized Coefficients:', model_scaled.coef_)\n"
   ]
  },
  {
   "cell_type": "markdown",
   "id": "56317d5c",
   "metadata": {},
   "source": [
    "## 결과 해석"
   ]
  },
  {
   "cell_type": "code",
   "execution_count": 8,
   "id": "f3c08db1",
   "metadata": {},
   "outputs": [
    {
     "name": "stdout",
     "output_type": "stream",
     "text": [
      "MSE: 20747.148867545464\n",
      "R^2 Score: 0.6348421660866913\n",
      "Coefficients: [ 1.05732816e+00  1.44479208e+00 -1.68870670e+01 -7.29594800e-01\n",
      "  9.23124910e-03  9.64743428e+00]\n"
     ]
    }
   ],
   "source": [
    "# 모델 성능과 계수를 출력합니다.\n",
    "print('MSE:', mse)\n",
    "print('R^2 Score:', r2)\n",
    "print('Coefficients:', model.coef_)"
   ]
  },
  {
   "cell_type": "code",
   "execution_count": null,
   "id": "751461db",
   "metadata": {},
   "outputs": [],
   "source": []
  },
  {
   "cell_type": "code",
   "execution_count": null,
   "id": "60777924",
   "metadata": {},
   "outputs": [],
   "source": []
  }
 ],
 "metadata": {
  "kernelspec": {
   "display_name": "Python 3",
   "language": "python",
   "name": "python3"
  },
  "language_info": {
   "codemirror_mode": {
    "name": "ipython",
    "version": 3
   },
   "file_extension": ".py",
   "mimetype": "text/x-python",
   "name": "python",
   "nbconvert_exporter": "python",
   "pygments_lexer": "ipython3",
   "version": "3.12.2"
  }
 },
 "nbformat": 4,
 "nbformat_minor": 5
}
