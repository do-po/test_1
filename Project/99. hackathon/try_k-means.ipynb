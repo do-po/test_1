{
 "cells": [
  {
   "cell_type": "markdown",
   "metadata": {},
   "source": [
    "### K-means 클러스터링을 시도하여 SELLER 군집화 시도"
   ]
  },
  {
   "cell_type": "code",
   "execution_count": 1,
   "metadata": {},
   "outputs": [],
   "source": [
    "import pandas as pd\n",
    "import numpy as np\n",
    "from sklearn.cluster import KMeans\n",
    "from sklearn.preprocessing import StandardScaler\n",
    "import matplotlib.pyplot as plt\n"
   ]
  },
  {
   "cell_type": "code",
   "execution_count": 11,
   "metadata": {},
   "outputs": [
    {
     "name": "stderr",
     "output_type": "stream",
     "text": [
      "C:\\Users\\USER\\AppData\\Local\\Temp\\ipykernel_26644\\3384387085.py:2: DtypeWarning: Columns (16,17,18,19) have mixed types. Specify dtype option on import or set low_memory=False.\n",
      "  df = pd.read_csv('./data_in/total_df.csv')\n"
     ]
    }
   ],
   "source": [
    "# 샘플 데이터프레임 생성\n",
    "df = pd.read_csv('./data_in/total_df.csv')\n",
    "\n",
    "reviews = pd.read_csv('./data_in/reviews.csv')"
   ]
  },
  {
   "cell_type": "code",
   "execution_count": 12,
   "metadata": {},
   "outputs": [
    {
     "data": {
      "text/plain": [
       "Index(['Order_id', 'Order_item_id', 'Product_id', 'Seller_id', 'Price',\n",
       "       'Freight_value', 'Customer_id', 'Order_status',\n",
       "       'Order_purchase_timestamp', 'Order_delivered_carrier_date',\n",
       "       'Order_delivered_customer_date', 'Order_estimated_delivery_date',\n",
       "       'Seller_zipcode_prefix', 'Seller_city', 'Seller_state',\n",
       "       'Product_category_name', 'Product_weight_g', 'Product_length_cm',\n",
       "       'Product_height_cm', 'Product_width_cm', 'Revenue',\n",
       "       'Customer_unique_id', 'Customer_zipcode_prefix', 'Customer_city',\n",
       "       'Customer_state', 'Payment_sequential', 'Payment_type',\n",
       "       'Payment_installments', 'Payment_value', 'Review_id', 'Review_score',\n",
       "       'Review_creation_date', 'Review_answer_timestamp'],\n",
       "      dtype='object')"
      ]
     },
     "execution_count": 12,
     "metadata": {},
     "output_type": "execute_result"
    }
   ],
   "source": [
    "df.columns"
   ]
  },
  {
   "cell_type": "code",
   "execution_count": 13,
   "metadata": {},
   "outputs": [
    {
     "name": "stdout",
     "output_type": "stream",
     "text": [
      "<class 'pandas.core.frame.DataFrame'>\n",
      "RangeIndex: 87873 entries, 0 to 87872\n",
      "Data columns (total 5 columns):\n",
      " #   Column                   Non-Null Count  Dtype \n",
      "---  ------                   --------------  ----- \n",
      " 0   Review_id                87873 non-null  object\n",
      " 1   Order_id                 87873 non-null  object\n",
      " 2   Review_score             87873 non-null  int64 \n",
      " 3   Review_creation_date     87873 non-null  object\n",
      " 4   Review_answer_timestamp  87873 non-null  object\n",
      "dtypes: int64(1), object(4)\n",
      "memory usage: 3.4+ MB\n"
     ]
    }
   ],
   "source": [
    "reviews.info()"
   ]
  },
  {
   "cell_type": "code",
   "execution_count": 14,
   "metadata": {},
   "outputs": [
    {
     "data": {
      "text/plain": [
       "Index(['Order_id', 'Order_item_id', 'Product_id', 'Seller_id', 'Price',\n",
       "       'Freight_value', 'Customer_id', 'Order_status',\n",
       "       'Order_purchase_timestamp', 'Order_delivered_carrier_date',\n",
       "       'Order_delivered_customer_date', 'Order_estimated_delivery_date',\n",
       "       'Seller_zipcode_prefix', 'Seller_city', 'Seller_state',\n",
       "       'Product_category_name', 'Product_weight_g', 'Product_length_cm',\n",
       "       'Product_height_cm', 'Product_width_cm', 'Revenue',\n",
       "       'Customer_unique_id', 'Customer_zipcode_prefix', 'Customer_city',\n",
       "       'Customer_state', 'Payment_sequential', 'Payment_type',\n",
       "       'Payment_installments', 'Payment_value', 'Review_id', 'Review_score',\n",
       "       'Review_creation_date', 'Review_answer_timestamp'],\n",
       "      dtype='object')"
      ]
     },
     "execution_count": 14,
     "metadata": {},
     "output_type": "execute_result"
    }
   ],
   "source": [
    "df.columns"
   ]
  },
  {
   "cell_type": "code",
   "execution_count": 7,
   "metadata": {},
   "outputs": [],
   "source": [
    "# 클러스터링에 사용할 특징 선택\n",
    "features = ['Revenue', 'Payment_installments', 'Freight_value', 'Review_score']"
   ]
  },
  {
   "cell_type": "code",
   "execution_count": 16,
   "metadata": {},
   "outputs": [],
   "source": [
    "# 범주형 데이터들 더미화\n",
    "\n",
    "customer_dummy = pd.get_dummies(df['Customer_id'], prefix= 'customer')\n",
    "\n",
    "city_dummy = pd.get_dummies(df['Customer_city'], prefix= 'city')\n",
    "\n",
    "product_dummy = pd.get_dummies(df['Product_category_name'], prefix= 'category')"
   ]
  },
  {
   "cell_type": "code",
   "execution_count": 17,
   "metadata": {},
   "outputs": [],
   "source": [
    "# 더미 데이터들을 인코딩\n",
    "\n",
    "df_plus = pd.concat([df, customer_dummy, city_dummy, product_dummy], axis= 1)"
   ]
  },
  {
   "cell_type": "code",
   "execution_count": 32,
   "metadata": {},
   "outputs": [],
   "source": [
    "# 원하는 컬럼만을 선택\n",
    "\n",
    "column_filter = ['Product_id', 'Seller_id', 'Price',\n",
    "       'Freight_value', 'Customer_id',\n",
    "       'Product_category_name', 'Revenue',\n",
    "       'Customer_city',\n",
    "       'Payment_sequential', 'Payment_type','Payment_installments', 'Payment_value',\n",
    "       'Review_score']\n",
    "\n",
    "df_plus = df_plus[column_filter]"
   ]
  },
  {
   "cell_type": "code",
   "execution_count": 23,
   "metadata": {},
   "outputs": [
    {
     "name": "stderr",
     "output_type": "stream",
     "text": [
      "C:\\Users\\USER\\AppData\\Local\\Temp\\ipykernel_26644\\655721524.py:3: FutureWarning: A value is trying to be set on a copy of a DataFrame or Series through chained assignment using an inplace method.\n",
      "The behavior will change in pandas 3.0. This inplace method will never work because the intermediate object on which we are setting values always behaves as a copy.\n",
      "\n",
      "For example, when doing 'df[col].method(value, inplace=True)', try using 'df.method({col: value}, inplace=True)' or df[col] = df[col].method(value) instead, to perform the operation inplace on the original object.\n",
      "\n",
      "\n",
      "  df_plus['Review_score'].fillna(0, inplace= True)\n"
     ]
    }
   ],
   "source": [
    "# 결측치 제거\n",
    "\n",
    "# df_plus['Review_score'].fillna(0, inplace= True)"
   ]
  },
  {
   "cell_type": "code",
   "execution_count": 36,
   "metadata": {},
   "outputs": [],
   "source": [
    "# 특징 표준화\n",
    "scaler = StandardScaler()\n",
    "df_scaled = scaler.fit_transform(df_plus[features])"
   ]
  },
  {
   "cell_type": "code",
   "execution_count": 51,
   "metadata": {},
   "outputs": [],
   "source": [
    "# k-means 클러스터링\n",
    "n_clusters = 8  # 클러스터 개수 설정\n",
    "kmeans = KMeans(n_clusters=n_clusters, random_state=50)\n",
    "df_plus['cluster'] = kmeans.fit_predict(df_scaled)"
   ]
  },
  {
   "cell_type": "code",
   "execution_count": 52,
   "metadata": {},
   "outputs": [
    {
     "data": {
      "image/png": "[encoded data removed]",
      "text/plain": [
       "<Figure size 640x480 with 1 Axes>"
      ]
     },
     "metadata": {},
     "output_type": "display_data"
    },
    {
     "name": "stdout",
     "output_type": "stream",
     "text": [
      "Cluster centers:\n",
      "[[-0.28308387 -0.63255966 -0.29909611]\n",
      " [ 0.29118905  2.19079151  0.08863674]\n",
      " [ 5.02577125  1.44151151  1.35403442]\n",
      " [ 1.72363249  0.91373935  6.53776032]\n",
      " [17.19161915  0.95484792  3.78270622]\n",
      " [ 1.44059367 -0.23120173  0.10537041]\n",
      " [-0.17675896  0.42724831 -0.22946045]\n",
      " [ 0.14170677 -0.11811867  1.76072779]]\n"
     ]
    }
   ],
   "source": [
    "# 클러스터 시각화\n",
    "for cluster in range(n_clusters):\n",
    "    plt.scatter(df_plus[df_plus['cluster'] == cluster]['Revenue'],\n",
    "                df_plus[df_plus['cluster'] == cluster]['Review_score'],\n",
    "                label=f'Cluster {cluster + 1}')\n",
    "\n",
    "plt.xlabel('Revenue')\n",
    "plt.ylabel('Review_score')\n",
    "plt.title('K-Means Clustering')\n",
    "plt.legend()\n",
    "plt.show()\n",
    "\n",
    "# 클러스터 중심 출력\n",
    "print(\"Cluster centers:\")\n",
    "print(kmeans.cluster_centers_)\n"
   ]
  },
  {
   "cell_type": "code",
   "execution_count": null,
   "metadata": {},
   "outputs": [],
   "source": []
  }
 ],
 "metadata": {
  "kernelspec": {
   "display_name": "Python 3",
   "language": "python",
   "name": "python3"
  },
  "language_info": {
   "codemirror_mode": {
    "name": "ipython",
    "version": 3
   },
   "file_extension": ".py",
   "mimetype": "text/x-python",
   "name": "python",
   "nbconvert_exporter": "python",
   "pygments_lexer": "ipython3",
   "version": "3.12.2"
  }
 },
 "nbformat": 4,
 "nbformat_minor": 2
}
