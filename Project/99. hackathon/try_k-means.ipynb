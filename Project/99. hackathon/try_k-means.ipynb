{
 "cells": [
  {
   "cell_type": "markdown",
   "metadata": {},
   "source": [
    "### K-means 클러스터링을 시도하여 SELLER 군집화 시도"
   ]
  },
  {
   "cell_type": "code",
   "execution_count": null,
   "metadata": {},
   "outputs": [],
   "source": [
    "import pandas as pd\n",
    "import numpy as np\n",
    "from sklearn.cluster import KMeans\n",
    "from sklearn.preprocessing import StandardScaler\n",
    "import matplotlib.pyplot as plt\n"
   ]
  },
  {
   "cell_type": "code",
   "execution_count": null,
   "metadata": {},
   "outputs": [],
   "source": [
    "# 샘플 데이터프레임 생성\n",
    "df = pd.read_csv('./data_in/total_df.csv')\n",
    "\n",
    "reviews = pd.read_csv('./data_in/reviews.csv')"
   ]
  },
  {
   "cell_type": "code",
   "execution_count": null,
   "metadata": {},
   "outputs": [],
   "source": [
    "df.columns"
   ]
  },
  {
   "cell_type": "code",
   "execution_count": null,
   "metadata": {},
   "outputs": [],
   "source": [
    "reviews.info()"
   ]
  },
  {
   "cell_type": "code",
   "execution_count": null,
   "metadata": {},
   "outputs": [],
   "source": [
    "df.columns"
   ]
  },
  {
   "cell_type": "code",
   "execution_count": null,
   "metadata": {},
   "outputs": [],
   "source": [
    "# 클러스터링에 사용할 특징 선택\n",
    "features = ['Revenue', 'Payment_installments', 'Freight_value', 'Review_score', 'Items_per_order']"
   ]
  },
  {
   "cell_type": "code",
   "execution_count": null,
   "metadata": {},
   "outputs": [],
   "source": [
    "# 범주형 데이터들 더미화\n",
    "\n",
    "customer_dummy = pd.get_dummies(df['Customer_id'], prefix= 'customer')\n",
    "\n",
    "city_dummy = pd.get_dummies(df['Customer_city'], prefix= 'city')\n",
    "\n",
    "product_dummy = pd.get_dummies(df['Product_category_name'], prefix= 'category')"
   ]
  },
  {
   "cell_type": "code",
   "execution_count": null,
   "metadata": {},
   "outputs": [],
   "source": [
    "# 더미 데이터들을 인코딩\n",
    "\n",
    "df_plus = pd.concat([df, customer_dummy, city_dummy, product_dummy], axis= 1)"
   ]
  },
  {
   "cell_type": "code",
   "execution_count": null,
   "metadata": {},
   "outputs": [],
   "source": [
    "# 원하는 컬럼만을 선택\n",
    "\n",
    "column_filter = ['Product_id', 'Seller_id', 'Price',\n",
    "       'Freight_value', 'Customer_id',\n",
    "       'Product_category_name', 'Revenue',\n",
    "       'Customer_city',\n",
    "       'Payment_sequential', 'Payment_type','Payment_installments', 'Payment_value',\n",
    "       'Review_score', 'Items_per_order']\n",
    "\n",
    "df_plus = df_plus[column_filter]"
   ]
  },
  {
   "cell_type": "code",
   "execution_count": null,
   "metadata": {},
   "outputs": [],
   "source": [
    "# 결측치 제거\n",
    "\n",
    "df_plus['Review_score'].fillna(0, inplace= True)"
   ]
  },
  {
   "cell_type": "code",
   "execution_count": null,
   "metadata": {},
   "outputs": [],
   "source": [
    "# 특징 표준화\n",
    "scaler = StandardScaler()\n",
    "df_scaled = scaler.fit_transform(df_plus[features])"
   ]
  },
  {
   "cell_type": "code",
   "execution_count": null,
   "metadata": {},
   "outputs": [],
   "source": [
    "# k-means 클러스터링\n",
    "n_clusters = 2  # 클러스터 개수 설정\n",
    "kmeans = KMeans(n_clusters=n_clusters, random_state=3)\n",
    "df_plus['cluster'] = kmeans.fit_predict(df_scaled)"
   ]
  },
  {
   "cell_type": "code",
   "execution_count": null,
   "metadata": {},
   "outputs": [],
   "source": [
    "# 클러스터 시각화\n",
    "for cluster in range(n_clusters):\n",
    "    plt.scatter(df_plus[df_plus['cluster'] == cluster]['Revenue'],\n",
    "                df_plus[df_plus['cluster'] == cluster]['Items_per_order'],\n",
    "                label=f'Cluster {cluster + 1}')\n",
    "\n",
    "plt.xlabel('Revenue')\n",
    "plt.ylabel('Items_per_order')\n",
    "plt.title('K-Means Clustering')\n",
    "plt.legend()\n",
    "plt.show()\n",
    "\n",
    "# 클러스터 중심 출력\n",
    "print(\"Cluster centers:\")\n",
    "print(kmeans.cluster_centers_)\n"
   ]
  },
  {
   "cell_type": "code",
   "execution_count": null,
   "metadata": {},
   "outputs": [],
   "source": []
  }
 ],
 "metadata": {
  "kernelspec": {
   "display_name": "Python 3",
   "language": "python",
   "name": "python3"
  },
  "language_info": {
   "codemirror_mode": {
    "name": "ipython",
    "version": 3
   },
   "file_extension": ".py",
   "mimetype": "text/x-python",
   "name": "python",
   "nbconvert_exporter": "python",
   "pygments_lexer": "ipython3",
   "version": "3.12.2"
  }
 },
 "nbformat": 4,
 "nbformat_minor": 2
}
