{
 "cells": [
  {
   "cell_type": "markdown",
   "metadata": {},
   "source": [
    "### K-means 클러스터링을 시도하여 SELLER 군집화 시도"
   ]
  },
  {
   "cell_type": "code",
   "execution_count": null,
   "metadata": {},
   "outputs": [],
   "source": [
    "import pandas as pd\n",
    "import numpy as np\n",
    "from sklearn.cluster import KMeans\n",
    "from sklearn.preprocessing import StandardScaler\n",
    "import matplotlib.pyplot as plt\n"
   ]
  },
  {
   "cell_type": "code",
   "execution_count": null,
   "metadata": {},
   "outputs": [],
   "source": [
    "# 샘플 데이터프레임 생성\n",
    "\n",
    "df = pd.read_csv('./data_in/total_df.csv')\n"
   ]
  },
  {
   "cell_type": "code",
   "execution_count": null,
   "metadata": {},
   "outputs": [],
   "source": [
    "# 클러스터링에 사용할 특징 선택\n",
    "\n",
    "features = ['Order_item_id', 'Price',\n",
    "       'Freight_value',\n",
    "       'Payment_sequential', 'Payment_installments',\n",
    "       'Payment_value', 'Product_weight_g',\n",
    "       'Product_length_cm', 'Product_height_cm', 'Product_width_cm',\n",
    "       'Seller_zipcode_prefix',\n",
    "       'Customer_zipcode_prefix',\n",
    "       'Review_score',\n",
    "       'Items_per_order', 'Revenue']"
   ]
  },
  {
   "cell_type": "code",
   "execution_count": null,
   "metadata": {},
   "outputs": [],
   "source": [
    "# 원하는 컬럼만을 선택\n",
    "\n",
    "column_filter = ['Order_item_id', 'Price',\n",
    "       'Freight_value',\n",
    "       'Payment_sequential', 'Payment_installments',\n",
    "       'Payment_value', 'Product_weight_g',\n",
    "       'Product_length_cm', 'Product_height_cm', 'Product_width_cm',\n",
    "       'Seller_zipcode_prefix',\n",
    "       'Customer_zipcode_prefix',\n",
    "       'Review_score',\n",
    "       'Items_per_order', 'Revenue']\n",
    "\n",
    "df_plus = df[column_filter]"
   ]
  },
  {
   "cell_type": "code",
   "execution_count": null,
   "metadata": {},
   "outputs": [],
   "source": [
    "# 결측치 제거\n",
    "\n",
    "df_plus['Review_score'].fillna(0, inplace= True)\n",
    "\n",
    "# 데이터 클리닝: 'Unknown' 값을 NaN으로 변환 후 제거\n",
    "\n",
    "df_plus = df_plus.replace('Unknown', np.nan).dropna()"
   ]
  },
  {
   "cell_type": "code",
   "execution_count": null,
   "metadata": {},
   "outputs": [],
   "source": [
    "# 특징 표준화\n",
    "scaler = StandardScaler()\n",
    "df_scaled = scaler.fit_transform(df_plus[features])\n",
    "\n",
    "# k-means 클러스터링\n",
    "n_clusters = 2  # 클러스터 개수 설정\n",
    "kmeans = KMeans(n_clusters=n_clusters, random_state=3)\n",
    "df_plus['cluster'] = kmeans.fit_predict(df_scaled)"
   ]
  },
  {
   "cell_type": "code",
   "execution_count": null,
   "metadata": {},
   "outputs": [],
   "source": [
    "import seaborn as sns\n",
    "\n",
    "# 상관 관계 행렬 계산\n",
    "correlation_matrix = df_plus.corr()\n",
    "\n",
    "# 상관 관계 히트맵 시각화\n",
    "sns.heatmap(correlation_matrix, annot=True, annot_kws={'size' : 6})\n",
    "plt.figure(figsize= (50,50))\n",
    "plt.show()\n"
   ]
  },
  {
   "cell_type": "code",
   "execution_count": null,
   "metadata": {},
   "outputs": [],
   "source": [
    "# 클러스터 시각화\n",
    "for cluster in range(n_clusters):\n",
    "    plt.scatter(df_plus[df_plus['cluster'] == cluster]['Revenue'],\n",
    "                df_plus[df_plus['cluster'] == cluster]['Order_item_id'], # 상관계수가 낮고 분산이 높은 컬럼 선택\n",
    "                label=f'Cluster {cluster + 1}')\n",
    "\n",
    "plt.xlabel('Revenue')\n",
    "plt.ylabel('Order_item_id')\n",
    "plt.title('K-Means Clustering')\n",
    "plt.legend()\n",
    "plt.show()\n",
    "\n",
    "# 클러스터 중심 출력\n",
    "print(\"Cluster centers:\")\n",
    "print(kmeans.cluster_centers_)\n"
   ]
  },
  {
   "cell_type": "code",
   "execution_count": null,
   "metadata": {},
   "outputs": [],
   "source": [
    "correlation_matrix"
   ]
  },
  {
   "cell_type": "code",
   "execution_count": null,
   "metadata": {},
   "outputs": [],
   "source": []
  }
 ],
 "metadata": {
  "kernelspec": {
   "display_name": "Python 3",
   "language": "python",
   "name": "python3"
  },
  "language_info": {
   "codemirror_mode": {
    "name": "ipython",
    "version": 3
   },
   "file_extension": ".py",
   "mimetype": "text/x-python",
   "name": "python",
   "nbconvert_exporter": "python",
   "pygments_lexer": "ipython3",
   "version": "3.12.2"
  }
 },
 "nbformat": 4,
 "nbformat_minor": 2
}
