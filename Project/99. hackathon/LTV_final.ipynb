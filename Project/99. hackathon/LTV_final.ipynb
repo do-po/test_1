{
 "cells": [
  {
   "cell_type": "code",
   "execution_count": 1,
   "id": "a535cbb4",
   "metadata": {},
   "outputs": [],
   "source": [
    "import pandas as pd\n",
    "import numpy as np\n",
    "from sklearn.model_selection import train_test_split\n",
    "from sklearn.ensemble import RandomForestRegressor\n",
    "from sklearn.metrics import mean_squared_error"
   ]
  },
  {
   "cell_type": "code",
   "execution_count": 2,
   "id": "a4c85385",
   "metadata": {},
   "outputs": [
    {
     "name": "stderr",
     "output_type": "stream",
     "text": [
      "C:\\Users\\USER\\AppData\\Local\\Temp\\ipykernel_22332\\3665960125.py:6: DtypeWarning: Columns (16,17,18,19) have mixed types. Specify dtype option on import or set low_memory=False.\n",
      "  data = pd.read_csv('./data_in/total_df.csv')\n"
     ]
    }
   ],
   "source": [
    "# 데이터 불러오기\n",
    "data = pd.read_csv('./data_in/total_df.csv')\n",
    "\n",
    "# 날짜 컬럼을 datetime 형식으로 변환\n",
    "date_columns = ['Order_purchase_timestamp', 'Order_delivered_carrier_date', 'Order_delivered_customer_date',\n",
    "                'Order_estimated_delivery_date', 'Review_creation_date', 'Review_answer_timestamp']\n",
    "for col in date_columns:\n",
    "    data[col] = pd.to_datetime(data[col])\n",
    "\n",
    "# 1. 판매하는 품목의 평균 가격대\n",
    "category_price_avg = data.groupby('Product_category_name')['Price'].mean().rename('Avg_category_price')\n",
    "data = data.join(category_price_avg, on='Product_category_name')\n",
    "\n",
    "# 2. 동일한 상품에 대한 가격 경쟁력\n",
    "data['Price_competitiveness'] = data['Price'] - data['Avg_category_price']\n",
    "\n",
    "# 3. 판매자의 평균 리뷰 점수\n",
    "seller_review_avg = data.groupby('Seller_id')['Review_score'].mean().rename('Avg_seller_review')\n",
    "data = data.join(seller_review_avg, on='Seller_id')\n",
    "\n",
    "# 4. 상품의 평균 리뷰 점수\n",
    "product_review_avg = data.groupby('Product_id')['Review_score'].mean().rename('Avg_product_review')\n",
    "data = data.join(product_review_avg, on='Product_id')\n",
    "\n",
    "# 5. 셀러에 대한 고객 충성도 (고유 고객 수 대비 반복 구매 비율)\n",
    "repeat_customers = data.groupby('Seller_id')['Customer_id'].value_counts().gt(1).groupby('Seller_id').mean().rename('Customer_loyalty')\n",
    "data = data.join(repeat_customers, on='Seller_id')\n",
    "\n",
    "# 6. 한 주문에 포함된 상품의 개수\n",
    "items_per_order = data.groupby('Order_id')['Order_item_id'].max().rename('Items_per_order')\n",
    "data = data.join(items_per_order, on='Order_id')\n",
    "\n",
    "# 7. 한 주문 당 결제한 가격\n",
    "total_payment_per_order = data.groupby('Order_id')['Payment_value'].sum().rename('Total_payment_per_order')\n",
    "data = data.join(total_payment_per_order, on='Order_id')\n",
    "\n",
    "# 8. 배송 속도 (주문 날짜부터 고객이 상품을 받은 날짜까지의 일수)\n",
    "data['Delivery_speed'] = (data['Order_delivered_customer_date'] - data['Order_purchase_timestamp']).dt.days\n",
    "\n",
    "# 9. 리뷰 응답 속도 (리뷰 작성일부터 판매자 응답일까지의 시간)\n",
    "data['Review_response_time'] = (data['Review_answer_timestamp'] - data['Review_creation_date']).dt.days\n"
   ]
  },
  {
   "cell_type": "code",
   "execution_count": 5,
   "id": "5c75ce51",
   "metadata": {},
   "outputs": [
    {
     "name": "stdout",
     "output_type": "stream",
     "text": [
      "Mean Squared Error: 11010.86690148411 r2:  [  30.9981       73.6159      304.13692571 ...   49.21449286 1649.983\n",
      "   79.17814476]\n"
     ]
    }
   ],
   "source": [
    "### 2. 랜덤포레스트!!\n",
    "\n",
    "\n",
    "    # 고객 당 총 결제 금액 계산\n",
    "    #customer_total_spending = data.groupby('Customer_id')['Payment_value'].sum().rename('Total_spending')\n",
    "\n",
    "    # 데이터 프레임에 결제 금액 추가\n",
    "    #data = data.join(customer_total_spending, on='Customer_id')\n",
    "\n",
    "# 필요한 특성 선택\n",
    "features = [\n",
    "    'Avg_category_price', 'Price_competitiveness', 'Avg_seller_review', 'Avg_product_review',\n",
    "    'Customer_loyalty', 'Items_per_order', 'Delivery_speed', 'Review_response_time'\n",
    "]\n",
    "X = data[features]\n",
    "y = data['Total_payment_per_order']\n",
    "\n",
    "# 데이터 분할\n",
    "X_train, X_test, y_train, y_test = train_test_split(X, y, test_size=0.2, random_state=42)\n",
    "\n",
    "# 모델 생성 및 훈련\n",
    "model = RandomForestRegressor(n_estimators=100, random_state=42)\n",
    "model.fit(X_train, y_train)\n",
    "\n",
    "# 예측 및 성능 평가\n",
    "predictions = model.predict(X_test)\n",
    "mse = mean_squared_error(y_test, predictions)\n",
    "print('Mean Squared Error:', mse)\n",
    "\n",
    "# 변수 중요도\n",
    "feature_importances = model.feature_importances_\n",
    "importance_df = pd.DataFrame({'Feature': X.columns, 'Importance': feature_importances})\n",
    "importance_df.sort_values(by='Importance', ascending=False, inplace=True)"
   ]
  },
  {
   "cell_type": "markdown",
   "id": "b8b52a7c",
   "metadata": {},
   "source": [
    "#### LTV에 영향을 주는 요인"
   ]
  },
  {
   "cell_type": "code",
   "execution_count": 4,
   "id": "14048fcd",
   "metadata": {},
   "outputs": [
    {
     "data": {
      "text/html": [
       "<div>\n",
       "<style scoped>\n",
       "    .dataframe tbody tr th:only-of-type {\n",
       "        vertical-align: middle;\n",
       "    }\n",
       "\n",
       "    .dataframe tbody tr th {\n",
       "        vertical-align: top;\n",
       "    }\n",
       "\n",
       "    .dataframe thead th {\n",
       "        text-align: right;\n",
       "    }\n",
       "</style>\n",
       "<table border=\"1\" class=\"dataframe\">\n",
       "  <thead>\n",
       "    <tr style=\"text-align: right;\">\n",
       "      <th></th>\n",
       "      <th>Feature</th>\n",
       "      <th>Importance</th>\n",
       "    </tr>\n",
       "  </thead>\n",
       "  <tbody>\n",
       "    <tr>\n",
       "      <th>5</th>\n",
       "      <td>Items_per_order</td>\n",
       "      <td>0.510390</td>\n",
       "    </tr>\n",
       "    <tr>\n",
       "      <th>1</th>\n",
       "      <td>Price_competitiveness</td>\n",
       "      <td>0.194242</td>\n",
       "    </tr>\n",
       "    <tr>\n",
       "      <th>2</th>\n",
       "      <td>Avg_seller_review</td>\n",
       "      <td>0.154949</td>\n",
       "    </tr>\n",
       "    <tr>\n",
       "      <th>0</th>\n",
       "      <td>Avg_category_price</td>\n",
       "      <td>0.054474</td>\n",
       "    </tr>\n",
       "    <tr>\n",
       "      <th>7</th>\n",
       "      <td>Review_response_time</td>\n",
       "      <td>0.036879</td>\n",
       "    </tr>\n",
       "    <tr>\n",
       "      <th>3</th>\n",
       "      <td>Avg_product_review</td>\n",
       "      <td>0.034587</td>\n",
       "    </tr>\n",
       "    <tr>\n",
       "      <th>4</th>\n",
       "      <td>Customer_loyalty</td>\n",
       "      <td>0.008927</td>\n",
       "    </tr>\n",
       "    <tr>\n",
       "      <th>6</th>\n",
       "      <td>Delivery_speed</td>\n",
       "      <td>0.005552</td>\n",
       "    </tr>\n",
       "  </tbody>\n",
       "</table>\n",
       "</div>"
      ],
      "text/plain": [
       "                 Feature  Importance\n",
       "5        Items_per_order    0.510390\n",
       "1  Price_competitiveness    0.194242\n",
       "2      Avg_seller_review    0.154949\n",
       "0     Avg_category_price    0.054474\n",
       "7   Review_response_time    0.036879\n",
       "3     Avg_product_review    0.034587\n",
       "4       Customer_loyalty    0.008927\n",
       "6         Delivery_speed    0.005552"
      ]
     },
     "execution_count": 4,
     "metadata": {},
     "output_type": "execute_result"
    }
   ],
   "source": [
    "importance_df"
   ]
  },
  {
   "cell_type": "markdown",
   "id": "c75d19e2",
   "metadata": {},
   "source": [
    "#### corr() 메서드로 계산한 LTV와 매출간의 상관계수"
   ]
  },
  {
   "cell_type": "code",
   "execution_count": 6,
   "id": "7507f461",
   "metadata": {},
   "outputs": [
    {
     "name": "stdout",
     "output_type": "stream",
     "text": [
      "                         Total_payment_per_order   Revenue\n",
      "Total_payment_per_order                 1.000000  0.479854\n",
      "Revenue                                 0.479854  1.000000\n"
     ]
    }
   ],
   "source": [
    "ltv_to_revenue = data[['Total_payment_per_order', 'Revenue']].corr()\n",
    "\n",
    "print(ltv_to_revenue)"
   ]
  },
  {
   "cell_type": "markdown",
   "id": "8b0d11fb",
   "metadata": {},
   "source": [
    "#### 선형 회귀 분석으로 계산한 LTV와 매출간의 연관성"
   ]
  },
  {
   "cell_type": "code",
   "execution_count": 9,
   "id": "80c2df82",
   "metadata": {},
   "outputs": [],
   "source": [
    "from sklearn.model_selection import train_test_split\n",
    "from sklearn.linear_model import LinearRegression\n",
    "from sklearn.metrics import mean_squared_error, r2_score\n",
    "import numpy as np\n",
    "import random"
   ]
  },
  {
   "cell_type": "code",
   "execution_count": 10,
   "id": "5c126211",
   "metadata": {},
   "outputs": [
    {
     "name": "stdout",
     "output_type": "stream",
     "text": [
      "Mean Squared Error: 37532.3893728115\n",
      "R2 Score: 0.1353071718360095\n"
     ]
    }
   ],
   "source": [
    "# 'Total_payment_per_order'과 'Revenue' 컬럼 확인 및 결측치 제거\n",
    "data = data[['Total_payment_per_order', 'Revenue']].dropna()\n",
    "\n",
    "# 데이터 분할\n",
    "X = data[['Total_payment_per_order']]\n",
    "y = data['Revenue']\n",
    "X_train, X_test, y_train, y_test = train_test_split(X, y, test_size=0.2, random_state=42)\n",
    "\n",
    "# 모델 생성 및 훈련\n",
    "model = LinearRegression()\n",
    "model.fit(X_train, y_train)\n",
    "\n",
    "# 예측 및 성능 평가\n",
    "predictions = model.predict(X_test)\n",
    "mse = mean_squared_error(y_test, predictions)\n",
    "r2 = r2_score(y_test, predictions)\n",
    "print('Mean Squared Error:', mse)\n",
    "print('R2 Score:', r2)"
   ]
  },
  {
   "cell_type": "code",
   "execution_count": null,
   "id": "c22fc0d5",
   "metadata": {},
   "outputs": [],
   "source": []
  }
 ],
 "metadata": {
  "kernelspec": {
   "display_name": "Python 3",
   "language": "python",
   "name": "python3"
  },
  "language_info": {
   "codemirror_mode": {
    "name": "ipython",
    "version": 3
   },
   "file_extension": ".py",
   "mimetype": "text/x-python",
   "name": "python",
   "nbconvert_exporter": "python",
   "pygments_lexer": "ipython3",
   "version": "3.12.2"
  }
 },
 "nbformat": 4,
 "nbformat_minor": 5
}
