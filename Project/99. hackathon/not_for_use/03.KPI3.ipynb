{
 "cells": [
  {
   "cell_type": "markdown",
   "metadata": {},
   "source": [
    "### 리뷰 평점이 셀러의 평점에 얼마나 영향을 끼치는지 ** ????"
   ]
  },
  {
   "cell_type": "code",
   "execution_count": null,
   "metadata": {},
   "outputs": [],
   "source": [
    "# 필요한 라이브러리 로드\n",
    "\n",
    "import pandas as pd\n",
    "\n"
   ]
  },
  {
   "cell_type": "code",
   "execution_count": null,
   "metadata": {},
   "outputs": [],
   "source": [
    "# 데이터 로드\n",
    "\n",
    "reviews = pd.read_csv('../reviews.csv')\n",
    "orders = pd.read_csv('../orders.csv')\n",
    "order_items = pd.read_csv('../order_items.csv')\n",
    "products = pd.read_csv('../products.csv')\n",
    "\n",
    "# 데이터 첫 줄 및 컬럼 확인\n",
    "\n",
    "reviews.head(), orders.head()\n",
    "\n"
   ]
  },
  {
   "cell_type": "code",
   "execution_count": null,
   "metadata": {},
   "outputs": [],
   "source": [
    "# Merge reviews with orders based on Order_id\n",
    "reviews_orders_merged = pd.merge(reviews, orders, on='Order_id')\n",
    "\n",
    "# Merge this with order_items to get seller information\n",
    "complete_data = pd.merge(reviews_orders_merged, order_items, on='Order_id')\n",
    "\n",
    "# Calculate total revenue and average review score per seller\n",
    "seller_performance = complete_data.groupby('Seller_id').agg({\n",
    "    'Price': 'sum',  # Total revenue\n",
    "    'Review_score': 'mean'  # Average review score\n",
    "}).reset_index()\n",
    "\n",
    "# Rename the columns for clarity\n",
    "seller_performance.columns = ['Seller_id', 'Total_Revenue', 'Average_Review_Score']\n",
    "\n",
    "# Display a few rows and calculate correlation\n",
    "correlation = seller_performance[['Total_Revenue', 'Average_Review_Score']].corr()\n",
    "seller_performance.head(), correlation\n",
    "d"
   ]
  },
  {
   "cell_type": "code",
   "execution_count": null,
   "metadata": {},
   "outputs": [],
   "source": [
    "# 데이터 첫 줄 및 컬럼 확인\n",
    "\n",
    "reviews.head(), orders.head()\n",
    "\n",
    "# Merge reviews with orders based on Order_id\n",
    "reviews_orders_merged = pd.merge(reviews, orders, on='Order_id')\n",
    "\n",
    "# Merge this with order_items to get seller information\n",
    "complete_data = pd.merge(reviews_orders_merged, order_items, on='Order_id')\n",
    "\n",
    "# Calculate total revenue and average review score per seller\n",
    "seller_performance = complete_data.groupby('Seller_id').agg({\n",
    "    'Price': 'sum',  # Total revenue\n",
    "    'Review_score': 'mean'  # Average review score\n",
    "}).reset_index()\n",
    "\n",
    "# Rename the columns for clarity\n",
    "seller_performance.columns = ['Seller_id', 'Total_Revenue', 'Average_Review_Score']\n",
    "\n",
    "# Display a few rows and calculate correlation\n",
    "correlation = seller_performance[['Total_Revenue', 'Average_Review_Score']].corr()\n",
    "seller_performance.head(), correlation\n",
    "d"
   ]
  },
  {
   "cell_type": "markdown",
   "metadata": {},
   "source": [
    "셀러별 총 매출과 평균 리뷰 점수를 분석한 결과, 리뷰 점수와 셀러의 매출 사이에는 거의 상관관계가 없는 것으로 나타났습니다(-0.0205). 이는 리뷰 점수가 높다고 해서 반드시 매출이 높은 것은 아니며, 매출이 많은 셀러의 리뷰 점수가 반드시 높은 것도 아니라는 것을 의미합니다.\n",
    "\n",
    "이 결과는 리뷰 점수가 셀러의 매출에 직접적인 영향을 미치지 않을 수 있음을 시사합니다. 다만, 이는 다양한 요인에 의해 영향을 받을 수 있으므로, 추가적인 요인들을 고려하는 더 광범위한 분석이 필요할 수 있습니다."
   ]
  },
  {
   "cell_type": "code",
   "execution_count": 6,
   "metadata": {},
   "outputs": [
    {
     "ename": "AttributeError",
     "evalue": "Can only use .dt accessor with datetimelike values",
     "output_type": "error",
     "traceback": [
      "\u001b[0;31m---------------------------------------------------------------------------\u001b[0m",
      "\u001b[0;31mAttributeError\u001b[0m                            Traceback (most recent call last)",
      "Cell \u001b[0;32mIn[6], line 26\u001b[0m\n\u001b[1;32m     23\u001b[0m orders[\u001b[38;5;124m'\u001b[39m\u001b[38;5;124mOrder_purchase_timestamp\u001b[39m\u001b[38;5;124m'\u001b[39m] \u001b[38;5;241m=\u001b[39m pd\u001b[38;5;241m.\u001b[39mto_datetime(orders[\u001b[38;5;124m'\u001b[39m\u001b[38;5;124mOrder_purchase_timestamp\u001b[39m\u001b[38;5;124m'\u001b[39m])\n\u001b[1;32m     25\u001b[0m \u001b[38;5;66;03m# Group by product and date to see the sales pattern after receiving low scores\u001b[39;00m\n\u001b[0;32m---> 26\u001b[0m sales_after_low_reviews \u001b[38;5;241m=\u001b[39m expensive_low_score_sales_sorted\u001b[38;5;241m.\u001b[39mgroupby([\u001b[38;5;124m'\u001b[39m\u001b[38;5;124mProduct_id\u001b[39m\u001b[38;5;124m'\u001b[39m, expensive_low_score_sales_sorted[\u001b[38;5;124m'\u001b[39m\u001b[38;5;124mOrder_purchase_timestamp\u001b[39m\u001b[38;5;124m'\u001b[39m]\u001b[38;5;241m.\u001b[39mdt\u001b[38;5;241m.\u001b[39mdate])\u001b[38;5;241m.\u001b[39magg({\n\u001b[1;32m     27\u001b[0m     \u001b[38;5;124m'\u001b[39m\u001b[38;5;124mOrder_item_id\u001b[39m\u001b[38;5;124m'\u001b[39m: \u001b[38;5;124m'\u001b[39m\u001b[38;5;124msum\u001b[39m\u001b[38;5;124m'\u001b[39m  \u001b[38;5;66;03m# Sum up the quantity sold per product per day\u001b[39;00m\n\u001b[1;32m     28\u001b[0m })\u001b[38;5;241m.\u001b[39mreset_index()\n\u001b[1;32m     30\u001b[0m sales_after_low_reviews\u001b[38;5;241m.\u001b[39mhead(\u001b[38;5;241m10\u001b[39m)\n",
      "File \u001b[0;32m/opt/anaconda3/lib/python3.11/site-packages/pandas/core/generic.py:6204\u001b[0m, in \u001b[0;36mNDFrame.__getattr__\u001b[0;34m(self, name)\u001b[0m\n\u001b[1;32m   6197\u001b[0m \u001b[38;5;28;01mif\u001b[39;00m (\n\u001b[1;32m   6198\u001b[0m     name \u001b[38;5;129;01mnot\u001b[39;00m \u001b[38;5;129;01min\u001b[39;00m \u001b[38;5;28mself\u001b[39m\u001b[38;5;241m.\u001b[39m_internal_names_set\n\u001b[1;32m   6199\u001b[0m     \u001b[38;5;129;01mand\u001b[39;00m name \u001b[38;5;129;01mnot\u001b[39;00m \u001b[38;5;129;01min\u001b[39;00m \u001b[38;5;28mself\u001b[39m\u001b[38;5;241m.\u001b[39m_metadata\n\u001b[1;32m   6200\u001b[0m     \u001b[38;5;129;01mand\u001b[39;00m name \u001b[38;5;129;01mnot\u001b[39;00m \u001b[38;5;129;01min\u001b[39;00m \u001b[38;5;28mself\u001b[39m\u001b[38;5;241m.\u001b[39m_accessors\n\u001b[1;32m   6201\u001b[0m     \u001b[38;5;129;01mand\u001b[39;00m \u001b[38;5;28mself\u001b[39m\u001b[38;5;241m.\u001b[39m_info_axis\u001b[38;5;241m.\u001b[39m_can_hold_identifiers_and_holds_name(name)\n\u001b[1;32m   6202\u001b[0m ):\n\u001b[1;32m   6203\u001b[0m     \u001b[38;5;28;01mreturn\u001b[39;00m \u001b[38;5;28mself\u001b[39m[name]\n\u001b[0;32m-> 6204\u001b[0m \u001b[38;5;28;01mreturn\u001b[39;00m \u001b[38;5;28mobject\u001b[39m\u001b[38;5;241m.\u001b[39m\u001b[38;5;21m__getattribute__\u001b[39m(\u001b[38;5;28mself\u001b[39m, name)\n",
      "File \u001b[0;32m/opt/anaconda3/lib/python3.11/site-packages/pandas/core/accessor.py:224\u001b[0m, in \u001b[0;36mCachedAccessor.__get__\u001b[0;34m(self, obj, cls)\u001b[0m\n\u001b[1;32m    221\u001b[0m \u001b[38;5;28;01mif\u001b[39;00m obj \u001b[38;5;129;01mis\u001b[39;00m \u001b[38;5;28;01mNone\u001b[39;00m:\n\u001b[1;32m    222\u001b[0m     \u001b[38;5;66;03m# we're accessing the attribute of the class, i.e., Dataset.geo\u001b[39;00m\n\u001b[1;32m    223\u001b[0m     \u001b[38;5;28;01mreturn\u001b[39;00m \u001b[38;5;28mself\u001b[39m\u001b[38;5;241m.\u001b[39m_accessor\n\u001b[0;32m--> 224\u001b[0m accessor_obj \u001b[38;5;241m=\u001b[39m \u001b[38;5;28mself\u001b[39m\u001b[38;5;241m.\u001b[39m_accessor(obj)\n\u001b[1;32m    225\u001b[0m \u001b[38;5;66;03m# Replace the property with the accessor object. Inspired by:\u001b[39;00m\n\u001b[1;32m    226\u001b[0m \u001b[38;5;66;03m# https://www.pydanny.com/cached-property.html\u001b[39;00m\n\u001b[1;32m    227\u001b[0m \u001b[38;5;66;03m# We need to use object.__setattr__ because we overwrite __setattr__ on\u001b[39;00m\n\u001b[1;32m    228\u001b[0m \u001b[38;5;66;03m# NDFrame\u001b[39;00m\n\u001b[1;32m    229\u001b[0m \u001b[38;5;28mobject\u001b[39m\u001b[38;5;241m.\u001b[39m\u001b[38;5;21m__setattr__\u001b[39m(obj, \u001b[38;5;28mself\u001b[39m\u001b[38;5;241m.\u001b[39m_name, accessor_obj)\n",
      "File \u001b[0;32m/opt/anaconda3/lib/python3.11/site-packages/pandas/core/indexes/accessors.py:608\u001b[0m, in \u001b[0;36mCombinedDatetimelikeProperties.__new__\u001b[0;34m(cls, data)\u001b[0m\n\u001b[1;32m    605\u001b[0m \u001b[38;5;28;01melif\u001b[39;00m \u001b[38;5;28misinstance\u001b[39m(data\u001b[38;5;241m.\u001b[39mdtype, PeriodDtype):\n\u001b[1;32m    606\u001b[0m     \u001b[38;5;28;01mreturn\u001b[39;00m PeriodProperties(data, orig)\n\u001b[0;32m--> 608\u001b[0m \u001b[38;5;28;01mraise\u001b[39;00m \u001b[38;5;167;01mAttributeError\u001b[39;00m(\u001b[38;5;124m\"\u001b[39m\u001b[38;5;124mCan only use .dt accessor with datetimelike values\u001b[39m\u001b[38;5;124m\"\u001b[39m)\n",
      "\u001b[0;31mAttributeError\u001b[0m: Can only use .dt accessor with datetimelike values"
     ]
    }
   ],
   "source": [
    "# 낮은 리뷰가 달린 뒤에도. 추가적으로 그 상품을 구매하는 사람이 많은지(비싼 상품일 경우)\n",
    "\n",
    "# Filter reviews with low scores (3 or less)\n",
    "low_score_reviews = reviews[reviews['Review_score'] <= 3]\n",
    "\n",
    "# Merge low score reviews with orders to track the order dates\n",
    "low_score_reviews_orders = pd.merge(low_score_reviews, orders, on='Order_id')\n",
    "\n",
    "# Merge this data with order_items to track product sales after low reviews\n",
    "low_score_product_sales = pd.merge(low_score_reviews_orders, order_items, on='Order_id')\n",
    "\n",
    "# Merge with products to get price information\n",
    "low_score_product_sales = pd.merge(low_score_product_sales, products, on='Product_id')\n",
    "\n",
    "# Filter to consider only products with prices in the upper quartile (expensive products)\n",
    "price_threshold = low_score_product_sales['Price'].quantile(0.75)\n",
    "expensive_low_score_sales = low_score_product_sales[low_score_product_sales['Price'] >= price_threshold]\n",
    "\n",
    "# Sort by order date to analyze the trend\n",
    "expensive_low_score_sales_sorted = expensive_low_score_sales.sort_values(by='Order_purchase_timestamp')\n",
    "\n",
    "# Convert Order_purchase_timestamp to datetime\n",
    "orders['Order_purchase_timestamp'] = pd.to_datetime(orders['Order_purchase_timestamp'])\n",
    "\n",
    "# Group by product and date to see the sales pattern after receiving low scores\n",
    "sales_after_low_reviews = expensive_low_score_sales_sorted.groupby(['Product_id', expensive_low_score_sales_sorted['Order_purchase_timestamp'].dt.date]).agg({\n",
    "    'Order_item_id': 'sum'  # Sum up the quantity sold per product per day\n",
    "}).reset_index()\n",
    "\n",
    "sales_after_low_reviews.head(10)\n"
   ]
  }
 ],
 "metadata": {
  "kernelspec": {
   "display_name": "base",
   "language": "python",
   "name": "python3"
  },
  "language_info": {
   "codemirror_mode": {
    "name": "ipython",
    "version": 3
   },
   "file_extension": ".py",
   "mimetype": "text/x-python",
   "name": "python",
   "nbconvert_exporter": "python",
   "pygments_lexer": "ipython3",
   "version": "3.11.7"
  }
 },
 "nbformat": 4,
 "nbformat_minor": 2
}
