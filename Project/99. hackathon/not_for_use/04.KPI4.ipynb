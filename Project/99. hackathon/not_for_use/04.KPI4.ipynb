{
 "cells": [
  {
   "cell_type": "code",
   "execution_count": 2,
   "metadata": {},
   "outputs": [
    {
     "data": {
      "text/plain": [
       "(    Order_purchase_timestamp      Price  Difference\n",
       " 332               2018-11-24  149916.58   106814.25\n",
       " 333               2018-11-25   59928.51    89988.07\n",
       " 505               2019-05-16   55347.15    14771.62\n",
       " 496               2019-05-07   52561.13    24760.58\n",
       " 503               2019-05-14   52407.22    21203.70,\n",
       "     Order_purchase_timestamp      Price  Difference\n",
       " 332               2018-11-24  149916.58   106814.25)"
      ]
     },
     "execution_count": 2,
     "metadata": {},
     "output_type": "execute_result"
    }
   ],
   "source": [
    "# 매출이 급격하게 뛴 날이 있는데 그 원인이 무엇인지\n",
    "\n",
    "import pandas as pd\n",
    "\n",
    "customers = pd.read_csv('../customers.csv')\n",
    "locations = pd.read_csv('../locations.csv')\n",
    "order_items = pd.read_csv('../order_items.csv')\n",
    "orders = pd.read_csv('../orders.csv')\n",
    "payments = pd.read_csv('../payments.csv')\n",
    "products = pd.read_csv('../products.csv')\n",
    "sellers = pd.read_csv('../sellers.csv')\n",
    "\n",
    "# Convert Order_purchase_timestamp to datetime\n",
    "orders['Order_purchase_timestamp'] = pd.to_datetime(orders['Order_purchase_timestamp'])\n",
    "\n",
    "# Merge orders with order_items to calculate revenue per day\n",
    "orders_items_merged = pd.merge(orders, order_items, on='Order_id')\n",
    "\n",
    "# Calculate total revenue per day\n",
    "daily_revenue = orders_items_merged.groupby(orders_items_merged['Order_purchase_timestamp'].dt.date)['Price'].sum().reset_index()\n",
    "\n",
    "# Find the day with an unusually high revenue\n",
    "daily_revenue['Difference'] = daily_revenue['Price'].diff().abs()\n",
    "spike_day = daily_revenue[daily_revenue['Difference'] == daily_revenue['Difference'].max()]\n",
    "\n",
    "daily_revenue.sort_values(by='Price', ascending=False).head(), spike_day\n",
    "d"
   ]
  },
  {
   "cell_type": "markdown",
   "metadata": {},
   "source": [
    "분석 결과, 매출이 특히 급증한 날짜는 2018년 11월 24일로 확인되며, 이날의 매출은 약 149,917원으로 전날 대비 106,814원 증가한 큰 이상치를 보였습니다.\n",
    "\n",
    "이 날짜는 흔히 '블랙 프라이데이'로 불리는 쇼핑 세일 이벤트가 진행되는 날입니다. 이 이벤트는 대규모 할인과 프로모션이 진행되어 매출 증가에 크게 기여할 수 있습니다. 하지만 이것이 유일한 원인인지 확인하기 위해, 그 날에 주문된 주요 상품과 주요 셀러를 확인해 보겠습니다.\n",
    "\n",
    "이제 2018년 11월 24일에 주문된 상품들과 셀러들의 정보를 분석해 보겠습니다."
   ]
  },
  {
   "cell_type": "code",
   "execution_count": 3,
   "metadata": {},
   "outputs": [
    {
     "data": {
      "text/plain": [
       "(     Seller_id    Price\n",
       " 0  SELLER_0062  6079.97\n",
       " 1  SELLER_1667  5934.60\n",
       " 2  SELLER_0417  4459.00\n",
       " 3  SELLER_2423  4442.60\n",
       " 4  SELLER_2194  4383.45,\n",
       "       Product_id   Price\n",
       " 0  PRODUCT_24147  5934.6\n",
       " 1  PRODUCT_26348  2400.0\n",
       " 2  PRODUCT_22684  1899.8\n",
       " 3  PRODUCT_03718  1797.0\n",
       " 4  PRODUCT_17004  1794.0)"
      ]
     },
     "execution_count": 3,
     "metadata": {},
     "output_type": "execute_result"
    }
   ],
   "source": [
    "# Filter data for the spike day: 2018-11-24\n",
    "spike_day_data = orders_items_merged[orders_items_merged['Order_purchase_timestamp'].dt.date == pd.to_datetime(\"2018-11-24\").date()]\n",
    "\n",
    "# Aggregate data to find top sellers and products on this day\n",
    "top_sellers = spike_day_data.groupby('Seller_id')['Price'].sum().sort_values(ascending=False).reset_index().head()\n",
    "top_products = spike_day_data.groupby('Product_id')['Price'].sum().sort_values(ascending=False).reset_index().head()\n",
    "\n",
    "top_sellers, top_products\n"
   ]
  },
  {
   "cell_type": "markdown",
   "metadata": {},
   "source": [
    "2018년 11월 24일, 즉 블랙 프라이데이에는 특정 셀러와 상품들이 눈에 띄게 높은 매출을 기록했습니다. 이 날 가장 매출이 높았던 상위 5명의 셀러와 그들이 판매한 주요 상품은 다음과 같습니다:\n",
    "\n",
    "상위 셀러들\n",
    "SELLER_0062: 매출 6,079.97원\n",
    "SELLER_1667: 매출 5,934.60원\n",
    "SELLER_0417: 매출 4,459.00원\n",
    "SELLER_2423: 매출 4,442.60원\n",
    "SELLER_2194: 매출 4,383.45원\n",
    "상위 상품들\n",
    "PRODUCT_24147: 매출 5,934.60원\n",
    "PRODUCT_26348: 매출 2,400.00원\n",
    "PRODUCT_22684: 매출 1,899.80원\n",
    "PRODUCT_03718: 매출 1,797.00원\n",
    "PRODUCT_17004: 매출 1,794.00원\n",
    "이 데이터를 통해, 블랙 프라이데이에는 일부 셀러와 특정 상품들이 대규모 할인이나 프로모션을 통해 많은 매출을 올린 것으로 보입니다. 이러한 상품들은 일반적으로 높은 인기를 끄는 아이템일 가능성이 높으며, 이날의 매출 증가 원인은 특별한 할인 이벤트와 함께 이들 상품과 셀러의 영향이 크다고 볼 수 있습니다."
   ]
  },
  {
   "cell_type": "code",
   "execution_count": 5,
   "metadata": {},
   "outputs": [
    {
     "name": "stderr",
     "output_type": "stream",
     "text": [
      "/var/folders/6t/n0v7bw1n0xd_mnsb0s97p9fm0000gn/T/ipykernel_11748/2838392992.py:5: SettingWithCopyWarning: \n",
      "A value is trying to be set on a copy of a slice from a DataFrame.\n",
      "Try using .loc[row_indexer,col_indexer] = value instead\n",
      "\n",
      "See the caveats in the documentation: https://pandas.pydata.org/pandas-docs/stable/user_guide/indexing.html#returning-a-view-versus-a-copy\n",
      "  dates_data['Revenue'] = dates_data['Price'] * dates_data['Order_item_id']\n"
     ]
    },
    {
     "data": {
      "text/html": [
       "<div>\n",
       "<style scoped>\n",
       "    .dataframe tbody tr th:only-of-type {\n",
       "        vertical-align: middle;\n",
       "    }\n",
       "\n",
       "    .dataframe tbody tr th {\n",
       "        vertical-align: top;\n",
       "    }\n",
       "\n",
       "    .dataframe thead th {\n",
       "        text-align: right;\n",
       "    }\n",
       "</style>\n",
       "<table border=\"1\" class=\"dataframe\">\n",
       "  <thead>\n",
       "    <tr style=\"text-align: right;\">\n",
       "      <th>Order_status</th>\n",
       "      <th>Net_Revenue</th>\n",
       "    </tr>\n",
       "    <tr>\n",
       "      <th>Order_purchase_timestamp</th>\n",
       "      <th></th>\n",
       "    </tr>\n",
       "  </thead>\n",
       "  <tbody>\n",
       "    <tr>\n",
       "      <th>2018-11-23</th>\n",
       "      <td>54575.38</td>\n",
       "    </tr>\n",
       "    <tr>\n",
       "      <th>2018-11-24</th>\n",
       "      <td>183552.70</td>\n",
       "    </tr>\n",
       "  </tbody>\n",
       "</table>\n",
       "</div>"
      ],
      "text/plain": [
       "Order_status              Net_Revenue\n",
       "Order_purchase_timestamp             \n",
       "2018-11-23                   54575.38\n",
       "2018-11-24                  183552.70"
      ]
     },
     "execution_count": 5,
     "metadata": {},
     "output_type": "execute_result"
    }
   ],
   "source": [
    "# 11월 23일과 24일 순 매출 비교\n",
    "\n",
    "# Adjust the revenue calculation by considering the quantity of each item sold ('Order_item_id' as quantity)\n",
    "# Calculate total price by multiplying price with quantity ('Order_item_id')\n",
    "dates_data['Revenue'] = dates_data['Price'] * dates_data['Order_item_id']\n",
    "\n",
    "# Calculate the net revenue again for 2018-11-23 and 2018-11-24, considering 'Revenue' column\n",
    "net_revenue_adjusted = dates_data.groupby([dates_data['Order_purchase_timestamp'].dt.date, 'Order_status'])['Revenue'].sum().unstack().fillna(0)\n",
    "\n",
    "# Adjust net revenue considering only 'delivered' status\n",
    "net_revenue_adjusted['Net_Revenue'] = net_revenue_adjusted.get('delivered', 0)  # Assuming 'delivered' is the positive revenue-contributing status\n",
    "\n",
    "net_revenue_adjusted[['Net_Revenue']]\n",
    "\n"
   ]
  },
  {
   "cell_type": "markdown",
   "metadata": {},
   "source": [
    "수정된 매출 계산을 통해 얻은 2018년 11월 23일과 11월 24일의 순 매출 결과는 다음과 같습니다:\n",
    "\n",
    "2018년 11월 23일: 순 매출 약 54,575.38원\n",
    "2018년 11월 24일: 순 매출 약 183,552.70원\n",
    "각 주문의 상품 수량(Order_item_id를 수량으로 간주)을 고려한 이번 계산에서도, 11월 24일의 순 매출이 11월 23일에 비해 훨씬 높은 것을 확인할 수 있습니다. 이는 블랙 프라이데이의 영향으로 큰 폭의 매출 증가가 있었음을 다시 한번 확인시켜 줍니다."
   ]
  },
  {
   "cell_type": "code",
   "execution_count": null,
   "metadata": {},
   "outputs": [],
   "source": [
    "# 11월 24일 가장 많이 팔린 상품 카테고리\n",
    "\n",
    "# Merge spike day data with product data to include product category information\n",
    "spike_day_with_categories = pd.merge(spike_day_data, products, on='Product_id')\n",
    "\n",
    "# Calculate the total quantity sold per product category on 2018-11-24\n",
    "top_categories = spike_day_with_categories.groupby('Product_category_name').agg({\n",
    "    'Order_item_id': 'sum'  # Sum of quantities sold\n",
    "}).reset_index().sort_values(by='Order_item_id', ascending=False)\n",
    "\n",
    "top_categories.head()\n"
   ]
  },
  {
   "cell_type": "markdown",
   "metadata": {},
   "source": [
    "2018년 11월 24일, 즉 블랙 프라이데이에 가장 많이 팔린 상품 카테고리는 다음과 같습니다:\n",
    "\n",
    "침구/욕실용품 (bed_bath_table): 총 242개 판매\n",
    "가구/장식 (furniture_decor): 총 217개 판매\n",
    "정원 도구 (garden_tools): 총 121개 판매\n",
    "스포츠/레저 (sports_leisure): 총 107개 판매\n",
    "건강/미용 (health_beauty): 총 98개 판매\n",
    "이 정보는 블랙 프라이데이에 소비자들이 특히 관심을 가졌던 상품 카테고리를 보여주며, 프로모션과 할인이 가장 효과적이었던 분야를 나타냅니다.\n",
    "\n"
   ]
  },
  {
   "cell_type": "code",
   "execution_count": 6,
   "metadata": {},
   "outputs": [
    {
     "data": {
      "text/html": [
       "<div>\n",
       "<style scoped>\n",
       "    .dataframe tbody tr th:only-of-type {\n",
       "        vertical-align: middle;\n",
       "    }\n",
       "\n",
       "    .dataframe tbody tr th {\n",
       "        vertical-align: top;\n",
       "    }\n",
       "\n",
       "    .dataframe thead th {\n",
       "        text-align: right;\n",
       "    }\n",
       "</style>\n",
       "<table border=\"1\" class=\"dataframe\">\n",
       "  <thead>\n",
       "    <tr style=\"text-align: right;\">\n",
       "      <th></th>\n",
       "      <th>Seller_id</th>\n",
       "      <th>Price</th>\n",
       "      <th>All_Time_Revenue</th>\n",
       "    </tr>\n",
       "  </thead>\n",
       "  <tbody>\n",
       "    <tr>\n",
       "      <th>0</th>\n",
       "      <td>SELLER_0062</td>\n",
       "      <td>6079.97</td>\n",
       "      <td>165981.49</td>\n",
       "    </tr>\n",
       "    <tr>\n",
       "      <th>1</th>\n",
       "      <td>SELLER_1667</td>\n",
       "      <td>5934.60</td>\n",
       "      <td>14069.63</td>\n",
       "    </tr>\n",
       "    <tr>\n",
       "      <th>2</th>\n",
       "      <td>SELLER_0417</td>\n",
       "      <td>4459.00</td>\n",
       "      <td>103640.93</td>\n",
       "    </tr>\n",
       "    <tr>\n",
       "      <th>3</th>\n",
       "      <td>SELLER_2423</td>\n",
       "      <td>4442.60</td>\n",
       "      <td>115187.80</td>\n",
       "    </tr>\n",
       "    <tr>\n",
       "      <th>4</th>\n",
       "      <td>SELLER_2194</td>\n",
       "      <td>4383.45</td>\n",
       "      <td>189864.62</td>\n",
       "    </tr>\n",
       "  </tbody>\n",
       "</table>\n",
       "</div>"
      ],
      "text/plain": [
       "     Seller_id    Price  All_Time_Revenue\n",
       "0  SELLER_0062  6079.97         165981.49\n",
       "1  SELLER_1667  5934.60          14069.63\n",
       "2  SELLER_0417  4459.00         103640.93\n",
       "3  SELLER_2423  4442.60         115187.80\n",
       "4  SELLER_2194  4383.45         189864.62"
      ]
     },
     "execution_count": 6,
     "metadata": {},
     "output_type": "execute_result"
    }
   ],
   "source": [
    "# 11월 24일의 top_sellers가 꾸준히 매출을 많이 올렸는지 아니면 24일만 많이 벌은건지\n",
    "\n",
    "# Identify the top sellers from November 24, 2018\n",
    "top_sellers_ids = top_sellers['Seller_id'].tolist()\n",
    "\n",
    "# Filter order_items data for these top sellers throughout all times\n",
    "all_time_top_sellers_data = orders_items_merged[orders_items_merged['Seller_id'].isin(top_sellers_ids)]\n",
    "\n",
    "# Calculate the total revenue for these top sellers outside of November 24, 2018\n",
    "all_time_revenue_by_seller = all_time_top_sellers_data.groupby('Seller_id')['Price'].sum().reset_index()\n",
    "\n",
    "# Compare these revenues to the revenues on November 24, 2018\n",
    "all_time_revenue_by_seller.rename(columns={'Price': 'All_Time_Revenue'}, inplace=True)\n",
    "top_sellers_all_time_comparison = pd.merge(top_sellers, all_time_revenue_by_seller, on='Seller_id')\n",
    "\n",
    "top_sellers_all_time_comparison\n"
   ]
  },
  {
   "cell_type": "markdown",
   "metadata": {},
   "source": [
    "2018년 11월 24일의 매출과 비교해 그날의 상위 셀러들이 원래도 매출이 높았는지 분석한 결과는 다음과 같습니다:\n",
    "\n",
    "SELLER_0062\n",
    "11월 24일 매출: 6,079.97원\n",
    "전체 기간 매출: 165,981.49원\n",
    "SELLER_1667\n",
    "11월 24일 매출: 5,934.60원\n",
    "전체 기간 매출: 14,069.63원\n",
    "SELLER_0417\n",
    "11월 24일 매출: 4,459.00원\n",
    "전체 기간 매출: 103,640.93원\n",
    "SELLER_2423\n",
    "11월 24일 매출: 4,442.60원\n",
    "전체 기간 매출: 115,187.80원\n",
    "SELLER_2194\n",
    "11월 24일 매출: 4,383.45원\n",
    "전체 기간 매출: 189,864.62원\n",
    "이 데이터를 통해 볼 때, 대부분의 셀러들은 일반적으로도 높은 매출을 기록하는 셀러들입니다. 특히 SELLER_0062, SELLER_0417, SELLER_2423, SELLER_2194는 상당히 높은 총 매출을 보이고 있습니다. 다만, SELLER_1667의 경우에는 그날의 매출이 전체 기간 대비 상당히 높은 비중을 차지하고 있어, 11월 24일에 특별히 높은 매출을 올린 것으로 보입니다.\n",
    "\n"
   ]
  },
  {
   "cell_type": "code",
   "execution_count": 7,
   "metadata": {},
   "outputs": [
    {
     "data": {
      "text/html": [
       "<div>\n",
       "<style scoped>\n",
       "    .dataframe tbody tr th:only-of-type {\n",
       "        vertical-align: middle;\n",
       "    }\n",
       "\n",
       "    .dataframe tbody tr th {\n",
       "        vertical-align: top;\n",
       "    }\n",
       "\n",
       "    .dataframe thead th {\n",
       "        text-align: right;\n",
       "    }\n",
       "</style>\n",
       "<table border=\"1\" class=\"dataframe\">\n",
       "  <thead>\n",
       "    <tr style=\"text-align: right;\">\n",
       "      <th></th>\n",
       "      <th>Product_category_name</th>\n",
       "      <th>Order_item_id</th>\n",
       "    </tr>\n",
       "  </thead>\n",
       "  <tbody>\n",
       "    <tr>\n",
       "      <th>0</th>\n",
       "      <td>agro_industry_and_commerce</td>\n",
       "      <td>9</td>\n",
       "    </tr>\n",
       "    <tr>\n",
       "      <th>1</th>\n",
       "      <td>computers_accessories</td>\n",
       "      <td>8</td>\n",
       "    </tr>\n",
       "    <tr>\n",
       "      <th>2</th>\n",
       "      <td>industry_commerce_and_business</td>\n",
       "      <td>1</td>\n",
       "    </tr>\n",
       "  </tbody>\n",
       "</table>\n",
       "</div>"
      ],
      "text/plain": [
       "            Product_category_name  Order_item_id\n",
       "0      agro_industry_and_commerce              9\n",
       "1           computers_accessories              8\n",
       "2  industry_commerce_and_business              1"
      ]
     },
     "execution_count": 7,
     "metadata": {},
     "output_type": "execute_result"
    }
   ],
   "source": [
    "# seller 1667이 다루는 품목은?\n",
    "\n",
    "# Filter data for SELLER_1667 to see what products they are selling\n",
    "seller_1667_products = orders_items_merged[orders_items_merged['Seller_id'] == 'SELLER_1667']\n",
    "\n",
    "# Merge with product data to get product category information\n",
    "seller_1667_product_categories = pd.merge(seller_1667_products, products, on='Product_id')\n",
    "\n",
    "# Group by product category to see the distribution of products sold by SELLER_1667\n",
    "seller_1667_product_categories_summary = seller_1667_product_categories.groupby('Product_category_name')['Order_item_id'].count().reset_index().sort_values(by='Order_item_id', ascending=False)\n",
    "\n",
    "seller_1667_product_categories_summary\n"
   ]
  },
  {
   "cell_type": "markdown",
   "metadata": {},
   "source": [
    "SELLER_1667이 다루는 품목은 다음과 같습니다:\n",
    "\n",
    "농업 산업 및 상업 (agro_industry_and_commerce): 9개 판매\n",
    "컴퓨터 액세서리 (computers_accessories): 8개 판매\n",
    "산업, 상업 및 비즈니스 (industry_commerce_and_business): 1개 판매\n",
    "이 데이터는 SELLER_1667이 주로 농업 및 산업 관련 제품과 컴퓨터 액세서리를 판매하고 있음을 보여줍니다. 이 셀러는 특정 산업 관련 제품군에 초점을 맞추고 있는 것으로 보입니다"
   ]
  },
  {
   "cell_type": "code",
   "execution_count": null,
   "metadata": {},
   "outputs": [],
   "source": []
  }
 ],
 "metadata": {
  "kernelspec": {
   "display_name": "base",
   "language": "python",
   "name": "python3"
  },
  "language_info": {
   "codemirror_mode": {
    "name": "ipython",
    "version": 3
   },
   "file_extension": ".py",
   "mimetype": "text/x-python",
   "name": "python",
   "nbconvert_exporter": "python",
   "pygments_lexer": "ipython3",
   "version": "3.11.7"
  }
 },
 "nbformat": 4,
 "nbformat_minor": 2
}
