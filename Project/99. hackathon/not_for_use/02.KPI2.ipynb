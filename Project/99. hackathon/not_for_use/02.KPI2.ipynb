{
 "cells": [
  {
   "cell_type": "markdown",
   "metadata": {},
   "source": [
    "### 저렴한 물건을 많이 파는게 좋을지, 비싼 물건을 적게 파는게 좋을지"
   ]
  },
  {
   "cell_type": "code",
   "execution_count": 15,
   "metadata": {},
   "outputs": [],
   "source": [
    "# 필요한 라이브러리 로드\n",
    "\n",
    "import pandas as pd\n",
    "import seaborn as sns\n",
    "import matplotlib.pyplot as plt"
   ]
  },
  {
   "cell_type": "code",
   "execution_count": 2,
   "metadata": {},
   "outputs": [
    {
     "data": {
      "text/plain": [
       "(      Product_id Product_category_name Product_weight_g Product_length_cm  \\\n",
       " 0  PRODUCT_00000             perfumery            225.0              16.0   \n",
       " 1  PRODUCT_00001                  arts           1000.0              30.0   \n",
       " 2  PRODUCT_00002        sports_leisure            154.0              18.0   \n",
       " 3  PRODUCT_00003        home_utilities            625.0              20.0   \n",
       " 4  PRODUCT_00004   musical_instruments            200.0              38.0   \n",
       " \n",
       "   Product_height_cm Product_width_cm  \n",
       " 0              10.0             14.0  \n",
       " 1              18.0             20.0  \n",
       " 2               9.0             15.0  \n",
       " 3              17.0             13.0  \n",
       " 4               5.0             11.0  ,\n",
       "       Order_id  Order_item_id     Product_id    Seller_id  Price  \\\n",
       " 0  ORDER_75477              1  PRODUCT_23128  SELLER_0452   58.9   \n",
       " 1  ORDER_63604              1  PRODUCT_24351  SELLER_0414  239.9   \n",
       " 2  ORDER_05566              1  PRODUCT_20226  SELLER_1637  199.0   \n",
       " 3  ORDER_04632              1  PRODUCT_07878  SELLER_1445  199.9   \n",
       " 4  ORDER_61452              1  PRODUCT_03505  SELLER_0581   21.9   \n",
       " \n",
       "    Freight_value  \n",
       " 0          13.29  \n",
       " 1          19.93  \n",
       " 2          17.87  \n",
       " 3          18.14  \n",
       " 4          12.69  )"
      ]
     },
     "execution_count": 2,
     "metadata": {},
     "output_type": "execute_result"
    }
   ],
   "source": [
    "# csv 데이터 로드\n",
    "\n",
    "products = pd.read_csv('./data_in/products.csv')\n",
    "order_items = pd.read_csv('./data_in/order_items.csv')\n",
    "\n",
    "# 데이터 정상적으로 로드 되었는 지 확인\n",
    "\n",
    "products.head(), order_items.head()"
   ]
  },
  {
   "cell_type": "code",
   "execution_count": 14,
   "metadata": {},
   "outputs": [
    {
     "ename": "IndexError",
     "evalue": "invalid index to scalar variable.",
     "output_type": "error",
     "traceback": [
      "\u001b[1;31m---------------------------------------------------------------------------\u001b[0m",
      "\u001b[1;31mIndexError\u001b[0m                                Traceback (most recent call last)",
      "Cell \u001b[1;32mIn[14], line 34\u001b[0m\n\u001b[0;32m     30\u001b[0m expensive_products_revenue \u001b[38;5;241m=\u001b[39m product_sales[product_sales[\u001b[38;5;124m'\u001b[39m\u001b[38;5;124mAverage_Price_Per_Unit\u001b[39m\u001b[38;5;124m'\u001b[39m] \u001b[38;5;241m>\u001b[39m\u001b[38;5;241m=\u001b[39m expensive_threshold][\u001b[38;5;124m'\u001b[39m\u001b[38;5;124mTotal_Revenue\u001b[39m\u001b[38;5;124m'\u001b[39m]\u001b[38;5;241m.\u001b[39msum()\n\u001b[0;32m     32\u001b[0m \u001b[38;5;66;03m# 각 그룹의 총 매출과 총 판매 상품 수의 평균을 계산 **\u001b[39;00m\n\u001b[1;32m---> 34\u001b[0m average_top_30_revenue \u001b[38;5;241m=\u001b[39m \u001b[43mexpensive_products_revenue\u001b[49m\u001b[43m[\u001b[49m\u001b[38;5;124;43m'\u001b[39;49m\u001b[38;5;124;43mTotal_Revenue\u001b[39;49m\u001b[38;5;124;43m'\u001b[39;49m\u001b[43m]\u001b[49m\u001b[38;5;241m.\u001b[39mmean()\n\u001b[0;32m     35\u001b[0m average_bottom_30_revenue \u001b[38;5;241m=\u001b[39m cheap_products_revenue[\u001b[38;5;124m'\u001b[39m\u001b[38;5;124mTotal_Revenue\u001b[39m\u001b[38;5;124m'\u001b[39m]\u001b[38;5;241m.\u001b[39mmean()\n\u001b[0;32m     36\u001b[0m average_top_30_sold_items \u001b[38;5;241m=\u001b[39m expensive_threshold[\u001b[38;5;124m'\u001b[39m\u001b[38;5;124mTotal_Sold_Items\u001b[39m\u001b[38;5;124m'\u001b[39m]\u001b[38;5;241m.\u001b[39mmean()\n",
      "\u001b[1;31mIndexError\u001b[0m: invalid index to scalar variable."
     ]
    }
   ],
   "source": [
    "# `products`와 `order_items`데이터를 `Product_id`을 기준으로 병합\n",
    "\n",
    "merged_data = pd.merge(order_items, products, on='Product_id')\n",
    "\n",
    "# `Price`를 계산을 위해 숫자형 데이터로 타입을 변경\n",
    "\n",
    "merged_data['Price'] = merged_data['Price'].astype(float)\n",
    "\n",
    "# 판매자셜 평균 판매 가격 계산\n",
    "\n",
    "product_sales = merged_data.groupby('Product_id').agg({\n",
    "    'Order_item_id': 'count',  # 총 판매 상품량 집계\n",
    "    'Price': ['sum', 'mean']  # 상품당 매출의 합과 평균 계산\n",
    "}).reset_index()\n",
    "\n",
    "product_sales.columns = ['Product_id', 'Total_Quantity_Sold', 'Total_Revenue', 'Average_Price_Per_Unit']\n",
    "\n",
    "# 어떤 카테고리가 매출을 더 많이 만들어 내는 지 확인 위해 `Total_Revenue`를 기준으로 정렬\n",
    "\n",
    "product_sales.sort_values(by='Total_Revenue', ascending=False, inplace=True)\n",
    "\n",
    "# 상품의 평균 가격 상위, 하위 임계값 25%로 설정\n",
    "\n",
    "cheap_threshold = product_sales['Average_Price_Per_Unit'].quantile(0.25)\n",
    "expensive_threshold = product_sales['Average_Price_Per_Unit'].quantile(0.75)\n",
    "\n",
    "# 임계값을 기준으로 판매자 그룹화\n",
    "\n",
    "cheap_products_revenue = product_sales[product_sales['Average_Price_Per_Unit'] <= cheap_threshold]['Total_Revenue'].sum()\n",
    "expensive_products_revenue = product_sales[product_sales['Average_Price_Per_Unit'] >= expensive_threshold]['Total_Revenue'].sum()\n",
    "\n",
    "# 각 그룹의 총 매출과 총 판매 상품 수의 평균을 계산 **\n",
    "\n",
    "# average_top_30_revenue = expensive_products_revenue['Total_Revenue'].mean()\n",
    "# average_bottom_30_revenue = cheap_products_revenue['Total_Revenue'].mean()\n",
    "# average_top_30_sold_items = expensive_threshold['Total_Sold_Items'].mean()\n",
    "# average_bottom_30_sold_items = cheap_threshold['Total_Sold_Items'].mean()\n",
    "\n",
    "\n",
    "print(f'저가 상품의 가격은 {cheap_threshold}이고, 고가 상품의 가격은 {expensive_threshold}입니다.', '\\n',\\\n",
    "      f'저가 상품의 매출은 {cheap_products_revenue}이고, 고가 상품의 매출은 {expensive_products_revenue}입니다')"
   ]
  },
  {
   "cell_type": "markdown",
   "metadata": {},
   "source": [
    "분석 결과를 바탕으로, 상품 가격의 하위 25%에 해당하는 '저렴한' 상품은 가격이 39.9 이하이며, 이들의 총 수익은 약 652,478원입니다. 반면, 상위 25%에 해당하는 '비싼' 상품은 가격이 153.825 이상이며, 이들의 총 수익은 약 6,695,970원입니다.\n",
    "\n",
    "이 데이터를 통해 보면, 비싼 상품을 적게 팔아도 저렴한 상품을 많이 팔 때보다 더 많은 수익을 얻을 수 있는 것으로 나타납니다. 따라서 비싼 물건을 적게 파는 전략이 저렴한 물건을 많이 파는 전략보다 더 수익성이 좋은 것으로 분석됩니다."
   ]
  },
  {
   "cell_type": "markdown",
   "metadata": {},
   "source": [
    "### 앞선 질문에 대한 추가 분석: 저렴한 물건을 파는 판매자의 수익이 높을까, 비싼 물건을 파는 판매자의 수익이 높을까?"
   ]
  },
  {
   "cell_type": "code",
   "execution_count": 19,
   "metadata": {},
   "outputs": [
    {
     "name": "stdout",
     "output_type": "stream",
     "text": [
      "        Seller_Type        Price\n",
      "0      Cheap Seller   1971544.99\n",
      "1  Expensive Seller  10077334.16, 상품의 판매 가격의 중앙값은 \"74.9\"입니다\n"
     ]
    }
   ],
   "source": [
    "# 전체 상품의 중앙 가격을 계산\n",
    "\n",
    "overall_median_price = merged_data['Price'].median()\n",
    "\n",
    "# 판매자별 평균 상품 가격을 계산하여 중앙값보다 높은 가격을 가진 판매자를 'Expensive Seller'로, 낮은 가격을 가진 판매자를 'Cheap Seller'로 분류\n",
    "# ** 위에선 상위 25%, 하위 25%를 잡았는데 여기는 중앙값을 잡아서 수정이 필요해요\n",
    "\n",
    "seller_average_price = merged_data.groupby('Seller_id')['Price'].mean().reset_index()\n",
    "seller_average_price['Seller_Type'] = seller_average_price['Price'].apply(\n",
    "    lambda x: 'Expensive Seller' if x > overall_median_price else 'Cheap Seller'\n",
    ")\n",
    "\n",
    "# 분류된 판매자별 매출을 보기 위해 `merged_data`와 병합\n",
    "\n",
    "merged_data_with_seller_type = pd.merge(merged_data, seller_average_price[['Seller_id', 'Seller_Type']], on='Seller_id')\n",
    "\n",
    "# 셀러 타입별 총 매출을 계산 ** 여기선 Price의 합을 총 매출로 계산하고 있기에 수정이 필요해요\n",
    "\n",
    "total_revenue_per_seller_type = merged_data_with_seller_type.groupby('Seller_Type')['Price'].sum().reset_index()\n",
    "\n",
    "print(f'{total_revenue_per_seller_type}, 상품의 판매 가격의 중앙값은 \"{overall_median_price}\"입니다')\n"
   ]
  },
  {
   "cell_type": "markdown",
   "metadata": {},
   "source": [
    "분석 결과, 전체 상품의 중앙 가격은 74.9입니다. 이를 기준으로 셀러를 분류한 결과:\n",
    "\n",
    "저렴한 물건을 파는 셀러('Cheap Seller')의 총 수익은 약 1,971,545원입니다.\n",
    "비싼 물건을 파는 셀러('Expensive Seller')의 총 수익은 약 10,077,334원입니다.\n",
    "이 데이터를 통해 보면, 비싼 물건을 파는 셀러들이 저렴한 물건을 파는 셀러들보다 훨씬 높은 수익을 올리고 있는 것으로 나타납니다. 따라서 판매 전략을 수립할 때, 비싼 상품을 중심으로 하는 것이 더 유리할 수 있습니다."
   ]
  },
  {
   "cell_type": "code",
   "execution_count": 20,
   "metadata": {},
   "outputs": [
    {
     "ename": "KeyError",
     "evalue": "\"None of [Index(['Average_Price', 'Total_Revenue'], dtype='object')] are in the [columns]\"",
     "output_type": "error",
     "traceback": [
      "\u001b[1;31m---------------------------------------------------------------------------\u001b[0m",
      "\u001b[1;31mKeyError\u001b[0m                                  Traceback (most recent call last)",
      "Cell \u001b[1;32mIn[20], line 3\u001b[0m\n\u001b[0;32m      1\u001b[0m \u001b[38;5;66;03m# 취급 품목의 평균 가격과 총 매출간의 상관계수 계산\u001b[39;00m\n\u001b[1;32m----> 3\u001b[0m price_revenue_correlation \u001b[38;5;241m=\u001b[39m \u001b[43mtotal_revenue_per_seller_type\u001b[49m\u001b[43m[\u001b[49m\u001b[43m[\u001b[49m\u001b[38;5;124;43m'\u001b[39;49m\u001b[38;5;124;43mAverage_Price\u001b[39;49m\u001b[38;5;124;43m'\u001b[39;49m\u001b[43m,\u001b[49m\u001b[43m \u001b[49m\u001b[38;5;124;43m'\u001b[39;49m\u001b[38;5;124;43mTotal_Revenue\u001b[39;49m\u001b[38;5;124;43m'\u001b[39;49m\u001b[43m]\u001b[49m\u001b[43m]\u001b[49m\u001b[38;5;241m.\u001b[39mcorr()\n\u001b[0;32m      5\u001b[0m \u001b[38;5;66;03m# 상관관계를 히트맵으로 시각화\u001b[39;00m\n\u001b[0;32m      7\u001b[0m plt\u001b[38;5;241m.\u001b[39mfigure(figsize\u001b[38;5;241m=\u001b[39m(\u001b[38;5;241m6\u001b[39m, \u001b[38;5;241m4\u001b[39m))\n",
      "File \u001b[1;32mc:\\Users\\USER\\AppData\\Local\\Programs\\Python\\Python312\\Lib\\site-packages\\pandas\\core\\frame.py:4096\u001b[0m, in \u001b[0;36mDataFrame.__getitem__\u001b[1;34m(self, key)\u001b[0m\n\u001b[0;32m   4094\u001b[0m     \u001b[38;5;28;01mif\u001b[39;00m is_iterator(key):\n\u001b[0;32m   4095\u001b[0m         key \u001b[38;5;241m=\u001b[39m \u001b[38;5;28mlist\u001b[39m(key)\n\u001b[1;32m-> 4096\u001b[0m     indexer \u001b[38;5;241m=\u001b[39m \u001b[38;5;28;43mself\u001b[39;49m\u001b[38;5;241;43m.\u001b[39;49m\u001b[43mcolumns\u001b[49m\u001b[38;5;241;43m.\u001b[39;49m\u001b[43m_get_indexer_strict\u001b[49m\u001b[43m(\u001b[49m\u001b[43mkey\u001b[49m\u001b[43m,\u001b[49m\u001b[43m \u001b[49m\u001b[38;5;124;43m\"\u001b[39;49m\u001b[38;5;124;43mcolumns\u001b[39;49m\u001b[38;5;124;43m\"\u001b[39;49m\u001b[43m)\u001b[49m[\u001b[38;5;241m1\u001b[39m]\n\u001b[0;32m   4098\u001b[0m \u001b[38;5;66;03m# take() does not accept boolean indexers\u001b[39;00m\n\u001b[0;32m   4099\u001b[0m \u001b[38;5;28;01mif\u001b[39;00m \u001b[38;5;28mgetattr\u001b[39m(indexer, \u001b[38;5;124m\"\u001b[39m\u001b[38;5;124mdtype\u001b[39m\u001b[38;5;124m\"\u001b[39m, \u001b[38;5;28;01mNone\u001b[39;00m) \u001b[38;5;241m==\u001b[39m \u001b[38;5;28mbool\u001b[39m:\n",
      "File \u001b[1;32mc:\\Users\\USER\\AppData\\Local\\Programs\\Python\\Python312\\Lib\\site-packages\\pandas\\core\\indexes\\base.py:6200\u001b[0m, in \u001b[0;36mIndex._get_indexer_strict\u001b[1;34m(self, key, axis_name)\u001b[0m\n\u001b[0;32m   6197\u001b[0m \u001b[38;5;28;01melse\u001b[39;00m:\n\u001b[0;32m   6198\u001b[0m     keyarr, indexer, new_indexer \u001b[38;5;241m=\u001b[39m \u001b[38;5;28mself\u001b[39m\u001b[38;5;241m.\u001b[39m_reindex_non_unique(keyarr)\n\u001b[1;32m-> 6200\u001b[0m \u001b[38;5;28;43mself\u001b[39;49m\u001b[38;5;241;43m.\u001b[39;49m\u001b[43m_raise_if_missing\u001b[49m\u001b[43m(\u001b[49m\u001b[43mkeyarr\u001b[49m\u001b[43m,\u001b[49m\u001b[43m \u001b[49m\u001b[43mindexer\u001b[49m\u001b[43m,\u001b[49m\u001b[43m \u001b[49m\u001b[43maxis_name\u001b[49m\u001b[43m)\u001b[49m\n\u001b[0;32m   6202\u001b[0m keyarr \u001b[38;5;241m=\u001b[39m \u001b[38;5;28mself\u001b[39m\u001b[38;5;241m.\u001b[39mtake(indexer)\n\u001b[0;32m   6203\u001b[0m \u001b[38;5;28;01mif\u001b[39;00m \u001b[38;5;28misinstance\u001b[39m(key, Index):\n\u001b[0;32m   6204\u001b[0m     \u001b[38;5;66;03m# GH 42790 - Preserve name from an Index\u001b[39;00m\n",
      "File \u001b[1;32mc:\\Users\\USER\\AppData\\Local\\Programs\\Python\\Python312\\Lib\\site-packages\\pandas\\core\\indexes\\base.py:6249\u001b[0m, in \u001b[0;36mIndex._raise_if_missing\u001b[1;34m(self, key, indexer, axis_name)\u001b[0m\n\u001b[0;32m   6247\u001b[0m \u001b[38;5;28;01mif\u001b[39;00m nmissing:\n\u001b[0;32m   6248\u001b[0m     \u001b[38;5;28;01mif\u001b[39;00m nmissing \u001b[38;5;241m==\u001b[39m \u001b[38;5;28mlen\u001b[39m(indexer):\n\u001b[1;32m-> 6249\u001b[0m         \u001b[38;5;28;01mraise\u001b[39;00m \u001b[38;5;167;01mKeyError\u001b[39;00m(\u001b[38;5;124mf\u001b[39m\u001b[38;5;124m\"\u001b[39m\u001b[38;5;124mNone of [\u001b[39m\u001b[38;5;132;01m{\u001b[39;00mkey\u001b[38;5;132;01m}\u001b[39;00m\u001b[38;5;124m] are in the [\u001b[39m\u001b[38;5;132;01m{\u001b[39;00maxis_name\u001b[38;5;132;01m}\u001b[39;00m\u001b[38;5;124m]\u001b[39m\u001b[38;5;124m\"\u001b[39m)\n\u001b[0;32m   6251\u001b[0m     not_found \u001b[38;5;241m=\u001b[39m \u001b[38;5;28mlist\u001b[39m(ensure_index(key)[missing_mask\u001b[38;5;241m.\u001b[39mnonzero()[\u001b[38;5;241m0\u001b[39m]]\u001b[38;5;241m.\u001b[39munique())\n\u001b[0;32m   6252\u001b[0m     \u001b[38;5;28;01mraise\u001b[39;00m \u001b[38;5;167;01mKeyError\u001b[39;00m(\u001b[38;5;124mf\u001b[39m\u001b[38;5;124m\"\u001b[39m\u001b[38;5;132;01m{\u001b[39;00mnot_found\u001b[38;5;132;01m}\u001b[39;00m\u001b[38;5;124m not in index\u001b[39m\u001b[38;5;124m\"\u001b[39m)\n",
      "\u001b[1;31mKeyError\u001b[0m: \"None of [Index(['Average_Price', 'Total_Revenue'], dtype='object')] are in the [columns]\""
     ]
    }
   ],
   "source": [
    "# 취급 품목의 평균 가격과 총 매출간의 상관계수 계산 ** 변수 통일 필요\n",
    "\n",
    "price_revenue_correlation = total_revenue_per_seller_type[['Average_Price', 'Total_Revenue']].corr()\n",
    "\n",
    "# 상관관계를 히트맵으로 시각화\n",
    "\n",
    "plt.figure(figsize=(6, 4))\n",
    "heatmap = sns.heatmap(price_revenue_correlation, annot=True, fmt=\".2f\", cmap='coolwarm')\n",
    "plt.title('Correlation between Average Selling Price and Total Revenue')\n",
    "# plt 한글 모듈 로드 코드 추가 후 한글 타이틀로 변경 **\n",
    "# plt.title('취급 품목의 평균 판매 가격과 총 매출간의 상관계수')\n",
    "\n",
    "plt.show()\n",
    "\n",
    "# 상관계수 확인\n",
    "print(price_revenue_correlation)"
   ]
  },
  {
   "cell_type": "markdown",
   "metadata": {},
   "source": [
    "### 결과 :\n",
    "상품의 가격과 Revenue 사이의 상관계수는 약 0.093. 매우 약한 상관관계.\n",
    "단순히 취급하는 상품의 가격이 높다 해서 Revenue에 영향을 끼치는 것은 아님."
   ]
  }
 ],
 "metadata": {
  "kernelspec": {
   "display_name": "base",
   "language": "python",
   "name": "python3"
  },
  "language_info": {
   "codemirror_mode": {
    "name": "ipython",
    "version": 3
   },
   "file_extension": ".py",
   "mimetype": "text/x-python",
   "name": "python",
   "nbconvert_exporter": "python",
   "pygments_lexer": "ipython3",
   "version": "3.12.2"
  }
 },
 "nbformat": 4,
 "nbformat_minor": 2
}
