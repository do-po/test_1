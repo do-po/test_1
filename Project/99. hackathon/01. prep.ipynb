{
 "cells": [
  {
   "cell_type": "markdown",
   "metadata": {},
   "source": [
    "# 데이터 로드"
   ]
  },
  {
   "cell_type": "code",
   "execution_count": 1,
   "metadata": {},
   "outputs": [],
   "source": [
    "import pandas as pd\n",
    "import numpy as np\n",
    "import matplotlib.pyplot as plt\n",
    "import seaborn as sns\n",
    "\n",
    "from datetime import datetime\n",
    "\n",
    "import warnings\n",
    "warnings.simplefilter(action='ignore', category=FutureWarning)\n",
    "\n",
    "plt.style.use(\"ggplot\")\n",
    "plt.rc('font', family='NanumGothic')"
   ]
  },
  {
   "cell_type": "code",
   "execution_count": 2,
   "metadata": {},
   "outputs": [],
   "source": [
    "customer = pd.read_csv('./data_in/customers.csv')\n",
    "location = pd.read_csv('./data_in/locations.csv')\n",
    "order_items = pd.read_csv('./data_in/order_items.csv')\n",
    "orders = pd.read_csv('./data_in/orders.csv')\n",
    "payments = pd.read_csv('./data_in/payments.csv')\n",
    "product = pd.read_csv('./data_in/products.csv')\n",
    "review = pd.read_csv('./data_in/reviews.csv')\n",
    "seller = pd.read_csv('./data_in/sellers.csv')"
   ]
  },
  {
   "cell_type": "code",
   "execution_count": null,
   "metadata": {},
   "outputs": [],
   "source": [
    "# order_items, orders, sellers\n",
    "orders"
   ]
  },
  {
   "cell_type": "code",
   "execution_count": null,
   "metadata": {},
   "outputs": [],
   "source": [
    "order_items"
   ]
  },
  {
   "cell_type": "code",
   "execution_count": null,
   "metadata": {},
   "outputs": [],
   "source": [
    "seller"
   ]
  },
  {
   "cell_type": "code",
   "execution_count": 9,
   "metadata": {},
   "outputs": [
    {
     "data": {
      "text/html": [
       "<div>\n",
       "<style scoped>\n",
       "    .dataframe tbody tr th:only-of-type {\n",
       "        vertical-align: middle;\n",
       "    }\n",
       "\n",
       "    .dataframe tbody tr th {\n",
       "        vertical-align: top;\n",
       "    }\n",
       "\n",
       "    .dataframe thead th {\n",
       "        text-align: right;\n",
       "    }\n",
       "</style>\n",
       "<table border=\"1\" class=\"dataframe\">\n",
       "  <thead>\n",
       "    <tr style=\"text-align: right;\">\n",
       "      <th></th>\n",
       "      <th>Product_id</th>\n",
       "      <th>Product_category_name</th>\n",
       "      <th>Product_weight_g</th>\n",
       "      <th>Product_length_cm</th>\n",
       "      <th>Product_height_cm</th>\n",
       "      <th>Product_width_cm</th>\n",
       "    </tr>\n",
       "  </thead>\n",
       "  <tbody>\n",
       "    <tr>\n",
       "      <th>0</th>\n",
       "      <td>PRODUCT_00000</td>\n",
       "      <td>perfumery</td>\n",
       "      <td>225.0</td>\n",
       "      <td>16.0</td>\n",
       "      <td>10.0</td>\n",
       "      <td>14.0</td>\n",
       "    </tr>\n",
       "    <tr>\n",
       "      <th>1</th>\n",
       "      <td>PRODUCT_00001</td>\n",
       "      <td>arts</td>\n",
       "      <td>1000.0</td>\n",
       "      <td>30.0</td>\n",
       "      <td>18.0</td>\n",
       "      <td>20.0</td>\n",
       "    </tr>\n",
       "    <tr>\n",
       "      <th>2</th>\n",
       "      <td>PRODUCT_00002</td>\n",
       "      <td>sports_leisure</td>\n",
       "      <td>154.0</td>\n",
       "      <td>18.0</td>\n",
       "      <td>9.0</td>\n",
       "      <td>15.0</td>\n",
       "    </tr>\n",
       "    <tr>\n",
       "      <th>3</th>\n",
       "      <td>PRODUCT_00003</td>\n",
       "      <td>home_utilities</td>\n",
       "      <td>625.0</td>\n",
       "      <td>20.0</td>\n",
       "      <td>17.0</td>\n",
       "      <td>13.0</td>\n",
       "    </tr>\n",
       "    <tr>\n",
       "      <th>4</th>\n",
       "      <td>PRODUCT_00004</td>\n",
       "      <td>musical_instruments</td>\n",
       "      <td>200.0</td>\n",
       "      <td>38.0</td>\n",
       "      <td>5.0</td>\n",
       "      <td>11.0</td>\n",
       "    </tr>\n",
       "    <tr>\n",
       "      <th>...</th>\n",
       "      <td>...</td>\n",
       "      <td>...</td>\n",
       "      <td>...</td>\n",
       "      <td>...</td>\n",
       "      <td>...</td>\n",
       "      <td>...</td>\n",
       "    </tr>\n",
       "    <tr>\n",
       "      <th>29466</th>\n",
       "      <td>PRODUCT_29466</td>\n",
       "      <td>furniture_decor</td>\n",
       "      <td>12300.0</td>\n",
       "      <td>40.0</td>\n",
       "      <td>40.0</td>\n",
       "      <td>40.0</td>\n",
       "    </tr>\n",
       "    <tr>\n",
       "      <th>29467</th>\n",
       "      <td>PRODUCT_29467</td>\n",
       "      <td>construction_tools_lighting</td>\n",
       "      <td>1700.0</td>\n",
       "      <td>16.0</td>\n",
       "      <td>19.0</td>\n",
       "      <td>16.0</td>\n",
       "    </tr>\n",
       "    <tr>\n",
       "      <th>29468</th>\n",
       "      <td>PRODUCT_29468</td>\n",
       "      <td>bed_bath_table</td>\n",
       "      <td>1400.0</td>\n",
       "      <td>27.0</td>\n",
       "      <td>7.0</td>\n",
       "      <td>27.0</td>\n",
       "    </tr>\n",
       "    <tr>\n",
       "      <th>29469</th>\n",
       "      <td>PRODUCT_29469</td>\n",
       "      <td>computers_accessories</td>\n",
       "      <td>700.0</td>\n",
       "      <td>31.0</td>\n",
       "      <td>13.0</td>\n",
       "      <td>20.0</td>\n",
       "    </tr>\n",
       "    <tr>\n",
       "      <th>29470</th>\n",
       "      <td>PRODUCT_29470</td>\n",
       "      <td>bed_bath_table</td>\n",
       "      <td>2083.0</td>\n",
       "      <td>12.0</td>\n",
       "      <td>2.0</td>\n",
       "      <td>7.0</td>\n",
       "    </tr>\n",
       "  </tbody>\n",
       "</table>\n",
       "<p>29471 rows × 6 columns</p>\n",
       "</div>"
      ],
      "text/plain": [
       "          Product_id        Product_category_name Product_weight_g  \\\n",
       "0      PRODUCT_00000                    perfumery            225.0   \n",
       "1      PRODUCT_00001                         arts           1000.0   \n",
       "2      PRODUCT_00002               sports_leisure            154.0   \n",
       "3      PRODUCT_00003               home_utilities            625.0   \n",
       "4      PRODUCT_00004          musical_instruments            200.0   \n",
       "...              ...                          ...              ...   \n",
       "29466  PRODUCT_29466              furniture_decor          12300.0   \n",
       "29467  PRODUCT_29467  construction_tools_lighting           1700.0   \n",
       "29468  PRODUCT_29468               bed_bath_table           1400.0   \n",
       "29469  PRODUCT_29469        computers_accessories            700.0   \n",
       "29470  PRODUCT_29470               bed_bath_table           2083.0   \n",
       "\n",
       "      Product_length_cm Product_height_cm Product_width_cm  \n",
       "0                  16.0              10.0             14.0  \n",
       "1                  30.0              18.0             20.0  \n",
       "2                  18.0               9.0             15.0  \n",
       "3                  20.0              17.0             13.0  \n",
       "4                  38.0               5.0             11.0  \n",
       "...                 ...               ...              ...  \n",
       "29466              40.0              40.0             40.0  \n",
       "29467              16.0              19.0             16.0  \n",
       "29468              27.0               7.0             27.0  \n",
       "29469              31.0              13.0             20.0  \n",
       "29470              12.0               2.0              7.0  \n",
       "\n",
       "[29471 rows x 6 columns]"
      ]
     },
     "execution_count": 9,
     "metadata": {},
     "output_type": "execute_result"
    }
   ],
   "source": [
    "product"
   ]
  },
  {
   "cell_type": "code",
   "execution_count": 5,
   "metadata": {},
   "outputs": [],
   "source": [
    "total = pd.merge(order_items, orders, how= 'left', on= 'Order_id')"
   ]
  },
  {
   "cell_type": "code",
   "execution_count": 6,
   "metadata": {},
   "outputs": [],
   "source": [
    "total = pd.merge(total, seller, how= 'left', on= 'Seller_id')"
   ]
  },
  {
   "cell_type": "code",
   "execution_count": 10,
   "metadata": {},
   "outputs": [],
   "source": [
    "total = pd.merge(total, product, how= 'left', on= 'Product_id')"
   ]
  },
  {
   "cell_type": "code",
   "execution_count": 11,
   "metadata": {},
   "outputs": [],
   "source": [
    "total.to_csv('./data_in/total_df.csv')"
   ]
  },
  {
   "cell_type": "code",
   "execution_count": null,
   "metadata": {},
   "outputs": [],
   "source": []
  }
 ],
 "metadata": {
  "kernelspec": {
   "display_name": "Python 3",
   "language": "python",
   "name": "python3"
  },
  "language_info": {
   "codemirror_mode": {
    "name": "ipython",
    "version": 3
   },
   "file_extension": ".py",
   "mimetype": "text/x-python",
   "name": "python",
   "nbconvert_exporter": "python",
   "pygments_lexer": "ipython3",
   "version": "3.12.2"
  }
 },
 "nbformat": 4,
 "nbformat_minor": 2
}
