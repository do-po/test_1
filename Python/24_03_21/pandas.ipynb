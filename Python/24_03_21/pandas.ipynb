{
 "cells": [
  {
   "cell_type": "code",
   "execution_count": 1,
   "metadata": {},
   "outputs": [
    {
     "data": {
      "text/plain": [
       "33"
      ]
     },
     "execution_count": 1,
     "metadata": {},
     "output_type": "execute_result"
    }
   ],
   "source": [
    "## 라이브러리 로드\n",
    "\n",
    "import pandas as pd\n"
   ]
  },
  {
   "cell_type": "code",
   "execution_count": 2,
   "metadata": {},
   "outputs": [],
   "source": [
    "## 1차원 데이터 형이 Series를 생성\n",
    "\n",
    "pd_series = pd.Series(\n",
    "    [5000, 6000, 6500, 6500]\n",
    ")"
   ]
  },
  {
   "cell_type": "code",
   "execution_count": 3,
   "metadata": {},
   "outputs": [
    {
     "name": "stdout",
     "output_type": "stream",
     "text": [
      "0    5000\n",
      "1    6000\n",
      "2    6500\n",
      "3    6500\n",
      "dtype: int64\n"
     ]
    }
   ],
   "source": [
    "print(pd_series)"
   ]
  },
  {
   "cell_type": "code",
   "execution_count": 5,
   "metadata": {},
   "outputs": [
    {
     "name": "stdout",
     "output_type": "stream",
     "text": [
      "아메리카노    5000\n",
      "카페라떼     6000\n",
      "카페모카     6500\n",
      "카푸치노     6500\n",
      "dtype: int64\n"
     ]
    }
   ],
   "source": [
    "pd_series2 = pd.Series(\n",
    "    [5000, 6000, 6500, 6500], \n",
    "    index = ['아메리카노', '카페라떼', '카페모카', '카푸치노'] # index 값을 지정할 때는 value와 index의 구조(개수)를 같게 만들어야 한다\n",
    ")\n",
    "\n",
    "print(pd_series2)"
   ]
  },
  {
   "cell_type": "code",
   "execution_count": 7,
   "metadata": {},
   "outputs": [
    {
     "name": "stdout",
     "output_type": "stream",
     "text": [
      "Series의 values =  [5000 6000 6500 6500]\n",
      "Series의 index =  Index(['아메리카노', '카페라떼', '카페모카', '카푸치노'], dtype='object')\n"
     ]
    }
   ],
   "source": [
    "# Series 형태의 데이터(Class)는 내부에 적어도 2개의 변수를 가진다\n",
    "    # values, index\n",
    "\n",
    "print('Series의 values = ', pd_series2.values)\n",
    "print('Series의 index = ', pd_series2.index)"
   ]
  },
  {
   "cell_type": "code",
   "execution_count": 10,
   "metadata": {},
   "outputs": [],
   "source": [
    "pd_series.index = ['대입1', '대입2', '대입3', '대입4'] # index가 지정되지 않았던 Series에 index 값 지정 (변수에 데이터 지정)"
   ]
  },
  {
   "cell_type": "code",
   "execution_count": 11,
   "metadata": {},
   "outputs": [
    {
     "data": {
      "text/plain": [
       "대입1    5000\n",
       "대입2    6000\n",
       "대입3    6500\n",
       "대입4    6500\n",
       "dtype: int64"
      ]
     },
     "execution_count": 11,
     "metadata": {},
     "output_type": "execute_result"
    }
   ],
   "source": [
    "pd_series # 확인"
   ]
  },
  {
   "cell_type": "code",
   "execution_count": 12,
   "metadata": {},
   "outputs": [],
   "source": [
    "values = [\n",
    "    [1, 2, 6],\n",
    "    [3, 4, 1],\n",
    "    [6, 8, 3]\n",
    "]\n",
    "\n",
    "df = pd.DataFrame(values)"
   ]
  },
  {
   "cell_type": "code",
   "execution_count": 13,
   "metadata": {},
   "outputs": [
    {
     "data": {
      "text/html": [
       "<div>\n",
       "<style scoped>\n",
       "    .dataframe tbody tr th:only-of-type {\n",
       "        vertical-align: middle;\n",
       "    }\n",
       "\n",
       "    .dataframe tbody tr th {\n",
       "        vertical-align: top;\n",
       "    }\n",
       "\n",
       "    .dataframe thead th {\n",
       "        text-align: right;\n",
       "    }\n",
       "</style>\n",
       "<table border=\"1\" class=\"dataframe\">\n",
       "  <thead>\n",
       "    <tr style=\"text-align: right;\">\n",
       "      <th></th>\n",
       "      <th>0</th>\n",
       "      <th>1</th>\n",
       "      <th>2</th>\n",
       "    </tr>\n",
       "  </thead>\n",
       "  <tbody>\n",
       "    <tr>\n",
       "      <th>0</th>\n",
       "      <td>1</td>\n",
       "      <td>2</td>\n",
       "      <td>6</td>\n",
       "    </tr>\n",
       "    <tr>\n",
       "      <th>1</th>\n",
       "      <td>3</td>\n",
       "      <td>4</td>\n",
       "      <td>1</td>\n",
       "    </tr>\n",
       "    <tr>\n",
       "      <th>2</th>\n",
       "      <td>6</td>\n",
       "      <td>8</td>\n",
       "      <td>3</td>\n",
       "    </tr>\n",
       "  </tbody>\n",
       "</table>\n",
       "</div>"
      ],
      "text/plain": [
       "   0  1  2\n",
       "0  1  2  6\n",
       "1  3  4  1\n",
       "2  6  8  3"
      ]
     },
     "execution_count": 13,
     "metadata": {},
     "output_type": "execute_result"
    }
   ],
   "source": [
    "df"
   ]
  },
  {
   "cell_type": "code",
   "execution_count": 14,
   "metadata": {},
   "outputs": [
    {
     "name": "stdout",
     "output_type": "stream",
     "text": [
      "데이터 프레임의 values =  [[1 2 6]\n",
      " [3 4 1]\n",
      " [6 8 3]]\n",
      "데이터 프레임의 index =  RangeIndex(start=0, stop=3, step=1)\n",
      "데이터 프레임의 columns =  RangeIndex(start=0, stop=3, step=1)\n"
     ]
    }
   ],
   "source": [
    "## 데이터프레임에는 적어도 3개의 변수가 존재\n",
    "    ## values, index, columns\n",
    "\n",
    "print('데이터 프레임의 values = ', df.values)\n",
    "print('데이터 프레임의 index = ', df.index)\n",
    "print('데이터 프레임의 columns = ', df.columns)"
   ]
  },
  {
   "cell_type": "code",
   "execution_count": 15,
   "metadata": {},
   "outputs": [],
   "source": [
    "# column의 이름을 변경\n",
    "\n",
    "df.columns = ['A', 'B', 'C']"
   ]
  },
  {
   "cell_type": "code",
   "execution_count": 16,
   "metadata": {},
   "outputs": [
    {
     "data": {
      "text/html": [
       "<div>\n",
       "<style scoped>\n",
       "    .dataframe tbody tr th:only-of-type {\n",
       "        vertical-align: middle;\n",
       "    }\n",
       "\n",
       "    .dataframe tbody tr th {\n",
       "        vertical-align: top;\n",
       "    }\n",
       "\n",
       "    .dataframe thead th {\n",
       "        text-align: right;\n",
       "    }\n",
       "</style>\n",
       "<table border=\"1\" class=\"dataframe\">\n",
       "  <thead>\n",
       "    <tr style=\"text-align: right;\">\n",
       "      <th></th>\n",
       "      <th>A</th>\n",
       "      <th>B</th>\n",
       "      <th>C</th>\n",
       "    </tr>\n",
       "  </thead>\n",
       "  <tbody>\n",
       "    <tr>\n",
       "      <th>0</th>\n",
       "      <td>1</td>\n",
       "      <td>2</td>\n",
       "      <td>6</td>\n",
       "    </tr>\n",
       "    <tr>\n",
       "      <th>1</th>\n",
       "      <td>3</td>\n",
       "      <td>4</td>\n",
       "      <td>1</td>\n",
       "    </tr>\n",
       "    <tr>\n",
       "      <th>2</th>\n",
       "      <td>6</td>\n",
       "      <td>8</td>\n",
       "      <td>3</td>\n",
       "    </tr>\n",
       "  </tbody>\n",
       "</table>\n",
       "</div>"
      ],
      "text/plain": [
       "   A  B  C\n",
       "0  1  2  6\n",
       "1  3  4  1\n",
       "2  6  8  3"
      ]
     },
     "execution_count": 16,
     "metadata": {},
     "output_type": "execute_result"
    }
   ],
   "source": [
    "df"
   ]
  },
  {
   "cell_type": "code",
   "execution_count": 28,
   "metadata": {},
   "outputs": [
    {
     "data": {
      "text/plain": [
       "\"df = df.rename(index = {2 : 5},\\n          columns= {'B' : 'F'},\\n          inplace= True)라고 사용하면 안됨 ! \""
      ]
     },
     "execution_count": 28,
     "metadata": {},
     "output_type": "execute_result"
    }
   ],
   "source": [
    "# column의 특정 원소를 변경\n",
    "\n",
    "'''df.columns[1] = 'F' '''\n",
    "    # error, Index does not support mutable operations\n",
    "    # 다른 방법을 사용해봐야겠다\n",
    "\n",
    "# colum의 특정 원소를 변경시 rename()\n",
    "    # rename()의 매개변수들\n",
    "        # index : 딕셔너리 형태 인자값을 사용 {기준이 되는 index 값 : 변경할 index의 값}\n",
    "        # columns : 딕셔너리 형태 인자값을 사용 {기준이 되는 column 값 : 변경할 column의 값}\n",
    "df.rename(index = {2 : 5},\n",
    "          columns= {'B' : 'F'}) # 바로 출력됨 == 변경된 값이 대입되지 않음 -> df에 다시 저장\n",
    "\n",
    "        # inplace : bool형 인자값을 사용 (default == False : 데이터를 변경하지 않는다., True : 데이터를 변경한다)\n",
    "            # df를 변경한다는 의미\n",
    "\n",
    "df.rename(index = {2 : 5,\n",
    "                   1 : 3},\n",
    "          columns = {'B' : 'F',\n",
    "                     'A' : 'Q'},\n",
    "          inplace = True) # 변경된 값을 바로 대입함\n",
    "\n",
    "# 주의할 점\n",
    "\n",
    "'''df = df.rename(index = {2 : 5},\n",
    "          columns= {'B' : 'F'},\n",
    "          inplace= True)라고 사용하면 안됨 ! \n",
    "          바꾸는 과정이 df에 들어갔고, 바꾼 결과는 따로 데이터가 출력되지 않았는데\n",
    "          그 결과가 df에 다시 담기게 돼서 df의 데이터가 None으로 나오게 됨'''"
   ]
  },
  {
   "cell_type": "code",
   "execution_count": 29,
   "metadata": {},
   "outputs": [
    {
     "data": {
      "text/html": [
       "<div>\n",
       "<style scoped>\n",
       "    .dataframe tbody tr th:only-of-type {\n",
       "        vertical-align: middle;\n",
       "    }\n",
       "\n",
       "    .dataframe tbody tr th {\n",
       "        vertical-align: top;\n",
       "    }\n",
       "\n",
       "    .dataframe thead th {\n",
       "        text-align: right;\n",
       "    }\n",
       "</style>\n",
       "<table border=\"1\" class=\"dataframe\">\n",
       "  <thead>\n",
       "    <tr style=\"text-align: right;\">\n",
       "      <th></th>\n",
       "      <th>Q</th>\n",
       "      <th>F</th>\n",
       "      <th>C</th>\n",
       "    </tr>\n",
       "  </thead>\n",
       "  <tbody>\n",
       "    <tr>\n",
       "      <th>0</th>\n",
       "      <td>1</td>\n",
       "      <td>2</td>\n",
       "      <td>6</td>\n",
       "    </tr>\n",
       "    <tr>\n",
       "      <th>3</th>\n",
       "      <td>3</td>\n",
       "      <td>4</td>\n",
       "      <td>1</td>\n",
       "    </tr>\n",
       "    <tr>\n",
       "      <th>5</th>\n",
       "      <td>6</td>\n",
       "      <td>8</td>\n",
       "      <td>3</td>\n",
       "    </tr>\n",
       "  </tbody>\n",
       "</table>\n",
       "</div>"
      ],
      "text/plain": [
       "   Q  F  C\n",
       "0  1  2  6\n",
       "3  3  4  1\n",
       "5  6  8  3"
      ]
     },
     "execution_count": 29,
     "metadata": {},
     "output_type": "execute_result"
    }
   ],
   "source": [
    "df"
   ]
  },
  {
   "cell_type": "markdown",
   "metadata": {},
   "source": [
    "#### 외부의 데이터 파일을 로드\n",
    "\n",
    "- csv, tsv\n",
    "    - read_csv(파일의 경로)\n",
    "\n",
    "- json\n",
    "    - read_json(파일의 경로)\n",
    "\n",
    "- excel (xls, xlsx)\n",
    "    - read_excel(파일의 경로)\n",
    "    - 추가로 라이브러리(readxl)를 설치해야 하는 상황이 존재 (excel 파일의 버전 때문)\n",
    "\n",
    "- xml\n",
    "    - read_xml(파일의 경로)\n",
    "\n",
    "- html\n",
    "    - read_html(html로 이루어진 문자형 데이터|파일)\n",
    "    - 웹 구조 중 table로 이루어진 태그를 DataFrame으로 변경\n",
    "\n",
    "- 공통으로 사용하는 매개변수\n",
    "    - encoding \n",
    "        - 데이터 중 한글이 존재할 떄 encoding error가 발생할 수 있다.\n",
    "        - 기본 encoding은 UTF-8로 되어있다.\n",
    "            - 이를 'CP949' | 'EUC-KR'로 변경하면 정상 작동할 것"
   ]
  },
  {
   "cell_type": "code",
   "execution_count": 31,
   "metadata": {},
   "outputs": [],
   "source": [
    "## 외부의 csv 파일을 로드\n",
    "\n",
    "    ## 절대경로를 통해 파일 로드\n",
    "\n",
    "corona = pd.read_csv(r'C:\\Users\\USER\\Documents\\GitHub\\test_1\\csv\\corona.csv') # 앞에 r을 붙여주면 뒤의 내용들을 경로로 인식하게 해줌 (그냥 돌리면 \\ 때문에 error)"
   ]
  },
  {
   "cell_type": "code",
   "execution_count": null,
   "metadata": {},
   "outputs": [],
   "source": []
  }
 ],
 "metadata": {
  "kernelspec": {
   "display_name": "Python 3",
   "language": "python",
   "name": "python3"
  },
  "language_info": {
   "codemirror_mode": {
    "name": "ipython",
    "version": 3
   },
   "file_extension": ".py",
   "mimetype": "text/x-python",
   "name": "python",
   "nbconvert_exporter": "python",
   "pygments_lexer": "ipython3",
   "version": "3.12.2"
  }
 },
 "nbformat": 4,
 "nbformat_minor": 2
}
