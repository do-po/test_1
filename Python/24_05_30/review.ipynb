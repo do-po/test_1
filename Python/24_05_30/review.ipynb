{
 "cells": [
  {
   "cell_type": "markdown",
   "metadata": {},
   "source": [
    "### 복습\n",
    "\n",
    "1. csv 폴더 안에 있는 superstore.xlsx 파일을 로드\n",
    "    - order 시트 로드\n",
    "    - returns 시트 로드\n",
    "\n",
    "2. 1번 과정에서 로드한 두 개의 데이터 프레임을 조인 결합 (left)\n",
    "\n",
    "3. Row ID를 인덱스로 변경\n",
    "\n",
    "4. 컬럼의 이름을 변경\n",
    "    - [주문번호, 주문일자, 배송일자, 배송방식, 고객번호, 고객이름, 고객구분, 국가, 권역, 시/도, 시/군/구, 제품번호, 제품명, 분류1, 분류2, 매출, 판매량, 할인율, 수익, 반품여부]\n",
    "\n",
    "5. 새로운 파생변수 생선 (수익률)\n",
    "    - 수익 / 매출 * 100\n",
    "\n",
    "6. csv 파일로 저장 (superstore.csv)"
   ]
  },
  {
   "cell_type": "code",
   "execution_count": null,
   "metadata": {},
   "outputs": [],
   "source": [
    "# 필요한 라이브러리 로드\n",
    "\n",
    "import pandas as pd"
   ]
  },
  {
   "cell_type": "code",
   "execution_count": null,
   "metadata": {},
   "outputs": [],
   "source": [
    "# 1. csv 폴더 안에 있는 superstore.xlsx 파일을 로드\n",
    "#     - Orders 시트 로드\n",
    "#     - Returns 시트 로드\n",
    "\n",
    "# csv에 넣지 않고 이 폴더에 넣어둔게 있어서 바로 넣었습니다 :>\n",
    "\n",
    "order_table = pd.read_excel('Superstore KR - VizLab 2022.xlsx', sheet_name='Orders')\n",
    "\n",
    "returns_table = pd.read_excel('Superstore KR - VizLab 2022.xlsx', sheet_name='Returns')\n",
    "\n",
    "# 아래는 모든 시트를 가져오는 방법 ( {key = 시트 이름 : value = 시트 내용이 들어간 DataFrame})\n",
    "\n",
    "# total_table = pd.read_excel('Superstore KR - VizLab 2022.xlsx', sheet_name=None)"
   ]
  },
  {
   "cell_type": "code",
   "execution_count": null,
   "metadata": {},
   "outputs": [],
   "source": [
    "# 2. 1번 과정에서 로드한 두 개의 데이터 프레임을 조인 결합 (left)\n",
    "\n",
    "table = pd.merge(order_table, returns_table, how= 'left', on= 'Order ID')"
   ]
  },
  {
   "cell_type": "code",
   "execution_count": null,
   "metadata": {},
   "outputs": [],
   "source": [
    "# 2-1 결측치 No로 바꿔놓기\n",
    "\n",
    "table['Returned'].fillna('No', inplace= True)"
   ]
  },
  {
   "cell_type": "code",
   "execution_count": null,
   "metadata": {},
   "outputs": [],
   "source": [
    "# 3. Row ID를 인덱스로 변경\n",
    "\n",
    "table.set_index('Row ID', inplace= True)"
   ]
  },
  {
   "cell_type": "code",
   "execution_count": null,
   "metadata": {},
   "outputs": [],
   "source": [
    "# 4. 컬럼의 이름을 변경\n",
    "#     - [주문번호, 주문일자, 배송일자, 배송방식, 고객번호, 고객이름, 고객구분, 국가, 권역, 시/도, 시/군/구, 제품번호, 제품명, 분류1, 분류2, 매출, 판매량, 할인율, 수익, 반품여부]\n",
    "\n",
    "table.columns = ['주문번호', '주문일자', '배송일자', '배송방식', '고객번호', '고객이름', '고객구분', '국가', '권역', '시/도', '시/군/구', '제품번호', '제품명', '분류1', '분류2', '매출', '판매량', '할인율', '수익', '반품여부']"
   ]
  },
  {
   "cell_type": "code",
   "execution_count": null,
   "metadata": {},
   "outputs": [],
   "source": [
    "# 5. 새로운 파생변수 생선 (수익률)\n",
    "#     - 수익 / 매출 * 100\n",
    "\n",
    "table['수익률'] = table['수익'] / table['매출'] * 100"
   ]
  },
  {
   "cell_type": "code",
   "execution_count": null,
   "metadata": {},
   "outputs": [],
   "source": [
    "table.reset_index(drop=True, inplace=True)"
   ]
  },
  {
   "cell_type": "code",
   "execution_count": null,
   "metadata": {},
   "outputs": [],
   "source": [
    "# 6. csv 파일로 저장 (superstore.csv)\n",
    "\n",
    "table.to_csv('./superstore.csv', index=False)"
   ]
  },
  {
   "cell_type": "code",
   "execution_count": null,
   "metadata": {},
   "outputs": [],
   "source": [
    "hehe = pd.read_csv('./superstore.csv')"
   ]
  },
  {
   "cell_type": "code",
   "execution_count": null,
   "metadata": {},
   "outputs": [],
   "source": [
    "hehe"
   ]
  },
  {
   "cell_type": "code",
   "execution_count": null,
   "metadata": {},
   "outputs": [],
   "source": [
    "hehe.to_csv('test.csv', index=False)"
   ]
  },
  {
   "cell_type": "code",
   "execution_count": null,
   "metadata": {},
   "outputs": [],
   "source": [
    "total_table = pd.read_excel('Superstore KR - VizLab 2022.xlsx', sheet_name=None)\n"
   ]
  },
  {
   "cell_type": "code",
   "execution_count": null,
   "metadata": {},
   "outputs": [],
   "source": [
    "dict1 = {\n",
    "    'cho' : 1,\n",
    "    'bab' : 2,\n",
    "    'jo' : 3,\n",
    "    'a' :  4\n",
    "    }"
   ]
  },
  {
   "cell_type": "code",
   "execution_count": null,
   "metadata": {},
   "outputs": [],
   "source": [
    "# 이게 내가 했던 for문 돌려서 key값들로 concat 하는 것 보다 더 짧은 것 같다야\n",
    "\n",
    "pd.concat(total_table.values(), axis=1).set_index('Row ID')"
   ]
  },
  {
   "cell_type": "markdown",
   "metadata": {},
   "source": [
    "### 엑셀 파일에서 모든 시트를 하나의 데이터 프레임으로 결합\n",
    "\n",
    "1. csv 폴더에서 2017_expense_list.xslx 로드\n",
    "    - 모든 시트를 로드\n",
    "\n",
    "2. 4개의 시트를 하나의 데이터 프레임으로 단순한 행 결합(유니언 결합)\n",
    "    - concat()\n",
    "\n"
   ]
  },
  {
   "cell_type": "code",
   "execution_count": null,
   "metadata": {},
   "outputs": [],
   "source": [
    "# 1. csv 폴더에서 2017_expense_list.xlsx 로드\n",
    "#     - 모든 시트를 로드\n",
    "\n",
    "dfs = pd.read_excel('../../csv/2017_expense_list.xlsx', sheet_name= None)"
   ]
  },
  {
   "cell_type": "code",
   "execution_count": null,
   "metadata": {},
   "outputs": [],
   "source": [
    "# 2. 4개의 시트를 하나의 데이터 프레임으로 단순한 행 결합(유니언 결합)\n",
    "#     - concat()\n",
    "\n",
    "dfs_modified = pd.concat(dfs.values())"
   ]
  },
  {
   "cell_type": "code",
   "execution_count": null,
   "metadata": {},
   "outputs": [],
   "source": [
    "dfs_for = pd.DataFrame()\n",
    "\n",
    "for i in dfs:\n",
    "    dfs_for = pd.concat([dfs_for, dfs[i]], axis= 0)"
   ]
  },
  {
   "cell_type": "code",
   "execution_count": null,
   "metadata": {},
   "outputs": [],
   "source": [
    "dfs_for"
   ]
  },
  {
   "cell_type": "code",
   "execution_count": null,
   "metadata": {},
   "outputs": [],
   "source": [
    "dfs_modified"
   ]
  },
  {
   "cell_type": "code",
   "execution_count": null,
   "metadata": {},
   "outputs": [],
   "source": [
    "pd.read_csv('superstore.csv').to_csv('test.csv')\n"
   ]
  },
  {
   "cell_type": "code",
   "execution_count": null,
   "metadata": {},
   "outputs": [],
   "source": []
  }
 ],
 "metadata": {
  "kernelspec": {
   "display_name": "Python 3",
   "language": "python",
   "name": "python3"
  },
  "language_info": {
   "codemirror_mode": {
    "name": "ipython",
    "version": 3
   },
   "file_extension": ".py",
   "mimetype": "text/x-python",
   "name": "python",
   "nbconvert_exporter": "python",
   "pygments_lexer": "ipython3",
   "version": "3.12.2"
  }
 },
 "nbformat": 4,
 "nbformat_minor": 2
}
