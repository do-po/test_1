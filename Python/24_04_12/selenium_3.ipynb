{
 "cells": [
  {
   "cell_type": "code",
   "execution_count": 102,
   "metadata": {},
   "outputs": [],
   "source": [
    "from selenium import webdriver\n",
    "from selenium.webdriver.common.by import By\n",
    "from selenium.webdriver.common.keys import Keys"
   ]
  },
  {
   "cell_type": "code",
   "execution_count": 111,
   "metadata": {},
   "outputs": [],
   "source": [
    "driver = webdriver.Chrome()"
   ]
  },
  {
   "cell_type": "code",
   "execution_count": 112,
   "metadata": {},
   "outputs": [],
   "source": [
    "driver.get('https://m.naver.com')"
   ]
  },
  {
   "cell_type": "code",
   "execution_count": 113,
   "metadata": {},
   "outputs": [],
   "source": [
    "element = driver.find_element(By.ID, 'MM_SEARCH_FAKE')"
   ]
  },
  {
   "cell_type": "code",
   "execution_count": 114,
   "metadata": {},
   "outputs": [],
   "source": [
    "element.send_keys('구로디지털역 맛집')"
   ]
  },
  {
   "cell_type": "code",
   "execution_count": 115,
   "metadata": {},
   "outputs": [],
   "source": [
    "search_element = driver.find_element(By.XPATH, '//*[@id=\"sch_w\"]/div/form/button')"
   ]
  },
  {
   "cell_type": "code",
   "execution_count": 116,
   "metadata": {},
   "outputs": [],
   "source": [
    "search_element.click()"
   ]
  },
  {
   "cell_type": "code",
   "execution_count": 117,
   "metadata": {},
   "outputs": [],
   "source": [
    "map_element = driver.find_element(By.XPATH, '//*[@id=\"place-main-section-root\"]/div/div[2]/a')"
   ]
  },
  {
   "cell_type": "code",
   "execution_count": 118,
   "metadata": {},
   "outputs": [],
   "source": [
    "map_element.click()"
   ]
  },
  {
   "cell_type": "code",
   "execution_count": 119,
   "metadata": {},
   "outputs": [],
   "source": [
    "list_button = driver.find_element(By.XPATH, '//*[@id=\"_place_portal_root\"]/div/a')"
   ]
  },
  {
   "cell_type": "code",
   "execution_count": 120,
   "metadata": {},
   "outputs": [],
   "source": [
    "list_button.click()"
   ]
  },
  {
   "cell_type": "code",
   "execution_count": 121,
   "metadata": {},
   "outputs": [
    {
     "data": {
      "text/plain": [
       "104"
      ]
     },
     "execution_count": 121,
     "metadata": {},
     "output_type": "execute_result"
    }
   ],
   "source": [
    "len(driver.find_elements(By.CLASS_NAME, 'UEzoS'))"
   ]
  },
  {
   "cell_type": "code",
   "execution_count": 122,
   "metadata": {},
   "outputs": [],
   "source": [
    "store = driver.find_element(By.CLASS_NAME, 'UEzoS')"
   ]
  },
  {
   "cell_type": "code",
   "execution_count": 99,
   "metadata": {},
   "outputs": [
    {
     "data": {
      "text/plain": [
       "<selenium.webdriver.remote.webelement.WebElement (session=\"87ed47bc43fe6b45257608992d9901eb\", element=\"f.5D49ABEE2D4991CEC5DA7C66DCEA72AA.d.2C8990E016B6E530D9B85606648CE560.e.3841\")>"
      ]
     },
     "execution_count": 99,
     "metadata": {},
     "output_type": "execute_result"
    }
   ],
   "source": [
    "store"
   ]
  },
  {
   "cell_type": "code",
   "execution_count": 123,
   "metadata": {},
   "outputs": [],
   "source": [
    "store.click()"
   ]
  },
  {
   "cell_type": "code",
   "execution_count": 124,
   "metadata": {},
   "outputs": [],
   "source": [
    "review_button = driver.find_element(By.XPATH, '//*[@id=\"app-root\"]/div/div/div/div[4]/div/div/div/div/a[5]')"
   ]
  },
  {
   "cell_type": "code",
   "execution_count": 125,
   "metadata": {},
   "outputs": [],
   "source": [
    "review_button.click()"
   ]
  },
  {
   "cell_type": "code",
   "execution_count": 131,
   "metadata": {},
   "outputs": [],
   "source": [
    "more_button = driver.find_element(By.CLASS_NAME, 'fvwqf')"
   ]
  },
  {
   "cell_type": "code",
   "execution_count": 132,
   "metadata": {},
   "outputs": [],
   "source": [
    "import time"
   ]
  },
  {
   "cell_type": "code",
   "execution_count": 133,
   "metadata": {},
   "outputs": [],
   "source": [
    "for i in range(3):\n",
    "    more_button.click()\n",
    "    # 5초 대기\n",
    "    time.sleep(5)"
   ]
  },
  {
   "cell_type": "code",
   "execution_count": 134,
   "metadata": {},
   "outputs": [],
   "source": [
    "from bs4 import BeautifulSoup as bs"
   ]
  },
  {
   "cell_type": "code",
   "execution_count": 135,
   "metadata": {},
   "outputs": [],
   "source": [
    "soup = bs(driver.page_source, 'html.parser')"
   ]
  },
  {
   "cell_type": "code",
   "execution_count": 137,
   "metadata": {},
   "outputs": [],
   "source": [
    "# li 태그중 class가 owAeM인 모든 태그를 찾는다.\n",
    "\n",
    "li_list = soup.find_all('li', attrs={\n",
    "    'class' : 'owAeM'\n",
    "})"
   ]
  },
  {
   "cell_type": "code",
   "execution_count": 138,
   "metadata": {},
   "outputs": [
    {
     "data": {
      "text/plain": [
       "66"
      ]
     },
     "execution_count": 138,
     "metadata": {},
     "output_type": "execute_result"
    }
   ],
   "source": [
    "len(li_list)"
   ]
  },
  {
   "cell_type": "code",
   "execution_count": 139,
   "metadata": {},
   "outputs": [],
   "source": [
    "li_data = li_list[0]"
   ]
  },
  {
   "cell_type": "code",
   "execution_count": 142,
   "metadata": {},
   "outputs": [],
   "source": [
    "review_data = li_data.find('span', attrs={\n",
    "    'class' : 'zPfVt'\n",
    "}).get_text()"
   ]
  },
  {
   "cell_type": "code",
   "execution_count": 150,
   "metadata": {},
   "outputs": [],
   "source": [
    "# 프로필 사진을 제외한 구역의 이미지를 가져오기 위해 filter\n",
    "\n",
    "div_data = li_data.find('div', attrs={\n",
    "    'class' : 'VAvOk'\n",
    "})"
   ]
  },
  {
   "cell_type": "code",
   "execution_count": 151,
   "metadata": {},
   "outputs": [],
   "source": [
    "# list_data에서 이미지 주소를 모두 출력\n",
    "\n",
    "img_list = div_data.find_all('img')"
   ]
  },
  {
   "cell_type": "code",
   "execution_count": 152,
   "metadata": {},
   "outputs": [
    {
     "name": "stdout",
     "output_type": "stream",
     "text": [
      "https://search.pstatic.net/common/?autoRotate=true&quality=95&type=f&size=678x452&src=https%3A%2F%2Fpup-review-phinf.pstatic.net%2FMjAyNDAyMTRfMTg4%2FMDAxNzA3OTA4Njc3NTgw.HQUmhPqmBH-W1KioVbrhP2Wffj7572PPQfteWJQWv0sg.qbgI4JOcaZ6UPsTaDCiAG4hHWkVPQaaEkudNnorkwn8g.JPEG%2F20240214_122949.jpg.jpg%3Ftype%3Dw1500_60_sharpen\n",
      "https://search.pstatic.net/common/?autoRotate=true&quality=95&type=f&size=678x452&src=https%3A%2F%2Fpup-review-phinf.pstatic.net%2FMjAyNDAyMTRfMTAg%2FMDAxNzA3OTA4Njc3NzA3.8vOoB8IZClYflZUbmWD6PAN-vjgcXVRGOxo58ExaUxQg.4V4FTA4myKAcLKFUfer_owacMPrPKwA2T78xzt2cxiog.JPEG%2F20240214_122322.jpg.jpg%3Ftype%3Dw1500_60_sharpen\n",
      "https://search.pstatic.net/common/?autoRotate=true&quality=95&type=f&size=678x452&src=https%3A%2F%2Fpup-review-phinf.pstatic.net%2FMjAyNDAyMTRfNDgg%2FMDAxNzA3OTA4Njc3OTA5.m42CJqMHOB3-LtjStxFLgkFXPLmLcQm0R9UIXPejsYIg.RN3xRU07emI-MkiaSuGl0cfe9JUZG6KKtSo9EwccARkg.JPEG%2F20240214_122956.jpg.jpg%3Ftype%3Dw1500_60_sharpen\n",
      "https://search.pstatic.net/common/?autoRotate=true&quality=95&type=f&size=678x452&src=https%3A%2F%2Fpup-review-phinf.pstatic.net%2FMjAyNDAyMTRfMjIw%2FMDAxNzA3OTA4Njc3NzMx.mh-amzEtwJK1qZf8Rm9oAA58giyfqkV_n3zlte_pqv0g.8XAOBYQ1rtIJiJNpFKsGAWQa5cg6tehTf_xPNI0Qp34g.JPEG%2F20240214_123450.jpg.jpg%3Ftype%3Dw1500_60_sharpen\n",
      "https://search.pstatic.net/common/?autoRotate=true&quality=95&type=f&size=678x452&src=https%3A%2F%2Fpup-review-phinf.pstatic.net%2FMjAyNDAyMTRfMjkg%2FMDAxNzA3OTA4Njc3ODQ2.jT6xZtFRfxBytmqVMx2xVvu87UaRmQ6TBHpF9gYlHjEg.FCdaZ_bMbhjNQtJjI611GEVmBIm0MURbnby00XIo9owg.JPEG%2F20240214_122919.jpg.jpg%3Ftype%3Dw1500_60_sharpen\n",
      "https://search.pstatic.net/common/?autoRotate=true&quality=95&type=f&size=678x452&src=https%3A%2F%2Fpup-review-phinf.pstatic.net%2FMjAyNDAyMTRfMTkz%2FMDAxNzA3OTA4Njc4NjAx.xZieBIN6LDX3lRptrZNBVGGMY5g0x_cgTi0v8cOpdvkg.Oqvb0PKlT31PIc6Of0DIqWFzNKXPJpGkfnP01M69QU8g.JPEG%2F20240214_122142.jpg.jpg%3Ftype%3Dw1500_60_sharpen\n",
      "https://search.pstatic.net/common/?autoRotate=true&quality=95&type=f&size=678x452&src=https%3A%2F%2Fpup-review-phinf.pstatic.net%2FMjAyNDAyMTRfNCAg%2FMDAxNzA3OTA4Njc4NTQ5.5X3vJIIVtV8kN4b-1SvExk2fe6aWclEAFeaZUo0R1g4g.I8dvrL2PSYY_zwS5gyXDm8VfxNFR4gVjoQexqZZKhyUg.JPEG%2F20240214_122152.jpg.jpg%3Ftype%3Dw1500_60_sharpen\n",
      "https://search.pstatic.net/common/?autoRotate=true&quality=95&type=f&size=678x452&src=https%3A%2F%2Fpup-review-phinf.pstatic.net%2FMjAyNDAyMTRfMTc5%2FMDAxNzA3OTA4Njc4NzE0.e2Jl0iEfcw2uXJ5LYIQzOC0Npjc_j_d0Ifix9UecERog.A9zUnV9Fcs6lWOHXZLEyg1TblQx7qRNaGTsbBElvUSMg.JPEG%2F20240214_122146.jpg.jpg%3Ftype%3Dw1500_60_sharpen\n",
      "https://search.pstatic.net/common/?autoRotate=true&quality=95&type=f&size=678x452&src=https%3A%2F%2Fpup-review-phinf.pstatic.net%2FMjAyNDAyMTRfMTIg%2FMDAxNzA3OTA4Njc4ODky.qKfOIONeQMFjiV6If4ILMd2ycGb1edO0f7LgO1iPSAIg.IWRPFHg32unbi7N8a66DmD09ftPpj1uVLnh7RF_djIsg.JPEG%2F20240214_122205.jpg.jpg%3Ftype%3Dw1500_60_sharpen\n"
     ]
    }
   ],
   "source": [
    "for img in img_list:\n",
    "    print(img['src'])\n",
    "    # img['src']"
   ]
  },
  {
   "cell_type": "code",
   "execution_count": 154,
   "metadata": {},
   "outputs": [],
   "source": [
    "import requests\n",
    "import os"
   ]
  },
  {
   "cell_type": "code",
   "execution_count": 156,
   "metadata": {},
   "outputs": [],
   "source": [
    "# 이미지를 저장하는 함수를 생성\n",
    "\n",
    "def image_save(img_path, save_path, file_name):\n",
    "    html_data = requests.get(img_path)\n",
    "    imageFile = open(\n",
    "        os.path.join(\n",
    "            save_path,\n",
    "            file_name\n",
    "        ),\n",
    "        'wb' # ??\n",
    "    )\n",
    "\n",
    "    # 이미지 데이터의 크기\n",
    "\n",
    "    chunk_size = 100000000 # 크기 기준은 byte\n",
    "    for chunk in html_data.iter_content(chunk_size): # ???\n",
    "        imageFile.write(chunk)\n",
    "        imageFile.close()\n",
    "    print('파일 저장 완료')"
   ]
  },
  {
   "cell_type": "code",
   "execution_count": 158,
   "metadata": {},
   "outputs": [
    {
     "name": "stdout",
     "output_type": "stream",
     "text": [
      "파일 저장 완료\n",
      "파일 저장 완료\n",
      "파일 저장 완료\n",
      "파일 저장 완료\n",
      "파일 저장 완료\n",
      "파일 저장 완료\n",
      "파일 저장 완료\n",
      "파일 저장 완료\n",
      "파일 저장 완료\n"
     ]
    }
   ],
   "source": [
    "i = 1\n",
    "\n",
    "for img in img_list:\n",
    "    file_name = f'review_{i}.png'\n",
    "    save_path = './img/'\n",
    "    image_save(img_path= img['src'], save_path= save_path, file_name= file_name)\n",
    "    i += 1"
   ]
  },
  {
   "cell_type": "code",
   "execution_count": null,
   "metadata": {},
   "outputs": [],
   "source": []
  },
  {
   "cell_type": "code",
   "execution_count": null,
   "metadata": {},
   "outputs": [],
   "source": []
  },
  {
   "cell_type": "code",
   "execution_count": null,
   "metadata": {},
   "outputs": [],
   "source": []
  },
  {
   "cell_type": "code",
   "execution_count": null,
   "metadata": {},
   "outputs": [],
   "source": []
  },
  {
   "cell_type": "code",
   "execution_count": null,
   "metadata": {},
   "outputs": [],
   "source": []
  },
  {
   "cell_type": "code",
   "execution_count": null,
   "metadata": {},
   "outputs": [],
   "source": []
  },
  {
   "cell_type": "code",
   "execution_count": null,
   "metadata": {},
   "outputs": [],
   "source": []
  },
  {
   "cell_type": "code",
   "execution_count": null,
   "metadata": {},
   "outputs": [],
   "source": []
  },
  {
   "cell_type": "code",
   "execution_count": null,
   "metadata": {},
   "outputs": [],
   "source": []
  },
  {
   "cell_type": "code",
   "execution_count": null,
   "metadata": {},
   "outputs": [],
   "source": []
  },
  {
   "cell_type": "code",
   "execution_count": null,
   "metadata": {},
   "outputs": [],
   "source": []
  },
  {
   "cell_type": "code",
   "execution_count": 53,
   "metadata": {},
   "outputs": [],
   "source": [
    "# 탭 이동\n",
    "\n",
    "driver.switch_to.window(driver.window_handles[2])"
   ]
  },
  {
   "cell_type": "code",
   "execution_count": 55,
   "metadata": {},
   "outputs": [],
   "source": [
    "## iframe 안에 있는 src 속성을 추출\n",
    "\n",
    "from bs4 import BeautifulSoup as bs"
   ]
  },
  {
   "cell_type": "code",
   "execution_count": 56,
   "metadata": {},
   "outputs": [],
   "source": [
    "soup = bs(driver.page_source, 'html.parser')"
   ]
  },
  {
   "cell_type": "code",
   "execution_count": 57,
   "metadata": {},
   "outputs": [
    {
     "data": {
      "text/plain": [
       "5"
      ]
     },
     "execution_count": 57,
     "metadata": {},
     "output_type": "execute_result"
    }
   ],
   "source": [
    "# html 문서에서 iframe의 개수를 확인\n",
    "\n",
    "len(soup.find_all('iframe'))"
   ]
  },
  {
   "cell_type": "code",
   "execution_count": 58,
   "metadata": {},
   "outputs": [],
   "source": [
    "# 찾아보니 5번째에 데이터가 있어\n",
    "# iframe들 중에 5번째 태그의 정보에서 src 속성의 값을 추출\n",
    "\n",
    "iframe_data = soup.find_all('iframe')[4]"
   ]
  },
  {
   "cell_type": "code",
   "execution_count": 62,
   "metadata": {},
   "outputs": [],
   "source": [
    "# src 속성의 값 추출\n",
    "\n",
    "url = iframe_data['src']"
   ]
  },
  {
   "cell_type": "code",
   "execution_count": 63,
   "metadata": {},
   "outputs": [],
   "source": [
    "driver.get(url)"
   ]
  },
  {
   "cell_type": "code",
   "execution_count": 66,
   "metadata": {},
   "outputs": [],
   "source": [
    "store_list = driver.find_elements(By.CLASS_NAME, 'tzwk0')"
   ]
  },
  {
   "cell_type": "code",
   "execution_count": 67,
   "metadata": {},
   "outputs": [],
   "source": [
    "store = store_list[0]"
   ]
  },
  {
   "cell_type": "code",
   "execution_count": 70,
   "metadata": {},
   "outputs": [],
   "source": [
    "store.click()"
   ]
  },
  {
   "cell_type": "code",
   "execution_count": null,
   "metadata": {},
   "outputs": [],
   "source": []
  },
  {
   "cell_type": "code",
   "execution_count": null,
   "metadata": {},
   "outputs": [],
   "source": []
  }
 ],
 "metadata": {
  "kernelspec": {
   "display_name": "Python 3",
   "language": "python",
   "name": "python3"
  },
  "language_info": {
   "codemirror_mode": {
    "name": "ipython",
    "version": 3
   },
   "file_extension": ".py",
   "mimetype": "text/x-python",
   "name": "python",
   "nbconvert_exporter": "python",
   "pygments_lexer": "ipython3",
   "version": "3.12.2"
  }
 },
 "nbformat": 4,
 "nbformat_minor": 2
}
