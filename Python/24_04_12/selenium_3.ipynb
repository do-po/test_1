{
 "cells": [
  {
   "cell_type": "code",
   "execution_count": 1,
   "metadata": {},
   "outputs": [],
   "source": [
    "from selenium import webdriver\n",
    "from selenium.webdriver.common.by import By\n",
    "from selenium.webdriver.common.keys import Keys"
   ]
  },
  {
   "cell_type": "code",
   "execution_count": 3,
   "metadata": {},
   "outputs": [],
   "source": [
    "driver = webdriver.Chrome()"
   ]
  },
  {
   "cell_type": "code",
   "execution_count": 4,
   "metadata": {},
   "outputs": [],
   "source": [
    "driver.get('https://www.naver.com')"
   ]
  },
  {
   "cell_type": "code",
   "execution_count": 6,
   "metadata": {},
   "outputs": [],
   "source": [
    "element = driver.find_element(By.ID, 'query')"
   ]
  },
  {
   "cell_type": "code",
   "execution_count": 7,
   "metadata": {},
   "outputs": [],
   "source": [
    "element.send_keys('구로디지털역 맛집')\n",
    "\n",
    "element.send_keys(Keys.ENTER)"
   ]
  },
  {
   "cell_type": "code",
   "execution_count": 8,
   "metadata": {},
   "outputs": [],
   "source": [
    "element2 = driver.find_element(By.XPATH, '//*[@id=\"place-main-section-root\"]/section/div/div[6]/a')"
   ]
  },
  {
   "cell_type": "code",
   "execution_count": 9,
   "metadata": {},
   "outputs": [],
   "source": [
    "element2.click()"
   ]
  },
  {
   "cell_type": "code",
   "execution_count": 53,
   "metadata": {},
   "outputs": [],
   "source": [
    "# 탭 이동\n",
    "\n",
    "driver.switch_to.window(driver.window_handles[2])"
   ]
  },
  {
   "cell_type": "code",
   "execution_count": 55,
   "metadata": {},
   "outputs": [],
   "source": [
    "## iframe 안에 있는 src 속성을 추출\n",
    "\n",
    "from bs4 import BeautifulSoup as bs"
   ]
  },
  {
   "cell_type": "code",
   "execution_count": 56,
   "metadata": {},
   "outputs": [],
   "source": [
    "soup = bs(driver.page_source, 'html.parser')"
   ]
  },
  {
   "cell_type": "code",
   "execution_count": 57,
   "metadata": {},
   "outputs": [
    {
     "data": {
      "text/plain": [
       "5"
      ]
     },
     "execution_count": 57,
     "metadata": {},
     "output_type": "execute_result"
    }
   ],
   "source": [
    "# html 문서에서 iframe의 개수를 확인\n",
    "\n",
    "len(soup.find_all('iframe'))"
   ]
  },
  {
   "cell_type": "code",
   "execution_count": 58,
   "metadata": {},
   "outputs": [],
   "source": [
    "# 찾아보니 5번째에 데이터가 있어\n",
    "# iframe들 중에 5번째 태그의 정보에서 src 속성의 값을 추출\n",
    "\n",
    "iframe_data = soup.find_all('iframe')[4]"
   ]
  },
  {
   "cell_type": "code",
   "execution_count": 62,
   "metadata": {},
   "outputs": [],
   "source": [
    "# src 속성의 값 추출\n",
    "\n",
    "url = iframe_data['src']"
   ]
  },
  {
   "cell_type": "code",
   "execution_count": 63,
   "metadata": {},
   "outputs": [],
   "source": [
    "driver.get(url)"
   ]
  },
  {
   "cell_type": "code",
   "execution_count": 64,
   "metadata": {},
   "outputs": [
    {
     "data": {
      "text/plain": [
       "[<selenium.webdriver.remote.webelement.WebElement (session=\"e8489c118e93d884d56a964ea01fff91\", element=\"f.4323493992308B1A285FE94BE08835BA.d.A4D47904493BE3101ACC631CB1BA0252.e.3407\")>,\n",
       " <selenium.webdriver.remote.webelement.WebElement (session=\"e8489c118e93d884d56a964ea01fff91\", element=\"f.4323493992308B1A285FE94BE08835BA.d.A4D47904493BE3101ACC631CB1BA0252.e.3415\")>,\n",
       " <selenium.webdriver.remote.webelement.WebElement (session=\"e8489c118e93d884d56a964ea01fff91\", element=\"f.4323493992308B1A285FE94BE08835BA.d.A4D47904493BE3101ACC631CB1BA0252.e.3419\")>,\n",
       " <selenium.webdriver.remote.webelement.WebElement (session=\"e8489c118e93d884d56a964ea01fff91\", element=\"f.4323493992308B1A285FE94BE08835BA.d.A4D47904493BE3101ACC631CB1BA0252.e.3423\")>,\n",
       " <selenium.webdriver.remote.webelement.WebElement (session=\"e8489c118e93d884d56a964ea01fff91\", element=\"f.4323493992308B1A285FE94BE08835BA.d.A4D47904493BE3101ACC631CB1BA0252.e.3429\")>,\n",
       " <selenium.webdriver.remote.webelement.WebElement (session=\"e8489c118e93d884d56a964ea01fff91\", element=\"f.4323493992308B1A285FE94BE08835BA.d.A4D47904493BE3101ACC631CB1BA0252.e.3434\")>,\n",
       " <selenium.webdriver.remote.webelement.WebElement (session=\"e8489c118e93d884d56a964ea01fff91\", element=\"f.4323493992308B1A285FE94BE08835BA.d.A4D47904493BE3101ACC631CB1BA0252.e.3439\")>,\n",
       " <selenium.webdriver.remote.webelement.WebElement (session=\"e8489c118e93d884d56a964ea01fff91\", element=\"f.4323493992308B1A285FE94BE08835BA.d.A4D47904493BE3101ACC631CB1BA0252.e.3445\")>,\n",
       " <selenium.webdriver.remote.webelement.WebElement (session=\"e8489c118e93d884d56a964ea01fff91\", element=\"f.4323493992308B1A285FE94BE08835BA.d.A4D47904493BE3101ACC631CB1BA0252.e.3451\")>,\n",
       " <selenium.webdriver.remote.webelement.WebElement (session=\"e8489c118e93d884d56a964ea01fff91\", element=\"f.4323493992308B1A285FE94BE08835BA.d.A4D47904493BE3101ACC631CB1BA0252.e.3457\")>]"
      ]
     },
     "execution_count": 64,
     "metadata": {},
     "output_type": "execute_result"
    }
   ],
   "source": [
    "driver.find_elements(By.CLASS_NAME, 'tzwk0')"
   ]
  },
  {
   "cell_type": "code",
   "execution_count": null,
   "metadata": {},
   "outputs": [],
   "source": []
  }
 ],
 "metadata": {
  "kernelspec": {
   "display_name": "Python 3",
   "language": "python",
   "name": "python3"
  },
  "language_info": {
   "codemirror_mode": {
    "name": "ipython",
    "version": 3
   },
   "file_extension": ".py",
   "mimetype": "text/x-python",
   "name": "python",
   "nbconvert_exporter": "python",
   "pygments_lexer": "ipython3",
   "version": "3.12.2"
  }
 },
 "nbformat": 4,
 "nbformat_minor": 2
}
