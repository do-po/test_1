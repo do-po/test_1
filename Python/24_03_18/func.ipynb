{
 "cells": [
  {
   "cell_type": "code",
   "execution_count": 2,
   "metadata": {},
   "outputs": [],
   "source": [
    "## 문자열 내장 함수\n",
    "\n",
    "a = 'Hello world  '\n"
   ]
  },
  {
   "cell_type": "code",
   "execution_count": 3,
   "metadata": {},
   "outputs": [
    {
     "name": "stdout",
     "output_type": "stream",
     "text": [
      "HELLO WORLD  \n",
      "hello world  \n",
      "hELLO WORLD  \n",
      "Hello World  \n",
      "\n",
      " \t text \t \n",
      "\n",
      "text\n",
      "100 <class 'int'>\n"
     ]
    }
   ],
   "source": [
    "## 문자열을 모두 대문자로 변경\n",
    "\n",
    "print(a.upper())\n",
    "\n",
    "## 문자열을 모두 소문자로 변경\n",
    "\n",
    "print(a.lower())\n",
    "\n",
    "## 대문자를 소문자로, 소문자를 대문자로 변경\n",
    "\n",
    "print(a.swapcase())\n",
    "\n",
    "## 단어의 첫 글자만 대문자로 변경\n",
    "\n",
    "print(a.title())\n",
    "\n",
    "## 문자열에서 좌, 우의 공백을 제거 (벗겨내다)\n",
    "\n",
    "'''strip()''' # 인자를 기본값()을 사용 => 공백 제거\n",
    "                # () 안의 값을 기준으로 제거\n",
    "\n",
    "a.strip() # 좌, 우 공백 제거 -> '\\n'(enter), '\\t'(tab) 과 같은 문자들 역시 공백으로 표시되기에 자주 사용함\n",
    "a.lstrip() # 좌 공백 제거\n",
    "a.rstrip() # 우 공백 제거\n",
    "\n",
    "test_txt = '\\n \\t text \\t \\n'\n",
    "print(test_txt)\n",
    "test_txt = test_txt.strip()\n",
    "print(test_txt)\n",
    "\n",
    "# price를 숫자로 바꾸기\n",
    "\n",
    "price = '$100'\n",
    "price.lstrip('$')\n",
    "price = int(price.lstrip('$'))\n",
    "print(price, type(price))"
   ]
  },
  {
   "cell_type": "code",
   "execution_count": 11,
   "metadata": {},
   "outputs": [
    {
     "data": {
      "text/plain": [
       "'Hi world  '"
      ]
     },
     "execution_count": 11,
     "metadata": {},
     "output_type": "execute_result"
    }
   ],
   "source": [
    "# strip() 함수는 문자가 시작되기 전,문자가 끝나고 나서 데이터들을 제거\n",
    "    # 문자열 사이에 데이터들을 변경해주기 위한 함수가 필요\n",
    "    # replace(변경할 문자열, 치환할 문자열)\n",
    "\n",
    "a.replace('Hello', 'Hi')"
   ]
  },
  {
   "cell_type": "code",
   "execution_count": 12,
   "metadata": {},
   "outputs": [
    {
     "data": {
      "text/plain": [
       "'Helloworld'"
      ]
     },
     "execution_count": 12,
     "metadata": {},
     "output_type": "execute_result"
    }
   ],
   "source": [
    "## 공백을 제거할 이유로 replace() 사용\n",
    "\n",
    "a.replace(' ','')"
   ]
  },
  {
   "cell_type": "code",
   "execution_count": 13,
   "metadata": {},
   "outputs": [
    {
     "name": "stdout",
     "output_type": "stream",
     "text": [
      "Hello \n",
      " World\n"
     ]
    }
   ],
   "source": [
    "test_str = 'Hello \\n World'\n",
    "print(test_str)"
   ]
  },
  {
   "cell_type": "code",
   "execution_count": 15,
   "metadata": {},
   "outputs": [
    {
     "name": "stdout",
     "output_type": "stream",
     "text": [
      "Hello \n",
      " World\n",
      "Hello  World\n"
     ]
    }
   ],
   "source": [
    "print(test_str.strip()) # 문자열 사이의 공백(사실은 \\n)이 제거되지 않음\n",
    "\n",
    "print(test_str.replace('\\n',''))"
   ]
  },
  {
   "cell_type": "code",
   "execution_count": 25,
   "metadata": {},
   "outputs": [
    {
     "name": "stdout",
     "output_type": "stream",
     "text": [
      "['t', 'e', 's', 't', ' ', 't', 'e', 's', 't', '2', ' ', 't', 'e', 's', 't', '3']\n",
      "['test', 'test2', 'test3']\n",
      "['20', '30', '40']\n"
     ]
    }
   ],
   "source": [
    "# 문자열을 list로 변경\n",
    "\n",
    "a = 'test test2 test3'\n",
    "b = 'test test2 test3'\n",
    "a = list(a) # 문자 하나하나를 각 원소로 하여 리스트가 생성됨\n",
    "print(a)\n",
    "\n",
    "# 문자열에서 특정 문자로 글자를 나눠서 list로 생성\n",
    "    # split()\n",
    "\n",
    "print(b.split(' '))\n",
    "\n",
    "\n",
    "c = '20/30/40'\n",
    "print(c.split('/'))\n"
   ]
  },
  {
   "cell_type": "code",
   "execution_count": 41,
   "metadata": {},
   "outputs": [
    {
     "name": "stdout",
     "output_type": "stream",
     "text": [
      "False\n",
      "False\n",
      "False\n",
      "True\n",
      "True\n",
      "True\n"
     ]
    }
   ],
   "source": [
    "# 문자열에서 비교 연산을 하는 함수\n",
    "\n",
    "query = \"select * from table\"\n",
    "query2 = '''\n",
    "    SELECT\n",
    "    *\n",
    "    from\n",
    "    table\n",
    "'''  # 내가 아는 그 뭐냐 여러 라인을 걸쳐 str로 만들어 주는 방법\n",
    "\n",
    "# query, query2가 select로 시작하는가?\n",
    "\n",
    "print(query2[:6] == 'select') # \\n, 공백, 대문자 문제 존재\n",
    "\n",
    "print(query2.strip()[:6] == 'select') # select가 대문자인 문제 존재\n",
    "\n",
    "print(query2.strip().lower()[:6] == 'select') # case 1\n",
    "\n",
    "print(query2.lower().split()[0] == 'select') # case 2\n",
    "\n",
    "print(query2.lower().strip().startswith('select')) # case 3\n",
    "\n"
   ]
  },
  {
   "cell_type": "code",
   "execution_count": null,
   "metadata": {},
   "outputs": [],
   "source": []
  }
 ],
 "metadata": {
  "kernelspec": {
   "display_name": "Python 3",
   "language": "python",
   "name": "python3"
  },
  "language_info": {
   "codemirror_mode": {
    "name": "ipython",
    "version": 3
   },
   "file_extension": ".py",
   "mimetype": "text/x-python",
   "name": "python",
   "nbconvert_exporter": "python",
   "pygments_lexer": "ipython3",
   "version": "3.12.2"
  }
 },
 "nbformat": 4,
 "nbformat_minor": 2
}
