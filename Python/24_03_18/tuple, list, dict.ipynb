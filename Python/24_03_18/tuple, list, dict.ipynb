{
 "cells": [
  {
   "cell_type": "markdown",
   "metadata": {},
   "source": [
    "### 자료형 데이터\n",
    "\n",
    "> 여러개의 데이터를 하나의 변수에 저장시키는 데이터의 타입\n",
    "- tuple\n",
    "    - 자료형 데이터들 중 가장 기본적인 형태\n",
    "    - () 안에 데이터들을 적어서 저장\n",
    "    - 한 번 생성이 되면 안에 원소들을 수정, 추가, 삭제 불가능\n",
    "\n",
    "- list\n",
    "    - 내부에 함수들을 이용하여 데이터를 수정\n",
    "    - [] 안에 데이터들을 적어서 저장\n",
    "    - tuple과는 다르게 안에 원소들을 수정하거나 추가, 삭제가 가능\n",
    "    - list의 원소의 개수는 0개부터 생성이 가능\n",
    "\n",
    "- dictionary\n",
    "    - {} 안에 데이터들을 key : value의 형태로 적어서 저장\n",
    "    - list는 위치를 기준으로 데이터가 생성이 된다면 dict는 key 값을 기준으로 데이터가 생성\n",
    "    - dict의 원소는 0개부터 생성 가능"
   ]
  },
  {
   "cell_type": "code",
   "execution_count": 1,
   "metadata": {},
   "outputs": [
    {
     "name": "stdout",
     "output_type": "stream",
     "text": [
      "(10, 'test')\n",
      "<class 'tuple'>\n",
      "(3, 3.14)\n",
      "<class 'tuple'>\n"
     ]
    }
   ],
   "source": [
    "# tuple 데이터를 생성\n",
    "\n",
    "tuple_a = (10, 'test')\n",
    "tuple_b = (3, 3.14)\n",
    "\n",
    "print(tuple_a)\n",
    "print(type(tuple_a))\n",
    "print(tuple_b)\n",
    "print(type(tuple_b))"
   ]
  },
  {
   "cell_type": "code",
   "execution_count": 6,
   "metadata": {},
   "outputs": [
    {
     "name": "stdout",
     "output_type": "stream",
     "text": [
      "(10, 'test', 3, 3.14) (10, 'test', 10, 'test', 10, 'test')\n"
     ]
    }
   ],
   "source": [
    "# tuple 간의 결합\n",
    "\n",
    "tuple_c = tuple_a + tuple_b\n",
    "tuple_d = tuple_a * 3    \n",
    "'''tuple_e = tuple_b + 3'''\n",
    "    # tuple은 데이터의 수정이 불가능하기에 에러 발생\n",
    "\n",
    "print(tuple_c, tuple_d)"
   ]
  },
  {
   "cell_type": "code",
   "execution_count": 17,
   "metadata": {},
   "outputs": [
    {
     "name": "stdout",
     "output_type": "stream",
     "text": [
      "3.14\n",
      "('test', 10)\n",
      "(10, 'test')\n",
      "('test', 10, 'test', 10, 'test')\n",
      "test\n",
      "test\n"
     ]
    }
   ],
   "source": [
    "# tuple 안에 데이터를 추출\n",
    "\n",
    "print(tuple_b[1])\n",
    "\n",
    "# 두 번째 데이터부터 네 번째 데이터 전까지\n",
    "\n",
    "print(tuple_d[1:3])\n",
    "\n",
    "# 처음부터 세 번째 데이터 전까지\n",
    "\n",
    "print(tuple_d[ :2])\n",
    "\n",
    "# 두 번째 데이터부터 마지막까지\n",
    "\n",
    "print(tuple_d[1:])\n",
    "\n",
    "# 마지막 데이터만 출력\n",
    "\n",
    "print(tuple_d[len(tuple_d)-1])\n",
    "    # 에러 발생 => lenth는 6이지만 데이터의 원소의 길이는 0 - 5이기 때문\n",
    "    # 따라서 len() -1\n",
    "\n",
    "# or\n",
    "\n",
    "print(tuple_d[-1])\n"
   ]
  },
  {
   "cell_type": "code",
   "execution_count": 33,
   "metadata": {},
   "outputs": [
    {
     "name": "stdout",
     "output_type": "stream",
     "text": [
      "[20, 10, 40, 30] <class 'list'>\n",
      "['abc', 'ade', 'aaa'] <class 'list'>\n"
     ]
    }
   ],
   "source": [
    "# list 데이터 생성\n",
    "\n",
    "list_a = [20, 10, 40, 30]\n",
    "list_b = ['abc', 'ade', 'aaa']\n",
    "\n",
    "print(list_a, type(list_a))\n",
    "print(list_b, type(list_b))"
   ]
  },
  {
   "cell_type": "code",
   "execution_count": 34,
   "metadata": {},
   "outputs": [
    {
     "name": "stdout",
     "output_type": "stream",
     "text": [
      "[10, 20, 30, 40]\n",
      "['aaa', 'ade', 'abc']\n",
      "[40, 30, 20, 10]\n",
      "[40, 30, 20, 10]\n"
     ]
    }
   ],
   "source": [
    "## 정렬을 변경\n",
    "    # 오름차순 정렬\n",
    "\n",
    "list_a.sort()\n",
    "print(list_a)\n",
    "\n",
    "    # 역순 정렬\n",
    "\n",
    "list_b.reverse()\n",
    "print(list_b)\n",
    "\n",
    "    # 내림차순 정렬\n",
    "\n",
    "list_c = [20, 40, 10, 30]\n",
    "        \n",
    "        # 오름차순 정렬 후 역순으로 변경\n",
    "\n",
    "list_c.sort()\n",
    "list_c.reverse()\n",
    "print(list_c)\n",
    "       \n",
    "        # 정렬 변경 함수에 변수 대입으로 내림차순 정렬 가능\n",
    "\n",
    "list_d = [20, 40, 10, 30]\n",
    "list_d.sort(reverse=True)\n",
    "print(list_d)"
   ]
  },
  {
   "cell_type": "code",
   "execution_count": 35,
   "metadata": {},
   "outputs": [
    {
     "name": "stdout",
     "output_type": "stream",
     "text": [
      "[10, 20, 30, 40, 22]\n",
      "[10, 20, 100, 30, 40, 22]\n",
      "[10, 20, 100, 30, 40]\n",
      "[10, 20, 100, 40]\n"
     ]
    }
   ],
   "source": [
    "# list에 데이터를 추가\n",
    "    # 마지막에 데이터를 추가\n",
    "\n",
    "list_a.append(22)\n",
    "print(list_a)\n",
    "\n",
    "    # 특정 위치에 데이터를 추가\n",
    "\n",
    "list_a.insert(2, 100)\n",
    "print(list_a)\n",
    "\n",
    "# list의 데이터를 제거\n",
    "    # 가장 마지막 데이터를 제거\n",
    "\n",
    "list_a.pop()\n",
    "print(list_a)\n",
    "\n",
    "    # 특정 위치의 데이터를 제거\n",
    "\n",
    "del list_a[3]\n",
    "print(list_a)\n",
    "\n",
    "    # 특정 값을 제거\n",
    "    # 해당하는 값이 2개 이상이라면 앞에 있는 데이터가 제거\n",
    "    # 제거하려는 데이터가 존재하지 않는다면 에러 발생\n",
    "list_a.append(10)\n",
    "\n",
    "list_a.remove(10)\n",
    "print(list_a)\n"
   ]
  },
  {
   "cell_type": "code",
   "execution_count": 37,
   "metadata": {},
   "outputs": [
    {
     "name": "stdout",
     "output_type": "stream",
     "text": [
      "[10, 20, 100, 40, 'aaa', 'ade', 'abc', 'aaa', 'ade', 'abc', 'aaa', 'ade', 'abc']\n"
     ]
    }
   ],
   "source": [
    "\n",
    "# list를 확장 (list의 결합)\n",
    "\n",
    "list_a = list_a + list_b\n",
    "list_a += list_b\n",
    "list_a.extend(list_b)\n",
    "\n",
    "print(list_a)\n",
    "\n"
   ]
  },
  {
   "cell_type": "code",
   "execution_count": 39,
   "metadata": {},
   "outputs": [
    {
     "name": "stdout",
     "output_type": "stream",
     "text": [
      "10 10\n"
     ]
    }
   ],
   "source": [
    "a = 10\n",
    "\n",
    "b = a\n",
    "\n",
    "print(a, b)"
   ]
  },
  {
   "cell_type": "code",
   "execution_count": 40,
   "metadata": {},
   "outputs": [
    {
     "name": "stdout",
     "output_type": "stream",
     "text": [
      "10 11\n"
     ]
    }
   ],
   "source": [
    "b += 1\n",
    "\n",
    "print(a, b)"
   ]
  },
  {
   "cell_type": "code",
   "execution_count": 41,
   "metadata": {},
   "outputs": [
    {
     "name": "stdout",
     "output_type": "stream",
     "text": [
      "[10, 20, 30] [10, 20, 30]\n"
     ]
    }
   ],
   "source": [
    "list_1 = [10, 20, 30]\n",
    "list_2 = list_1\n",
    "\n",
    "print(list_1, list_2)"
   ]
  },
  {
   "cell_type": "code",
   "execution_count": 43,
   "metadata": {},
   "outputs": [
    {
     "name": "stdout",
     "output_type": "stream",
     "text": [
      "[10, 20, 30, 1, 1] [10, 20, 30, 1, 1]\n"
     ]
    }
   ],
   "source": [
    "list_2.append(1)\n",
    "\n",
    "print(list_1, list_2)\n",
    "    # list_1과 list_2의 라벨이 같기 때문에 1만 수정해도 2도 변경됨\n",
    "        # 복사된게 아니야 !"
   ]
  },
  {
   "cell_type": "code",
   "execution_count": 44,
   "metadata": {},
   "outputs": [
    {
     "name": "stdout",
     "output_type": "stream",
     "text": [
      "[10, 20, 30, 1, 1] [10, 20, 30, 1, 1]\n"
     ]
    }
   ],
   "source": [
    "# copy() == 복사본 생성 (백업 데이터를 생성)\n",
    "\n",
    "list_3 = list_1.copy()\n",
    "\n",
    "print(list_1, list_3)"
   ]
  },
  {
   "cell_type": "code",
   "execution_count": 46,
   "metadata": {},
   "outputs": [
    {
     "name": "stdout",
     "output_type": "stream",
     "text": [
      "[10, 20, 30, 1, 1] [10, 30, 1]\n"
     ]
    }
   ],
   "source": [
    "list_3.pop()\n",
    "print(list_1, list_3)"
   ]
  },
  {
   "cell_type": "code",
   "execution_count": 47,
   "metadata": {},
   "outputs": [
    {
     "name": "stdout",
     "output_type": "stream",
     "text": [
      "[[10, 20, 30], [50, 60, 70]]\n"
     ]
    }
   ],
   "source": [
    "## 2차원 데이터\n",
    "\n",
    "list_4 = [\n",
    "    [10, 20, 30],\n",
    "    [50, 60, 70]\n",
    "]\n",
    "\n",
    "print(list_4)"
   ]
  },
  {
   "cell_type": "code",
   "execution_count": 52,
   "metadata": {},
   "outputs": [
    {
     "data": {
      "text/plain": [
       "30"
      ]
     },
     "execution_count": 52,
     "metadata": {},
     "output_type": "execute_result"
    }
   ],
   "source": [
    "# 특정 데이터 선택\n",
    "    # 해당하는 차원 순으로 index 입력\n",
    "list_4[1][1]\n",
    "list_4[0][2]"
   ]
  },
  {
   "cell_type": "code",
   "execution_count": 1,
   "metadata": {},
   "outputs": [
    {
     "name": "stdout",
     "output_type": "stream",
     "text": [
      "[]\n"
     ]
    }
   ],
   "source": [
    "# list는 0개 이상의 데이터를 생성 가능\n",
    "    # ex\n",
    "\n",
    "# 비어있는 리스트 생성\n",
    "\n",
    "list1 = []\n",
    "''' list1 = list()도 가능'''\n",
    "\n",
    "print(list1)"
   ]
  },
  {
   "cell_type": "code",
   "execution_count": 3,
   "metadata": {},
   "outputs": [
    {
     "name": "stdout",
     "output_type": "stream",
     "text": [
      "[(1, 4), (2, 3), (3, 2), (4, 1), (4, 6), (5, 5), (6, 4)]\n"
     ]
    }
   ],
   "source": [
    "## 2개의 주사위가 존재한다.\n",
    "## 2개의 주사위를 굴렸을 때 주사위의 합이 5의 배수인(5로 나눴을 때 나머지가 0인 값) 경우의 수를 list에 대입\n",
    "\n",
    "for i in range(1, 7): # 첫 번째 주사위의 경우의 수\n",
    "    for j in range(1, 7): # 두 번째 주사위의 경우의 수\n",
    "        if (i + j) % 5 == 0: # 합이 5의 배수 조건 설정 (5로 나눴을 때 나머지가 0)\n",
    "            list1.append((i, j)) # 조건에 맞는 주사위의 눈을 빈 리스트에 저장\n",
    "        else:\n",
    "            continue # 조건에 맞지 않는 주사위의 눈은 다시 for문으로 돌리기\n",
    "                     # 사실 이거 필요 없긴 해 :> 왜냐면 어차피 조건에 맞는 것만 행동하고 구문 끝나면 다시 for로 돌아가니까\n",
    "print(list1) # 저장된 list 출력"
   ]
  },
  {
   "cell_type": "code",
   "execution_count": 12,
   "metadata": {},
   "outputs": [
    {
     "name": "stdout",
     "output_type": "stream",
     "text": [
      "False\n",
      "True\n",
      "True\n",
      "True\n",
      "True\n"
     ]
    }
   ],
   "source": [
    "# list 형태를 bool의 형태로 강제 변환시 T F 조건\n",
    "    # 데이터가 존재하면 T, 없다면 F\n",
    "\n",
    "list2 = []  ## F\n",
    "list2_1 = ['test']  ## T\n",
    "list3 = ['']  ## T\n",
    "list4 = [0]  ## T\n",
    "list5 = [5]  ## T\n",
    "\n",
    "print(bool(list2))\n",
    "print(bool(list2_1))\n",
    "print(bool(list3))\n",
    "print(bool(list4))\n",
    "print(bool(list5))\n",
    "\n",
    "    # 실제론 list의 길이가 0이면 F, 1 이상이면 T로 변환\n",
    "\n"
   ]
  },
  {
   "cell_type": "code",
   "execution_count": 13,
   "metadata": {},
   "outputs": [
    {
     "name": "stdout",
     "output_type": "stream",
     "text": [
      "{'name': 'test', 'age': 20} <class 'dict'>\n"
     ]
    }
   ],
   "source": [
    "## dict 데이터 생성\n",
    "## list와의 차이 == 기준이 다르다. (key : value값 존재)\n",
    "## list의 기준은 index(위치)\n",
    "## dict의 기준은 key\n",
    "    ### 사실 list는 index : value 의 형태라고 봐도 되지\n",
    "    ### 대신 dict는 index 값을 설정할 수 있는거고\n",
    "\n",
    "dict_1 = {\n",
    "    'name' : 'test',\n",
    "    'age' : 20\n",
    "    } \n",
    "\n",
    "print(dict_1, type(dict_1))"
   ]
  },
  {
   "cell_type": "code",
   "execution_count": 19,
   "metadata": {},
   "outputs": [
    {
     "name": "stdout",
     "output_type": "stream",
     "text": [
      "dict_keys(['name', 'age'])\n",
      "dict_values(['test', 20])\n",
      "dict_items([('name', 'test'), ('age', 20)])\n"
     ]
    }
   ],
   "source": [
    "## dict는 key와 value로 이루어져 있다\n",
    "# key 값들만 따로 출력\n",
    "\n",
    "print(dict_1.keys())\n",
    "\n",
    "# value 값들만 따로 출력\n",
    "\n",
    "print(dict_1.values())\n",
    "\n",
    "# dict를 list로 변환 [ (key, value) ]\n",
    "\n",
    "print(dict_1.items())"
   ]
  },
  {
   "cell_type": "code",
   "execution_count": 34,
   "metadata": {},
   "outputs": [
    {
     "name": "stdout",
     "output_type": "stream",
     "text": [
      "<class 'list'>\n",
      "[20, 30, 50]\n"
     ]
    }
   ],
   "source": [
    "## 외부에서 데이터를 로드하는 경우\n",
    "## 데이터의 형태는 xml, json\n",
    "## xml은 dict로 형태 변환\n",
    "## json은 [{}, {}] or {key : [], key2 : []}\n",
    "\n",
    "sample1 = [\n",
    "    {\n",
    "    'name' : 'test',\n",
    "    'age' : 20\n",
    "    },\n",
    "    {\n",
    "        'name' : 'test2',\n",
    "        'age' : 30\n",
    "    },\n",
    "    {\n",
    "        'name' : 'test3',\n",
    "        'age' : 50\n",
    "    }\n",
    "]\n",
    "\n",
    "print(type(sample1))\n",
    "\n",
    "# sample1에서 20이라는 데이터만 추출\n",
    "\n",
    "sample1[0]['age']\n",
    "\n",
    "# sample1에서 모든 'age' 데이터 추출하여 새로운 리스트 생성\n",
    "\n",
    "list_age = [] # 비어있는 list 생성\n",
    "\n",
    "'''list_age.append(sample1[0]['age'])\n",
    "list_age.append(sample1[1]['age'])\n",
    "list_age.append(sample1[2]['age'])\n",
    "\n",
    "print(list_age)'''\n",
    "\n",
    "for i in range(len(sample1)):\n",
    "    list_age.append(sample1[i]['age'])\n",
    "\n",
    "print(list_age)"
   ]
  },
  {
   "cell_type": "code",
   "execution_count": 38,
   "metadata": {},
   "outputs": [],
   "source": [
    "res = []\n",
    "\n",
    "for i in sample1:\n",
    "    ## sample1에 dict 데이터 중 age의 값들만 res3에 추가\n",
    "    ## i는 sample1의 데이터, 즉 dict이므로 i의 'age' key를 받아 res3에 추가\n",
    "    res.append(i['age'])\n",
    "\n",
    "print(res)"
   ]
  },
  {
   "cell_type": "code",
   "execution_count": 64,
   "metadata": {},
   "outputs": [
    {
     "name": "stdout",
     "output_type": "stream",
     "text": [
      "name 0 test\n",
      "name 1 test2\n",
      "name 2 test3\n",
      "age 0 20\n",
      "age 1 30\n",
      "age 2 25\n",
      "[{'name': 'test', 'age': 20}, {'name': 'test2', 'age': 30}, {'name': 'test3', 'age': 25}]\n"
     ]
    }
   ],
   "source": [
    "### dict - list 데이터를 list - dict 데이터로 변경\n",
    "\n",
    "list_sample2 = [] # sample2의 모든 value들을 대입할 빈 리스트 생성\n",
    "\n",
    "sample2 = {\n",
    "    'name' : ['test', 'test2', 'test3'],\n",
    "    'age' : [20, 30, 25]\n",
    "}\n",
    "\n",
    "# sample2에서 ['test', 'test2', 'test3'] 을 출력하려면 ?\n",
    "'''print(sample2['name'])'''\n",
    "\n",
    "for i in sample2: # i가 의미하는 것은 sample2의 key값\n",
    "    '''print(sample2[i])''' # i == key 따라서 value값들이 출력됨\n",
    "    for j in range(len(sample2[i])):\n",
    "        print(i, j, sample2[i][j])\n",
    "        '''list_sample2.append({})'''  # 이대로면 6번 반복을 하면서 list_sample2에 {}가 6개 추가됨\n",
    "                                       # 3번 (dict 안의 list의 길이)만 추가하도록 코드를 수정\n",
    "        \n",
    "        if len(list_sample2) < len(sample2[i]): # list_sample2에 {}가 추가되면 길이가 늘어나고, sample2의 길이와 같게 맞춰야 데이터가 잘 들어감\n",
    "                                                # 같거나 작다고 한다면 i가 3일 때도 한 번 더 추가하기에 4번 루프가 돌아서 4개가 추가됨\n",
    "           \n",
    "            list_sample2.append({})             # 비어있는 list_sample2의 데이터가 빈 위치에 데이터를 넣기 위해 추가\n",
    "        list_sample2[j][i] = sample2[i][j] # list[]에 없는 순서에 값을 대입하면 새로 값을 추가해줌\n",
    "                                            # list_sample2[0][key(ex=='name')] = sample2[key(ex=='name')][0]\n",
    "                                            # 0번째 위치에 key 설정 = sample2의 key의 0번째 value 대입\n",
    "\n",
    "print(list_sample2)\n",
    "\n"
   ]
  },
  {
   "cell_type": "code",
   "execution_count": 59,
   "metadata": {},
   "outputs": [
    {
     "name": "stdout",
     "output_type": "stream",
     "text": [
      "{'new': 1}\n",
      "{'new': 3}\n"
     ]
    }
   ],
   "source": [
    "## dict 데이터에서 key: value 추가\n",
    "\n",
    "test_dict = {}\n",
    "\n",
    "test_dict['new'] = 1\n",
    "\n",
    "print(test_dict)\n",
    "\n",
    "# 기존에 존재하는 key의 value 변경\n",
    "\n",
    "test_dict['new'] = 3\n",
    "\n",
    "print(test_dict)"
   ]
  },
  {
   "cell_type": "code",
   "execution_count": null,
   "metadata": {},
   "outputs": [],
   "source": []
  }
 ],
 "metadata": {
  "kernelspec": {
   "display_name": "Python 3",
   "language": "python",
   "name": "python3"
  },
  "language_info": {
   "codemirror_mode": {
    "name": "ipython",
    "version": 3
   },
   "file_extension": ".py",
   "mimetype": "text/x-python",
   "name": "python",
   "nbconvert_exporter": "python",
   "pygments_lexer": "ipython3",
   "version": "3.12.2"
  }
 },
 "nbformat": 4,
 "nbformat_minor": 2
}
