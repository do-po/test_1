{
 "cells": [
  {
   "cell_type": "markdown",
   "metadata": {},
   "source": [
    "### 1번 문제\n",
    "> For문을 이용하여 구구단을 출력하라\n",
    "    2단부터 9단까지 구구단을 print를 이용하여 출력하라."
   ]
  },
  {
   "cell_type": "code",
   "execution_count": 2,
   "metadata": {},
   "outputs": [
    {
     "name": "stdout",
     "output_type": "stream",
     "text": [
      "\n",
      "2단\n",
      "------------------\n",
      "2 * 1 = 2\n",
      "2 * 2 = 4\n",
      "2 * 3 = 6\n",
      "2 * 4 = 8\n",
      "2 * 5 = 10\n",
      "2 * 6 = 12\n",
      "2 * 7 = 14\n",
      "2 * 8 = 16\n",
      "2 * 9 = 18\n",
      "------------------\n",
      "\n",
      "\n",
      "3단\n",
      "------------------\n",
      "3 * 1 = 3\n",
      "3 * 2 = 6\n",
      "3 * 3 = 9\n",
      "3 * 4 = 12\n",
      "3 * 5 = 15\n",
      "3 * 6 = 18\n",
      "3 * 7 = 21\n",
      "3 * 8 = 24\n",
      "3 * 9 = 27\n",
      "------------------\n",
      "\n",
      "\n",
      "4단\n",
      "------------------\n",
      "4 * 1 = 4\n",
      "4 * 2 = 8\n",
      "4 * 3 = 12\n",
      "4 * 4 = 16\n",
      "4 * 5 = 20\n",
      "4 * 6 = 24\n",
      "4 * 7 = 28\n",
      "4 * 8 = 32\n",
      "4 * 9 = 36\n",
      "------------------\n",
      "\n",
      "\n",
      "5단\n",
      "------------------\n",
      "5 * 1 = 5\n",
      "5 * 2 = 10\n",
      "5 * 3 = 15\n",
      "5 * 4 = 20\n",
      "5 * 5 = 25\n",
      "5 * 6 = 30\n",
      "5 * 7 = 35\n",
      "5 * 8 = 40\n",
      "5 * 9 = 45\n",
      "------------------\n",
      "\n",
      "\n",
      "6단\n",
      "------------------\n",
      "6 * 1 = 6\n",
      "6 * 2 = 12\n",
      "6 * 3 = 18\n",
      "6 * 4 = 24\n",
      "6 * 5 = 30\n",
      "6 * 6 = 36\n",
      "6 * 7 = 42\n",
      "6 * 8 = 48\n",
      "6 * 9 = 54\n",
      "------------------\n",
      "\n",
      "\n",
      "7단\n",
      "------------------\n",
      "7 * 1 = 7\n",
      "7 * 2 = 14\n",
      "7 * 3 = 21\n",
      "7 * 4 = 28\n",
      "7 * 5 = 35\n",
      "7 * 6 = 42\n",
      "7 * 7 = 49\n",
      "7 * 8 = 56\n",
      "7 * 9 = 63\n",
      "------------------\n",
      "\n",
      "\n",
      "8단\n",
      "------------------\n",
      "8 * 1 = 8\n",
      "8 * 2 = 16\n",
      "8 * 3 = 24\n",
      "8 * 4 = 32\n",
      "8 * 5 = 40\n",
      "8 * 6 = 48\n",
      "8 * 7 = 56\n",
      "8 * 8 = 64\n",
      "8 * 9 = 72\n",
      "------------------\n",
      "\n",
      "\n",
      "9단\n",
      "------------------\n",
      "9 * 1 = 9\n",
      "9 * 2 = 18\n",
      "9 * 3 = 27\n",
      "9 * 4 = 36\n",
      "9 * 5 = 45\n",
      "9 * 6 = 54\n",
      "9 * 7 = 63\n",
      "9 * 8 = 72\n",
      "9 * 9 = 81\n",
      "------------------\n",
      "\n"
     ]
    }
   ],
   "source": [
    "for i in range(2, 10): # 2부터 9까지 반복하는 반복문 작성\n",
    "    print('\\n' + f'{i}단' + '\\n' + '------------------')\n",
    "    for j in range(1, 10): # 1부터 9까지 반복하는 반복문 작성\n",
    "        print(f'{i} * {j} = {i * j}') # i와 j를 곱하여 각각 2부터 9, 1부터 9까지 반복하는 결과를 출력해 구구단 작성\n",
    "    print('------------------' + '\\n')"
   ]
  },
  {
   "attachments": {},
   "cell_type": "markdown",
   "metadata": {},
   "source": [
    "### 2번 문제\n",
    "> 2부터 50까지 소수를 리스트의 형태로 출력하시오\n",
    "1. 첫번째 반복문에서는 2부터 50까지 반복을 하는 반복문을 구성하시오\n",
    "2. 소수는 1과 자기 자신 외에는 나누어지지 않는 수이다 \n",
    "3. 반복문 안에 bool의 형태의 데이터를 만들어서 True라 지정한다. \n",
    "4. 두번째 반복문을 이용하여 2부터 시작하여 (자기 자신 -1)까지 나누어 나머지 값이 0이면 3번 과정에서 만든 변수를 False로 변경한다.\n",
    "5. bool 형태의 변수를 조건문을 사용하여 True인 경우 리스트에 추가한다."
   ]
  },
  {
   "cell_type": "code",
   "execution_count": 3,
   "metadata": {},
   "outputs": [
    {
     "name": "stdout",
     "output_type": "stream",
     "text": [
      "[2, 3, 5, 7, 11, 13, 17, 19, 23, 29, 31, 37, 41, 43, 47]\n"
     ]
    }
   ],
   "source": [
    "result = list() # 리스트에 추가하기 위해 빈 리스트 작성\n",
    "\n",
    "# 2부터 50까지 반복하는 반복문 구성\n",
    "\n",
    "for i in range(2, 51):\n",
    "    select = True # 3번 과정\n",
    "    for j in range(2, i-1): # 4번 과정\n",
    "        if i % j == 0:\n",
    "            select = False\n",
    "            break # 소수가 아닐 시 다음 숫자로 넘어가기 위한 구문\n",
    "    if select: # 5번 과정\n",
    "        result.append(i)\n",
    "\n",
    "print(result)\n",
    "            "
   ]
  },
  {
   "cell_type": "markdown",
   "metadata": {},
   "source": [
    "### 3번 문제\n",
    "> Pandas를 이용하여 다음과 같은 데이터프레임을 만들고 데이터프레임을 수정하라.\n",
    "\n",
    "|   | 0 | 1 |  2 |\n",
    "|:-:|:-:|:-:|:--:|\n",
    "| 0 | 1 | 2 |  3 |\n",
    "| 1 | 7 | 8 |  9 |\n",
    "| 2 | 4 | 5 |  6 |\n",
    "| 3 | 3 | 5 | 10 |\n",
    "\n",
    "1. 컬럼의 이름을 A, B, C로 변경\n",
    "2. D라는 새로운 컬럼에 shift 함수를 이용하여 C 컬럼의 차를 D 컬럼에 생성(NaN값인 경우에는 0으로 대체)\n",
    "3. A 컬럼을 기준으로 오름차순 정렬\n",
    "4. 인덱스의 값을 새로 지정(기존의 인덱스는 삭제)\n",
    "5. 이 모든 과정은 원본의 데이터를 수정 "
   ]
  },
  {
   "cell_type": "code",
   "execution_count": 4,
   "metadata": {},
   "outputs": [
    {
     "name": "stdout",
     "output_type": "stream",
     "text": [
      "Requirement already satisfied: pandas in c:\\users\\user\\appdata\\local\\programs\\python\\python312\\lib\\site-packages (2.2.1)Note: you may need to restart the kernel to use updated packages.\n",
      "\n",
      "Requirement already satisfied: numpy<2,>=1.26.0 in c:\\users\\user\\appdata\\local\\programs\\python\\python312\\lib\\site-packages (from pandas) (1.26.4)\n",
      "Requirement already satisfied: python-dateutil>=2.8.2 in c:\\users\\user\\appdata\\roaming\\python\\python312\\site-packages (from pandas) (2.9.0.post0)\n",
      "Requirement already satisfied: pytz>=2020.1 in c:\\users\\user\\appdata\\local\\programs\\python\\python312\\lib\\site-packages (from pandas) (2024.1)\n",
      "Requirement already satisfied: tzdata>=2022.7 in c:\\users\\user\\appdata\\local\\programs\\python\\python312\\lib\\site-packages (from pandas) (2024.1)\n",
      "Requirement already satisfied: six>=1.5 in c:\\users\\user\\appdata\\roaming\\python\\python312\\site-packages (from python-dateutil>=2.8.2->pandas) (1.16.0)\n"
     ]
    }
   ],
   "source": [
    "# 판다스가 없는 환경일 경우 실행할 코드\n",
    "\n",
    "%pip install pandas\n",
    "\n",
    "# pandas 로드\n",
    "\n",
    "import pandas as pd "
   ]
  },
  {
   "cell_type": "code",
   "execution_count": 5,
   "metadata": {},
   "outputs": [],
   "source": [
    "# pandas를 이용하여 다음과 같은 데이터 프레임을 생성하기 위해 변수 생성\n",
    "\n",
    "value = [\n",
    "    [1, 2, 3],\n",
    "    [7, 8, 9],\n",
    "    [4, 5, 6],\n",
    "    [3, 5, 10]\n",
    "]\n",
    "\n",
    "# 데이터 프레임 생성\n",
    "\n",
    "df = pd.DataFrame(value)\n",
    "\n",
    "# 1번 과정\n",
    "\n",
    "df.columns = ['A', 'B', 'C']\n",
    "\n",
    "# 2번 과정\n",
    "\n",
    "df['D'] = df['C'] - df['C'].shift(1)\n",
    "\n",
    "    # 결측치를 0으로 대체\n",
    "\n",
    "df.fillna(0, inplace= True)\n",
    "\n",
    "# 3번~5번 과정\n",
    "\n",
    "df.sort_values(by= 'A', axis= 0, ignore_index= True, inplace= True)"
   ]
  },
  {
   "attachments": {},
   "cell_type": "markdown",
   "metadata": {},
   "source": [
    "### 4번 문제\n",
    "> 2014,2015,2016 csv파일을 로드하여 데이터를 수정하라.\n",
    "\n",
    "1. 3개의 데이터프레임을 결합하시오 (유니언 결합)\n",
    "2. 구분 컬럼의 값을 datetime의 형태로 변환하라. \n",
    "3. 구분 컬럼에서 년도만 따로 출력하여 파생변수 년도를 생성하라.\n",
    "4. 년도 별 평균 사망자, 총 사망자를 출력하라. \n",
    "5. 년도 별 사고 대비 사망율( 사망(명) / 사고(건))을 출력하라."
   ]
  },
  {
   "cell_type": "code",
   "execution_count": 6,
   "metadata": {},
   "outputs": [
    {
     "name": "stdout",
     "output_type": "stream",
     "text": [
      "연도 별 평균 사망자\n",
      "\n",
      "           사망(명)\n",
      "년도              \n",
      "2014년  10.833333\n",
      "2015년   9.000000\n",
      "2016년   8.166667\n",
      "-----------------------------\n",
      "\n",
      "연도 별 총 사망자\n",
      "\n",
      "       사망(명)\n",
      "년도          \n",
      "2014년    130\n",
      "2015년    108\n",
      "2016년     98\n",
      "-----------------------------\n",
      "\n",
      "연도 별 사고 대비 사망률\n",
      "\n",
      "            사망률\n",
      "년도             \n",
      "2014년  0.626388\n",
      "2015년  0.477551\n",
      "2016년  0.482639\n"
     ]
    }
   ],
   "source": [
    "# 3개의 csv 파일을 로드\n",
    "\n",
    "_2014 = pd.read_csv('./csv/2014.csv', encoding= 'CP949')\n",
    "_2015 = pd.read_csv('./csv/2015.csv', encoding= 'CP949')\n",
    "_2016 = pd.read_csv('./csv/2016.csv', encoding= 'CP949')\n",
    "\n",
    "# 1번 과정\n",
    "\n",
    "df_total = pd.concat([_2014, _2015, _2016])\n",
    "\n",
    "# 2번 과정\n",
    "\n",
    "df_total['구분'] = pd.to_datetime(df_total['구분'], format= '%Y년%m월')\n",
    "\n",
    "# 3번 과정\n",
    "\n",
    "df_total['년도'] = df_total['구분'].dt.strftime('%Y년')\n",
    "\n",
    "# 4번 과정\n",
    "\n",
    "print('연도 별 평균 사망자' + '\\n')\n",
    "print(df_total[['년도', '사망(명)']].groupby('년도').mean())\n",
    "\n",
    "print('-----------------------------'+ '\\n')\n",
    "\n",
    "print('연도 별 총 사망자' + '\\n')\n",
    "print(df_total[['년도', '사망(명)']].groupby('년도').sum())\n",
    "\n",
    "# 5번 과정\n",
    "\n",
    "    # 사망률 계산\n",
    "\n",
    "df_total['사망률'] = df_total['사망(명)'] / df_total['사고(건)']\n",
    "\n",
    "# 연도별 사망률 출력\n",
    "print('-----------------------------' + '\\n')\n",
    "print('연도 별 사고 대비 사망률' + '\\n')\n",
    "print(df_total[['년도', '사망률']].groupby('년도').sum())\n",
    "\n",
    "\n"
   ]
  },
  {
   "attachments": {},
   "cell_type": "markdown",
   "metadata": {},
   "source": [
    "### 5번 문제\n",
    "> 세종시.csv 파일을 pandas를 이용하여 read 후 데이터프레임을 수정하라.\n",
    "\n",
    "1. pandas를 이용하여 csv 파일을 로드한다. (주소는 상대경로로 지정)\n",
    "2. \"법정동코드\", \"특수지구분코드\", \"특수지구분명\", \"공동주택코드\", \"특수지명\" 컬럼을 삭제한다. \n",
    "3. \"기준연월\" 파생변수를 생성하여 \"기준연도\" + \"기준월\" 데이터를 삽입한다. \n",
    "4. pivot_table을 이용하여 인덱스는 \"기준연월\" 컬럼은 \"공동주택구분명\" 벨류는 \"공시가격\"으로 평균값을 구하고 결측치의 값은 0으로 한 뒤 바형 그래프로 출력한다. \n",
    "5. 한글이 포함되어 있음으로 한글을 표시가 될수 있도록 폰트를 변경하여 시각화를 한다."
   ]
  },
  {
   "cell_type": "code",
   "execution_count": 7,
   "metadata": {},
   "outputs": [
    {
     "name": "stderr",
     "output_type": "stream",
     "text": [
      "C:\\Users\\USER\\AppData\\Local\\Temp\\ipykernel_8840\\1643326635.py:3: DtypeWarning: Columns (5,11,13,15) have mixed types. Specify dtype option on import or set low_memory=False.\n",
      "  sejong_dump = pd.read_csv('./csv/세종시.csv', encoding= 'CP949')\n"
     ]
    }
   ],
   "source": [
    "# 세종시.csv 파일을 pandas를 이용하여 read\n",
    "\n",
    "sejong_dump = pd.read_csv('./csv/세종시.csv', encoding= 'CP949')\n",
    "\n",
    "sejong = sejong_dump.copy()\n"
   ]
  },
  {
   "cell_type": "code",
   "execution_count": 8,
   "metadata": {},
   "outputs": [],
   "source": [
    "# 2번 과정\n",
    "\n",
    "sejong.drop(['법정동코드', '특수지구분코드', '특수지구분명', '공동주택코드', '특수지명'], axis= 1, inplace= True)"
   ]
  },
  {
   "cell_type": "code",
   "execution_count": 9,
   "metadata": {},
   "outputs": [],
   "source": [
    "# 3번 과정\n",
    "\n",
    "    # 기준연도와 기준월을 문자로 합치기 위해 str 타입으로 변경\n",
    "\n",
    "sejong['기준연도'] =\\\n",
    "    sejong['기준연도'].map(\n",
    "        lambda x : str(x) + '년'\n",
    "    )\n",
    "\n",
    "sejong['기준월'] = \\\n",
    "    sejong['기준월'].map(\n",
    "        lambda x : str(x) + '월'\n",
    "    )\n",
    "\n",
    "sejong['기준연월'] = sejong['기준연도'] + sejong['기준월']"
   ]
  },
  {
   "cell_type": "code",
   "execution_count": 10,
   "metadata": {},
   "outputs": [],
   "source": [
    "# 4번 과정\n",
    "\n",
    "result = \\\n",
    "    sejong.pivot_table(\n",
    "        index= '기준연월',\n",
    "        columns = '공동주택구분명',\n",
    "        values= '공시가격',\n",
    "        aggfunc= 'mean',\n",
    "    )\n",
    "    \n",
    "    # 결측치를 0으로 대체\n",
    "\n",
    "result.fillna(0, inplace= True)"
   ]
  },
  {
   "cell_type": "code",
   "execution_count": 11,
   "metadata": {},
   "outputs": [
    {
     "name": "stdout",
     "output_type": "stream",
     "text": [
      "Requirement already satisfied: matplotlib in c:\\users\\user\\appdata\\local\\programs\\python\\python312\\lib\\site-packages (3.8.3)\n",
      "Requirement already satisfied: contourpy>=1.0.1 in c:\\users\\user\\appdata\\local\\programs\\python\\python312\\lib\\site-packages (from matplotlib) (1.2.0)\n",
      "Requirement already satisfied: cycler>=0.10 in c:\\users\\user\\appdata\\local\\programs\\python\\python312\\lib\\site-packages (from matplotlib) (0.12.1)\n",
      "Requirement already satisfied: fonttools>=4.22.0 in c:\\users\\user\\appdata\\local\\programs\\python\\python312\\lib\\site-packages (from matplotlib) (4.50.0)\n",
      "Requirement already satisfied: kiwisolver>=1.3.1 in c:\\users\\user\\appdata\\local\\programs\\python\\python312\\lib\\site-packages (from matplotlib) (1.4.5)\n",
      "Requirement already satisfied: numpy<2,>=1.21 in c:\\users\\user\\appdata\\local\\programs\\python\\python312\\lib\\site-packages (from matplotlib) (1.26.4)\n",
      "Requirement already satisfied: packaging>=20.0 in c:\\users\\user\\appdata\\roaming\\python\\python312\\site-packages (from matplotlib) (24.0)\n",
      "Requirement already satisfied: pillow>=8 in c:\\users\\user\\appdata\\local\\programs\\python\\python312\\lib\\site-packages (from matplotlib) (10.2.0)\n",
      "Requirement already satisfied: pyparsing>=2.3.1 in c:\\users\\user\\appdata\\local\\programs\\python\\python312\\lib\\site-packages (from matplotlib) (3.1.2)\n",
      "Requirement already satisfied: python-dateutil>=2.7 in c:\\users\\user\\appdata\\roaming\\python\\python312\\site-packages (from matplotlib) (2.9.0.post0)\n",
      "Requirement already satisfied: six>=1.5 in c:\\users\\user\\appdata\\roaming\\python\\python312\\site-packages (from python-dateutil>=2.7->matplotlib) (1.16.0)\n",
      "Note: you may need to restart the kernel to use updated packages.\n"
     ]
    }
   ],
   "source": [
    "# 그래프로 나타내기 위해 matplotlib 설치\n",
    "\n",
    "# matplotlib이 없는 환경을 위한 구문\n",
    "\n",
    "%pip install matplotlib\n",
    "\n",
    "import matplotlib.pyplot as plt"
   ]
  },
  {
   "cell_type": "code",
   "execution_count": 12,
   "metadata": {},
   "outputs": [],
   "source": [
    "# 폰트 변경을 위한 구문\n",
    "\n",
    "import platform\n",
    "\n",
    "if platform.system() == 'Darwin':\n",
    "    plt.rc('font', family = 'AppleGothic')\n",
    "else:\n",
    "    plt.rc('font', family = 'Malgun Gothic')    "
   ]
  },
  {
   "cell_type": "code",
   "execution_count": 13,
   "metadata": {},
   "outputs": [
    {
     "data": {
      "text/plain": [
       "<Axes: xlabel='기준연월'>"
      ]
     },
     "execution_count": 13,
     "metadata": {},
     "output_type": "execute_result"
    },
    {
     "data": {
      "image/png": "[encoded data removed]",
      "text/plain": [
       "<Figure size 640x480 with 1 Axes>"
      ]
     },
     "metadata": {},
     "output_type": "display_data"
    }
   ],
   "source": [
    "# 그래프를 바형으로 표시\n",
    "\n",
    "result.plot(kind= 'bar')"
   ]
  },
  {
   "cell_type": "markdown",
   "metadata": {},
   "source": [
    "코드 줄이기, 가독성 늘리기"
   ]
  }
 ],
 "metadata": {
  "kernelspec": {
   "display_name": "Python 3.10.4 64-bit",
   "language": "python",
   "name": "python3"
  },
  "language_info": {
   "codemirror_mode": {
    "name": "ipython",
    "version": 3
   },
   "file_extension": ".py",
   "mimetype": "text/x-python",
   "name": "python",
   "nbconvert_exporter": "python",
   "pygments_lexer": "ipython3",
   "version": "3.12.2"
  },
  "orig_nbformat": 4,
  "vscode": {
   "interpreter": {
    "hash": "eccee16ee1f2ca6b29c61e3c4642a90ff58e47b250cd293abf19e9e3b8422bd1"
   }
  }
 },
 "nbformat": 4,
 "nbformat_minor": 2
}
