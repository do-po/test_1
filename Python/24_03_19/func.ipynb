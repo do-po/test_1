{
 "cells": [
  {
   "cell_type": "code",
   "execution_count": 31,
   "metadata": {},
   "outputs": [],
   "source": [
    "## 함수 생성\n",
    "    ## 매개변수가 존재하지 않는 함수\n",
    "\n",
    "def func_1():\n",
    "    return 'Hello'\n",
    "\n",
    "\n",
    "def func_2():\n",
    "    print('Hello')\n",
    "\n",
    "     # return을 사용하지 않으면 함수의 결과값, return이 없다는 의미가 되기에 결과값을 변수에 담거나 다른 함수에 이용할 수 없다.\n",
    "\n"
   ]
  },
  {
   "cell_type": "code",
   "execution_count": 32,
   "metadata": {},
   "outputs": [
    {
     "name": "stdout",
     "output_type": "stream",
     "text": [
      "Hello\n"
     ]
    }
   ],
   "source": [
    "func_1()\n",
    "a = func_1()\n",
    "print(a)"
   ]
  },
  {
   "cell_type": "code",
   "execution_count": 33,
   "metadata": {},
   "outputs": [
    {
     "name": "stdout",
     "output_type": "stream",
     "text": [
      "Hello\n",
      "Hello\n",
      "None\n"
     ]
    }
   ],
   "source": [
    "func_2()\n",
    "b = func_2() # 여기서도 변수에 들어갈 수 없으니 Hello가 출력이 되는 모습을 볼 수 있다\n",
    "print(b) # func_2()의 결과물이 없으니 b에 대입될 데이터가 없음을 알 수 있다"
   ]
  },
  {
   "cell_type": "code",
   "execution_count": 34,
   "metadata": {},
   "outputs": [
    {
     "name": "stdout",
     "output_type": "stream",
     "text": [
      "Hello World\n",
      "Hello World\n"
     ]
    }
   ],
   "source": [
    "# 변수 생성\n",
    "    # 변수명1, 변수명2 = data1, data2\n",
    "        # 변수명1 = data1\n",
    "        # 변수명2 = data2\n",
    "\n",
    "def func_3():\n",
    "    a = 'Hello'\n",
    "    b = 'World'\n",
    "\n",
    "    return a, b\n",
    "\n",
    "res1 = func_3()\n",
    "\n",
    "print(res1[0], res1[1])\n",
    "\n",
    "'''res_a = res[0]\n",
    "res_b = res[1]''' # 이러면 변수를 너무 많이 만들어야 하기도 하고 귀찮아\n",
    "\n",
    "res_a, res_b = func_3() # 이런식으로 변수에 데이터를 넣어주기\n",
    "\n",
    "print(res_a, res_b)"
   ]
  },
  {
   "cell_type": "code",
   "execution_count": 42,
   "metadata": {},
   "outputs": [
    {
     "name": "stdout",
     "output_type": "stream",
     "text": [
      "8\n"
     ]
    }
   ],
   "source": [
    "## 매개변수가 존재하는 함수를 생성\n",
    "\n",
    "def func_4(x, y):\n",
    "    result = x + y\n",
    "    return result\n",
    "\n",
    "print(func_4(5, 3))"
   ]
  },
  {
   "cell_type": "code",
   "execution_count": 56,
   "metadata": {},
   "outputs": [
    {
     "ename": "SyntaxError",
     "evalue": "positional argument follows keyword argument (3181524286.py, line 9)",
     "output_type": "error",
     "traceback": [
      "\u001b[1;36m  Cell \u001b[1;32mIn[56], line 9\u001b[1;36m\u001b[0m\n\u001b[1;33m    print(func_4(x = 1, 3, y = 3))\u001b[0m\n\u001b[1;37m                                ^\u001b[0m\n\u001b[1;31mSyntaxError\u001b[0m\u001b[1;31m:\u001b[0m positional argument follows keyword argument\n"
     ]
    }
   ],
   "source": [
    "# 함수 호출 시 매개변수의 개수와 인자의 개수가 다르다면?\n",
    "    ## 에러 발생\n",
    "        # 에러에 positional argument라고 나오는데 이건 내가 (x, y) 값에 차례로 인자를 넣었고, 이를 순서, 혹은 위치 대로 넣으려다가 오류가 났다는 의미\n",
    "        # 위치에 따라 인자를 넣는 방식이라 positional argument라고 나옴\n",
    "        # x에 2개를 넣어버리면 key argument라고 나오려나 (keyword argument라고 나오네)\n",
    "\n",
    "func_4(1, 2, 3)\n",
    "\n",
    "func_4(x = 1, 3, y = 3)"
   ]
  },
  {
   "cell_type": "code",
   "execution_count": 39,
   "metadata": {},
   "outputs": [
    {
     "name": "stdout",
     "output_type": "stream",
     "text": [
      "1\t2\n"
     ]
    }
   ],
   "source": [
    "print(1, end = '\\t') # 이걸 보면 매개변수 'end'의 default 값은 \\n 이었던 것을 알 수 있음\n",
    "print(2)"
   ]
  },
  {
   "cell_type": "code",
   "execution_count": 47,
   "metadata": {},
   "outputs": [
    {
     "name": "stdout",
     "output_type": "stream",
     "text": [
      "9\n",
      "7\n",
      "12\n"
     ]
    }
   ],
   "source": [
    "# 기본값이 존재하는 함수를 생성\n",
    "\n",
    "def func_5(x, y = 5):\n",
    "    result = x + y\n",
    "    return result\n",
    "\n",
    "print(func_5(4))\n",
    "\n",
    "print(func_5(4, 3))\n",
    "\n",
    "print(func_5(x = 4, y = 8))"
   ]
  },
  {
   "cell_type": "code",
   "execution_count": 59,
   "metadata": {},
   "outputs": [
    {
     "name": "stdout",
     "output_type": "stream",
     "text": [
      "(1, 2, 3, 4, 5, 6)\n",
      "<class 'tuple'>\n"
     ]
    },
    {
     "data": {
      "text/plain": [
       "21"
      ]
     },
     "execution_count": 59,
     "metadata": {},
     "output_type": "execute_result"
    }
   ],
   "source": [
    "## 인자의 개수가 가변인 함수를 생성\n",
    "    # 인자에 *를 붙이자 ! MySQL이랑 비슷하네 :>\n",
    "\n",
    "def func_6(*args):\n",
    "    print(args)\n",
    "    print(type(args)) # 아항 인자들이 tuple로 들어오는고나\n",
    "    \n",
    "    '''\n",
    "    res = 0\n",
    "    for i in range(len(args)): or for i in args:\n",
    "        res += args[i]              res += i\n",
    "    return res\n",
    "    '''\n",
    "    \n",
    "    result = sum(args)\n",
    "    return result\n",
    "\n",
    "func_6(1, 2, 3, 4, 5, 6)"
   ]
  },
  {
   "cell_type": "code",
   "execution_count": null,
   "metadata": {},
   "outputs": [],
   "source": []
  }
 ],
 "metadata": {
  "kernelspec": {
   "display_name": "Python 3",
   "language": "python",
   "name": "python3"
  },
  "language_info": {
   "codemirror_mode": {
    "name": "ipython",
    "version": 3
   },
   "file_extension": ".py",
   "mimetype": "text/x-python",
   "name": "python",
   "nbconvert_exporter": "python",
   "pygments_lexer": "ipython3",
   "version": "3.12.2"
  }
 },
 "nbformat": 4,
 "nbformat_minor": 2
}
