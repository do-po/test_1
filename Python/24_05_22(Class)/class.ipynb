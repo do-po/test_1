{
 "cells": [
  {
   "cell_type": "markdown",
   "metadata": {},
   "source": [
    "### Class의 상속\n",
    "- 부모 클래스의 기능을 유지한 상태에서 자식 클래스가 부모 클래스의 기능(변수, 함수)을 추가하여 사용\n",
    "\n"
   ]
  },
  {
   "cell_type": "code",
   "execution_count": 8,
   "metadata": {},
   "outputs": [],
   "source": [
    "# 부모 클래스를 생성\n",
    "class User:\n",
    "    # 생성자 함수 : 유저의 정보를 입력받아서 독립 변수에 대입\n",
    "    \n",
    "    def __init__(self, _name, _age, _loc):\n",
    "        self.name = _name\n",
    "        self.age = _age\n",
    "        self.loc = _loc\n",
    "\n",
    "    # 유저의 정보를 출력해주는 함수 생성\n",
    "\n",
    "    def view_info(self):\n",
    "        result = f\"유저의 이름은 {self.name}, 나이는 {self.age}세, 거주 지역은 {self.loc}입니다.\"\n",
    "        return result"
   ]
  },
  {
   "cell_type": "code",
   "execution_count": 9,
   "metadata": {},
   "outputs": [
    {
     "data": {
      "text/plain": [
       "'유저의 이름은 Kim, 나이는 20세, 거주 지역은 서울입니다.'"
      ]
     },
     "execution_count": 9,
     "metadata": {},
     "output_type": "execute_result"
    }
   ],
   "source": [
    "# Class 생성\n",
    "\n",
    "user1 = User('Kim', 20, '서울')\n",
    "\n",
    "user1.view_info()"
   ]
  },
  {
   "cell_type": "code",
   "execution_count": 10,
   "metadata": {},
   "outputs": [
    {
     "data": {
      "text/plain": [
       "'유저의 이름은 Lee, 나이는 30세, 거주 지역은 경기입니다.'"
      ]
     },
     "execution_count": 10,
     "metadata": {},
     "output_type": "execute_result"
    }
   ],
   "source": [
    "user2 = User('Lee', 30, '경기')\n",
    "\n",
    "user2.view_info()"
   ]
  },
  {
   "cell_type": "markdown",
   "metadata": {},
   "source": [
    "### 자식 클래스\n",
    "- 클래스의 이름은 Walllet\n",
    "- User class의 기능(독립변수를 만들어 주는 생성자 함수((__init__()), 유저의 정보를 보여주는 함수(view_info())))을 상속받는다.\n",
    "- Wallet class에서만 사용할 수 있는 독립변수를 생성(지갑의 잔액, 구매한 물건의 목록)\n",
    "    - work() 함수를 생성\n",
    "        - 매개변수로 일의 종류(_type), 일의 기간(_time) 사용\n",
    "        - 일의 종류와 기간에 따라 독립변수 지갑의 잔액(_money)을 증가\n",
    "        - 리턴 값은 일을 하여 번 돈의 양(_income)과 현재 지갑의 잔액(_money)을 표시\n",
    "    \n",
    "    - outcome() 함수를 생성\n",
    "        - 매개변수로 구매한 물품(_goods)과 갯수(_cnt) 사용\n",
    "        - 구매하려는 물품의 가격과 개수를 이용하여 지갑의 잔액과 비교\n",
    "            - 잔액이 크거나 같다면 구매 성공\n",
    "                - 구매 가격만큼 잔액 감소\n",
    "                - 구매 물품의 목록에 추가 ({물품의 이름 : 물품의 개수})\n",
    "            - 잔액이 작다면 구매 실패\n",
    "                - 잔액 변동 없음\n",
    "                - 구매 물품의 목록에 추가하지 않음\n",
    "        - 현재 구매의 상태(성공 or 실패)와 현재 지갑의 잔액을 표시하여 되돌려준다."
   ]
  },
  {
   "cell_type": "markdown",
   "metadata": {},
   "source": [
    "#### 오버라이드 (덮어쓰기)\n",
    "- 기능을 덮어씌우는 부분\n",
    "    - 기능의 이름을 다시 작성하여 행동을 덮어씌우는 작업\n",
    "        - EX) replace(), map(), apply(), ...\n",
    "    - 자식 클래스에서 함수의 이름을 유지한 상태에서 다른 기능을 추가하거나 기능을 변형하기 위해 사용\n",
    "    - 부모 클래스와 자식 클래스에서 함수의 이름은 같지만 하는 기능은 다름 (부모 클래스의 기능은 그대로, 자식 클래스의 기능은 다르게)\n"
   ]
  },
  {
   "cell_type": "code",
   "execution_count": 123,
   "metadata": {},
   "outputs": [],
   "source": [
    "# 자식 클래스를 생성\n",
    "    # class 생성시 () 안에는 상속받을 부모 클래스를 넣는 것 (함수에서 괄호 안에 매개변수를 넣는 것과는 다르다 :>)\n",
    "\n",
    "class Wallet(User):\n",
    "    # 현재 User class의 생성자 함수, view_info() 함수를 상속받은 상태\n",
    "    \n",
    "    # 구매한 아이템의 목록을 빈 리스트로 작성\n",
    "    item_list = []\n",
    "\n",
    "    # 구매할 수 있는 아이템의 목록\n",
    "        # 이건 클래스 이용하는 모든 값들에 직접 연결되어서 추가 및 삭제가 가능하도록 만들기 위해 class 변수로 지정\n",
    "    items = {\n",
    "        'ipad_pro' : 3200000,\n",
    "        'mac_studio' : 13000000,\n",
    "        'vision_pro' : 4200000,\n",
    "        'soju' : 1350\n",
    "    }\n",
    "    \n",
    "    # 자식 클래스의 생성자 함수 생성\n",
    "    def __init__(self, _name, _age, _loc, _money = 0):\n",
    "        # self.name = _name\n",
    "        # self.age = _age 이렇게 써도 되지만 굳이 상속받는 이유가 없으니깐 아래처럼 적는다 :>\n",
    "        # 부모 클래스의 생성자 함수 호출\n",
    "        super().__init__(_name, _age, _loc)\n",
    "        self.money = _money\n",
    "\n",
    "\n",
    "\n",
    "    \n",
    "    # 일을 하는 함수를 생성\n",
    "\n",
    "    def work(self, _type, _time):\n",
    "        \n",
    "        # _type은 일의 종류(직급)\n",
    "        # _time은 일의 기간\n",
    "\n",
    "        if _type == '신입':\n",
    "            income = 3000000\n",
    "        elif _type == '대리':\n",
    "            income = 3500000\n",
    "        elif _type == '과장':\n",
    "            income = 5000000\n",
    "        else:\n",
    "            return '올바른 직급명이 아니거나 기간이 등록되지 않았습니다.'\n",
    "        total_income = income * _time\n",
    "        self.money += total_income\n",
    "\n",
    "        # 아래와 같은 구문도 가능 :>\n",
    "            # 아래 코드가 효율성이 더 좋음\n",
    "\n",
    "        # if _type == '신입':\n",
    "        #     self._money += 3000000 * _time\n",
    "        # elif _type == '대리':\n",
    "        #     self._money += 3500000 * _time\n",
    "        # elif _type == '과장':\n",
    "        #     self._money += 5000000 * _time\n",
    "        # else:\n",
    "        #     print('올바른 직급명이 아니거나 기간이 등록되지 않았습니다.')\n",
    "\n",
    "        return f\"{self.name}님이 번 돈은 {total_income}원이고, 현재 잔액은 {self.money}원 입니다.\"\n",
    "    \n",
    "\n",
    "\n",
    "    def outcome(self, _items, _cnt):\n",
    "        \n",
    "        # 상품의 가격을 호출해서 변수에 저장\n",
    "        try:\n",
    "            cost = self.items[_items]\n",
    "        except:\n",
    "            print('등록된 물품 정보가 존재하지 않습니다.')\n",
    "            cost = int(input(f\"{_items}의 가격을 입력해 주십시오\"))\n",
    "            if cost:\n",
    "                self.items.update({_items : cost})\n",
    "                # self.items[_items] : cost\n",
    "            else:\n",
    "                return '비용이 입력되지 않았거나 다른 문제가 발생했습니다.'\n",
    "            \n",
    "        total_cost = cost * _cnt\n",
    "\n",
    "        # 전체 비용과 지갑의 잔액을 비교\n",
    "\n",
    "        if self.money >= total_cost:\n",
    "            # 잔액이 충분하여 구매가 가능\n",
    "            # 구매를 진행 (self.item_list에 물건을 추가, self.money에서 total_cost를 차감)\n",
    "\n",
    "            self.item_list.append(\n",
    "                {\n",
    "                    _items : _cnt\n",
    "                }\n",
    "            )\n",
    "            self.money -= total_cost\n",
    "        else:\n",
    "            # 잔액이 부족하여 구매가 불가\n",
    "            # 구매를 진행하지 않고 알림 메시지 되돌려 준다\n",
    "\n",
    "            print('잔액이 부족하여 구매가 실패했습니다.')\n",
    "            \n",
    "            total_cost = 0\n",
    "        \n",
    "        return f'구매 금액은 {total_cost}원이고, 현재 잔액은 {self.money}입니다.'\n",
    "\n",
    "    def add_item(self, _item, _cost):\n",
    "        \n",
    "        # items에 등록하려는 key(_item)가 존재하는 경우\n",
    "\n",
    "        if _item in self.items.keys():\n",
    "            return '이미 등록된 물품입니다.'\n",
    "\n",
    "        # items에 등록하려는 key(_item)가 존재하지 않는 경우\n",
    "\n",
    "        else:\n",
    "            self.items[_item] = _cost\n",
    "            return f'등록하려는 상품 {_item}이 {_cost}원으로 정상 등록되었습니다.'\n",
    "        \n",
    "        # try self.items[_item]:\n",
    "        #     return '이미 등록된 물품입니다.'\n",
    "        \n",
    "        # except:\n",
    "        #     self.items[_item] = _cost\n",
    "        #     return f'등록하려는 상품 {_item}이 {_cost}원으로 정상 등록되었습니다.'\n",
    "\n",
    "    # User class에 있는 view_info() 함수를 덮어 씌운다 (override)\n",
    "        \n",
    "    def view_info(self):\n",
    "        return f'{super().view_info()}' + ' ' + f'지갑의 잔액은 {self.money}입니다. ' \\\n",
    "        + f'소유자 {self.name}이(가) 구매한 물품의 목록은 {self.item_list}입니다.'"
   ]
  },
  {
   "cell_type": "code",
   "execution_count": 124,
   "metadata": {},
   "outputs": [],
   "source": [
    "# Wallet class를 생성\n",
    "\n",
    "wallet1 = Wallet(_name= '이강희', _age= 26, _loc='묵1동')\n",
    "\n",
    "wallet2 = Wallet(_name='정우성', _age= 27, _loc= '당산')\n"
   ]
  },
  {
   "cell_type": "code",
   "execution_count": 125,
   "metadata": {},
   "outputs": [
    {
     "data": {
      "text/plain": [
       "'유저의 이름은 이강희, 나이는 26세, 거주 지역은 묵1동입니다. 지갑의 잔액은 0입니다. 소유자 이강희이(가) 구매한 물품의 목록은 []입니다.'"
      ]
     },
     "execution_count": 125,
     "metadata": {},
     "output_type": "execute_result"
    }
   ],
   "source": [
    "wallet1.view_info()"
   ]
  },
  {
   "cell_type": "code",
   "execution_count": 79,
   "metadata": {},
   "outputs": [
    {
     "data": {
      "text/plain": [
       "'유저의 이름은 정우성, 나이는 27세, 거주 지역은 당산입니다.'"
      ]
     },
     "execution_count": 79,
     "metadata": {},
     "output_type": "execute_result"
    }
   ],
   "source": [
    "wallet2.view_info()"
   ]
  },
  {
   "cell_type": "code",
   "execution_count": 80,
   "metadata": {},
   "outputs": [
    {
     "data": {
      "text/plain": [
       "'이강희님이 번 돈은 9000000원이고, 현재 잔액은 9000000원 입니다.'"
      ]
     },
     "execution_count": 80,
     "metadata": {},
     "output_type": "execute_result"
    }
   ],
   "source": [
    "wallet1.work('신입', 3)"
   ]
  },
  {
   "cell_type": "code",
   "execution_count": 81,
   "metadata": {},
   "outputs": [
    {
     "data": {
      "text/plain": [
       "'정우성님이 번 돈은 7000000원이고, 현재 잔액은 7000000원 입니다.'"
      ]
     },
     "execution_count": 81,
     "metadata": {},
     "output_type": "execute_result"
    }
   ],
   "source": [
    "wallet2.work('대리', 2)"
   ]
  },
  {
   "cell_type": "code",
   "execution_count": 82,
   "metadata": {},
   "outputs": [
    {
     "data": {
      "text/plain": [
       "9000000"
      ]
     },
     "execution_count": 82,
     "metadata": {},
     "output_type": "execute_result"
    }
   ],
   "source": [
    "wallet1.money"
   ]
  },
  {
   "cell_type": "code",
   "execution_count": 83,
   "metadata": {},
   "outputs": [
    {
     "data": {
      "text/plain": [
       "7000000"
      ]
     },
     "execution_count": 83,
     "metadata": {},
     "output_type": "execute_result"
    }
   ],
   "source": [
    "wallet2.money"
   ]
  },
  {
   "cell_type": "code",
   "execution_count": 84,
   "metadata": {},
   "outputs": [
    {
     "name": "stdout",
     "output_type": "stream",
     "text": [
      "등록된 물품 정보가 존재하지 않습니다.\n"
     ]
    },
    {
     "data": {
      "text/plain": [
       "'구매 금액은 9000000원이고, 현재 잔액은 0입니다.'"
      ]
     },
     "execution_count": 84,
     "metadata": {},
     "output_type": "execute_result"
    }
   ],
   "source": [
    "wallet1.outcome('whiskey', 30)"
   ]
  },
  {
   "cell_type": "code",
   "execution_count": 85,
   "metadata": {},
   "outputs": [
    {
     "data": {
      "text/plain": [
       "{'ipad_pro': 3200000,\n",
       " 'mac_studio': 13000000,\n",
       " 'vision_pro': 4200000,\n",
       " 'soju': 1350,\n",
       " 'whiskey': 300000}"
      ]
     },
     "execution_count": 85,
     "metadata": {},
     "output_type": "execute_result"
    }
   ],
   "source": [
    "Wallet.items"
   ]
  },
  {
   "cell_type": "code",
   "execution_count": 95,
   "metadata": {},
   "outputs": [
    {
     "data": {
      "text/plain": [
       "'이미 등록된 물품입니다.'"
      ]
     },
     "execution_count": 95,
     "metadata": {},
     "output_type": "execute_result"
    }
   ],
   "source": [
    "wallet1.add_item(_item='notebook', _cost=3000000)"
   ]
  },
  {
   "cell_type": "code",
   "execution_count": 113,
   "metadata": {},
   "outputs": [
    {
     "data": {
      "text/plain": [
       "'지갑 주인은 이강희이고, 지갑의 잔액은 0입니다. 소유자가 구매한 물품의 목록은 []입니다.'"
      ]
     },
     "execution_count": 113,
     "metadata": {},
     "output_type": "execute_result"
    }
   ],
   "source": [
    "wallet1.view_info()"
   ]
  }
 ],
 "metadata": {
  "kernelspec": {
   "display_name": "Python 3",
   "language": "python",
   "name": "python3"
  },
  "language_info": {
   "codemirror_mode": {
    "name": "ipython",
    "version": 3
   },
   "file_extension": ".py",
   "mimetype": "text/x-python",
   "name": "python",
   "nbconvert_exporter": "python",
   "pygments_lexer": "ipython3",
   "version": "3.12.2"
  }
 },
 "nbformat": 4,
 "nbformat_minor": 2
}
