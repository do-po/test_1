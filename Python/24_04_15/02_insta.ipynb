{
 "cells": [
  {
   "cell_type": "code",
   "execution_count": 23,
   "metadata": {},
   "outputs": [],
   "source": [
    "from selenium import webdriver\n",
    "from selenium.webdriver.common.by import By\n",
    "from selenium.webdriver.common.keys import Keys\n",
    "import pandas as pd\n",
    "import time\n",
    "from bs4 import BeautifulSoup as bs\n",
    "import os \n",
    "from dotenv import load_dotenv"
   ]
  },
  {
   "cell_type": "code",
   "execution_count": 24,
   "metadata": {},
   "outputs": [],
   "source": [
    "# 웹 브라우져를 실행 \n",
    "driver = webdriver.Chrome()"
   ]
  },
  {
   "cell_type": "code",
   "execution_count": 25,
   "metadata": {},
   "outputs": [],
   "source": [
    "## 인스타그램에 요청 \n",
    "driver.get('https://www.instagram.com')"
   ]
  },
  {
   "cell_type": "code",
   "execution_count": 26,
   "metadata": {},
   "outputs": [
    {
     "data": {
      "text/plain": [
       "True"
      ]
     },
     "execution_count": 26,
     "metadata": {},
     "output_type": "execute_result"
    }
   ],
   "source": [
    "load_dotenv()"
   ]
  },
  {
   "cell_type": "code",
   "execution_count": 27,
   "metadata": {},
   "outputs": [],
   "source": [
    "driver.implicitly_wait(10)\n",
    "# 인스타그램에 로그인 \n",
    "id_element = driver.find_element(\n",
    "    By.CSS_SELECTOR, \n",
    "    'input[name=\"username\"]')\n",
    "# id_element에 아이디 값(.env에 있는 id)을 입력 \n",
    "id_element.send_keys(os.getenv('id'))\n",
    "pass_element = driver.find_element(\n",
    "    By.CSS_SELECTOR, \n",
    "    'input[name=\"password\"]'\n",
    ")\n",
    "# pass_element에 패스워드(.env에 있는 password)를 입력\n",
    "pass_element.send_keys(os.getenv('password'))\n",
    "# time.sleep(2)\n",
    "# implicitly_wait() : html, css 정보가 모두 로드가 되면 시간에 무관하게 다음 코드가 실행\n",
    "# 입력한 시간이 초과될때 로드가 전부 안되어있으면 에러 발생\n",
    "driver.implicitly_wait(10)\n",
    "pass_element.send_keys(Keys.ENTER)"
   ]
  },
  {
   "cell_type": "code",
   "execution_count": 28,
   "metadata": {},
   "outputs": [],
   "source": [
    "# svg 태그 중 aria-label=\"검색\" 인 태그를 선택\n",
    "driver.implicitly_wait(10)\n",
    "search_element = driver.find_element(By.CSS_SELECTOR, \n",
    "                                     'svg[aria-label=\"검색\"]')\n",
    "# search_element를 클릭\n",
    "search_element.click()"
   ]
  },
  {
   "cell_type": "code",
   "execution_count": 29,
   "metadata": {},
   "outputs": [],
   "source": [
    "driver.implicitly_wait(10)\n",
    "# 검색창에 input 태그를 선택\n",
    "search_input = driver.find_element(By.CSS_SELECTOR, \n",
    "                                   'input[aria-label=\"입력 검색\"]')\n",
    "# search_input에 특정 문자열을 입력\n",
    "search_input.send_keys(\"구디맛집\")"
   ]
  },
  {
   "cell_type": "code",
   "execution_count": 30,
   "metadata": {},
   "outputs": [
    {
     "name": "stdout",
     "output_type": "stream",
     "text": [
      "54\n"
     ]
    }
   ],
   "source": [
    "driver.implicitly_wait(10)\n",
    "## 검색 리스트 전체를 검색\n",
    "    # CSS_SELECTOR == .~~ .~~ tag 구분을 .으로 하고 태그 안의 태그를 찾는 경우 사이에 공백을 둔다.\n",
    "list_element = driver.find_elements(\n",
    "    By.CSS_SELECTOR, \n",
    "    '.x9f619.x78zum5.xdt5ytf.x1iyjqo2.x6ikm8r.x1odjw0f.xh8yej3.xocp1fn .x1i10hfl'\n",
    ")\n",
    "print(len(list_element))\n",
    "# 검색 리스트에서 첫번째를 클릭 \n",
    "list_element[0].click() \n"
   ]
  },
  {
   "cell_type": "code",
   "execution_count": 9,
   "metadata": {},
   "outputs": [],
   "source": [
    "## 게시글 링크를 모두 찾는다. \n",
    "imgs = driver.find_elements(\n",
    "    By.CLASS_NAME, '_aagw'\n",
    ")\n",
    "# 게시글의 첫번째를 클릭 \n",
    "imgs[0].click()"
   ]
  },
  {
   "cell_type": "code",
   "execution_count": 10,
   "metadata": {},
   "outputs": [
    {
     "data": {
      "text/plain": [
       "{'ID': ['noriter486'],\n",
       " 'Commet': ['오랜만에 소식을 전하네요~😆  봄 맞이 신메뉴가 등장 했슴돠~두둥두둥💢💥  고객님들의 반응도 좋고~ 맥주안주, 하이볼과도 찰떡🫰  튀김메뉴도 늘어나고~ 퓨전요리들로 새롭게 꾸며보려해요  1.첫번째 메뉴로는 퓨전멕시코요리 입니다.💯💯💯  드셔본분도 있으실거예요 예전#놀이터_전통주주점 에서도  선보였던 메뉴 랍니다 \"김치까르니따스\"  감튀와 볶음김치, 멕시코식 돼지고기요리 등등..  느끼하지 않으면서 궁합이 좋은 메뉴예요 ㅎㅎ  2.날치알 제육과 계란찜의 조합! 말해모해요 ㅋ💫💣  3.코로나니따와 데낄라의 조합!!🙈🙉  병째 즐기는 데낄라 썬라이즈 칵테일 입니다  놀러들 오세요~']}"
      ]
     },
     "execution_count": 10,
     "metadata": {},
     "output_type": "execute_result"
    }
   ],
   "source": [
    "# 게시물에서 텍스트를 추출 \n",
    "\n",
    "# Class가 _a9zc인 태그의 수 \n",
    "# len(driver.find_elements(By.CLASS_NAME, '_a9zs'))\n",
    "\n",
    "ids = driver.find_elements(By.CLASS_NAME, '_a9zc')\n",
    "commets = driver.find_elements(By.CLASS_NAME, '_a9zs')\n",
    "\n",
    "# 데이터프레임에 대입할 변수를 생성 \n",
    "data = {\n",
    "    'ID': [], \n",
    "    'Commet' : []\n",
    "}\n",
    "\n",
    "# for id in ids:\n",
    "#     print(id.text)\n",
    "# for commet in commets:\n",
    "#     print(commet.text.replace('\\n', ' '))\n",
    "\n",
    "# for i in range(len(ids)):\n",
    "#     print(ids[i].text)\n",
    "#     print(commets[i].text.replace(\"\\n\", \" \"))\n",
    "\n",
    "for id, commet in zip(ids, commets):\n",
    "    # print(id.text)\n",
    "    # print(commet.text.replace('\\n', ' '))\n",
    "    data['ID'].append(id.text)\n",
    "    data['Commet'].append(commet.text.replace('\\n', ' '))\n",
    "data"
   ]
  },
  {
   "cell_type": "code",
   "execution_count": 11,
   "metadata": {},
   "outputs": [
    {
     "data": {
      "text/html": [
       "<div>\n",
       "<style scoped>\n",
       "    .dataframe tbody tr th:only-of-type {\n",
       "        vertical-align: middle;\n",
       "    }\n",
       "\n",
       "    .dataframe tbody tr th {\n",
       "        vertical-align: top;\n",
       "    }\n",
       "\n",
       "    .dataframe thead th {\n",
       "        text-align: right;\n",
       "    }\n",
       "</style>\n",
       "<table border=\"1\" class=\"dataframe\">\n",
       "  <thead>\n",
       "    <tr style=\"text-align: right;\">\n",
       "      <th></th>\n",
       "      <th>ID</th>\n",
       "      <th>Commet</th>\n",
       "    </tr>\n",
       "  </thead>\n",
       "  <tbody>\n",
       "    <tr>\n",
       "      <th>0</th>\n",
       "      <td>noriter486</td>\n",
       "      <td>오랜만에 소식을 전하네요~😆  봄 맞이 신메뉴가 등장 했슴돠~두둥두둥💢💥  고객님들...</td>\n",
       "    </tr>\n",
       "  </tbody>\n",
       "</table>\n",
       "</div>"
      ],
      "text/plain": [
       "           ID                                             Commet\n",
       "0  noriter486  오랜만에 소식을 전하네요~😆  봄 맞이 신메뉴가 등장 했슴돠~두둥두둥💢💥  고객님들..."
      ]
     },
     "execution_count": 11,
     "metadata": {},
     "output_type": "execute_result"
    }
   ],
   "source": [
    "df = pd.DataFrame(data)\n",
    "df"
   ]
  },
  {
   "cell_type": "code",
   "execution_count": 12,
   "metadata": {},
   "outputs": [],
   "source": [
    "# 다음 게시글로 이동하는 버튼을 선택 \n",
    "next_element = driver.find_element(By.CSS_SELECTOR, \n",
    "                                   '._aaqg ._abl-')\n",
    "next_element.click()"
   ]
  },
  {
   "cell_type": "markdown",
   "metadata": {},
   "source": [
    "#### 위의 과정을 아래의 코드로 통짜 실행"
   ]
  },
  {
   "cell_type": "code",
   "execution_count": 9,
   "metadata": {},
   "outputs": [
    {
     "name": "stdout",
     "output_type": "stream",
     "text": [
      "3\n",
      "3\n",
      "1\n",
      "1\n",
      "3\n",
      "3\n"
     ]
    }
   ],
   "source": [
    "## 게시글 링크를 모두 찾는다. \n",
    "imgs = driver.find_elements(\n",
    "    By.CLASS_NAME, '_aagw'\n",
    ")\n",
    "# 게시글의 첫번째를 클릭 \n",
    "imgs[0].click()\n",
    "\n",
    "# data를 저장할 공간 생성\n",
    "data = {\n",
    "    'ID' : [], \n",
    "    'Commet' : []\n",
    "}\n",
    "\n",
    "driver.implicitly_wait(20)\n",
    "for i in range(3):\n",
    "    # 다음 버튼이 존재하지 않으면 ? -> 에러 발생 \n",
    "    # try 구문을 이용하여 에러 발생시 print로 출력\n",
    "    try:\n",
    "        driver.implicitly_wait(20)\n",
    "        # ids = driver.find_elements(By.CLASS_NAME, '_a9zc')\n",
    "        # commets = driver.find_elements(By.CLASS_NAME, '_a9zs')\n",
    "        ids = driver.find_elements(By.CSS_SELECTOR, \n",
    "                                   'h2[class=\"_a9zc\"]')\n",
    "        ids.extend(\n",
    "            driver.find_elements(By.CSS_SELECTOR, \n",
    "                                 'h3[class=\"_a9zc\"]')\n",
    "        )\n",
    "        commets = driver.find_elements(By.CSS_SELECTOR, \n",
    "                                       'div[class=\"_a9zs\"]')\n",
    "        print(len(ids))\n",
    "        print(len(commets))\n",
    "        for id, commet in zip(ids, commets):\n",
    "            data['ID'].append(id.text)\n",
    "            data['Commet'].append(commet.text.replace('\\n', ' '))\n",
    "        next_element = driver.find_element(By.CSS_SELECTOR, \n",
    "                                           '._aaqg ._abl-')\n",
    "        next_element.click()\n",
    "    except:\n",
    "        print('다음 버튼이 존재하지 않거나 에러 발생')\n",
    "# 게시물을 닫아준다. \n",
    "close_element = driver.find_element(By.CSS_SELECTOR, \n",
    "                                    'svg[aria-label=\"닫기\"]')\n",
    "close_element.click()\n",
    "df = pd.DataFrame(data)"
   ]
  },
  {
   "cell_type": "code",
   "execution_count": 29,
   "metadata": {},
   "outputs": [
    {
     "data": {
      "text/html": [
       "<div>\n",
       "<style scoped>\n",
       "    .dataframe tbody tr th:only-of-type {\n",
       "        vertical-align: middle;\n",
       "    }\n",
       "\n",
       "    .dataframe tbody tr th {\n",
       "        vertical-align: top;\n",
       "    }\n",
       "\n",
       "    .dataframe thead th {\n",
       "        text-align: right;\n",
       "    }\n",
       "</style>\n",
       "<table border=\"1\" class=\"dataframe\">\n",
       "  <thead>\n",
       "    <tr style=\"text-align: right;\">\n",
       "      <th></th>\n",
       "      <th>ID</th>\n",
       "      <th>Commet</th>\n",
       "    </tr>\n",
       "  </thead>\n",
       "  <tbody>\n",
       "    <tr>\n",
       "      <th>0</th>\n",
       "      <td>noriter486</td>\n",
       "      <td>오랜만에 소식을 전하네요~😆  봄 맞이 신메뉴가 등장 했슴돠~두둥두둥💢💥  고객님들...</td>\n",
       "    </tr>\n",
       "    <tr>\n",
       "      <th>1</th>\n",
       "      <td>noriter486_zzang</td>\n",
       "      <td>👏👏👏👏👏</td>\n",
       "    </tr>\n",
       "    <tr>\n",
       "      <th>2</th>\n",
       "      <td>noriter486</td>\n",
       "      <td>👏👏👏👏</td>\n",
       "    </tr>\n",
       "    <tr>\n",
       "      <th>3</th>\n",
       "      <td>noriter486</td>\n",
       "      <td>매장 먼지 테러로 인한 심각한 피해 상황 ㅡㅡ 옆매장 공사로 인한 강제 문닫음 ㅠㅠ...</td>\n",
       "    </tr>\n",
       "    <tr>\n",
       "      <th>4</th>\n",
       "      <td>noriter486_zzang</td>\n",
       "      <td>#다이슨#다이슨팝업 @dyson_kr #createwithdyson 체험</td>\n",
       "    </tr>\n",
       "    <tr>\n",
       "      <th>5</th>\n",
       "      <td>cuteponnu686</td>\n",
       "      <td>🅳🅼 확인부탁드려요(숨겨진 요청에 있을수도 있어요).</td>\n",
       "    </tr>\n",
       "    <tr>\n",
       "      <th>6</th>\n",
       "      <td>blidge.review</td>\n",
       "      <td>안녕하세요 : ) 체험단 무료모집 관련해서 DM 드렸습니다. 확인 부탁드립니다 !</td>\n",
       "    </tr>\n",
       "  </tbody>\n",
       "</table>\n",
       "</div>"
      ],
      "text/plain": [
       "                 ID                                             Commet\n",
       "0        noriter486  오랜만에 소식을 전하네요~😆  봄 맞이 신메뉴가 등장 했슴돠~두둥두둥💢💥  고객님들...\n",
       "1  noriter486_zzang                                              👏👏👏👏👏\n",
       "2        noriter486                                               👏👏👏👏\n",
       "3        noriter486  매장 먼지 테러로 인한 심각한 피해 상황 ㅡㅡ 옆매장 공사로 인한 강제 문닫음 ㅠㅠ...\n",
       "4  noriter486_zzang           #다이슨#다이슨팝업 @dyson_kr #createwithdyson 체험\n",
       "5      cuteponnu686                      🅳🅼 확인부탁드려요(숨겨진 요청에 있을수도 있어요).\n",
       "6     blidge.review      안녕하세요 : ) 체험단 무료모집 관련해서 DM 드렸습니다. 확인 부탁드립니다 !"
      ]
     },
     "execution_count": 29,
     "metadata": {},
     "output_type": "execute_result"
    }
   ],
   "source": [
    "df"
   ]
  },
  {
   "cell_type": "code",
   "execution_count": 21,
   "metadata": {},
   "outputs": [
    {
     "name": "stdout",
     "output_type": "stream",
     "text": [
      "Requirement already satisfied: konlpy in c:\\users\\user\\appdata\\local\\programs\\python\\python312\\lib\\site-packages (0.6.0)\n",
      "Requirement already satisfied: JPype1>=0.7.0 in c:\\users\\user\\appdata\\local\\programs\\python\\python312\\lib\\site-packages (from konlpy) (1.5.0)\n",
      "Requirement already satisfied: lxml>=4.1.0 in c:\\users\\user\\appdata\\local\\programs\\python\\python312\\lib\\site-packages (from konlpy) (5.1.0)\n",
      "Requirement already satisfied: numpy>=1.6 in c:\\users\\user\\appdata\\local\\programs\\python\\python312\\lib\\site-packages (from konlpy) (1.26.4)\n",
      "Requirement already satisfied: packaging in c:\\users\\user\\appdata\\roaming\\python\\python312\\site-packages (from JPype1>=0.7.0->konlpy) (24.0)\n"
     ]
    }
   ],
   "source": [
    "# !pip install konlpy"
   ]
  },
  {
   "cell_type": "code",
   "execution_count": 10,
   "metadata": {},
   "outputs": [],
   "source": [
    "from konlpy.tag import Okt\n",
    "\n",
    "# 문자에서 형태소를 분석하는 class\n",
    "okt = Okt()"
   ]
  },
  {
   "cell_type": "code",
   "execution_count": 11,
   "metadata": {},
   "outputs": [],
   "source": [
    "# 문자의 형태를 분석\n",
    "nouns = okt.nouns(df.loc[0, 'Commet'])"
   ]
  },
  {
   "cell_type": "code",
   "execution_count": 12,
   "metadata": {},
   "outputs": [
    {
     "data": {
      "text/plain": [
       "['만',\n",
       " '소식',\n",
       " '전하',\n",
       " '봄',\n",
       " '맞이',\n",
       " '메뉴',\n",
       " '등장',\n",
       " '했슴돠',\n",
       " '두둥두둥',\n",
       " '고객',\n",
       " '반응',\n",
       " '맥주',\n",
       " '안주',\n",
       " '하이',\n",
       " '볼',\n",
       " '찰떡',\n",
       " '튀김',\n",
       " '메뉴',\n",
       " '퓨전',\n",
       " '요리',\n",
       " '해',\n",
       " '첫',\n",
       " '메뉴',\n",
       " '퓨전',\n",
       " '멕시코',\n",
       " '요리',\n",
       " '본분',\n",
       " '예전',\n",
       " '놀이터',\n",
       " '전통주',\n",
       " '주점',\n",
       " '메뉴',\n",
       " '르니따스',\n",
       " '감',\n",
       " '볶음',\n",
       " '김치',\n",
       " '멕시코',\n",
       " '돼지고기',\n",
       " '요리',\n",
       " '등등',\n",
       " '궁합',\n",
       " '메뉴',\n",
       " '날치',\n",
       " '알',\n",
       " '제육',\n",
       " '계란찜',\n",
       " '조합',\n",
       " '말',\n",
       " '모해',\n",
       " '코로나',\n",
       " '데',\n",
       " '의',\n",
       " '조합',\n",
       " '병',\n",
       " '데',\n",
       " '라이즈',\n",
       " '칵테일']"
      ]
     },
     "execution_count": 12,
     "metadata": {},
     "output_type": "execute_result"
    }
   ],
   "source": [
    "nouns"
   ]
  },
  {
   "cell_type": "code",
   "execution_count": 13,
   "metadata": {},
   "outputs": [],
   "source": [
    "# nouns에서 글자 수가 1인 데이터를 제외\n",
    "\n",
    "words = [n for n in nouns if len(n) > 1]"
   ]
  },
  {
   "cell_type": "code",
   "execution_count": 14,
   "metadata": {},
   "outputs": [
    {
     "data": {
      "text/plain": [
       "['소식',\n",
       " '전하',\n",
       " '맞이',\n",
       " '메뉴',\n",
       " '등장',\n",
       " '했슴돠',\n",
       " '두둥두둥',\n",
       " '고객',\n",
       " '반응',\n",
       " '맥주',\n",
       " '안주',\n",
       " '하이',\n",
       " '찰떡',\n",
       " '튀김',\n",
       " '메뉴',\n",
       " '퓨전',\n",
       " '요리',\n",
       " '메뉴',\n",
       " '퓨전',\n",
       " '멕시코',\n",
       " '요리',\n",
       " '본분',\n",
       " '예전',\n",
       " '놀이터',\n",
       " '전통주',\n",
       " '주점',\n",
       " '메뉴',\n",
       " '르니따스',\n",
       " '볶음',\n",
       " '김치',\n",
       " '멕시코',\n",
       " '돼지고기',\n",
       " '요리',\n",
       " '등등',\n",
       " '궁합',\n",
       " '메뉴',\n",
       " '날치',\n",
       " '제육',\n",
       " '계란찜',\n",
       " '조합',\n",
       " '모해',\n",
       " '코로나',\n",
       " '조합',\n",
       " '라이즈',\n",
       " '칵테일']"
      ]
     },
     "execution_count": 14,
     "metadata": {},
     "output_type": "execute_result"
    }
   ],
   "source": [
    "words"
   ]
  },
  {
   "cell_type": "code",
   "execution_count": 17,
   "metadata": {},
   "outputs": [
    {
     "data": {
      "text/plain": [
       "0    [소식, 전하, 맞이, 메뉴, 등장, 했슴돠, 두둥두둥, 고객, 반응, 맥주, 안주...\n",
       "1                                                     \n",
       "2                                                     \n",
       "3    [매장, 먼지, 테러, 피해, 상황, 매장, 공사, 강제, 예약, 손님, 죄송, 누...\n",
       "4                                        [다이슨, 팝업, 체험]\n",
       "5                                             [확인, 요청]\n",
       "6                                 [체험, 무료, 모집, 관련, 확인]\n",
       "Name: Commet, dtype: object"
      ]
     },
     "execution_count": 17,
     "metadata": {},
     "output_type": "execute_result"
    }
   ],
   "source": [
    "# case1 (map을 이용)\n",
    "\n",
    "def return_words(x):\n",
    "    nouns = okt.nouns(x)\n",
    "\n",
    "    # 이모티콘만 있는 경우 제외하기 위한 조건문\n",
    "    if nouns :\n",
    "        words = [n for n in nouns if len(n) > 1]\n",
    "    else:\n",
    "        words = ''\n",
    "\n",
    "    return words\n",
    "\n",
    "df['Commet'].map(return_words)"
   ]
  },
  {
   "cell_type": "code",
   "execution_count": 20,
   "metadata": {},
   "outputs": [],
   "source": [
    "# for 반복문을 이용\n",
    "\n",
    "col_data = []\n",
    "\n",
    "for i in range(len(df)):\n",
    "    nouns = okt.nouns(df.loc[i, 'Commet'])\n",
    "    if nouns:\n",
    "        words = [n for n in nouns if len(n) > 1] # 리스트 컴프리헨션, n == 표현식 for  항목 in 반복가능객체 if 조건문\n",
    "                                                    # for문과 조건문을 한 줄로 사용하기 위해 사용하는 구문임\n",
    "    else:\n",
    "        words = ''\n",
    "    col_data.append(words)\n",
    "    \n",
    "df['words2'] = col_data"
   ]
  },
  {
   "cell_type": "code",
   "execution_count": 22,
   "metadata": {},
   "outputs": [],
   "source": [
    "df.to_csv('test.csv')"
   ]
  },
  {
   "cell_type": "code",
   "execution_count": 41,
   "metadata": {},
   "outputs": [],
   "source": [
    "import requests"
   ]
  },
  {
   "cell_type": "code",
   "execution_count": 50,
   "metadata": {},
   "outputs": [],
   "source": [
    "# 이미지를 저장하는 함수를 생성\n",
    "\n",
    "def image_save(img_path, save_path, file_name):\n",
    "    html_data = requests.get(img_path)\n",
    "    imageFile = open(\n",
    "        os.path.join(\n",
    "            save_path,\n",
    "            file_name\n",
    "        ),\n",
    "        'wb' # write binary, open 함수의 mode를 쓰기 모드로 설정 해 주는 것.\n",
    "    )\n",
    "\n",
    "    # 이미지 데이터의 크기\n",
    "\n",
    "    chunk_size = 100000000 # 크기 기준은 byte\n",
    "    for chunk in html_data.iter_content(chunk_size): # html 응답 데이터를 조각(chunk) 단위로 반복적으로 읽어오는 함수\n",
    "        imageFile.write(chunk)\n",
    "        imageFile.close()\n",
    "    print('파일 저장 완료')"
   ]
  },
  {
   "cell_type": "code",
   "execution_count": 53,
   "metadata": {},
   "outputs": [
    {
     "name": "stdout",
     "output_type": "stream",
     "text": [
      "https://scontent.cdninstagram.com/v/t51.29350-15/431751142_3694731790795441_3537009666366567387_n.heic?stp=dst-jpg_e35&efg=eyJ2ZW5jb2RlX3RhZyI6ImltYWdlX3VybGdlbi4xNDQweDE0NDAuc2RyLmYyOTM1MCJ9&_nc_ht=scontent.cdninstagram.com&_nc_cat=101&_nc_ohc=6VU_dVPjp_YAb4QTs6b&edm=APs17CUBAAAA&ccb=7-5&ig_cache_key=MzMxODQzMDg1MDk1MzYzMTY5MA%3D%3D.2-ccb7-5&oh=00_AfCf76uUmAPrY3HaUFjVEEQez2w1CO6D0p-GcIAPgUG8NQ&oe=662285C9&_nc_sid=10d13b\n",
      "파일 저장 완료\n",
      "https://scontent.cdninstagram.com/v/t51.29350-15/412779690_2152180555126192_4803143512538141057_n.heic?stp=dst-jpg_e35&efg=eyJ2ZW5jb2RlX3RhZyI6ImltYWdlX3VybGdlbi4xNDQweDE4MDAuc2RyLmYyOTM1MCJ9&_nc_ht=scontent.cdninstagram.com&_nc_cat=104&_nc_ohc=hlOIQkllAfUAb4AIoXX&edm=APs17CUBAAAA&ccb=7-5&ig_cache_key=MzI2NjA4NjU2NjgwODM2MjQ0Mg%3D%3D.2-ccb7-5&oh=00_AfAfGBBL6zbFvme2SLAzVS0gjO5gg98L27pyVB_-B5drKw&oe=662286D7&_nc_sid=10d13b\n",
      "파일 저장 완료\n",
      "https://scontent-ssn1-1.cdninstagram.com/v/t51.29350-15/330825053_723258659335830_5217489359993013875_n.webp?stp=dst-jpg_e35&efg=eyJ2ZW5jb2RlX3RhZyI6ImltYWdlX3VybGdlbi4xNDQweDE0NDAuc2RyLmYyOTM1MCJ9&_nc_ht=scontent-ssn1-1.cdninstagram.com&_nc_cat=106&_nc_ohc=P1iA5XemkmIAb5Q6Cb-&edm=AA5fTDYBAAAA&ccb=7-5&ig_cache_key=MzAzOTE3MzQ4MDUzNjE0MjA3Mg%3D%3D.2-ccb7-5&oh=00_AfDvhhyXOc0Wqg5kN3OdspjmzMcJyo-hDChahsAzCHP0aw&oe=6620C494&_nc_sid=cf751b\n",
      "파일 저장 완료\n"
     ]
    }
   ],
   "source": [
    "imgs = driver.find_elements(By.CLASS_NAME, '_aagw')\n",
    "imgs[0].click()\n",
    "\n",
    "driver.implicitly_wait(10)\n",
    "\n",
    "for i in range(3):\n",
    "\n",
    "    try:\n",
    "        # 이미지를 저장\n",
    "            # _aa20 없애도 되는건 겹치는 태그들을 선택해도 되는건데 _aa20이 없는 이미지에서 _aa20 태그를 있는 조건으로 뽑으려다보니 error 생기는 것임\n",
    "        img_element = driver.find_element(By.CSS_SELECTOR,\n",
    "                                          '._aagu._aato ._aagv .x5yr21d.xu96u03.x10l6tqk.x13vifvy.x87ps6o.xh8yej3')\n",
    "        # 해당하는 이미지 태그에서 src 속성의 값을 출력\n",
    "        img_src = img_element.get_attribute('src')\n",
    "        print(img_src)\n",
    "\n",
    "        image_save(img_src,\n",
    "                   './',\n",
    "                   f'{i}.png')\n",
    "\n",
    "        # 다음 버튼 클릭\n",
    "        next_element = driver.find_element(By.CSS_SELECTOR, '._aaqg ._abl-')\n",
    "        next_element.click()\n",
    "\n",
    "    except:\n",
    "        print('Error Occur')\n",
    "\n",
    "        # 이미지가 아닌 비디오가 올라와 있을 때 다음 이미지로 넘어가기 위한 버튼\n",
    "        next_element = driver.find_element(By.CSS_SELECTOR, '._aaqg ._abl-')\n",
    "        next_element.click()"
   ]
  },
  {
   "cell_type": "code",
   "execution_count": 1,
   "metadata": {},
   "outputs": [],
   "source": [
    "# 외부의 모듈을 로드\n",
    "\n",
    "import insta"
   ]
  },
  {
   "cell_type": "code",
   "execution_count": 7,
   "metadata": {},
   "outputs": [
    {
     "data": {
      "text/plain": [
       "<module 'insta' from 'c:\\\\Users\\\\USER\\\\Documents\\\\GitHub\\\\test_1\\\\Python\\\\24_04_15\\\\insta.py'>"
      ]
     },
     "execution_count": 7,
     "metadata": {},
     "output_type": "execute_result"
    }
   ],
   "source": [
    "# 강종하지 않고 reload\n",
    "\n",
    "import importlib\n",
    "importlib.reload(insta)"
   ]
  },
  {
   "cell_type": "code",
   "execution_count": 9,
   "metadata": {},
   "outputs": [
    {
     "name": "stdout",
     "output_type": "stream",
     "text": [
      "파일 저장 완료\n",
      "파일 저장 완료\n",
      "파일 저장 완료\n"
     ]
    }
   ],
   "source": [
    "insta.search_insta('저메추')"
   ]
  },
  {
   "cell_type": "code",
   "execution_count": null,
   "metadata": {},
   "outputs": [],
   "source": []
  }
 ],
 "metadata": {
  "kernelspec": {
   "display_name": "Python 3",
   "language": "python",
   "name": "python3"
  },
  "language_info": {
   "codemirror_mode": {
    "name": "ipython",
    "version": 3
   },
   "file_extension": ".py",
   "mimetype": "text/x-python",
   "name": "python",
   "nbconvert_exporter": "python",
   "pygments_lexer": "ipython3",
   "version": "3.12.2"
  }
 },
 "nbformat": 4,
 "nbformat_minor": 2
}
