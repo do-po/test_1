{
 "cells": [
  {
   "cell_type": "code",
   "execution_count": null,
   "metadata": {},
   "outputs": [],
   "source": [
    "a = 10\n"
   ]
  },
  {
   "cell_type": "code",
   "execution_count": null,
   "metadata": {},
   "outputs": [],
   "source": []
  },
  {
   "cell_type": "markdown",
   "metadata": {},
   "source": [
    "# 제목 1\n",
    "## 제목 2\n",
    "### 제목 3\n",
    "#### 제목 4\n",
    "\n",
    "### 비순서형 목록\n",
    "- 비순서\n",
    "    - 세부 비순서\n",
    "\n",
    "### 순서형 목록\n",
    "1. 항목 1\n",
    "    1. 서브 1\n",
    "    3. 서브 2\n",
    "3. 항목 2\n",
    "4. 항목 3"
   ]
  },
  {
   "cell_type": "code",
   "execution_count": null,
   "metadata": {},
   "outputs": [],
   "source": [
    "# 주석주석\n",
    "# 주석주석주석\n",
    "# 주석은 cnt /\n",
    "\n"
   ]
  },
  {
   "cell_type": "code",
   "execution_count": null,
   "metadata": {},
   "outputs": [],
   "source": [
    "# 변수를 생성\n",
    "\n",
    "a = 10\n",
    "b = 'test'"
   ]
  },
  {
   "cell_type": "code",
   "execution_count": null,
   "metadata": {},
   "outputs": [],
   "source": [
    "print(a)\n",
    "print(type(a))\n",
    "print(b)\n",
    "print(type(b))"
   ]
  },
  {
   "cell_type": "code",
   "execution_count": null,
   "metadata": {},
   "outputs": [],
   "source": [
    "c = True\n",
    "d = 3.14\n",
    "\n",
    "print(c)\n",
    "print(type(c))\n",
    "print(d)\n",
    "print(type(d))"
   ]
  },
  {
   "cell_type": "code",
   "execution_count": null,
   "metadata": {},
   "outputs": [],
   "source": [
    "# 데이터의 타입을 변경\n",
    "\n",
    "x = '1000'\n",
    "print('x', type(x))\n",
    "x = int()\n",
    "print('x', type(x))\n",
    "x = str()\n",
    "print('x', type(x))\n",
    "y = 'test'\n",
    "print('y', type(y))\n",
    "y = bool()\n",
    "print('y', type(y))\n",
    "print(y)"
   ]
  },
  {
   "cell_type": "code",
   "execution_count": null,
   "metadata": {},
   "outputs": [],
   "source": [
    "# bool에 문자 포함이면 True, 비어있으면 False\n",
    "# str \"\", int 0, list [], tuple (), dict {} 인 경우 False\n",
    "\n",
    "bool()\n",
    "bool(\" \")"
   ]
  },
  {
   "cell_type": "code",
   "execution_count": null,
   "metadata": {},
   "outputs": [],
   "source": [
    "#  연산자\n",
    "\n",
    "a = 10\n",
    "b = 3\n",
    "\n",
    "a + b"
   ]
  },
  {
   "cell_type": "code",
   "execution_count": null,
   "metadata": {},
   "outputs": [],
   "source": [
    "# 대입 연산자\n",
    "# 이러면 a 라는 변수에 값이 담기기에 값이 출력되지 않음\n",
    "\n",
    "a = a + b\n",
    "a += b"
   ]
  },
  {
   "cell_type": "code",
   "execution_count": null,
   "metadata": {},
   "outputs": [],
   "source": [
    "print(a)"
   ]
  },
  {
   "cell_type": "code",
   "execution_count": null,
   "metadata": {},
   "outputs": [],
   "source": [
    "# 조건문 (if문)\n",
    "\n",
    "a = 5\n",
    "\n",
    "if a < 10:\n",
    "    print('a가 10보다 작다')"
   ]
  },
  {
   "cell_type": "code",
   "execution_count": null,
   "metadata": {},
   "outputs": [],
   "source": [
    "a = 11\n",
    "\n",
    "if a < 10:\n",
    "    print('a가 10보다 작다')\n",
    "else:\n",
    "    print('a가 10보다 크거나 같다')"
   ]
  },
  {
   "cell_type": "code",
   "execution_count": null,
   "metadata": {},
   "outputs": [],
   "source": [
    "x = 'test'\n",
    "\n",
    "# if 뒷 조건식에 조건식이 아닌 변수가 들어온다면\n",
    "# 해당하는 변수를 강제로 bool 형태로 변환하여 비교\n",
    "\n",
    "if x:\n",
    "    print('x에는 데이터가 존재한다')\n",
    "else:\n",
    "    print('x에는 데이터가 존재하지 않는다')\n"
   ]
  },
  {
   "cell_type": "code",
   "execution_count": null,
   "metadata": {},
   "outputs": [],
   "source": [
    "# 조건식이 여러개인 경우\n",
    "\n",
    "# int() == 데이터를 숫자로 변경\n",
    "# input() == 입력한 데이터를 받는다 / 받는 데이터의 타입은 str\n",
    "score = int(input('점수를 입력하시오 : '))\n",
    "\n",
    "\"\"\"print(score) \"\"\"\n",
    "\n",
    "if score >= 90:\n",
    "    print('A')\n",
    "elif score >= 80:\n",
    "    print('B')\n",
    "elif score >= 70:\n",
    "    print('C')\n",
    "elif score >= 60:\n",
    "    print('D')\n",
    "else:\n",
    "    print('F')\n",
    "\n",
    "print('프로그램 종료')"
   ]
  },
  {
   "cell_type": "markdown",
   "metadata": {},
   "source": [
    "#### 반복문\n",
    "- for문\n",
    "    - for i in range(시작값, 종료값, 증가값)\n",
    "    - for i in 자료형 데이터(튜플, 리스트)\n",
    "    - 자료형 데이터의 원소의 개수만큼 반복 실행\n",
    "- while문\n",
    "    - while 뒤의 조건식이 거짓이 될 떄 까지 반복 실행\n",
    "    - 일반적으로는 초기값을 변수에 대입, 반복실행시 초기값을 증가 시키는 형태로 작성\n",
    "    - 유의사항 == 무한 반복을 하지 않도록 조심\n",
    "- break\n",
    "    - 반복문을 강제로 종료\n",
    "- continue\n",
    "    - 반복문으로 되돌아가는 기능\n"
   ]
  },
  {
   "cell_type": "code",
   "execution_count": null,
   "metadata": {},
   "outputs": [],
   "source": [
    "print(range(1, 10, 1))\n",
    "\n",
    "print(list(range(1, 10, 1)))"
   ]
  },
  {
   "cell_type": "code",
   "execution_count": null,
   "metadata": {},
   "outputs": [],
   "source": [
    "# 기본적인 for 문의 형태\n",
    "for i in range(1, 10):\n",
    "    print(i)"
   ]
  },
  {
   "cell_type": "code",
   "execution_count": null,
   "metadata": {},
   "outputs": [],
   "source": [
    "# 리스트 생성\n",
    "_list = [100, 'test', True]\n",
    "\n",
    "# 리스트의 길이를 출력\n",
    "print(len(_list))"
   ]
  },
  {
   "cell_type": "code",
   "execution_count": null,
   "metadata": {},
   "outputs": [],
   "source": [
    "for i in range(0, len(_list), 1): # for i in _list: 와 같음\n",
    "    # i에 들어오는 데이터들은? == 0, 1, 2\n",
    "    print(_list[i])"
   ]
  },
  {
   "cell_type": "code",
   "execution_count": null,
   "metadata": {},
   "outputs": [],
   "source": [
    "for i in _list:\n",
    "    # i에 들어오는 데이터들은? == 100, 'test', True\n",
    "    print(i)"
   ]
  },
  {
   "cell_type": "code",
   "execution_count": null,
   "metadata": {},
   "outputs": [],
   "source": [
    "# 초기값 지정\n",
    "    ## 변수 더블클릭 후 cnt + shft + L 누르면 같은 이름의 변수들 일괄수정 가능, 나오는건 esc\n",
    "    ## 같은 변수가 아닌 여러 변수 편집하고 싶다면 alt + 더블클릭으로 변수들 선택 후 수정\n",
    "j = 1\n",
    "while j < 10:\n",
    "    print(j)\n",
    "\n",
    "    # i를 1씩 증가\n",
    "    # j = j + 1\n",
    "    j += 1"
   ]
  },
  {
   "cell_type": "code",
   "execution_count": null,
   "metadata": {},
   "outputs": [],
   "source": [
    "# 1부터 10까지의 합계\n",
    "\n",
    "# 초기의 합계라는 변수를 생성해서 0을 대입\n",
    "\n",
    "result = 0\n",
    "for i in range(1, 11, 1):\n",
    "    result += i\n",
    "print(result)\n",
    "\n"
   ]
  },
  {
   "cell_type": "code",
   "execution_count": null,
   "metadata": {},
   "outputs": [],
   "source": [
    "result = 0\n",
    "i = 1\n",
    "\n",
    "while i <= 10:\n",
    "    result += i\n",
    "    i += 1\n",
    "print(result)"
   ]
  },
  {
   "cell_type": "code",
   "execution_count": null,
   "metadata": {},
   "outputs": [],
   "source": [
    "## 다중 반복문\n",
    "## 뀨단 생성\n",
    "\n",
    "for i in range(2, 10, 1):\n",
    "    for j in range(1, 10, 1):\n",
    "        '''print(i, j, i*j)'''\n",
    "        # f-string 이용 == f\"{변수명} ...\"\n",
    "\n",
    "        print(f\"{i} X {j} = {i * j}\")"
   ]
  },
  {
   "cell_type": "markdown",
   "metadata": {},
   "source": [
    "### 반복문 예제 문제 (다중 for문)\n",
    "- 페르마의 마지막 정리가 참인가 확인\n",
    "\n",
    "> a<sup>n</sup> + b<sup>n</sup> = c<sup>n</sup> 해당하는 식에서 n이 2보다 큰 자연수라면, a, b, c에 들어갈 수 있는 자연수는 존재하지 않는다.\n",
    "\n",
    "- n = 3이라 가정하고, a, b, c에 1부터 10까지 값들을 모두 넣어서 해당하는 조건식이 참인 경우가 존재하는 지 확인"
   ]
  },
  {
   "cell_type": "code",
   "execution_count": 1,
   "metadata": {},
   "outputs": [
    {
     "name": "stdout",
     "output_type": "stream",
     "text": [
      "There is no more int that fits in there\n",
      "프로그램 종료\n",
      "10 10 10\n",
      "1000\n"
     ]
    }
   ],
   "source": [
    "# 디버깅을 위한 cnt\n",
    "cnt = 0\n",
    "\n",
    "# 범위 설정을 위한 변수 설정\n",
    "_end = 10\n",
    "n = 3\n",
    "\n",
    "for a in range(1, _end + 1):\n",
    "    for b in range(1, _end + 1):\n",
    "        for c in range(1, _end + 1):\n",
    "            cnt += 1\n",
    "            if((a ** n) + (b ** n) == (c ** n)):\n",
    "                print(f'{a}, {b}, {c}가 존재')\n",
    "                print('You got Novel prize')\n",
    "else:\n",
    "    print('There is no more int that fits in there')\n",
    "    print('프로그램 종료')\n",
    "\n",
    "# 디버깅\n",
    "print(a, b, c)\n",
    "print(cnt)"
   ]
  },
  {
   "cell_type": "code",
   "execution_count": null,
   "metadata": {},
   "outputs": [],
   "source": []
  }
 ],
 "metadata": {
  "kernelspec": {
   "display_name": "Python 3",
   "language": "python",
   "name": "python3"
  },
  "language_info": {
   "codemirror_mode": {
    "name": "ipython",
    "version": 3
   },
   "file_extension": ".py",
   "mimetype": "text/x-python",
   "name": "python",
   "nbconvert_exporter": "python",
   "pygments_lexer": "ipython3",
   "version": "3.12.2"
  }
 },
 "nbformat": 4,
 "nbformat_minor": 2
}
