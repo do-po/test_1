{
 "cells": [
  {
   "cell_type": "code",
   "execution_count": 124,
   "metadata": {},
   "outputs": [],
   "source": [
    "import pandas as pd\n",
    "import numpy as np\n",
    "import matplotlib.pyplot as plt"
   ]
  },
  {
   "cell_type": "markdown",
   "metadata": {},
   "source": [
    "#### 복습\n",
    "\n",
    "1. csv 폴더 안에 있는 drinks.csv 파일 로드\n",
    "2. 데이터 프레임의 정보, 결측치가 존재하는가 ?\n",
    "3. column의 이름을 변경 -> ['국가', '맥주소비량', '증류주소비량', '와인소비량', '소비알콜량', '대륙']\n",
    "4. 대륙 column에 결측치가 존재 -> 결측치를 'OT'로 대체\n",
    "5. 새로운 파생변수 '총 술소비량' 생성 -> 맥주소비량 + 증류주소비량 + 와인소비량\n",
    "6. 새로운 파생변수 '도수' 생성 -> 소비알콜량 / 총 술소비량 * 100\n",
    "7. 도수 column의 전체 평균보다 대륙별 도수 평균이 높은 대륙을 출력\n"
   ]
  },
  {
   "cell_type": "code",
   "execution_count": 125,
   "metadata": {},
   "outputs": [],
   "source": [
    "df = pd.read_csv('../../csv/drinks.csv')"
   ]
  },
  {
   "cell_type": "code",
   "execution_count": 126,
   "metadata": {},
   "outputs": [
    {
     "name": "stdout",
     "output_type": "stream",
     "text": [
      "<class 'pandas.core.frame.DataFrame'>\n",
      "RangeIndex: 193 entries, 0 to 192\n",
      "Data columns (total 6 columns):\n",
      " #   Column                        Non-Null Count  Dtype  \n",
      "---  ------                        --------------  -----  \n",
      " 0   country                       193 non-null    object \n",
      " 1   beer_servings                 193 non-null    int64  \n",
      " 2   spirit_servings               193 non-null    int64  \n",
      " 3   wine_servings                 193 non-null    int64  \n",
      " 4   total_litres_of_pure_alcohol  193 non-null    float64\n",
      " 5   continent                     170 non-null    object \n",
      "dtypes: float64(1), int64(3), object(2)\n",
      "memory usage: 9.2+ KB\n"
     ]
    }
   ],
   "source": [
    "df.info()"
   ]
  },
  {
   "cell_type": "code",
   "execution_count": 127,
   "metadata": {},
   "outputs": [
    {
     "data": {
      "text/plain": [
       "country                         False\n",
       "beer_servings                   False\n",
       "spirit_servings                 False\n",
       "wine_servings                   False\n",
       "total_litres_of_pure_alcohol    False\n",
       "continent                        True\n",
       "dtype: bool"
      ]
     },
     "execution_count": 127,
     "metadata": {},
     "output_type": "execute_result"
    }
   ],
   "source": [
    "df.isna().sum()\n",
    "\n",
    "\n",
    "## 결측치가 존재하는 컬럼은 어디인가? 를 보고싶다면\n",
    "df.isna().any(axis=0) # axis를 index로 묶어야 column들이 나오겠지 :>"
   ]
  },
  {
   "cell_type": "code",
   "execution_count": 128,
   "metadata": {},
   "outputs": [],
   "source": [
    "df.columns = ['국가', '맥주소비량', '증류주소비량', '와인소비량', '소비알콜량', '대륙']"
   ]
  },
  {
   "cell_type": "code",
   "execution_count": 129,
   "metadata": {},
   "outputs": [
    {
     "data": {
      "text/plain": [
       "Index(['국가', '맥주소비량', '증류주소비량', '와인소비량', '소비알콜량', '대륙'], dtype='object')"
      ]
     },
     "execution_count": 129,
     "metadata": {},
     "output_type": "execute_result"
    }
   ],
   "source": [
    "df.columns"
   ]
  },
  {
   "cell_type": "code",
   "execution_count": 130,
   "metadata": {},
   "outputs": [
    {
     "name": "stderr",
     "output_type": "stream",
     "text": [
      "C:\\Users\\USER\\AppData\\Local\\Temp\\ipykernel_28240\\3990951094.py:1: FutureWarning: A value is trying to be set on a copy of a DataFrame or Series through chained assignment using an inplace method.\n",
      "The behavior will change in pandas 3.0. This inplace method will never work because the intermediate object on which we are setting values always behaves as a copy.\n",
      "\n",
      "For example, when doing 'df[col].method(value, inplace=True)', try using 'df.method({col: value}, inplace=True)' or df[col] = df[col].method(value) instead, to perform the operation inplace on the original object.\n",
      "\n",
      "\n",
      "  df['대륙'].fillna('OT', inplace= True)\n"
     ]
    }
   ],
   "source": [
    "df['대륙'].fillna('OT', inplace= True)"
   ]
  },
  {
   "cell_type": "code",
   "execution_count": 131,
   "metadata": {},
   "outputs": [],
   "source": [
    "df['총 술소비량'] = df['맥주소비량'] + df['증류주소비량'] + df['와인소비량']"
   ]
  },
  {
   "cell_type": "code",
   "execution_count": 132,
   "metadata": {},
   "outputs": [],
   "source": [
    "df['도수'] = (df['소비알콜량'] / df['총 술소비량']) * 100 # 혹시 모르니 () 넣어주는게 좋다 :>"
   ]
  },
  {
   "cell_type": "code",
   "execution_count": 133,
   "metadata": {},
   "outputs": [],
   "source": [
    "flag = df['도수'].isna()"
   ]
  },
  {
   "cell_type": "code",
   "execution_count": 134,
   "metadata": {},
   "outputs": [
    {
     "data": {
      "text/html": [
       "<div>\n",
       "<style scoped>\n",
       "    .dataframe tbody tr th:only-of-type {\n",
       "        vertical-align: middle;\n",
       "    }\n",
       "\n",
       "    .dataframe tbody tr th {\n",
       "        vertical-align: top;\n",
       "    }\n",
       "\n",
       "    .dataframe thead th {\n",
       "        text-align: right;\n",
       "    }\n",
       "</style>\n",
       "<table border=\"1\" class=\"dataframe\">\n",
       "  <thead>\n",
       "    <tr style=\"text-align: right;\">\n",
       "      <th></th>\n",
       "      <th>국가</th>\n",
       "      <th>맥주소비량</th>\n",
       "      <th>증류주소비량</th>\n",
       "      <th>와인소비량</th>\n",
       "      <th>소비알콜량</th>\n",
       "      <th>대륙</th>\n",
       "      <th>총 술소비량</th>\n",
       "      <th>도수</th>\n",
       "    </tr>\n",
       "  </thead>\n",
       "  <tbody>\n",
       "    <tr>\n",
       "      <th>0</th>\n",
       "      <td>Afghanistan</td>\n",
       "      <td>0</td>\n",
       "      <td>0</td>\n",
       "      <td>0</td>\n",
       "      <td>0.0</td>\n",
       "      <td>AS</td>\n",
       "      <td>0</td>\n",
       "      <td>NaN</td>\n",
       "    </tr>\n",
       "    <tr>\n",
       "      <th>13</th>\n",
       "      <td>Bangladesh</td>\n",
       "      <td>0</td>\n",
       "      <td>0</td>\n",
       "      <td>0</td>\n",
       "      <td>0.0</td>\n",
       "      <td>AS</td>\n",
       "      <td>0</td>\n",
       "      <td>NaN</td>\n",
       "    </tr>\n",
       "    <tr>\n",
       "      <th>46</th>\n",
       "      <td>North Korea</td>\n",
       "      <td>0</td>\n",
       "      <td>0</td>\n",
       "      <td>0</td>\n",
       "      <td>0.0</td>\n",
       "      <td>AS</td>\n",
       "      <td>0</td>\n",
       "      <td>NaN</td>\n",
       "    </tr>\n",
       "    <tr>\n",
       "      <th>79</th>\n",
       "      <td>Iran</td>\n",
       "      <td>0</td>\n",
       "      <td>0</td>\n",
       "      <td>0</td>\n",
       "      <td>0.0</td>\n",
       "      <td>AS</td>\n",
       "      <td>0</td>\n",
       "      <td>NaN</td>\n",
       "    </tr>\n",
       "    <tr>\n",
       "      <th>90</th>\n",
       "      <td>Kuwait</td>\n",
       "      <td>0</td>\n",
       "      <td>0</td>\n",
       "      <td>0</td>\n",
       "      <td>0.0</td>\n",
       "      <td>AS</td>\n",
       "      <td>0</td>\n",
       "      <td>NaN</td>\n",
       "    </tr>\n",
       "    <tr>\n",
       "      <th>97</th>\n",
       "      <td>Libya</td>\n",
       "      <td>0</td>\n",
       "      <td>0</td>\n",
       "      <td>0</td>\n",
       "      <td>0.0</td>\n",
       "      <td>AF</td>\n",
       "      <td>0</td>\n",
       "      <td>NaN</td>\n",
       "    </tr>\n",
       "    <tr>\n",
       "      <th>103</th>\n",
       "      <td>Maldives</td>\n",
       "      <td>0</td>\n",
       "      <td>0</td>\n",
       "      <td>0</td>\n",
       "      <td>0.0</td>\n",
       "      <td>AS</td>\n",
       "      <td>0</td>\n",
       "      <td>NaN</td>\n",
       "    </tr>\n",
       "    <tr>\n",
       "      <th>106</th>\n",
       "      <td>Marshall Islands</td>\n",
       "      <td>0</td>\n",
       "      <td>0</td>\n",
       "      <td>0</td>\n",
       "      <td>0.0</td>\n",
       "      <td>OC</td>\n",
       "      <td>0</td>\n",
       "      <td>NaN</td>\n",
       "    </tr>\n",
       "    <tr>\n",
       "      <th>107</th>\n",
       "      <td>Mauritania</td>\n",
       "      <td>0</td>\n",
       "      <td>0</td>\n",
       "      <td>0</td>\n",
       "      <td>0.0</td>\n",
       "      <td>AF</td>\n",
       "      <td>0</td>\n",
       "      <td>NaN</td>\n",
       "    </tr>\n",
       "    <tr>\n",
       "      <th>111</th>\n",
       "      <td>Monaco</td>\n",
       "      <td>0</td>\n",
       "      <td>0</td>\n",
       "      <td>0</td>\n",
       "      <td>0.0</td>\n",
       "      <td>EU</td>\n",
       "      <td>0</td>\n",
       "      <td>NaN</td>\n",
       "    </tr>\n",
       "    <tr>\n",
       "      <th>128</th>\n",
       "      <td>Pakistan</td>\n",
       "      <td>0</td>\n",
       "      <td>0</td>\n",
       "      <td>0</td>\n",
       "      <td>0.0</td>\n",
       "      <td>AS</td>\n",
       "      <td>0</td>\n",
       "      <td>NaN</td>\n",
       "    </tr>\n",
       "    <tr>\n",
       "      <th>147</th>\n",
       "      <td>San Marino</td>\n",
       "      <td>0</td>\n",
       "      <td>0</td>\n",
       "      <td>0</td>\n",
       "      <td>0.0</td>\n",
       "      <td>EU</td>\n",
       "      <td>0</td>\n",
       "      <td>NaN</td>\n",
       "    </tr>\n",
       "    <tr>\n",
       "      <th>158</th>\n",
       "      <td>Somalia</td>\n",
       "      <td>0</td>\n",
       "      <td>0</td>\n",
       "      <td>0</td>\n",
       "      <td>0.0</td>\n",
       "      <td>AF</td>\n",
       "      <td>0</td>\n",
       "      <td>NaN</td>\n",
       "    </tr>\n",
       "  </tbody>\n",
       "</table>\n",
       "</div>"
      ],
      "text/plain": [
       "                   국가  맥주소비량  증류주소비량  와인소비량  소비알콜량  대륙  총 술소비량  도수\n",
       "0         Afghanistan      0       0      0    0.0  AS       0 NaN\n",
       "13         Bangladesh      0       0      0    0.0  AS       0 NaN\n",
       "46        North Korea      0       0      0    0.0  AS       0 NaN\n",
       "79               Iran      0       0      0    0.0  AS       0 NaN\n",
       "90             Kuwait      0       0      0    0.0  AS       0 NaN\n",
       "97              Libya      0       0      0    0.0  AF       0 NaN\n",
       "103          Maldives      0       0      0    0.0  AS       0 NaN\n",
       "106  Marshall Islands      0       0      0    0.0  OC       0 NaN\n",
       "107        Mauritania      0       0      0    0.0  AF       0 NaN\n",
       "111            Monaco      0       0      0    0.0  EU       0 NaN\n",
       "128          Pakistan      0       0      0    0.0  AS       0 NaN\n",
       "147        San Marino      0       0      0    0.0  EU       0 NaN\n",
       "158           Somalia      0       0      0    0.0  AF       0 NaN"
      ]
     },
     "execution_count": 134,
     "metadata": {},
     "output_type": "execute_result"
    }
   ],
   "source": [
    "df[flag]"
   ]
  },
  {
   "cell_type": "code",
   "execution_count": 108,
   "metadata": {},
   "outputs": [],
   "source": [
    "df[flag] = df[flag].fillna(0) # 여기 왜 inplace = True 안되냐\n",
    "                                # flag 조건을 넣어두면 DataFrame의 부분으로 잡혀서 적용이 안 된것 같아\n",
    "                                # df['도수']처럼 Series로 선택하면 inplace\n",
    "                                # inplace의 구조적인 문제로 안 들어가는거야. 1차원의 부분은 변경이 쉽지만 2차원의 부분은 변경이 어려워서 잘 적용이 안 되는 것 같아."
   ]
  },
  {
   "cell_type": "code",
   "execution_count": 109,
   "metadata": {},
   "outputs": [
    {
     "data": {
      "text/html": [
       "<div>\n",
       "<style scoped>\n",
       "    .dataframe tbody tr th:only-of-type {\n",
       "        vertical-align: middle;\n",
       "    }\n",
       "\n",
       "    .dataframe tbody tr th {\n",
       "        vertical-align: top;\n",
       "    }\n",
       "\n",
       "    .dataframe thead th {\n",
       "        text-align: right;\n",
       "    }\n",
       "</style>\n",
       "<table border=\"1\" class=\"dataframe\">\n",
       "  <thead>\n",
       "    <tr style=\"text-align: right;\">\n",
       "      <th></th>\n",
       "      <th>국가</th>\n",
       "      <th>맥주소비량</th>\n",
       "      <th>증류주소비량</th>\n",
       "      <th>와인소비량</th>\n",
       "      <th>소비알콜량</th>\n",
       "      <th>대륙</th>\n",
       "      <th>총 술소비량</th>\n",
       "      <th>도수</th>\n",
       "    </tr>\n",
       "  </thead>\n",
       "  <tbody>\n",
       "    <tr>\n",
       "      <th>0</th>\n",
       "      <td>Afghanistan</td>\n",
       "      <td>0</td>\n",
       "      <td>0</td>\n",
       "      <td>0</td>\n",
       "      <td>0.0</td>\n",
       "      <td>AS</td>\n",
       "      <td>0</td>\n",
       "      <td>0.000000</td>\n",
       "    </tr>\n",
       "    <tr>\n",
       "      <th>1</th>\n",
       "      <td>Albania</td>\n",
       "      <td>89</td>\n",
       "      <td>132</td>\n",
       "      <td>54</td>\n",
       "      <td>4.9</td>\n",
       "      <td>EU</td>\n",
       "      <td>275</td>\n",
       "      <td>1.781818</td>\n",
       "    </tr>\n",
       "    <tr>\n",
       "      <th>2</th>\n",
       "      <td>Algeria</td>\n",
       "      <td>25</td>\n",
       "      <td>0</td>\n",
       "      <td>14</td>\n",
       "      <td>0.7</td>\n",
       "      <td>AF</td>\n",
       "      <td>39</td>\n",
       "      <td>1.794872</td>\n",
       "    </tr>\n",
       "    <tr>\n",
       "      <th>3</th>\n",
       "      <td>Andorra</td>\n",
       "      <td>245</td>\n",
       "      <td>138</td>\n",
       "      <td>312</td>\n",
       "      <td>12.4</td>\n",
       "      <td>EU</td>\n",
       "      <td>695</td>\n",
       "      <td>1.784173</td>\n",
       "    </tr>\n",
       "    <tr>\n",
       "      <th>4</th>\n",
       "      <td>Angola</td>\n",
       "      <td>217</td>\n",
       "      <td>57</td>\n",
       "      <td>45</td>\n",
       "      <td>5.9</td>\n",
       "      <td>AF</td>\n",
       "      <td>319</td>\n",
       "      <td>1.849530</td>\n",
       "    </tr>\n",
       "    <tr>\n",
       "      <th>...</th>\n",
       "      <td>...</td>\n",
       "      <td>...</td>\n",
       "      <td>...</td>\n",
       "      <td>...</td>\n",
       "      <td>...</td>\n",
       "      <td>...</td>\n",
       "      <td>...</td>\n",
       "      <td>...</td>\n",
       "    </tr>\n",
       "    <tr>\n",
       "      <th>188</th>\n",
       "      <td>Venezuela</td>\n",
       "      <td>333</td>\n",
       "      <td>100</td>\n",
       "      <td>3</td>\n",
       "      <td>7.7</td>\n",
       "      <td>SA</td>\n",
       "      <td>436</td>\n",
       "      <td>1.766055</td>\n",
       "    </tr>\n",
       "    <tr>\n",
       "      <th>189</th>\n",
       "      <td>Vietnam</td>\n",
       "      <td>111</td>\n",
       "      <td>2</td>\n",
       "      <td>1</td>\n",
       "      <td>2.0</td>\n",
       "      <td>AS</td>\n",
       "      <td>114</td>\n",
       "      <td>1.754386</td>\n",
       "    </tr>\n",
       "    <tr>\n",
       "      <th>190</th>\n",
       "      <td>Yemen</td>\n",
       "      <td>6</td>\n",
       "      <td>0</td>\n",
       "      <td>0</td>\n",
       "      <td>0.1</td>\n",
       "      <td>AS</td>\n",
       "      <td>6</td>\n",
       "      <td>1.666667</td>\n",
       "    </tr>\n",
       "    <tr>\n",
       "      <th>191</th>\n",
       "      <td>Zambia</td>\n",
       "      <td>32</td>\n",
       "      <td>19</td>\n",
       "      <td>4</td>\n",
       "      <td>2.5</td>\n",
       "      <td>AF</td>\n",
       "      <td>55</td>\n",
       "      <td>4.545455</td>\n",
       "    </tr>\n",
       "    <tr>\n",
       "      <th>192</th>\n",
       "      <td>Zimbabwe</td>\n",
       "      <td>64</td>\n",
       "      <td>18</td>\n",
       "      <td>4</td>\n",
       "      <td>4.7</td>\n",
       "      <td>AF</td>\n",
       "      <td>86</td>\n",
       "      <td>5.465116</td>\n",
       "    </tr>\n",
       "  </tbody>\n",
       "</table>\n",
       "<p>193 rows × 8 columns</p>\n",
       "</div>"
      ],
      "text/plain": [
       "              국가  맥주소비량  증류주소비량  와인소비량  소비알콜량  대륙  총 술소비량        도수\n",
       "0    Afghanistan      0       0      0    0.0  AS       0  0.000000\n",
       "1        Albania     89     132     54    4.9  EU     275  1.781818\n",
       "2        Algeria     25       0     14    0.7  AF      39  1.794872\n",
       "3        Andorra    245     138    312   12.4  EU     695  1.784173\n",
       "4         Angola    217      57     45    5.9  AF     319  1.849530\n",
       "..           ...    ...     ...    ...    ...  ..     ...       ...\n",
       "188    Venezuela    333     100      3    7.7  SA     436  1.766055\n",
       "189      Vietnam    111       2      1    2.0  AS     114  1.754386\n",
       "190        Yemen      6       0      0    0.1  AS       6  1.666667\n",
       "191       Zambia     32      19      4    2.5  AF      55  4.545455\n",
       "192     Zimbabwe     64      18      4    4.7  AF      86  5.465116\n",
       "\n",
       "[193 rows x 8 columns]"
      ]
     },
     "execution_count": 109,
     "metadata": {},
     "output_type": "execute_result"
    }
   ],
   "source": [
    "df"
   ]
  },
  {
   "cell_type": "code",
   "execution_count": 110,
   "metadata": {},
   "outputs": [
    {
     "name": "stdout",
     "output_type": "stream",
     "text": [
      "<class 'pandas.core.frame.DataFrame'>\n",
      "RangeIndex: 193 entries, 0 to 192\n",
      "Data columns (total 8 columns):\n",
      " #   Column  Non-Null Count  Dtype  \n",
      "---  ------  --------------  -----  \n",
      " 0   국가      193 non-null    object \n",
      " 1   맥주소비량   193 non-null    int64  \n",
      " 2   증류주소비량  193 non-null    int64  \n",
      " 3   와인소비량   193 non-null    int64  \n",
      " 4   소비알콜량   193 non-null    float64\n",
      " 5   대륙      193 non-null    object \n",
      " 6   총 술소비량  193 non-null    int64  \n",
      " 7   도수      193 non-null    float64\n",
      "dtypes: float64(2), int64(4), object(2)\n",
      "memory usage: 12.2+ KB\n"
     ]
    }
   ],
   "source": [
    "df.info()"
   ]
  },
  {
   "cell_type": "code",
   "execution_count": 111,
   "metadata": {},
   "outputs": [],
   "source": [
    "mean_proof = df['도수'].mean()"
   ]
  },
  {
   "cell_type": "code",
   "execution_count": 112,
   "metadata": {},
   "outputs": [
    {
     "data": {
      "text/plain": [
       "2.6114806003105255"
      ]
     },
     "execution_count": 112,
     "metadata": {},
     "output_type": "execute_result"
    }
   ],
   "source": [
    "mean_proof"
   ]
  },
  {
   "cell_type": "code",
   "execution_count": 113,
   "metadata": {},
   "outputs": [],
   "source": [
    "mean_continent = df[['대륙', '도수']].groupby(['대륙']).mean() # 여기 groupby()에 [] 넣어주는게 정신 건강에 좋아 :>"
   ]
  },
  {
   "cell_type": "code",
   "execution_count": 114,
   "metadata": {},
   "outputs": [
    {
     "data": {
      "text/html": [
       "<div>\n",
       "<style scoped>\n",
       "    .dataframe tbody tr th:only-of-type {\n",
       "        vertical-align: middle;\n",
       "    }\n",
       "\n",
       "    .dataframe tbody tr th {\n",
       "        vertical-align: top;\n",
       "    }\n",
       "\n",
       "    .dataframe thead th {\n",
       "        text-align: right;\n",
       "    }\n",
       "</style>\n",
       "<table border=\"1\" class=\"dataframe\">\n",
       "  <thead>\n",
       "    <tr style=\"text-align: right;\">\n",
       "      <th></th>\n",
       "      <th>도수</th>\n",
       "    </tr>\n",
       "    <tr>\n",
       "      <th>대륙</th>\n",
       "      <th></th>\n",
       "    </tr>\n",
       "  </thead>\n",
       "  <tbody>\n",
       "    <tr>\n",
       "      <th>AF</th>\n",
       "      <td>4.974072</td>\n",
       "    </tr>\n",
       "    <tr>\n",
       "      <th>AS</th>\n",
       "      <td>1.635903</td>\n",
       "    </tr>\n",
       "    <tr>\n",
       "      <th>EU</th>\n",
       "      <td>1.752705</td>\n",
       "    </tr>\n",
       "    <tr>\n",
       "      <th>OC</th>\n",
       "      <td>1.689543</td>\n",
       "    </tr>\n",
       "    <tr>\n",
       "      <th>OT</th>\n",
       "      <td>1.785407</td>\n",
       "    </tr>\n",
       "    <tr>\n",
       "      <th>SA</th>\n",
       "      <td>1.786790</td>\n",
       "    </tr>\n",
       "  </tbody>\n",
       "</table>\n",
       "</div>"
      ],
      "text/plain": [
       "          도수\n",
       "대륙          \n",
       "AF  4.974072\n",
       "AS  1.635903\n",
       "EU  1.752705\n",
       "OC  1.689543\n",
       "OT  1.785407\n",
       "SA  1.786790"
      ]
     },
     "execution_count": 114,
     "metadata": {},
     "output_type": "execute_result"
    }
   ],
   "source": [
    "mean_continent"
   ]
  },
  {
   "cell_type": "code",
   "execution_count": 120,
   "metadata": {},
   "outputs": [],
   "source": [
    "flag = mean_continent['도수'] > mean_proof # 츌력을 위한 조건 flag 생성"
   ]
  },
  {
   "cell_type": "code",
   "execution_count": 121,
   "metadata": {},
   "outputs": [
    {
     "data": {
      "text/plain": [
       "대륙\n",
       "AF     True\n",
       "AS    False\n",
       "EU    False\n",
       "OC    False\n",
       "OT    False\n",
       "SA    False\n",
       "Name: 도수, dtype: bool"
      ]
     },
     "execution_count": 121,
     "metadata": {},
     "output_type": "execute_result"
    }
   ],
   "source": [
    "flag # 확인"
   ]
  },
  {
   "cell_type": "code",
   "execution_count": 123,
   "metadata": {},
   "outputs": [
    {
     "data": {
      "text/html": [
       "<div>\n",
       "<style scoped>\n",
       "    .dataframe tbody tr th:only-of-type {\n",
       "        vertical-align: middle;\n",
       "    }\n",
       "\n",
       "    .dataframe tbody tr th {\n",
       "        vertical-align: top;\n",
       "    }\n",
       "\n",
       "    .dataframe thead th {\n",
       "        text-align: right;\n",
       "    }\n",
       "</style>\n",
       "<table border=\"1\" class=\"dataframe\">\n",
       "  <thead>\n",
       "    <tr style=\"text-align: right;\">\n",
       "      <th></th>\n",
       "      <th>도수</th>\n",
       "    </tr>\n",
       "    <tr>\n",
       "      <th>대륙</th>\n",
       "      <th></th>\n",
       "    </tr>\n",
       "  </thead>\n",
       "  <tbody>\n",
       "    <tr>\n",
       "      <th>AF</th>\n",
       "      <td>4.974072</td>\n",
       "    </tr>\n",
       "  </tbody>\n",
       "</table>\n",
       "</div>"
      ],
      "text/plain": [
       "          도수\n",
       "대륙          \n",
       "AF  4.974072"
      ]
     },
     "execution_count": 123,
     "metadata": {},
     "output_type": "execute_result"
    }
   ],
   "source": [
    "mean_continent[flag] # 조건에 맞는 value 출력"
   ]
  },
  {
   "cell_type": "code",
   "execution_count": 117,
   "metadata": {},
   "outputs": [
    {
     "data": {
      "text/html": [
       "<div>\n",
       "<style scoped>\n",
       "    .dataframe tbody tr th:only-of-type {\n",
       "        vertical-align: middle;\n",
       "    }\n",
       "\n",
       "    .dataframe tbody tr th {\n",
       "        vertical-align: top;\n",
       "    }\n",
       "\n",
       "    .dataframe thead th {\n",
       "        text-align: right;\n",
       "    }\n",
       "</style>\n",
       "<table border=\"1\" class=\"dataframe\">\n",
       "  <thead>\n",
       "    <tr style=\"text-align: right;\">\n",
       "      <th></th>\n",
       "      <th>도수</th>\n",
       "    </tr>\n",
       "    <tr>\n",
       "      <th>대륙</th>\n",
       "      <th></th>\n",
       "    </tr>\n",
       "  </thead>\n",
       "  <tbody>\n",
       "    <tr>\n",
       "      <th>AF</th>\n",
       "      <td>True</td>\n",
       "    </tr>\n",
       "    <tr>\n",
       "      <th>AS</th>\n",
       "      <td>False</td>\n",
       "    </tr>\n",
       "    <tr>\n",
       "      <th>EU</th>\n",
       "      <td>False</td>\n",
       "    </tr>\n",
       "    <tr>\n",
       "      <th>OC</th>\n",
       "      <td>False</td>\n",
       "    </tr>\n",
       "    <tr>\n",
       "      <th>OT</th>\n",
       "      <td>False</td>\n",
       "    </tr>\n",
       "    <tr>\n",
       "      <th>SA</th>\n",
       "      <td>False</td>\n",
       "    </tr>\n",
       "  </tbody>\n",
       "</table>\n",
       "</div>"
      ],
      "text/plain": [
       "       도수\n",
       "대륙       \n",
       "AF   True\n",
       "AS  False\n",
       "EU  False\n",
       "OC  False\n",
       "OT  False\n",
       "SA  False"
      ]
     },
     "execution_count": 117,
     "metadata": {},
     "output_type": "execute_result"
    }
   ],
   "source": [
    "'''mean_continent.map(\n",
    "    lambda x : x > mean_proof,\n",
    ")''' # 이걸 안 해도 되지 :> "
   ]
  },
  {
   "cell_type": "markdown",
   "metadata": {},
   "source": [
    "- 총 술 소비량을 기준으로 우리나라는 몇 위인가 ?\n",
    "\n",
    "    1. 총 술 소비량을 기준으로 내림차순 정렬\n",
    "    2. index를 초기화하고 기존의 index 제거\n",
    "    3. 국가 column의 데이터가 South Korea인 데이터의 index와 총 술 소비량 데이터를 확인\n",
    "    4. 전체 데이터를 기준으로 막대그래프를 생성하고 한국의 막대의 색상을 변경하고 주석을 추가\n"
   ]
  },
  {
   "cell_type": "code",
   "execution_count": 135,
   "metadata": {},
   "outputs": [],
   "source": [
    "# 총 술 소비량을 기준으로 내림차순 정렬\n",
    "\n",
    "drinks = df.copy()"
   ]
  },
  {
   "cell_type": "code",
   "execution_count": 137,
   "metadata": {},
   "outputs": [],
   "source": [
    "drinks.sort_values(['총 술소비량'], ascending= False, inplace= True)"
   ]
  },
  {
   "cell_type": "code",
   "execution_count": 139,
   "metadata": {},
   "outputs": [],
   "source": [
    "# index를 재지정 하고 기존의 index는 제거\n",
    "\n",
    "drinks.reset_index(drop= True, inplace= True)"
   ]
  },
  {
   "cell_type": "code",
   "execution_count": 143,
   "metadata": {},
   "outputs": [
    {
     "data": {
      "text/html": [
       "<div>\n",
       "<style scoped>\n",
       "    .dataframe tbody tr th:only-of-type {\n",
       "        vertical-align: middle;\n",
       "    }\n",
       "\n",
       "    .dataframe tbody tr th {\n",
       "        vertical-align: top;\n",
       "    }\n",
       "\n",
       "    .dataframe thead th {\n",
       "        text-align: right;\n",
       "    }\n",
       "</style>\n",
       "<table border=\"1\" class=\"dataframe\">\n",
       "  <thead>\n",
       "    <tr style=\"text-align: right;\">\n",
       "      <th></th>\n",
       "      <th>국가</th>\n",
       "      <th>맥주소비량</th>\n",
       "      <th>증류주소비량</th>\n",
       "      <th>와인소비량</th>\n",
       "      <th>소비알콜량</th>\n",
       "      <th>대륙</th>\n",
       "      <th>총 술소비량</th>\n",
       "      <th>도수</th>\n",
       "    </tr>\n",
       "  </thead>\n",
       "  <tbody>\n",
       "    <tr>\n",
       "      <th>98</th>\n",
       "      <td>South Korea</td>\n",
       "      <td>140</td>\n",
       "      <td>16</td>\n",
       "      <td>9</td>\n",
       "      <td>9.8</td>\n",
       "      <td>AS</td>\n",
       "      <td>165</td>\n",
       "      <td>5.939394</td>\n",
       "    </tr>\n",
       "  </tbody>\n",
       "</table>\n",
       "</div>"
      ],
      "text/plain": [
       "             국가  맥주소비량  증류주소비량  와인소비량  소비알콜량  대륙  총 술소비량        도수\n",
       "98  South Korea    140      16      9    9.8  AS     165  5.939394"
      ]
     },
     "execution_count": 143,
     "metadata": {},
     "output_type": "execute_result"
    }
   ],
   "source": [
    "# South Korea의 데이터를 확인\n",
    "\n",
    "flag = drinks['국가'] == 'South Korea'\n",
    "\n",
    "drinks.loc[flag]"
   ]
  },
  {
   "cell_type": "code",
   "execution_count": 147,
   "metadata": {},
   "outputs": [],
   "source": [
    "# South Korea의 index와 총 술소비량의 데이터를 변수에 저장\n",
    "    # 그래프 그릴 때 화살표의 좌표를 설정하기 위해서 저장\n",
    "        # korea_index는 x축 좌표 값, 막대의 위치값\n",
    "        # korea_value는 y축 좌표 값\n",
    "\n",
    "korea_index = drinks.loc[flag].index[0] # index만 쓰면 list 형태로 뽑히니까 이 list의 0번째 값으로 추출\n",
    "korea_value = drinks.loc[korea_index, '총 술소비량']\n",
    "# korea_value = df.iloc[korea_index, 6] "
   ]
  },
  {
   "cell_type": "code",
   "execution_count": 148,
   "metadata": {},
   "outputs": [
    {
     "data": {
      "text/plain": [
       "98    165\n",
       "Name: 총 술소비량, dtype: int64"
      ]
     },
     "execution_count": 148,
     "metadata": {},
     "output_type": "execute_result"
    }
   ],
   "source": [
    "# 아래 둘은 서로 다르다\n",
    "    # df.loc[Series]는 결과가 df로 나오고\n",
    "    # df.loc[value]는 결과가 series로 나온다.\n",
    "        # 즉, 조건이 들어갈 곳 보다 조건의 차원이 하나 작다면 결과값의 차원이 하나 축소된다.\n",
    "        # 이는 index와 column 개별로 작동한다(index로 Series로 뽑았는데 거기서 column의 조건을 적용하면 value가 나온다는 것)\n",
    "\n",
    "'''drinks.loc[flag, '총 술소비량'] == 98   165\n",
    "drinks.loc[korea_index, '총 술소비량'] == 165'''"
   ]
  },
  {
   "cell_type": "code",
   "execution_count": 173,
   "metadata": {},
   "outputs": [
    {
     "data": {
      "image/png": "[encoded data removed]",
      "text/plain": [
       "<Figure size 2000x800 with 1 Axes>"
      ]
     },
     "metadata": {},
     "output_type": "display_data"
    }
   ],
   "source": [
    "# 총 술소비량 데이터를 기준으로 막대그래프 생성\n",
    "\n",
    "x = drinks.index\n",
    "y = drinks['총 술소비량']\n",
    "\n",
    "# 그래프의 크기를 변경 (막대가 너무 많은게 싫어서)\n",
    "\n",
    "plt.figure(figsize = (20, 8))\n",
    "\n",
    "# 막대그래프 생성\n",
    "\n",
    "bar_list = plt.bar(x, y)\n",
    "\n",
    "# South Korea의 막대를 선택하여 막대의 색상을 변경\n",
    "\n",
    "bar_list[korea_index].set_color('r')\n",
    "\n",
    "# 주석을 추가\n",
    "\n",
    "plt.annotate(\n",
    "    f'South Korea : {korea_index + 1}', # 변수 삽입 위해 fstring, 실제 순위를 표현하기 위해 index + 1\n",
    "    xy=(korea_index, korea_value),\n",
    "    xytext= (korea_index + 10, korea_value + 100), # x == korea_index로부터 막대 10개 떨어진, y == korea_value로부터 100계단 떨어진\n",
    "    fontsize = 25, # 폰트 크기\n",
    "    arrowprops={ # 화살표를 그리기\n",
    "        'facecolor' : 'r',\n",
    "        'edgecolor' : 'k', # 블랙 = k\n",
    "        'headwidth' : 15,\n",
    "        'headlength' : 10,\n",
    "        'width' : 7,\n",
    "        'shrink' : 0.1 # 막대와 화살표의 거리, 줄어들거나 늘어나거나 :>\n",
    "    }\n",
    ")\n",
    "\n",
    "plt.xlim(-1, 180) # x축의 크기를 제한해서 x 축에 막대를 붙이려고 한 코드\n",
    "\n",
    "plt.show()"
   ]
  },
  {
   "cell_type": "code",
   "execution_count": null,
   "metadata": {},
   "outputs": [],
   "source": []
  }
 ],
 "metadata": {
  "kernelspec": {
   "display_name": "Python 3",
   "language": "python",
   "name": "python3"
  },
  "language_info": {
   "codemirror_mode": {
    "name": "ipython",
    "version": 3
   },
   "file_extension": ".py",
   "mimetype": "text/x-python",
   "name": "python",
   "nbconvert_exporter": "python",
   "pygments_lexer": "ipython3",
   "version": "3.12.2"
  }
 },
 "nbformat": 4,
 "nbformat_minor": 2
}
