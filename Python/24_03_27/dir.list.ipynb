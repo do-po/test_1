{
 "cells": [
  {
   "cell_type": "markdown",
   "metadata": {},
   "source": [
    "## 특정 경로에 있는 파일의 목록을 로드\n",
    "\n",
    "1. 일반적인 방법 - > 상대경로, 절대경로를 이용해서 파일을 하나씩 로드\n",
    "2. 특정 경로에 있는 파일의 목록(list)을 기준으로 데이터 로드\n",
    "    - os 라이브러리 이용하는 방법\n",
    "    - glob 라이브러리 이용하는 방법\n",
    "3. 파일의 목록을 기준으로 데이터를 for문을 이용해서 로드\n"
   ]
  },
  {
   "cell_type": "code",
   "execution_count": 2,
   "metadata": {},
   "outputs": [],
   "source": [
    "import os\n",
    "import glob\n",
    "import pandas as pd"
   ]
  },
  {
   "cell_type": "code",
   "execution_count": 3,
   "metadata": {},
   "outputs": [
    {
     "data": {
      "text/plain": [
       "['201701_expense_list.csv',\n",
       " '201702_expense_list.csv',\n",
       " '201703_expense_list.csv',\n",
       " '201704_expense_list.csv',\n",
       " '201705_expense_list.csv',\n",
       " '201706_expense_list.csv',\n",
       " '201707_expense_list.csv',\n",
       " '201708_expense_list.csv',\n",
       " '201709_expense_list.csv',\n",
       " '201710_expense_list.csv',\n",
       " '201711_expense_list.csv',\n",
       " '201712_expense_list.csv']"
      ]
     },
     "execution_count": 3,
     "metadata": {},
     "output_type": "execute_result"
    }
   ],
   "source": [
    "## csv 폴더 안에 있는 2017 폴더에 있는 데이터들을 로드\n",
    "\n",
    "    # os 라이브러리를 이용하여 파일의 목록을 불러온다.\n",
    "        # 목록(list) + 파일의 목록을 보는 명령어 (dir)\n",
    "os.listdir('../../csv/2017')"
   ]
  },
  {
   "cell_type": "code",
   "execution_count": 4,
   "metadata": {},
   "outputs": [
    {
     "data": {
      "text/plain": [
       "['201701_expense_list.csv',\n",
       " '201702_expense_list.csv',\n",
       " '201703_expense_list.csv',\n",
       " '201704_expense_list.csv',\n",
       " '201705_expense_list.csv',\n",
       " '201706_expense_list.csv',\n",
       " '201707_expense_list.csv',\n",
       " '201708_expense_list.csv',\n",
       " '201709_expense_list.csv',\n",
       " '201710_expense_list.csv',\n",
       " '201711_expense_list.csv',\n",
       " '201712_expense_list.csv']"
      ]
     },
     "execution_count": 4,
     "metadata": {},
     "output_type": "execute_result"
    }
   ],
   "source": [
    "# 파일 목록을 로드할 경로를 변수에 저장\n",
    "\n",
    "file_path = '../../csv/2017/'\n",
    "file_list = os.listdir(file_path)\n",
    "\n",
    "file_list"
   ]
  },
  {
   "cell_type": "code",
   "execution_count": 5,
   "metadata": {},
   "outputs": [],
   "source": [
    "total_df = pd.DataFrame()\n",
    "\n",
    "for i in file_list:\n",
    "    df = pd.read_csv(file_path + i)\n",
    "    total_df = pd.concat([total_df, df], axis= 0, ignore_index= True) # for문 안에 유니언 결합 넣어서 더해주기 (빈 리스트에 데이터 계속 append 하는 것과 같음)\n",
    "                                                                        # 근데 join 결합 계속 하는 것도 괜찮겠다. 어차피 2개씩만 계속 더해지니까 말야."
   ]
  },
  {
   "cell_type": "code",
   "execution_count": 6,
   "metadata": {},
   "outputs": [
    {
     "name": "stdout",
     "output_type": "stream",
     "text": [
      "<class 'pandas.core.frame.DataFrame'>\n",
      "RangeIndex: 70132 entries, 0 to 70131\n",
      "Data columns (total 20 columns):\n",
      " #   Column             Non-Null Count  Dtype  \n",
      "---  ------             --------------  -----  \n",
      " 0   nid                70132 non-null  int64  \n",
      " 1   title              70132 non-null  object \n",
      " 2   url                70132 non-null  object \n",
      " 3   dept_nm_lvl_1      70132 non-null  object \n",
      " 4   dept_nm_lvl_2      70074 non-null  object \n",
      " 5   dept_nm_lvl_3      61262 non-null  object \n",
      " 6   dept_nm_lvl_4      17939 non-null  object \n",
      " 7   dept_nm_lvl_5      3474 non-null   object \n",
      " 8   exec_yr            70132 non-null  int64  \n",
      " 9   exec_month         70132 non-null  int64  \n",
      " 10  expense_budget     3108 non-null   float64\n",
      " 11  expense_execution  2805 non-null   float64\n",
      " 12  category           1259 non-null   object \n",
      " 13  dept_nm_full       70053 non-null  object \n",
      " 14  exec_dt            70132 non-null  object \n",
      " 15  exec_loc           69360 non-null  object \n",
      " 16  exec_purpose       70110 non-null  object \n",
      " 17  target_nm          69597 non-null  object \n",
      " 18  payment_method     69929 non-null  object \n",
      " 19  exec_amount        70132 non-null  int64  \n",
      "dtypes: float64(2), int64(4), object(14)\n",
      "memory usage: 10.7+ MB\n"
     ]
    }
   ],
   "source": [
    "total_df.info()"
   ]
  },
  {
   "cell_type": "code",
   "execution_count": 7,
   "metadata": {},
   "outputs": [
    {
     "data": {
      "text/plain": [
       "nid                  False\n",
       "title                False\n",
       "url                  False\n",
       "dept_nm_lvl_1        False\n",
       "dept_nm_lvl_2         True\n",
       "dept_nm_lvl_3         True\n",
       "dept_nm_lvl_4         True\n",
       "dept_nm_lvl_5         True\n",
       "exec_yr              False\n",
       "exec_month           False\n",
       "expense_budget        True\n",
       "expense_execution     True\n",
       "category              True\n",
       "dept_nm_full          True\n",
       "exec_dt              False\n",
       "exec_loc              True\n",
       "exec_purpose          True\n",
       "target_nm             True\n",
       "payment_method        True\n",
       "exec_amount          False\n",
       "dtype: bool"
      ]
     },
     "execution_count": 7,
     "metadata": {},
     "output_type": "execute_result"
    }
   ],
   "source": [
    "total_df.isna().any()"
   ]
  },
  {
   "cell_type": "code",
   "execution_count": 8,
   "metadata": {},
   "outputs": [
    {
     "data": {
      "text/plain": [
       "['201901_expense_list.json',\n",
       " '201902_expense_list.json',\n",
       " '201903_expense_list.json',\n",
       " '201904_expense_list.json',\n",
       " '201905_expense_list.json',\n",
       " '201906_expense_list.json',\n",
       " '201907_expense_list.json',\n",
       " '201908_expense_list.json',\n",
       " '201909_expense_list.json',\n",
       " '201910_expense_list.json',\n",
       " '201911_expense_list.json',\n",
       " '201912_expense_list.json']"
      ]
     },
     "execution_count": 8,
     "metadata": {},
     "output_type": "execute_result"
    }
   ],
   "source": [
    "file_path_2019 = '../../csv/2019/'\n",
    "file_list_2019 = os.listdir(file_path_2019)\n",
    "\n",
    "file_list_2019"
   ]
  },
  {
   "cell_type": "code",
   "execution_count": 9,
   "metadata": {},
   "outputs": [],
   "source": [
    "result_2019 = pd.DataFrame()\n",
    "\n",
    "for file in file_list_2019:\n",
    "    df = pd.read_json(file_path_2019 + file)\n",
    "    result_2019 = pd.concat([result_2019, df], axis= 0, ignore_index= True)"
   ]
  },
  {
   "cell_type": "code",
   "execution_count": 10,
   "metadata": {},
   "outputs": [
    {
     "name": "stdout",
     "output_type": "stream",
     "text": [
      "<class 'pandas.core.frame.DataFrame'>\n",
      "RangeIndex: 74207 entries, 0 to 74206\n",
      "Data columns (total 20 columns):\n",
      " #   Column             Non-Null Count  Dtype  \n",
      "---  ------             --------------  -----  \n",
      " 0   nid                74207 non-null  int64  \n",
      " 1   title              74207 non-null  object \n",
      " 2   url                74207 non-null  object \n",
      " 3   dept_nm_lvl_1      74207 non-null  object \n",
      " 4   dept_nm_lvl_2      74207 non-null  object \n",
      " 5   dept_nm_lvl_3      74207 non-null  object \n",
      " 6   dept_nm_lvl_4      74207 non-null  object \n",
      " 7   dept_nm_lvl_5      74207 non-null  object \n",
      " 8   exec_yr            74207 non-null  int64  \n",
      " 9   exec_month         74207 non-null  int64  \n",
      " 10  expense_budget     2075 non-null   float64\n",
      " 11  expense_execution  1598 non-null   float64\n",
      " 12  category           74028 non-null  object \n",
      " 13  dept_nm_full       74207 non-null  object \n",
      " 14  exec_dt            74207 non-null  object \n",
      " 15  exec_loc           74207 non-null  object \n",
      " 16  exec_purpose       74207 non-null  object \n",
      " 17  target_nm          74207 non-null  object \n",
      " 18  payment_method     74207 non-null  object \n",
      " 19  exec_amount        74207 non-null  int64  \n",
      "dtypes: float64(2), int64(4), object(14)\n",
      "memory usage: 11.3+ MB\n"
     ]
    }
   ],
   "source": [
    "result_2019.info()"
   ]
  },
  {
   "cell_type": "code",
   "execution_count": 14,
   "metadata": {},
   "outputs": [],
   "source": [
    "file_path_2020 = '../../csv/2020/'\n",
    "file_list_2020 = os.listdir(file_path_2020)\n",
    "\n",
    "file_list_2020\n",
    "\n",
    "result_2020 = pd.DataFrame()\n",
    "\n",
    "for file in file_list_2020:\n",
    "    df = pd.read_excel(file_path_2020 + file)\n",
    "    result_2020 = pd.concat([result_2020, df], axis= 0, ignore_index= True)"
   ]
  },
  {
   "cell_type": "code",
   "execution_count": 17,
   "metadata": {},
   "outputs": [],
   "source": [
    "file_path_2021 = '../../csv/2021/'\n",
    "file_list_2021 = os.listdir(file_path_2021)\n",
    "\n",
    "file_list_2021\n",
    "\n",
    "result_2021 = pd.DataFrame()\n",
    "\n",
    "for file in file_list_2021:\n",
    "    try:\n",
    "        df1 = pd.read_csv(file_path_2021 + file)\n",
    "        continue\n",
    "    except:\n",
    "        try:\n",
    "            df1 = pd.read_json(file_path_2021 + file)\n",
    "            continue\n",
    "        except:\n",
    "            df1 = pd.read_excel(file_path_2021 + file)\n",
    "            continue\n",
    "    result_2021 = pd.concat([result_2021, df1], axis= 0, ignore_index= True)"
   ]
  },
  {
   "cell_type": "code",
   "execution_count": 16,
   "metadata": {},
   "outputs": [
    {
     "data": {
      "text/plain": [
       "['202101_expense_list.csv',\n",
       " '202101_expense_list.json',\n",
       " '202101_expense_list.xlsx',\n",
       " '202101_expense_list.xml',\n",
       " '202102_expense_list.csv',\n",
       " '202102_expense_list.json',\n",
       " '202102_expense_list.xlsx',\n",
       " '202102_expense_list.xml',\n",
       " '202103_expense_list.csv',\n",
       " '202103_expense_list.json',\n",
       " '202103_expense_list.xlsx',\n",
       " '202103_expense_list.xml',\n",
       " '202104_expense_list.csv',\n",
       " '202104_expense_list.json',\n",
       " '202104_expense_list.xlsx',\n",
       " '202104_expense_list.xml',\n",
       " '202105_expense_list.csv',\n",
       " '202105_expense_list.json',\n",
       " '202105_expense_list.xlsx',\n",
       " '202105_expense_list.xml',\n",
       " '202106_expense_list.csv',\n",
       " '202106_expense_list.json',\n",
       " '202106_expense_list.xlsx',\n",
       " '202106_expense_list.xml',\n",
       " '202107_expense_list.csv',\n",
       " '202107_expense_list.json',\n",
       " '202107_expense_list.xlsx',\n",
       " '202107_expense_list.xml',\n",
       " '202108_expense_list.csv',\n",
       " '202108_expense_list.json',\n",
       " '202108_expense_list.xlsx',\n",
       " '202108_expense_list.xml',\n",
       " '202109_expense_list.csv',\n",
       " '202109_expense_list.json',\n",
       " '202109_expense_list.xlsx',\n",
       " '202109_expense_list.xml',\n",
       " '202110_expense_list.csv',\n",
       " '202110_expense_list.json',\n",
       " '202110_expense_list.xlsx',\n",
       " '202110_expense_list.xml',\n",
       " '202111_expense_list.csv',\n",
       " '202111_expense_list.json',\n",
       " '202111_expense_list.xlsx',\n",
       " '202111_expense_list.xml',\n",
       " '202112_expense_list.csv',\n",
       " '202112_expense_list.json',\n",
       " '202112_expense_list.xlsx',\n",
       " '202112_expense_list.xml']"
      ]
     },
     "execution_count": 16,
     "metadata": {},
     "output_type": "execute_result"
    }
   ],
   "source": [
    "file_path_2021 = '../../csv/2021/'\n",
    "file_list_2021 = os.listdir(file_path_2021)\n",
    "\n",
    "file_list_2021"
   ]
  },
  {
   "cell_type": "code",
   "execution_count": null,
   "metadata": {},
   "outputs": [],
   "source": []
  }
 ],
 "metadata": {
  "kernelspec": {
   "display_name": "Python 3",
   "language": "python",
   "name": "python3"
  },
  "language_info": {
   "codemirror_mode": {
    "name": "ipython",
    "version": 3
   },
   "file_extension": ".py",
   "mimetype": "text/x-python",
   "name": "python",
   "nbconvert_exporter": "python",
   "pygments_lexer": "ipython3",
   "version": "3.12.2"
  }
 },
 "nbformat": 4,
 "nbformat_minor": 2
}
