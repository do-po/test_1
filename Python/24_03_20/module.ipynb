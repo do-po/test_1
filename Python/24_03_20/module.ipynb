{
 "cells": [
  {
   "cell_type": "code",
   "execution_count": 1,
   "metadata": {},
   "outputs": [],
   "source": [
    "import database as db"
   ]
  },
  {
   "cell_type": "code",
   "execution_count": 2,
   "metadata": {},
   "outputs": [],
   "source": [
    "# database 라는 모듈 안에 있는 MyDB class 생성\n",
    "\n",
    "db1 = db.MyDB()"
   ]
  },
  {
   "cell_type": "code",
   "execution_count": 8,
   "metadata": {},
   "outputs": [],
   "source": [
    "select1 = \"\"\"\n",
    "    select\n",
    "    *\n",
    "    from\n",
    "    tran_1\n",
    "    \"\"\"\n",
    "\n",
    "data = db1.sql_query(select1)"
   ]
  },
  {
   "cell_type": "code",
   "execution_count": 4,
   "metadata": {},
   "outputs": [],
   "source": [
    "## 커스텀하게 만든 모듈을 어떤 파일에서는 사용이 가능하게 하려면\n",
    "## python 내의 환경변수를 확인\n",
    "\n",
    "import sys"
   ]
  },
  {
   "cell_type": "code",
   "execution_count": 5,
   "metadata": {},
   "outputs": [
    {
     "data": {
      "text/plain": [
       "['c:\\\\Users\\\\USER\\\\Documents\\\\GitHub\\\\test_1\\\\Python\\\\24_03_20',\n",
       " 'c:\\\\Users\\\\USER\\\\AppData\\\\Local\\\\Programs\\\\Python\\\\Python312\\\\python312.zip',\n",
       " 'c:\\\\Users\\\\USER\\\\AppData\\\\Local\\\\Programs\\\\Python\\\\Python312\\\\DLLs',\n",
       " 'c:\\\\Users\\\\USER\\\\AppData\\\\Local\\\\Programs\\\\Python\\\\Python312\\\\Lib',\n",
       " 'c:\\\\Users\\\\USER\\\\AppData\\\\Local\\\\Programs\\\\Python\\\\Python312',\n",
       " '',\n",
       " 'C:\\\\Users\\\\USER\\\\AppData\\\\Roaming\\\\Python\\\\Python312\\\\site-packages',\n",
       " 'C:\\\\Users\\\\USER\\\\AppData\\\\Roaming\\\\Python\\\\Python312\\\\site-packages\\\\win32',\n",
       " 'C:\\\\Users\\\\USER\\\\AppData\\\\Roaming\\\\Python\\\\Python312\\\\site-packages\\\\win32\\\\lib',\n",
       " 'C:\\\\Users\\\\USER\\\\AppData\\\\Roaming\\\\Python\\\\Python312\\\\site-packages\\\\Pythonwin',\n",
       " 'c:\\\\Users\\\\USER\\\\AppData\\\\Local\\\\Programs\\\\Python\\\\Python312\\\\Lib\\\\site-packages']"
      ]
     },
     "execution_count": 5,
     "metadata": {},
     "output_type": "execute_result"
    }
   ],
   "source": [
    "# 환경변수를 출력\n",
    "\n",
    "sys.path"
   ]
  },
  {
   "cell_type": "code",
   "execution_count": 6,
   "metadata": {},
   "outputs": [
    {
     "name": "stdout",
     "output_type": "stream",
     "text": [
      "Collecting pandas\n",
      "  Downloading pandas-2.2.1-cp312-cp312-win_amd64.whl.metadata (19 kB)\n",
      "Collecting numpy<2,>=1.26.0 (from pandas)\n",
      "  Downloading numpy-1.26.4-cp312-cp312-win_amd64.whl.metadata (61 kB)\n",
      "     ---------------------------------------- 0.0/61.0 kB ? eta -:--:--\n",
      "     --------------------------------- ------ 51.2/61.0 kB 2.6 MB/s eta 0:00:01\n",
      "     ---------------------------------------- 61.0/61.0 kB 3.2 MB/s eta 0:00:00\n",
      "Requirement already satisfied: python-dateutil>=2.8.2 in c:\\users\\user\\appdata\\roaming\\python\\python312\\site-packages (from pandas) (2.9.0.post0)\n",
      "Collecting pytz>=2020.1 (from pandas)\n",
      "  Downloading pytz-2024.1-py2.py3-none-any.whl.metadata (22 kB)\n",
      "Collecting tzdata>=2022.7 (from pandas)\n",
      "  Downloading tzdata-2024.1-py2.py3-none-any.whl.metadata (1.4 kB)\n",
      "Requirement already satisfied: six>=1.5 in c:\\users\\user\\appdata\\roaming\\python\\python312\\site-packages (from python-dateutil>=2.8.2->pandas) (1.16.0)\n",
      "Downloading pandas-2.2.1-cp312-cp312-win_amd64.whl (11.5 MB)\n",
      "   ---------------------------------------- 0.0/11.5 MB ? eta -:--:--\n",
      "   -- ------------------------------------- 0.7/11.5 MB 23.5 MB/s eta 0:00:01\n",
      "   ------- -------------------------------- 2.0/11.5 MB 26.0 MB/s eta 0:00:01\n",
      "   ------------ --------------------------- 3.7/11.5 MB 29.3 MB/s eta 0:00:01\n",
      "   ------------------- -------------------- 5.7/11.5 MB 33.0 MB/s eta 0:00:01\n",
      "   --------------------- ------------------ 6.3/11.5 MB 33.4 MB/s eta 0:00:01\n",
      "   --------------------- ------------------ 6.3/11.5 MB 33.4 MB/s eta 0:00:01\n",
      "   --------------------- ------------------ 6.3/11.5 MB 33.4 MB/s eta 0:00:01\n",
      "   --------------------- ------------------ 6.3/11.5 MB 33.4 MB/s eta 0:00:01\n",
      "   --------------------- ------------------ 6.3/11.5 MB 33.4 MB/s eta 0:00:01\n",
      "   -------------------------- ------------- 7.6/11.5 MB 16.7 MB/s eta 0:00:01\n",
      "   ---------------------------------- ----- 10.0/11.5 MB 19.9 MB/s eta 0:00:01\n",
      "   ---------------------------------------  11.5/11.5 MB 21.1 MB/s eta 0:00:01\n",
      "   ---------------------------------------  11.5/11.5 MB 21.1 MB/s eta 0:00:01\n",
      "   ---------------------------------------  11.5/11.5 MB 21.1 MB/s eta 0:00:01\n",
      "   ---------------------------------------  11.5/11.5 MB 21.1 MB/s eta 0:00:01\n",
      "   ---------------------------------------  11.5/11.5 MB 21.1 MB/s eta 0:00:01\n",
      "   ---------------------------------------  11.5/11.5 MB 21.1 MB/s eta 0:00:01\n",
      "   ---------------------------------------  11.5/11.5 MB 21.1 MB/s eta 0:00:01\n",
      "   ---------------------------------------  11.5/11.5 MB 21.1 MB/s eta 0:00:01\n",
      "   ---------------------------------------- 11.5/11.5 MB 12.1 MB/s eta 0:00:00\n",
      "Downloading numpy-1.26.4-cp312-cp312-win_amd64.whl (15.5 MB)\n",
      "   ---------------------------------------- 0.0/15.5 MB ? eta -:--:--\n",
      "   ----- ---------------------------------- 2.3/15.5 MB 71.4 MB/s eta 0:00:01\n",
      "   ------------ --------------------------- 4.7/15.5 MB 50.2 MB/s eta 0:00:01\n",
      "   --------------- ------------------------ 6.2/15.5 MB 56.3 MB/s eta 0:00:01\n",
      "   ------------------- -------------------- 7.6/15.5 MB 40.6 MB/s eta 0:00:01\n",
      "   -------------------------- ------------- 10.4/15.5 MB 43.5 MB/s eta 0:00:01\n",
      "   --------------------------------- ------ 13.0/15.5 MB 43.5 MB/s eta 0:00:01\n",
      "   ---------------------------------------  15.5/15.5 MB 43.7 MB/s eta 0:00:01\n",
      "   ---------------------------------------  15.5/15.5 MB 43.7 MB/s eta 0:00:01\n",
      "   ---------------------------------------  15.5/15.5 MB 43.7 MB/s eta 0:00:01\n",
      "   ---------------------------------------  15.5/15.5 MB 43.7 MB/s eta 0:00:01\n",
      "   ---------------------------------------  15.5/15.5 MB 43.7 MB/s eta 0:00:01\n",
      "   ---------------------------------------  15.5/15.5 MB 43.7 MB/s eta 0:00:01\n",
      "   ---------------------------------------  15.5/15.5 MB 43.7 MB/s eta 0:00:01\n",
      "   ---------------------------------------  15.5/15.5 MB 43.7 MB/s eta 0:00:01\n",
      "   ---------------------------------------  15.5/15.5 MB 43.7 MB/s eta 0:00:01\n",
      "   ---------------------------------------  15.5/15.5 MB 43.7 MB/s eta 0:00:01\n",
      "   ---------------------------------------- 15.5/15.5 MB 14.9 MB/s eta 0:00:00\n",
      "Downloading pytz-2024.1-py2.py3-none-any.whl (505 kB)\n",
      "   ---------------------------------------- 0.0/505.5 kB ? eta -:--:--\n",
      "   --------------------------------------- 505.5/505.5 kB 16.0 MB/s eta 0:00:00\n",
      "Downloading tzdata-2024.1-py2.py3-none-any.whl (345 kB)\n",
      "   ---------------------------------------- 0.0/345.4 kB ? eta -:--:--\n",
      "   --------------------------------------- 345.4/345.4 kB 10.8 MB/s eta 0:00:00\n",
      "Installing collected packages: pytz, tzdata, numpy, pandas\n",
      "Successfully installed numpy-1.26.4 pandas-2.2.1 pytz-2024.1 tzdata-2024.1\n"
     ]
    }
   ],
   "source": [
    "!pip install pandas"
   ]
  },
  {
   "cell_type": "code",
   "execution_count": 7,
   "metadata": {},
   "outputs": [],
   "source": [
    "import pandas as pd"
   ]
  },
  {
   "cell_type": "code",
   "execution_count": 10,
   "metadata": {},
   "outputs": [
    {
     "data": {
      "text/html": [
       "<div>\n",
       "<style scoped>\n",
       "    .dataframe tbody tr th:only-of-type {\n",
       "        vertical-align: middle;\n",
       "    }\n",
       "\n",
       "    .dataframe tbody tr th {\n",
       "        vertical-align: top;\n",
       "    }\n",
       "\n",
       "    .dataframe thead th {\n",
       "        text-align: right;\n",
       "    }\n",
       "</style>\n",
       "<table border=\"1\" class=\"dataframe\">\n",
       "  <thead>\n",
       "    <tr style=\"text-align: right;\">\n",
       "      <th></th>\n",
       "      <th>transaction_id</th>\n",
       "      <th>price</th>\n",
       "      <th>payment_date</th>\n",
       "      <th>customer_id</th>\n",
       "    </tr>\n",
       "  </thead>\n",
       "  <tbody>\n",
       "    <tr>\n",
       "      <th>0</th>\n",
       "      <td>T0000000114</td>\n",
       "      <td>50000</td>\n",
       "      <td>2019-02-01 01:37:23</td>\n",
       "      <td>HD678019</td>\n",
       "    </tr>\n",
       "    <tr>\n",
       "      <th>1</th>\n",
       "      <td>T0000000116</td>\n",
       "      <td>210000</td>\n",
       "      <td>2019-02-01 02:47:23</td>\n",
       "      <td>IK452215</td>\n",
       "    </tr>\n",
       "    <tr>\n",
       "      <th>2</th>\n",
       "      <td>T0000000117</td>\n",
       "      <td>170000</td>\n",
       "      <td>2019-02-01 04:33:46</td>\n",
       "      <td>PL542865</td>\n",
       "    </tr>\n",
       "    <tr>\n",
       "      <th>3</th>\n",
       "      <td>T0000000118</td>\n",
       "      <td>120000</td>\n",
       "      <td>2019-02-01 04:36:50</td>\n",
       "      <td>GD372798</td>\n",
       "    </tr>\n",
       "    <tr>\n",
       "      <th>4</th>\n",
       "      <td>T0000000119</td>\n",
       "      <td>180000</td>\n",
       "      <td>2019-02-01 05:25:18</td>\n",
       "      <td>IK782104</td>\n",
       "    </tr>\n",
       "    <tr>\n",
       "      <th>...</th>\n",
       "      <td>...</td>\n",
       "      <td>...</td>\n",
       "      <td>...</td>\n",
       "      <td>...</td>\n",
       "    </tr>\n",
       "    <tr>\n",
       "      <th>4993</th>\n",
       "      <td>T0000005108</td>\n",
       "      <td>210000</td>\n",
       "      <td>2019-06-15 02:42:41</td>\n",
       "      <td>HD315748</td>\n",
       "    </tr>\n",
       "    <tr>\n",
       "      <th>4994</th>\n",
       "      <td>T0000005109</td>\n",
       "      <td>150000</td>\n",
       "      <td>2019-06-15 03:36:16</td>\n",
       "      <td>HI215420</td>\n",
       "    </tr>\n",
       "    <tr>\n",
       "      <th>4995</th>\n",
       "      <td>T0000005110</td>\n",
       "      <td>50000</td>\n",
       "      <td>2019-06-15 03:44:06</td>\n",
       "      <td>IK880102</td>\n",
       "    </tr>\n",
       "    <tr>\n",
       "      <th>4996</th>\n",
       "      <td>T0000005111</td>\n",
       "      <td>210000</td>\n",
       "      <td>2019-06-15 04:14:06</td>\n",
       "      <td>IK074758</td>\n",
       "    </tr>\n",
       "    <tr>\n",
       "      <th>4997</th>\n",
       "      <td>T0000005112</td>\n",
       "      <td>50000</td>\n",
       "      <td>2019-06-15 04:42:38</td>\n",
       "      <td>HD444151</td>\n",
       "    </tr>\n",
       "  </tbody>\n",
       "</table>\n",
       "<p>4998 rows × 4 columns</p>\n",
       "</div>"
      ],
      "text/plain": [
       "     transaction_id   price         payment_date customer_id\n",
       "0       T0000000114   50000  2019-02-01 01:37:23    HD678019\n",
       "1       T0000000116  210000  2019-02-01 02:47:23    IK452215\n",
       "2       T0000000117  170000  2019-02-01 04:33:46    PL542865\n",
       "3       T0000000118  120000  2019-02-01 04:36:50    GD372798\n",
       "4       T0000000119  180000  2019-02-01 05:25:18    IK782104\n",
       "...             ...     ...                  ...         ...\n",
       "4993    T0000005108  210000  2019-06-15 02:42:41    HD315748\n",
       "4994    T0000005109  150000  2019-06-15 03:36:16    HI215420\n",
       "4995    T0000005110   50000  2019-06-15 03:44:06    IK880102\n",
       "4996    T0000005111  210000  2019-06-15 04:14:06    IK074758\n",
       "4997    T0000005112   50000  2019-06-15 04:42:38    HD444151\n",
       "\n",
       "[4998 rows x 4 columns]"
      ]
     },
     "execution_count": 10,
     "metadata": {},
     "output_type": "execute_result"
    }
   ],
   "source": [
    "# sql을 통해서 받아온 데이터를 표의 형태로 출력\n",
    "\n",
    "df = pd.DataFrame(data)\n",
    "\n",
    "df # print(df)보다 더 깔끔하게 나온다"
   ]
  },
  {
   "cell_type": "code",
   "execution_count": null,
   "metadata": {},
   "outputs": [],
   "source": []
  }
 ],
 "metadata": {
  "kernelspec": {
   "display_name": "Python 3",
   "language": "python",
   "name": "python3"
  },
  "language_info": {
   "codemirror_mode": {
    "name": "ipython",
    "version": 3
   },
   "file_extension": ".py",
   "mimetype": "text/x-python",
   "name": "python",
   "nbconvert_exporter": "python",
   "pygments_lexer": "ipython3",
   "version": "3.12.2"
  }
 },
 "nbformat": 4,
 "nbformat_minor": 2
}
